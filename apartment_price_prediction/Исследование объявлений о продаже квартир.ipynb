{
 "cells": [
  {
   "cell_type": "markdown",
   "metadata": {},
   "source": [
    "# Исследование объявлений о продаже квартир\n",
    "\n",
    "В вашем распоряжении данные сервиса Яндекс.Недвижимость — архив объявлений о продаже квартир в Санкт-Петербурге и соседних населённых пунктов за несколько лет. Нужно научиться определять рыночную стоимость объектов недвижимости. Ваша задача — установить параметры. Это позволит построить автоматизированную систему: она отследит аномалии и мошенническую деятельность. \n",
    "\n",
    "По каждой квартире на продажу доступны два вида данных. Первые вписаны пользователем, вторые — получены автоматически на основе картографических данных. Например, расстояние до центра, аэропорта, ближайшего парка и водоёма. "
   ]
  },
  {
   "cell_type": "markdown",
   "metadata": {},
   "source": [
    "### Откройте файл с данными и изучите общую информацию. "
   ]
  },
  {
   "cell_type": "markdown",
   "metadata": {},
   "source": [
    "**Импортируем необходимые для работы библиотеки**"
   ]
  },
  {
   "cell_type": "code",
   "execution_count": 1,
   "metadata": {},
   "outputs": [],
   "source": [
    "# импортируем необходимые для работы библиотеки\n",
    "import pandas as pd\n",
    "import seaborn as sns\n",
    "import matplotlib.pyplot as plt"
   ]
  },
  {
   "cell_type": "markdown",
   "metadata": {},
   "source": [
    "**Прочитаем файл и запишем данные в перепенную data**"
   ]
  },
  {
   "cell_type": "code",
   "execution_count": 2,
   "metadata": {},
   "outputs": [],
   "source": [
    "# прочитаем файл и запишем данные в переменную data\n",
    "try:\n",
    "    data = pd.read_csv('/datasets/real_estate_data.csv', sep='\\t')\n",
    "except:\n",
    "    data = pd.read_csv('https://code.s3.yandex.net/datasets/data.csv', sep='\\t')"
   ]
  },
  {
   "cell_type": "markdown",
   "metadata": {},
   "source": [
    "**Выведем на экран первые 10 строк данных**"
   ]
  },
  {
   "cell_type": "code",
   "execution_count": 3,
   "metadata": {},
   "outputs": [
    {
     "data": {
      "text/html": [
       "<div>\n",
       "<style scoped>\n",
       "    .dataframe tbody tr th:only-of-type {\n",
       "        vertical-align: middle;\n",
       "    }\n",
       "\n",
       "    .dataframe tbody tr th {\n",
       "        vertical-align: top;\n",
       "    }\n",
       "\n",
       "    .dataframe thead th {\n",
       "        text-align: right;\n",
       "    }\n",
       "</style>\n",
       "<table border=\"1\" class=\"dataframe\">\n",
       "  <thead>\n",
       "    <tr style=\"text-align: right;\">\n",
       "      <th></th>\n",
       "      <th>total_images</th>\n",
       "      <th>last_price</th>\n",
       "      <th>total_area</th>\n",
       "      <th>first_day_exposition</th>\n",
       "      <th>rooms</th>\n",
       "      <th>ceiling_height</th>\n",
       "      <th>floors_total</th>\n",
       "      <th>living_area</th>\n",
       "      <th>floor</th>\n",
       "      <th>is_apartment</th>\n",
       "      <th>studio</th>\n",
       "      <th>open_plan</th>\n",
       "      <th>kitchen_area</th>\n",
       "      <th>balcony</th>\n",
       "      <th>locality_name</th>\n",
       "      <th>airports_nearest</th>\n",
       "      <th>cityCenters_nearest</th>\n",
       "      <th>parks_around3000</th>\n",
       "      <th>parks_nearest</th>\n",
       "      <th>ponds_around3000</th>\n",
       "      <th>ponds_nearest</th>\n",
       "      <th>days_exposition</th>\n",
       "    </tr>\n",
       "  </thead>\n",
       "  <tbody>\n",
       "    <tr>\n",
       "      <th>0</th>\n",
       "      <td>20</td>\n",
       "      <td>13000000.0</td>\n",
       "      <td>108.00</td>\n",
       "      <td>2019-03-07T00:00:00</td>\n",
       "      <td>3</td>\n",
       "      <td>2.70</td>\n",
       "      <td>16.0</td>\n",
       "      <td>51.00</td>\n",
       "      <td>8</td>\n",
       "      <td>NaN</td>\n",
       "      <td>False</td>\n",
       "      <td>False</td>\n",
       "      <td>25.00</td>\n",
       "      <td>NaN</td>\n",
       "      <td>Санкт-Петербург</td>\n",
       "      <td>18863.0</td>\n",
       "      <td>16028.0</td>\n",
       "      <td>1.0</td>\n",
       "      <td>482.0</td>\n",
       "      <td>2.0</td>\n",
       "      <td>755.0</td>\n",
       "      <td>NaN</td>\n",
       "    </tr>\n",
       "    <tr>\n",
       "      <th>1</th>\n",
       "      <td>7</td>\n",
       "      <td>3350000.0</td>\n",
       "      <td>40.40</td>\n",
       "      <td>2018-12-04T00:00:00</td>\n",
       "      <td>1</td>\n",
       "      <td>NaN</td>\n",
       "      <td>11.0</td>\n",
       "      <td>18.60</td>\n",
       "      <td>1</td>\n",
       "      <td>NaN</td>\n",
       "      <td>False</td>\n",
       "      <td>False</td>\n",
       "      <td>11.00</td>\n",
       "      <td>2.0</td>\n",
       "      <td>посёлок Шушары</td>\n",
       "      <td>12817.0</td>\n",
       "      <td>18603.0</td>\n",
       "      <td>0.0</td>\n",
       "      <td>NaN</td>\n",
       "      <td>0.0</td>\n",
       "      <td>NaN</td>\n",
       "      <td>81.0</td>\n",
       "    </tr>\n",
       "    <tr>\n",
       "      <th>2</th>\n",
       "      <td>10</td>\n",
       "      <td>5196000.0</td>\n",
       "      <td>56.00</td>\n",
       "      <td>2015-08-20T00:00:00</td>\n",
       "      <td>2</td>\n",
       "      <td>NaN</td>\n",
       "      <td>5.0</td>\n",
       "      <td>34.30</td>\n",
       "      <td>4</td>\n",
       "      <td>NaN</td>\n",
       "      <td>False</td>\n",
       "      <td>False</td>\n",
       "      <td>8.30</td>\n",
       "      <td>0.0</td>\n",
       "      <td>Санкт-Петербург</td>\n",
       "      <td>21741.0</td>\n",
       "      <td>13933.0</td>\n",
       "      <td>1.0</td>\n",
       "      <td>90.0</td>\n",
       "      <td>2.0</td>\n",
       "      <td>574.0</td>\n",
       "      <td>558.0</td>\n",
       "    </tr>\n",
       "    <tr>\n",
       "      <th>3</th>\n",
       "      <td>0</td>\n",
       "      <td>64900000.0</td>\n",
       "      <td>159.00</td>\n",
       "      <td>2015-07-24T00:00:00</td>\n",
       "      <td>3</td>\n",
       "      <td>NaN</td>\n",
       "      <td>14.0</td>\n",
       "      <td>NaN</td>\n",
       "      <td>9</td>\n",
       "      <td>NaN</td>\n",
       "      <td>False</td>\n",
       "      <td>False</td>\n",
       "      <td>NaN</td>\n",
       "      <td>0.0</td>\n",
       "      <td>Санкт-Петербург</td>\n",
       "      <td>28098.0</td>\n",
       "      <td>6800.0</td>\n",
       "      <td>2.0</td>\n",
       "      <td>84.0</td>\n",
       "      <td>3.0</td>\n",
       "      <td>234.0</td>\n",
       "      <td>424.0</td>\n",
       "    </tr>\n",
       "    <tr>\n",
       "      <th>4</th>\n",
       "      <td>2</td>\n",
       "      <td>10000000.0</td>\n",
       "      <td>100.00</td>\n",
       "      <td>2018-06-19T00:00:00</td>\n",
       "      <td>2</td>\n",
       "      <td>3.03</td>\n",
       "      <td>14.0</td>\n",
       "      <td>32.00</td>\n",
       "      <td>13</td>\n",
       "      <td>NaN</td>\n",
       "      <td>False</td>\n",
       "      <td>False</td>\n",
       "      <td>41.00</td>\n",
       "      <td>NaN</td>\n",
       "      <td>Санкт-Петербург</td>\n",
       "      <td>31856.0</td>\n",
       "      <td>8098.0</td>\n",
       "      <td>2.0</td>\n",
       "      <td>112.0</td>\n",
       "      <td>1.0</td>\n",
       "      <td>48.0</td>\n",
       "      <td>121.0</td>\n",
       "    </tr>\n",
       "    <tr>\n",
       "      <th>5</th>\n",
       "      <td>10</td>\n",
       "      <td>2890000.0</td>\n",
       "      <td>30.40</td>\n",
       "      <td>2018-09-10T00:00:00</td>\n",
       "      <td>1</td>\n",
       "      <td>NaN</td>\n",
       "      <td>12.0</td>\n",
       "      <td>14.40</td>\n",
       "      <td>5</td>\n",
       "      <td>NaN</td>\n",
       "      <td>False</td>\n",
       "      <td>False</td>\n",
       "      <td>9.10</td>\n",
       "      <td>NaN</td>\n",
       "      <td>городской посёлок Янино-1</td>\n",
       "      <td>NaN</td>\n",
       "      <td>NaN</td>\n",
       "      <td>NaN</td>\n",
       "      <td>NaN</td>\n",
       "      <td>NaN</td>\n",
       "      <td>NaN</td>\n",
       "      <td>55.0</td>\n",
       "    </tr>\n",
       "    <tr>\n",
       "      <th>6</th>\n",
       "      <td>6</td>\n",
       "      <td>3700000.0</td>\n",
       "      <td>37.30</td>\n",
       "      <td>2017-11-02T00:00:00</td>\n",
       "      <td>1</td>\n",
       "      <td>NaN</td>\n",
       "      <td>26.0</td>\n",
       "      <td>10.60</td>\n",
       "      <td>6</td>\n",
       "      <td>NaN</td>\n",
       "      <td>False</td>\n",
       "      <td>False</td>\n",
       "      <td>14.40</td>\n",
       "      <td>1.0</td>\n",
       "      <td>посёлок Парголово</td>\n",
       "      <td>52996.0</td>\n",
       "      <td>19143.0</td>\n",
       "      <td>0.0</td>\n",
       "      <td>NaN</td>\n",
       "      <td>0.0</td>\n",
       "      <td>NaN</td>\n",
       "      <td>155.0</td>\n",
       "    </tr>\n",
       "    <tr>\n",
       "      <th>7</th>\n",
       "      <td>5</td>\n",
       "      <td>7915000.0</td>\n",
       "      <td>71.60</td>\n",
       "      <td>2019-04-18T00:00:00</td>\n",
       "      <td>2</td>\n",
       "      <td>NaN</td>\n",
       "      <td>24.0</td>\n",
       "      <td>NaN</td>\n",
       "      <td>22</td>\n",
       "      <td>NaN</td>\n",
       "      <td>False</td>\n",
       "      <td>False</td>\n",
       "      <td>18.90</td>\n",
       "      <td>2.0</td>\n",
       "      <td>Санкт-Петербург</td>\n",
       "      <td>23982.0</td>\n",
       "      <td>11634.0</td>\n",
       "      <td>0.0</td>\n",
       "      <td>NaN</td>\n",
       "      <td>0.0</td>\n",
       "      <td>NaN</td>\n",
       "      <td>NaN</td>\n",
       "    </tr>\n",
       "    <tr>\n",
       "      <th>8</th>\n",
       "      <td>20</td>\n",
       "      <td>2900000.0</td>\n",
       "      <td>33.16</td>\n",
       "      <td>2018-05-23T00:00:00</td>\n",
       "      <td>1</td>\n",
       "      <td>NaN</td>\n",
       "      <td>27.0</td>\n",
       "      <td>15.43</td>\n",
       "      <td>26</td>\n",
       "      <td>NaN</td>\n",
       "      <td>False</td>\n",
       "      <td>False</td>\n",
       "      <td>8.81</td>\n",
       "      <td>NaN</td>\n",
       "      <td>посёлок Мурино</td>\n",
       "      <td>NaN</td>\n",
       "      <td>NaN</td>\n",
       "      <td>NaN</td>\n",
       "      <td>NaN</td>\n",
       "      <td>NaN</td>\n",
       "      <td>NaN</td>\n",
       "      <td>189.0</td>\n",
       "    </tr>\n",
       "    <tr>\n",
       "      <th>9</th>\n",
       "      <td>18</td>\n",
       "      <td>5400000.0</td>\n",
       "      <td>61.00</td>\n",
       "      <td>2017-02-26T00:00:00</td>\n",
       "      <td>3</td>\n",
       "      <td>2.50</td>\n",
       "      <td>9.0</td>\n",
       "      <td>43.60</td>\n",
       "      <td>7</td>\n",
       "      <td>NaN</td>\n",
       "      <td>False</td>\n",
       "      <td>False</td>\n",
       "      <td>6.50</td>\n",
       "      <td>2.0</td>\n",
       "      <td>Санкт-Петербург</td>\n",
       "      <td>50898.0</td>\n",
       "      <td>15008.0</td>\n",
       "      <td>0.0</td>\n",
       "      <td>NaN</td>\n",
       "      <td>0.0</td>\n",
       "      <td>NaN</td>\n",
       "      <td>289.0</td>\n",
       "    </tr>\n",
       "  </tbody>\n",
       "</table>\n",
       "</div>"
      ],
      "text/plain": [
       "   total_images  last_price  total_area first_day_exposition  rooms  \\\n",
       "0            20  13000000.0      108.00  2019-03-07T00:00:00      3   \n",
       "1             7   3350000.0       40.40  2018-12-04T00:00:00      1   \n",
       "2            10   5196000.0       56.00  2015-08-20T00:00:00      2   \n",
       "3             0  64900000.0      159.00  2015-07-24T00:00:00      3   \n",
       "4             2  10000000.0      100.00  2018-06-19T00:00:00      2   \n",
       "5            10   2890000.0       30.40  2018-09-10T00:00:00      1   \n",
       "6             6   3700000.0       37.30  2017-11-02T00:00:00      1   \n",
       "7             5   7915000.0       71.60  2019-04-18T00:00:00      2   \n",
       "8            20   2900000.0       33.16  2018-05-23T00:00:00      1   \n",
       "9            18   5400000.0       61.00  2017-02-26T00:00:00      3   \n",
       "\n",
       "   ceiling_height  floors_total  living_area  floor is_apartment  studio  \\\n",
       "0            2.70          16.0        51.00      8          NaN   False   \n",
       "1             NaN          11.0        18.60      1          NaN   False   \n",
       "2             NaN           5.0        34.30      4          NaN   False   \n",
       "3             NaN          14.0          NaN      9          NaN   False   \n",
       "4            3.03          14.0        32.00     13          NaN   False   \n",
       "5             NaN          12.0        14.40      5          NaN   False   \n",
       "6             NaN          26.0        10.60      6          NaN   False   \n",
       "7             NaN          24.0          NaN     22          NaN   False   \n",
       "8             NaN          27.0        15.43     26          NaN   False   \n",
       "9            2.50           9.0        43.60      7          NaN   False   \n",
       "\n",
       "   open_plan  kitchen_area  balcony              locality_name  \\\n",
       "0      False         25.00      NaN            Санкт-Петербург   \n",
       "1      False         11.00      2.0             посёлок Шушары   \n",
       "2      False          8.30      0.0            Санкт-Петербург   \n",
       "3      False           NaN      0.0            Санкт-Петербург   \n",
       "4      False         41.00      NaN            Санкт-Петербург   \n",
       "5      False          9.10      NaN  городской посёлок Янино-1   \n",
       "6      False         14.40      1.0          посёлок Парголово   \n",
       "7      False         18.90      2.0            Санкт-Петербург   \n",
       "8      False          8.81      NaN             посёлок Мурино   \n",
       "9      False          6.50      2.0            Санкт-Петербург   \n",
       "\n",
       "   airports_nearest  cityCenters_nearest  parks_around3000  parks_nearest  \\\n",
       "0           18863.0              16028.0               1.0          482.0   \n",
       "1           12817.0              18603.0               0.0            NaN   \n",
       "2           21741.0              13933.0               1.0           90.0   \n",
       "3           28098.0               6800.0               2.0           84.0   \n",
       "4           31856.0               8098.0               2.0          112.0   \n",
       "5               NaN                  NaN               NaN            NaN   \n",
       "6           52996.0              19143.0               0.0            NaN   \n",
       "7           23982.0              11634.0               0.0            NaN   \n",
       "8               NaN                  NaN               NaN            NaN   \n",
       "9           50898.0              15008.0               0.0            NaN   \n",
       "\n",
       "   ponds_around3000  ponds_nearest  days_exposition  \n",
       "0               2.0          755.0              NaN  \n",
       "1               0.0            NaN             81.0  \n",
       "2               2.0          574.0            558.0  \n",
       "3               3.0          234.0            424.0  \n",
       "4               1.0           48.0            121.0  \n",
       "5               NaN            NaN             55.0  \n",
       "6               0.0            NaN            155.0  \n",
       "7               0.0            NaN              NaN  \n",
       "8               NaN            NaN            189.0  \n",
       "9               0.0            NaN            289.0  "
      ]
     },
     "execution_count": 3,
     "metadata": {},
     "output_type": "execute_result"
    }
   ],
   "source": [
    "pd.set_option('display.max_columns', None)\n",
    "\n",
    "data.head(10)"
   ]
  },
  {
   "cell_type": "markdown",
   "metadata": {},
   "source": [
    "**Выведем основную информацию о датафрейме с помощью метода info()**"
   ]
  },
  {
   "cell_type": "code",
   "execution_count": 4,
   "metadata": {},
   "outputs": [
    {
     "name": "stdout",
     "output_type": "stream",
     "text": [
      "<class 'pandas.core.frame.DataFrame'>\n",
      "RangeIndex: 23699 entries, 0 to 23698\n",
      "Data columns (total 22 columns):\n",
      " #   Column                Non-Null Count  Dtype  \n",
      "---  ------                --------------  -----  \n",
      " 0   total_images          23699 non-null  int64  \n",
      " 1   last_price            23699 non-null  float64\n",
      " 2   total_area            23699 non-null  float64\n",
      " 3   first_day_exposition  23699 non-null  object \n",
      " 4   rooms                 23699 non-null  int64  \n",
      " 5   ceiling_height        14504 non-null  float64\n",
      " 6   floors_total          23613 non-null  float64\n",
      " 7   living_area           21796 non-null  float64\n",
      " 8   floor                 23699 non-null  int64  \n",
      " 9   is_apartment          2775 non-null   object \n",
      " 10  studio                23699 non-null  bool   \n",
      " 11  open_plan             23699 non-null  bool   \n",
      " 12  kitchen_area          21421 non-null  float64\n",
      " 13  balcony               12180 non-null  float64\n",
      " 14  locality_name         23650 non-null  object \n",
      " 15  airports_nearest      18157 non-null  float64\n",
      " 16  cityCenters_nearest   18180 non-null  float64\n",
      " 17  parks_around3000      18181 non-null  float64\n",
      " 18  parks_nearest         8079 non-null   float64\n",
      " 19  ponds_around3000      18181 non-null  float64\n",
      " 20  ponds_nearest         9110 non-null   float64\n",
      " 21  days_exposition       20518 non-null  float64\n",
      "dtypes: bool(2), float64(14), int64(3), object(3)\n",
      "memory usage: 3.7+ MB\n"
     ]
    }
   ],
   "source": [
    "data.info()"
   ]
  },
  {
   "cell_type": "markdown",
   "metadata": {},
   "source": [
    "**Построим общую гистограмму для всех столбцов таблицы**"
   ]
  },
  {
   "cell_type": "code",
   "execution_count": 5,
   "metadata": {},
   "outputs": [
    {
     "data": {
      "image/png": "[encoded data removed]",
      "text/plain": [
       "<Figure size 1080x1440 with 20 Axes>"
      ]
     },
     "metadata": {
      "needs_background": "light"
     },
     "output_type": "display_data"
    }
   ],
   "source": [
    "data.hist(figsize=(15, 20));"
   ]
  },
  {
   "cell_type": "markdown",
   "metadata": {},
   "source": [
    "**Вывод:** как видно в приведённом дата сете имеются много столбцов с пропущенными значениями. Скорее всего это связано с тем, что данные не заносились пользователями, либо вносили некорректно.  Последнее объясняет в том числе и странные значения, например, высоту потолков более 10 метров, и наличие неявных дубликатов населённых пунктов,таких как \"поселок городского типа\" и \"городской поселок\". Также имеются некорректные типы данных для количественных переменных: количества балконов и пр. Для них лучше поменять тип на целочичленные."
   ]
  },
  {
   "cell_type": "markdown",
   "metadata": {},
   "source": [
    "### Предобработка данных"
   ]
  },
  {
   "cell_type": "markdown",
   "metadata": {},
   "source": [
    "#### Обработка пропущенных значений"
   ]
  },
  {
   "cell_type": "markdown",
   "metadata": {},
   "source": [
    "Выведем на экран информацию о пропущенных значениях используя 2 метода: isna() и sum()"
   ]
  },
  {
   "cell_type": "code",
   "execution_count": 6,
   "metadata": {
    "scrolled": false
   },
   "outputs": [
    {
     "data": {
      "text/plain": [
       "total_images                0\n",
       "last_price                  0\n",
       "total_area                  0\n",
       "first_day_exposition        0\n",
       "rooms                       0\n",
       "ceiling_height           9195\n",
       "floors_total               86\n",
       "living_area              1903\n",
       "floor                       0\n",
       "is_apartment            20924\n",
       "studio                      0\n",
       "open_plan                   0\n",
       "kitchen_area             2278\n",
       "balcony                 11519\n",
       "locality_name              49\n",
       "airports_nearest         5542\n",
       "cityCenters_nearest      5519\n",
       "parks_around3000         5518\n",
       "parks_nearest           15620\n",
       "ponds_around3000         5518\n",
       "ponds_nearest           14589\n",
       "days_exposition          3181\n",
       "dtype: int64"
      ]
     },
     "execution_count": 6,
     "metadata": {},
     "output_type": "execute_result"
    }
   ],
   "source": [
    "data.isna().sum()"
   ]
  },
  {
   "cell_type": "markdown",
   "metadata": {},
   "source": [
    "Видим, что в 15 столбцах имеются пропуски.\n",
    "Начнем обработку пропусков со столбца balcony. Для этого столбца пропуски, скорее всего, значат отсутствие балконов.\n",
    "Поэтому можно пропущенные значения заполнить нулями"
   ]
  },
  {
   "cell_type": "code",
   "execution_count": 7,
   "metadata": {},
   "outputs": [],
   "source": [
    "data['balcony'] = data['balcony'].fillna(0)"
   ]
  },
  {
   "cell_type": "markdown",
   "metadata": {},
   "source": [
    "Аналогично можно поступить с данными по столбцам (заполнить пропуски нулями или значением False для булевых переменных):\n",
    "\n",
    "- is_apartment — апартаменты (булев тип)\n",
    "- parks_around3000 — число парков в радиусе 3 км\n",
    "- ponds_around3000 — число водоёмов в радиусе 3 км"
   ]
  },
  {
   "cell_type": "code",
   "execution_count": 8,
   "metadata": {},
   "outputs": [],
   "source": [
    "# начнем с числа парков и водоемов в радиусе 3 км\n",
    "# для этого пробежимся по столбцам, где можно пропущенные значения заменить на нули внутри цикла\n",
    "\n",
    "for parameter in ['parks_around3000', 'ponds_around3000']:\n",
    "    data[parameter] = data[parameter].fillna(0)"
   ]
  },
  {
   "cell_type": "code",
   "execution_count": 9,
   "metadata": {},
   "outputs": [],
   "source": [
    "# для значения is_apartment можно заполнить также используя метод fillna()\n",
    "# но можно и по другому\n",
    "\n",
    "data['is_apartment'] = data['is_apartment'] == True"
   ]
  },
  {
   "cell_type": "markdown",
   "metadata": {},
   "source": [
    "Для пропущенных значений площади кухни и жилой площади посчитаем медианное отношение площадей к общей площади и заполним пропуски"
   ]
  },
  {
   "cell_type": "code",
   "execution_count": 10,
   "metadata": {},
   "outputs": [],
   "source": [
    "data['living_area'] = (\n",
    "    data['living_area'].fillna(\n",
    "        (data['living_area'] /data['total_area']).median() * data['total_area']\n",
    "    )\n",
    ")"
   ]
  },
  {
   "cell_type": "code",
   "execution_count": 11,
   "metadata": {},
   "outputs": [],
   "source": [
    "data['kitchen_area'] = (\n",
    "    data['kitchen_area'].fillna(\n",
    "        (data['kitchen_area'] / data['total_area']).median() * data['total_area']\n",
    "    )\n",
    ")"
   ]
  },
  {
   "cell_type": "markdown",
   "metadata": {},
   "source": [
    "Пропущенные числовые значения заменим на медианные значения:"
   ]
  },
  {
   "cell_type": "code",
   "execution_count": 12,
   "metadata": {},
   "outputs": [
    {
     "data": {
      "text/plain": [
       "\"for d in ['ceiling_height', 'floors_total']:\\n    # на каждом шаге цикла с помощью атрибута loc выбираем строки,\\n    # в которых в device_type текущий тип девайса (d) и есть пропуски в time \\n    data[d] = data[d].fillna(data[d].median())\""
      ]
     },
     "execution_count": 12,
     "metadata": {},
     "output_type": "execute_result"
    }
   ],
   "source": [
    "'''for d in ['ceiling_height', 'floors_total']:\n",
    "    # на каждом шаге цикла с помощью атрибута loc выбираем строки,\n",
    "    # в которых в device_type текущий тип девайса (d) и есть пропуски в time \n",
    "    data[d] = data[d].fillna(data[d].median())'''"
   ]
  },
  {
   "cell_type": "code",
   "execution_count": 13,
   "metadata": {},
   "outputs": [],
   "source": [
    "for d in ['ceiling_height']:\n",
    "    # решил оставить структуру цикла на память\n",
    "    data[d] = data[d].fillna(data[d].median())"
   ]
  },
  {
   "cell_type": "code",
   "execution_count": 14,
   "metadata": {},
   "outputs": [],
   "source": [
    "# заполним высоту этажа, заполнив этажом квартиры\n",
    "data['floors_total'] = data['floors_total'].fillna(data['floor'])"
   ]
  },
  {
   "cell_type": "markdown",
   "metadata": {},
   "source": [
    "Поменяем тип данных для количества этажей и других характеристик\n",
    "\n",
    "Эти переменные хранят количественные данные, поэтому их лучше хранить в целочисленном виде - тип данных int"
   ]
  },
  {
   "cell_type": "code",
   "execution_count": 15,
   "metadata": {},
   "outputs": [],
   "source": [
    "for parameter in ['balcony', 'floors_total', 'parks_around3000', 'ponds_around3000']:\n",
    "    data[parameter] = data[parameter].astype('int')"
   ]
  },
  {
   "cell_type": "markdown",
   "metadata": {},
   "source": [
    "отсутствие названий населенных пунктов заменим на 'no_name'"
   ]
  },
  {
   "cell_type": "code",
   "execution_count": 16,
   "metadata": {},
   "outputs": [],
   "source": [
    "data['locality_name'] = data['locality_name'].fillna('no_name')"
   ]
  },
  {
   "cell_type": "markdown",
   "metadata": {},
   "source": [
    "Проверим датасет на наличие пропущенных значений"
   ]
  },
  {
   "cell_type": "code",
   "execution_count": 17,
   "metadata": {},
   "outputs": [
    {
     "data": {
      "text/plain": [
       "total_images                0\n",
       "last_price                  0\n",
       "total_area                  0\n",
       "first_day_exposition        0\n",
       "rooms                       0\n",
       "ceiling_height              0\n",
       "floors_total                0\n",
       "living_area                 0\n",
       "floor                       0\n",
       "is_apartment                0\n",
       "studio                      0\n",
       "open_plan                   0\n",
       "kitchen_area                0\n",
       "balcony                     0\n",
       "locality_name               0\n",
       "airports_nearest         5542\n",
       "cityCenters_nearest      5519\n",
       "parks_around3000            0\n",
       "parks_nearest           15620\n",
       "ponds_around3000            0\n",
       "ponds_nearest           14589\n",
       "days_exposition          3181\n",
       "dtype: int64"
      ]
     },
     "execution_count": 17,
     "metadata": {},
     "output_type": "execute_result"
    }
   ],
   "source": [
    "data.isna().sum()"
   ]
  },
  {
   "cell_type": "code",
   "execution_count": 18,
   "metadata": {},
   "outputs": [
    {
     "data": {
      "text/html": [
       "<div>\n",
       "<style scoped>\n",
       "    .dataframe tbody tr th:only-of-type {\n",
       "        vertical-align: middle;\n",
       "    }\n",
       "\n",
       "    .dataframe tbody tr th {\n",
       "        vertical-align: top;\n",
       "    }\n",
       "\n",
       "    .dataframe thead th {\n",
       "        text-align: right;\n",
       "    }\n",
       "</style>\n",
       "<table border=\"1\" class=\"dataframe\">\n",
       "  <thead>\n",
       "    <tr style=\"text-align: right;\">\n",
       "      <th></th>\n",
       "      <th>total_images</th>\n",
       "      <th>last_price</th>\n",
       "      <th>total_area</th>\n",
       "      <th>first_day_exposition</th>\n",
       "      <th>rooms</th>\n",
       "      <th>ceiling_height</th>\n",
       "      <th>floors_total</th>\n",
       "      <th>living_area</th>\n",
       "      <th>floor</th>\n",
       "      <th>is_apartment</th>\n",
       "      <th>studio</th>\n",
       "      <th>open_plan</th>\n",
       "      <th>kitchen_area</th>\n",
       "      <th>balcony</th>\n",
       "      <th>locality_name</th>\n",
       "      <th>airports_nearest</th>\n",
       "      <th>cityCenters_nearest</th>\n",
       "      <th>parks_around3000</th>\n",
       "      <th>parks_nearest</th>\n",
       "      <th>ponds_around3000</th>\n",
       "      <th>ponds_nearest</th>\n",
       "      <th>days_exposition</th>\n",
       "    </tr>\n",
       "  </thead>\n",
       "  <tbody>\n",
       "    <tr>\n",
       "      <th>0</th>\n",
       "      <td>20</td>\n",
       "      <td>13000000.0</td>\n",
       "      <td>108.00</td>\n",
       "      <td>2019-03-07T00:00:00</td>\n",
       "      <td>3</td>\n",
       "      <td>2.70</td>\n",
       "      <td>16</td>\n",
       "      <td>51.000000</td>\n",
       "      <td>8</td>\n",
       "      <td>False</td>\n",
       "      <td>False</td>\n",
       "      <td>False</td>\n",
       "      <td>25.000000</td>\n",
       "      <td>0</td>\n",
       "      <td>Санкт-Петербург</td>\n",
       "      <td>18863.0</td>\n",
       "      <td>16028.0</td>\n",
       "      <td>1</td>\n",
       "      <td>482.0</td>\n",
       "      <td>2</td>\n",
       "      <td>755.0</td>\n",
       "      <td>NaN</td>\n",
       "    </tr>\n",
       "    <tr>\n",
       "      <th>1</th>\n",
       "      <td>7</td>\n",
       "      <td>3350000.0</td>\n",
       "      <td>40.40</td>\n",
       "      <td>2018-12-04T00:00:00</td>\n",
       "      <td>1</td>\n",
       "      <td>2.65</td>\n",
       "      <td>11</td>\n",
       "      <td>18.600000</td>\n",
       "      <td>1</td>\n",
       "      <td>False</td>\n",
       "      <td>False</td>\n",
       "      <td>False</td>\n",
       "      <td>11.000000</td>\n",
       "      <td>2</td>\n",
       "      <td>посёлок Шушары</td>\n",
       "      <td>12817.0</td>\n",
       "      <td>18603.0</td>\n",
       "      <td>0</td>\n",
       "      <td>NaN</td>\n",
       "      <td>0</td>\n",
       "      <td>NaN</td>\n",
       "      <td>81.0</td>\n",
       "    </tr>\n",
       "    <tr>\n",
       "      <th>2</th>\n",
       "      <td>10</td>\n",
       "      <td>5196000.0</td>\n",
       "      <td>56.00</td>\n",
       "      <td>2015-08-20T00:00:00</td>\n",
       "      <td>2</td>\n",
       "      <td>2.65</td>\n",
       "      <td>5</td>\n",
       "      <td>34.300000</td>\n",
       "      <td>4</td>\n",
       "      <td>False</td>\n",
       "      <td>False</td>\n",
       "      <td>False</td>\n",
       "      <td>8.300000</td>\n",
       "      <td>0</td>\n",
       "      <td>Санкт-Петербург</td>\n",
       "      <td>21741.0</td>\n",
       "      <td>13933.0</td>\n",
       "      <td>1</td>\n",
       "      <td>90.0</td>\n",
       "      <td>2</td>\n",
       "      <td>574.0</td>\n",
       "      <td>558.0</td>\n",
       "    </tr>\n",
       "    <tr>\n",
       "      <th>3</th>\n",
       "      <td>0</td>\n",
       "      <td>64900000.0</td>\n",
       "      <td>159.00</td>\n",
       "      <td>2015-07-24T00:00:00</td>\n",
       "      <td>3</td>\n",
       "      <td>2.65</td>\n",
       "      <td>14</td>\n",
       "      <td>90.289724</td>\n",
       "      <td>9</td>\n",
       "      <td>False</td>\n",
       "      <td>False</td>\n",
       "      <td>False</td>\n",
       "      <td>27.413793</td>\n",
       "      <td>0</td>\n",
       "      <td>Санкт-Петербург</td>\n",
       "      <td>28098.0</td>\n",
       "      <td>6800.0</td>\n",
       "      <td>2</td>\n",
       "      <td>84.0</td>\n",
       "      <td>3</td>\n",
       "      <td>234.0</td>\n",
       "      <td>424.0</td>\n",
       "    </tr>\n",
       "    <tr>\n",
       "      <th>4</th>\n",
       "      <td>2</td>\n",
       "      <td>10000000.0</td>\n",
       "      <td>100.00</td>\n",
       "      <td>2018-06-19T00:00:00</td>\n",
       "      <td>2</td>\n",
       "      <td>3.03</td>\n",
       "      <td>14</td>\n",
       "      <td>32.000000</td>\n",
       "      <td>13</td>\n",
       "      <td>False</td>\n",
       "      <td>False</td>\n",
       "      <td>False</td>\n",
       "      <td>41.000000</td>\n",
       "      <td>0</td>\n",
       "      <td>Санкт-Петербург</td>\n",
       "      <td>31856.0</td>\n",
       "      <td>8098.0</td>\n",
       "      <td>2</td>\n",
       "      <td>112.0</td>\n",
       "      <td>1</td>\n",
       "      <td>48.0</td>\n",
       "      <td>121.0</td>\n",
       "    </tr>\n",
       "    <tr>\n",
       "      <th>5</th>\n",
       "      <td>10</td>\n",
       "      <td>2890000.0</td>\n",
       "      <td>30.40</td>\n",
       "      <td>2018-09-10T00:00:00</td>\n",
       "      <td>1</td>\n",
       "      <td>2.65</td>\n",
       "      <td>12</td>\n",
       "      <td>14.400000</td>\n",
       "      <td>5</td>\n",
       "      <td>False</td>\n",
       "      <td>False</td>\n",
       "      <td>False</td>\n",
       "      <td>9.100000</td>\n",
       "      <td>0</td>\n",
       "      <td>городской посёлок Янино-1</td>\n",
       "      <td>NaN</td>\n",
       "      <td>NaN</td>\n",
       "      <td>0</td>\n",
       "      <td>NaN</td>\n",
       "      <td>0</td>\n",
       "      <td>NaN</td>\n",
       "      <td>55.0</td>\n",
       "    </tr>\n",
       "    <tr>\n",
       "      <th>6</th>\n",
       "      <td>6</td>\n",
       "      <td>3700000.0</td>\n",
       "      <td>37.30</td>\n",
       "      <td>2017-11-02T00:00:00</td>\n",
       "      <td>1</td>\n",
       "      <td>2.65</td>\n",
       "      <td>26</td>\n",
       "      <td>10.600000</td>\n",
       "      <td>6</td>\n",
       "      <td>False</td>\n",
       "      <td>False</td>\n",
       "      <td>False</td>\n",
       "      <td>14.400000</td>\n",
       "      <td>1</td>\n",
       "      <td>посёлок Парголово</td>\n",
       "      <td>52996.0</td>\n",
       "      <td>19143.0</td>\n",
       "      <td>0</td>\n",
       "      <td>NaN</td>\n",
       "      <td>0</td>\n",
       "      <td>NaN</td>\n",
       "      <td>155.0</td>\n",
       "    </tr>\n",
       "    <tr>\n",
       "      <th>7</th>\n",
       "      <td>5</td>\n",
       "      <td>7915000.0</td>\n",
       "      <td>71.60</td>\n",
       "      <td>2019-04-18T00:00:00</td>\n",
       "      <td>2</td>\n",
       "      <td>2.65</td>\n",
       "      <td>24</td>\n",
       "      <td>40.658769</td>\n",
       "      <td>22</td>\n",
       "      <td>False</td>\n",
       "      <td>False</td>\n",
       "      <td>False</td>\n",
       "      <td>18.900000</td>\n",
       "      <td>2</td>\n",
       "      <td>Санкт-Петербург</td>\n",
       "      <td>23982.0</td>\n",
       "      <td>11634.0</td>\n",
       "      <td>0</td>\n",
       "      <td>NaN</td>\n",
       "      <td>0</td>\n",
       "      <td>NaN</td>\n",
       "      <td>NaN</td>\n",
       "    </tr>\n",
       "    <tr>\n",
       "      <th>8</th>\n",
       "      <td>20</td>\n",
       "      <td>2900000.0</td>\n",
       "      <td>33.16</td>\n",
       "      <td>2018-05-23T00:00:00</td>\n",
       "      <td>1</td>\n",
       "      <td>2.65</td>\n",
       "      <td>27</td>\n",
       "      <td>15.430000</td>\n",
       "      <td>26</td>\n",
       "      <td>False</td>\n",
       "      <td>False</td>\n",
       "      <td>False</td>\n",
       "      <td>8.810000</td>\n",
       "      <td>0</td>\n",
       "      <td>посёлок Мурино</td>\n",
       "      <td>NaN</td>\n",
       "      <td>NaN</td>\n",
       "      <td>0</td>\n",
       "      <td>NaN</td>\n",
       "      <td>0</td>\n",
       "      <td>NaN</td>\n",
       "      <td>189.0</td>\n",
       "    </tr>\n",
       "    <tr>\n",
       "      <th>9</th>\n",
       "      <td>18</td>\n",
       "      <td>5400000.0</td>\n",
       "      <td>61.00</td>\n",
       "      <td>2017-02-26T00:00:00</td>\n",
       "      <td>3</td>\n",
       "      <td>2.50</td>\n",
       "      <td>9</td>\n",
       "      <td>43.600000</td>\n",
       "      <td>7</td>\n",
       "      <td>False</td>\n",
       "      <td>False</td>\n",
       "      <td>False</td>\n",
       "      <td>6.500000</td>\n",
       "      <td>2</td>\n",
       "      <td>Санкт-Петербург</td>\n",
       "      <td>50898.0</td>\n",
       "      <td>15008.0</td>\n",
       "      <td>0</td>\n",
       "      <td>NaN</td>\n",
       "      <td>0</td>\n",
       "      <td>NaN</td>\n",
       "      <td>289.0</td>\n",
       "    </tr>\n",
       "  </tbody>\n",
       "</table>\n",
       "</div>"
      ],
      "text/plain": [
       "   total_images  last_price  total_area first_day_exposition  rooms  \\\n",
       "0            20  13000000.0      108.00  2019-03-07T00:00:00      3   \n",
       "1             7   3350000.0       40.40  2018-12-04T00:00:00      1   \n",
       "2            10   5196000.0       56.00  2015-08-20T00:00:00      2   \n",
       "3             0  64900000.0      159.00  2015-07-24T00:00:00      3   \n",
       "4             2  10000000.0      100.00  2018-06-19T00:00:00      2   \n",
       "5            10   2890000.0       30.40  2018-09-10T00:00:00      1   \n",
       "6             6   3700000.0       37.30  2017-11-02T00:00:00      1   \n",
       "7             5   7915000.0       71.60  2019-04-18T00:00:00      2   \n",
       "8            20   2900000.0       33.16  2018-05-23T00:00:00      1   \n",
       "9            18   5400000.0       61.00  2017-02-26T00:00:00      3   \n",
       "\n",
       "   ceiling_height  floors_total  living_area  floor  is_apartment  studio  \\\n",
       "0            2.70            16    51.000000      8         False   False   \n",
       "1            2.65            11    18.600000      1         False   False   \n",
       "2            2.65             5    34.300000      4         False   False   \n",
       "3            2.65            14    90.289724      9         False   False   \n",
       "4            3.03            14    32.000000     13         False   False   \n",
       "5            2.65            12    14.400000      5         False   False   \n",
       "6            2.65            26    10.600000      6         False   False   \n",
       "7            2.65            24    40.658769     22         False   False   \n",
       "8            2.65            27    15.430000     26         False   False   \n",
       "9            2.50             9    43.600000      7         False   False   \n",
       "\n",
       "   open_plan  kitchen_area  balcony              locality_name  \\\n",
       "0      False     25.000000        0            Санкт-Петербург   \n",
       "1      False     11.000000        2             посёлок Шушары   \n",
       "2      False      8.300000        0            Санкт-Петербург   \n",
       "3      False     27.413793        0            Санкт-Петербург   \n",
       "4      False     41.000000        0            Санкт-Петербург   \n",
       "5      False      9.100000        0  городской посёлок Янино-1   \n",
       "6      False     14.400000        1          посёлок Парголово   \n",
       "7      False     18.900000        2            Санкт-Петербург   \n",
       "8      False      8.810000        0             посёлок Мурино   \n",
       "9      False      6.500000        2            Санкт-Петербург   \n",
       "\n",
       "   airports_nearest  cityCenters_nearest  parks_around3000  parks_nearest  \\\n",
       "0           18863.0              16028.0                 1          482.0   \n",
       "1           12817.0              18603.0                 0            NaN   \n",
       "2           21741.0              13933.0                 1           90.0   \n",
       "3           28098.0               6800.0                 2           84.0   \n",
       "4           31856.0               8098.0                 2          112.0   \n",
       "5               NaN                  NaN                 0            NaN   \n",
       "6           52996.0              19143.0                 0            NaN   \n",
       "7           23982.0              11634.0                 0            NaN   \n",
       "8               NaN                  NaN                 0            NaN   \n",
       "9           50898.0              15008.0                 0            NaN   \n",
       "\n",
       "   ponds_around3000  ponds_nearest  days_exposition  \n",
       "0                 2          755.0              NaN  \n",
       "1                 0            NaN             81.0  \n",
       "2                 2          574.0            558.0  \n",
       "3                 3          234.0            424.0  \n",
       "4                 1           48.0            121.0  \n",
       "5                 0            NaN             55.0  \n",
       "6                 0            NaN            155.0  \n",
       "7                 0            NaN              NaN  \n",
       "8                 0            NaN            189.0  \n",
       "9                 0            NaN            289.0  "
      ]
     },
     "execution_count": 18,
     "metadata": {},
     "output_type": "execute_result"
    }
   ],
   "source": [
    "data.head(10)"
   ]
  },
  {
   "cell_type": "markdown",
   "metadata": {},
   "source": [
    "Пропущенных значений нет"
   ]
  },
  {
   "cell_type": "markdown",
   "metadata": {},
   "source": [
    "#### устранены неявные дубликаты в названиях населённых пунктов"
   ]
  },
  {
   "cell_type": "code",
   "execution_count": 19,
   "metadata": {},
   "outputs": [
    {
     "data": {
      "text/plain": [
       "array(['no_name', 'Бокситогорск', 'Волосово', 'Волхов', 'Всеволожск',\n",
       "       'Выборг', 'Высоцк', 'Гатчина', 'Зеленогорск', 'Ивангород',\n",
       "       'Каменногорск', 'Кингисепп', 'Кириши', 'Кировск', 'Колпино',\n",
       "       'Коммунар', 'Красное Село', 'Кронштадт', 'Кудрово',\n",
       "       'Лодейное Поле', 'Ломоносов', 'Луга', 'Любань', 'Мурино',\n",
       "       'Никольское', 'Новая Ладога', 'Отрадное', 'Павловск', 'Петергоф',\n",
       "       'Пикалёво', 'Подпорожье', 'Приморск', 'Приозерск', 'Пушкин',\n",
       "       'Санкт-Петербург', 'Светогорск', 'Сертолово', 'Сестрорецк',\n",
       "       'Сланцы', 'Сосновый Бор', 'Сясьстрой', 'Тихвин', 'Тосно',\n",
       "       'Шлиссельбург', 'городской поселок Большая Ижора',\n",
       "       'городской поселок Янино-1', 'городской посёлок Будогощь',\n",
       "       'городской посёлок Виллози', 'городской посёлок Лесогорский',\n",
       "       'городской посёлок Мга', 'городской посёлок Назия',\n",
       "       'городской посёлок Новоселье', 'городской посёлок Павлово',\n",
       "       'городской посёлок Рощино', 'городской посёлок Свирьстрой',\n",
       "       'городской посёлок Советский', 'городской посёлок Фёдоровское',\n",
       "       'городской посёлок Янино-1', 'деревня Агалатово', 'деревня Аро',\n",
       "       'деревня Батово', 'деревня Бегуницы', 'деревня Белогорка',\n",
       "       'деревня Большая Вруда', 'деревня Большая Пустомержа',\n",
       "       'деревня Большие Колпаны', 'деревня Большое Рейзино',\n",
       "       'деревня Большой Сабск', 'деревня Бор', 'деревня Борисова Грива',\n",
       "       'деревня Ваганово', 'деревня Вартемяги', 'деревня Вахнова Кара',\n",
       "       'деревня Выскатка', 'деревня Гарболово', 'деревня Глинка',\n",
       "       'деревня Горбунки', 'деревня Гостилицы', 'деревня Заклинье',\n",
       "       'деревня Заневка', 'деревня Зимитицы', 'деревня Извара',\n",
       "       'деревня Иссад', 'деревня Калитино', 'деревня Кальтино',\n",
       "       'деревня Камышовка', 'деревня Каськово', 'деревня Келози',\n",
       "       'деревня Кипень', 'деревня Кисельня', 'деревня Колтуши',\n",
       "       'деревня Коркино', 'деревня Котлы', 'деревня Кривко',\n",
       "       'деревня Кудрово', 'деревня Кузьмолово', 'деревня Курковицы',\n",
       "       'деревня Куровицы', 'деревня Куттузи', 'деревня Лаврики',\n",
       "       'деревня Лаголово', 'деревня Лампово', 'деревня Лесколово',\n",
       "       'деревня Лопухинка', 'деревня Лупполово',\n",
       "       'деревня Малая Романовка', 'деревня Малое Верево',\n",
       "       'деревня Малое Карлино', 'деревня Малые Колпаны',\n",
       "       'деревня Мануйлово', 'деревня Меньково', 'деревня Мины',\n",
       "       'деревня Мистолово', 'деревня Ненимяки', 'деревня Нижние Осельки',\n",
       "       'деревня Нижняя', 'деревня Низино', 'деревня Новое Девяткино',\n",
       "       'деревня Новолисино', 'деревня Нурма', 'деревня Оржицы',\n",
       "       'деревня Парицы', 'деревня Пельгора', 'деревня Пеники',\n",
       "       'деревня Пижма', 'деревня Пикколово', 'деревня Пудомяги',\n",
       "       'деревня Пустынка', 'деревня Пчева', 'деревня Рабитицы',\n",
       "       'деревня Разбегаево', 'деревня Раздолье', 'деревня Разметелево',\n",
       "       'деревня Рапполово', 'деревня Реброво', 'деревня Русско',\n",
       "       'деревня Сижно', 'деревня Снегирёвка', 'деревня Старая',\n",
       "       'деревня Старая Пустошь', 'деревня Старое Хинколово',\n",
       "       'деревня Старополье', 'деревня Старосиверская',\n",
       "       'деревня Старые Бегуницы', 'деревня Суоранда',\n",
       "       'деревня Сяськелево', 'деревня Тарасово', 'деревня Терпилицы',\n",
       "       'деревня Тихковицы', 'деревня Тойворово', 'деревня Торосово',\n",
       "       'деревня Торошковичи', 'деревня Трубников Бор',\n",
       "       'деревня Фалилеево', 'деревня Фёдоровское', 'деревня Хапо-Ое',\n",
       "       'деревня Хязельки', 'деревня Чудской Бор', 'деревня Шпаньково',\n",
       "       'деревня Щеглово', 'деревня Юкки', 'деревня Ялгино',\n",
       "       'деревня Яльгелево', 'деревня Ям-Тесово',\n",
       "       'коттеджный поселок Кивеннапа Север', 'коттеджный поселок Счастье',\n",
       "       'коттеджный посёлок Лесное', 'поселок Аннино', 'поселок Барышево',\n",
       "       'поселок Бугры', 'поселок Возрождение', 'поселок Войсковицы',\n",
       "       'поселок Володарское', 'поселок Гаврилово', 'поселок Гарболово',\n",
       "       'поселок Гладкое', 'поселок Глажево', 'поселок Глебычево',\n",
       "       'поселок Гончарово', 'поселок Громово', 'поселок Дружноселье',\n",
       "       'поселок Елизаветино', 'поселок Жилгородок', 'поселок Жилпосёлок',\n",
       "       'поселок Житково', 'поселок Заводской', 'поселок Запорожское',\n",
       "       'поселок Зимитицы', 'поселок Ильичёво', 'поселок Калитино',\n",
       "       'поселок Каложицы', 'поселок Кингисеппский', 'поселок Кирпичное',\n",
       "       'поселок Кобралово', 'поселок Кобринское', 'поселок Коммунары',\n",
       "       'поселок Коробицыно', 'поселок Котельский',\n",
       "       'поселок Красная Долина', 'поселок Красносельское',\n",
       "       'поселок Лесное', 'поселок Лисий Нос', 'поселок Лукаши',\n",
       "       'поселок Любань', 'поселок Мельниково', 'поселок Мичуринское',\n",
       "       'поселок Молодцово', 'поселок Мурино', 'поселок Новый Свет',\n",
       "       'поселок Новый Учхоз', 'поселок Оредеж',\n",
       "       'поселок Пансионат Зелёный Бор', 'поселок Первомайское',\n",
       "       'поселок Перово', 'поселок Петровское', 'поселок Победа',\n",
       "       'поселок Поляны', 'поселок Почап', 'поселок Починок',\n",
       "       'поселок Пушное', 'поселок Пчевжа', 'поселок Рабитицы',\n",
       "       'поселок Романовка', 'поселок Ромашки', 'поселок Рябово',\n",
       "       'поселок Севастьяново', 'поселок Селезнёво', 'поселок Сельцо',\n",
       "       'поселок Семиозерье', 'поселок Семрино', 'поселок Серебрянский',\n",
       "       'поселок Совхозный', 'поселок Старая Малукса',\n",
       "       'поселок Стеклянный', 'поселок Сумино', 'поселок Суходолье',\n",
       "       'поселок Тельмана', 'поселок Терволово', 'поселок Торковичи',\n",
       "       'поселок Тёсово-4', 'поселок Углово', 'поселок Усть-Луга',\n",
       "       'поселок Ушаки', 'поселок Цвелодубово', 'поселок Цвылёво',\n",
       "       'поселок городского типа Большая Ижора',\n",
       "       'поселок городского типа Вырица',\n",
       "       'поселок городского типа Дружная Горка',\n",
       "       'поселок городского типа Дубровка',\n",
       "       'поселок городского типа Ефимовский',\n",
       "       'поселок городского типа Кондратьево',\n",
       "       'поселок городского типа Красный Бор',\n",
       "       'поселок городского типа Кузьмоловский',\n",
       "       'поселок городского типа Лебяжье',\n",
       "       'поселок городского типа Лесогорский',\n",
       "       'поселок городского типа Назия',\n",
       "       'поселок городского типа Никольский',\n",
       "       'поселок городского типа Приладожский',\n",
       "       'поселок городского типа Рахья', 'поселок городского типа Рощино',\n",
       "       'поселок городского типа Рябово',\n",
       "       'поселок городского типа Синявино',\n",
       "       'поселок городского типа Советский',\n",
       "       'поселок городского типа Токсово',\n",
       "       'поселок городского типа Форносово',\n",
       "       'поселок городского типа имени Свердлова',\n",
       "       'поселок станции Вещево', 'поселок станции Корнево',\n",
       "       'поселок станции Лужайка', 'поселок станции Приветнинское',\n",
       "       'посёлок Александровская', 'посёлок Алексеевка', 'посёлок Аннино',\n",
       "       'посёлок Белоостров', 'посёлок Бугры', 'посёлок Возрождение',\n",
       "       'посёлок Войскорово', 'посёлок Высокоключевой',\n",
       "       'посёлок Гаврилово', 'посёлок Дзержинского', 'посёлок Жилгородок',\n",
       "       'посёлок Ильичёво', 'посёлок Кикерино', 'посёлок Кобралово',\n",
       "       'посёлок Коробицыно', 'посёлок Левашово', 'посёлок Ленинское',\n",
       "       'посёлок Лисий Нос', 'посёлок Мельниково', 'посёлок Металлострой',\n",
       "       'посёлок Мичуринское', 'посёлок Молодёжное', 'посёлок Мурино',\n",
       "       'посёлок Мыза-Ивановка', 'посёлок Новогорелово',\n",
       "       'посёлок Новый Свет', 'посёлок Пансионат Зелёный Бор',\n",
       "       'посёлок Парголово', 'посёлок Перово', 'посёлок Песочный',\n",
       "       'посёлок Петро-Славянка', 'посёлок Петровское',\n",
       "       'посёлок Платформа 69-й километр', 'посёлок Плодовое',\n",
       "       'посёлок Плоское', 'посёлок Победа', 'посёлок Поляны',\n",
       "       'посёлок Понтонный', 'посёлок Пригородный', 'посёлок Пудость',\n",
       "       'посёлок Репино', 'посёлок Ропша', 'посёлок Сапёрное',\n",
       "       'посёлок Сапёрный', 'посёлок Сосново', 'посёлок Старая Малукса',\n",
       "       'посёлок Стеклянный', 'посёлок Стрельна', 'посёлок Суйда',\n",
       "       'посёлок Сумино', 'посёлок Тельмана', 'посёлок Терволово',\n",
       "       'посёлок Торфяное', 'посёлок Усть-Ижора', 'посёлок Усть-Луга',\n",
       "       'посёлок Форт Красная Горка', 'посёлок Шугозеро', 'посёлок Шушары',\n",
       "       'посёлок Щеглово', 'посёлок городского типа Важины',\n",
       "       'посёлок городского типа Вознесенье',\n",
       "       'посёлок городского типа Вырица',\n",
       "       'посёлок городского типа Красный Бор',\n",
       "       'посёлок городского типа Кузнечное',\n",
       "       'посёлок городского типа Кузьмоловский',\n",
       "       'посёлок городского типа Лебяжье', 'посёлок городского типа Мга',\n",
       "       'посёлок городского типа Павлово',\n",
       "       'посёлок городского типа Рощино', 'посёлок городского типа Рябово',\n",
       "       'посёлок городского типа Сиверский',\n",
       "       'посёлок городского типа Тайцы', 'посёлок городского типа Токсово',\n",
       "       'посёлок городского типа Ульяновка',\n",
       "       'посёлок городского типа Форносово',\n",
       "       'посёлок городского типа имени Морозова',\n",
       "       'посёлок городского типа имени Свердлова',\n",
       "       'посёлок при железнодорожной станции Вещево',\n",
       "       'посёлок при железнодорожной станции Приветнинское',\n",
       "       'посёлок станции Громово', 'посёлок станции Свирь',\n",
       "       'садоводческое некоммерческое товарищество Лесная Поляна',\n",
       "       'садовое товарищество Новая Ропша',\n",
       "       'садовое товарищество Приладожский', 'садовое товарищество Рахья',\n",
       "       'садовое товарищество Садко', 'село Копорье', 'село Никольское',\n",
       "       'село Павлово', 'село Паша', 'село Путилово', 'село Рождествено',\n",
       "       'село Русско-Высоцкое', 'село Старая Ладога', 'село Шум'],\n",
       "      dtype=object)"
      ]
     },
     "execution_count": 19,
     "metadata": {},
     "output_type": "execute_result"
    }
   ],
   "source": [
    "data['locality_name'].sort_values().unique()\n"
   ]
  },
  {
   "cell_type": "markdown",
   "metadata": {},
   "source": [
    "Заменим для начала ё на е, а затем приведем типы населенных пунктов к одинаковым значениям:"
   ]
  },
  {
   "cell_type": "code",
   "execution_count": 20,
   "metadata": {},
   "outputs": [],
   "source": [
    "# создадим словарь со значениями, которые необходима заменить на унифицированные\n",
    "replace_dict = {\n",
    "    'поселок городского типа': 'городской поселок',\n",
    "    'поселок при железнодорожной станции': 'поселок станции',\n",
    "    'садоводческое некоммерческое товарищество': 'садовое товарищество',\n",
    "    'садоводческое товарищество': 'садовое товарищество' \n",
    "}"
   ]
  },
  {
   "cell_type": "code",
   "execution_count": 21,
   "metadata": {},
   "outputs": [],
   "source": [
    "# сначала заменим все буквы ё на е\n",
    "data['locality_name'] = data['locality_name'].replace({'ё': 'е'}, regex=True)\n",
    "# после этого можно приводить значения к одинаковым значениям\n",
    "data['locality_name'] = data['locality_name'].replace(replace_dict, regex=True)"
   ]
  },
  {
   "cell_type": "code",
   "execution_count": 22,
   "metadata": {},
   "outputs": [
    {
     "data": {
      "text/plain": [
       "array(['no_name', 'Бокситогорск', 'Волосово', 'Волхов', 'Всеволожск',\n",
       "       'Выборг', 'Высоцк', 'Гатчина', 'Зеленогорск', 'Ивангород',\n",
       "       'Каменногорск', 'Кингисепп', 'Кириши', 'Кировск', 'Колпино',\n",
       "       'Коммунар', 'Красное Село', 'Кронштадт', 'Кудрово',\n",
       "       'Лодейное Поле', 'Ломоносов', 'Луга', 'Любань', 'Мурино',\n",
       "       'Никольское', 'Новая Ладога', 'Отрадное', 'Павловск', 'Петергоф',\n",
       "       'Пикалево', 'Подпорожье', 'Приморск', 'Приозерск', 'Пушкин',\n",
       "       'Санкт-Петербург', 'Светогорск', 'Сертолово', 'Сестрорецк',\n",
       "       'Сланцы', 'Сосновый Бор', 'Сясьстрой', 'Тихвин', 'Тосно',\n",
       "       'Шлиссельбург', 'городской поселок Большая Ижора',\n",
       "       'городской поселок Будогощь', 'городской поселок Важины',\n",
       "       'городской поселок Виллози', 'городской поселок Вознесенье',\n",
       "       'городской поселок Вырица', 'городской поселок Дружная Горка',\n",
       "       'городской поселок Дубровка', 'городской поселок Ефимовский',\n",
       "       'городской поселок Кондратьево', 'городской поселок Красный Бор',\n",
       "       'городской поселок Кузнечное', 'городской поселок Кузьмоловский',\n",
       "       'городской поселок Лебяжье', 'городской поселок Лесогорский',\n",
       "       'городской поселок Мга', 'городской поселок Назия',\n",
       "       'городской поселок Никольский', 'городской поселок Новоселье',\n",
       "       'городской поселок Павлово', 'городской поселок Приладожский',\n",
       "       'городской поселок Рахья', 'городской поселок Рощино',\n",
       "       'городской поселок Рябово', 'городской поселок Свирьстрой',\n",
       "       'городской поселок Сиверский', 'городской поселок Синявино',\n",
       "       'городской поселок Советский', 'городской поселок Тайцы',\n",
       "       'городской поселок Токсово', 'городской поселок Ульяновка',\n",
       "       'городской поселок Федоровское', 'городской поселок Форносово',\n",
       "       'городской поселок Янино-1', 'городской поселок имени Морозова',\n",
       "       'городской поселок имени Свердлова', 'деревня Агалатово',\n",
       "       'деревня Аро', 'деревня Батово', 'деревня Бегуницы',\n",
       "       'деревня Белогорка', 'деревня Большая Вруда',\n",
       "       'деревня Большая Пустомержа', 'деревня Большие Колпаны',\n",
       "       'деревня Большое Рейзино', 'деревня Большой Сабск', 'деревня Бор',\n",
       "       'деревня Борисова Грива', 'деревня Ваганово', 'деревня Вартемяги',\n",
       "       'деревня Вахнова Кара', 'деревня Выскатка', 'деревня Гарболово',\n",
       "       'деревня Глинка', 'деревня Горбунки', 'деревня Гостилицы',\n",
       "       'деревня Заклинье', 'деревня Заневка', 'деревня Зимитицы',\n",
       "       'деревня Извара', 'деревня Иссад', 'деревня Калитино',\n",
       "       'деревня Кальтино', 'деревня Камышовка', 'деревня Каськово',\n",
       "       'деревня Келози', 'деревня Кипень', 'деревня Кисельня',\n",
       "       'деревня Колтуши', 'деревня Коркино', 'деревня Котлы',\n",
       "       'деревня Кривко', 'деревня Кудрово', 'деревня Кузьмолово',\n",
       "       'деревня Курковицы', 'деревня Куровицы', 'деревня Куттузи',\n",
       "       'деревня Лаврики', 'деревня Лаголово', 'деревня Лампово',\n",
       "       'деревня Лесколово', 'деревня Лопухинка', 'деревня Лупполово',\n",
       "       'деревня Малая Романовка', 'деревня Малое Верево',\n",
       "       'деревня Малое Карлино', 'деревня Малые Колпаны',\n",
       "       'деревня Мануйлово', 'деревня Меньково', 'деревня Мины',\n",
       "       'деревня Мистолово', 'деревня Ненимяки', 'деревня Нижние Осельки',\n",
       "       'деревня Нижняя', 'деревня Низино', 'деревня Новое Девяткино',\n",
       "       'деревня Новолисино', 'деревня Нурма', 'деревня Оржицы',\n",
       "       'деревня Парицы', 'деревня Пельгора', 'деревня Пеники',\n",
       "       'деревня Пижма', 'деревня Пикколово', 'деревня Пудомяги',\n",
       "       'деревня Пустынка', 'деревня Пчева', 'деревня Рабитицы',\n",
       "       'деревня Разбегаево', 'деревня Раздолье', 'деревня Разметелево',\n",
       "       'деревня Рапполово', 'деревня Реброво', 'деревня Русско',\n",
       "       'деревня Сижно', 'деревня Снегиревка', 'деревня Старая',\n",
       "       'деревня Старая Пустошь', 'деревня Старое Хинколово',\n",
       "       'деревня Старополье', 'деревня Старосиверская',\n",
       "       'деревня Старые Бегуницы', 'деревня Суоранда',\n",
       "       'деревня Сяськелево', 'деревня Тарасово', 'деревня Терпилицы',\n",
       "       'деревня Тихковицы', 'деревня Тойворово', 'деревня Торосово',\n",
       "       'деревня Торошковичи', 'деревня Трубников Бор',\n",
       "       'деревня Фалилеево', 'деревня Федоровское', 'деревня Хапо-Ое',\n",
       "       'деревня Хязельки', 'деревня Чудской Бор', 'деревня Шпаньково',\n",
       "       'деревня Щеглово', 'деревня Юкки', 'деревня Ялгино',\n",
       "       'деревня Яльгелево', 'деревня Ям-Тесово',\n",
       "       'коттеджный поселок Кивеннапа Север', 'коттеджный поселок Лесное',\n",
       "       'коттеджный поселок Счастье', 'поселок Александровская',\n",
       "       'поселок Алексеевка', 'поселок Аннино', 'поселок Барышево',\n",
       "       'поселок Белоостров', 'поселок Бугры', 'поселок Возрождение',\n",
       "       'поселок Войсковицы', 'поселок Войскорово', 'поселок Володарское',\n",
       "       'поселок Высокоключевой', 'поселок Гаврилово', 'поселок Гарболово',\n",
       "       'поселок Гладкое', 'поселок Глажево', 'поселок Глебычево',\n",
       "       'поселок Гончарово', 'поселок Громово', 'поселок Дзержинского',\n",
       "       'поселок Дружноселье', 'поселок Елизаветино', 'поселок Жилгородок',\n",
       "       'поселок Жилпоселок', 'поселок Житково', 'поселок Заводской',\n",
       "       'поселок Запорожское', 'поселок Зимитицы', 'поселок Ильичево',\n",
       "       'поселок Калитино', 'поселок Каложицы', 'поселок Кикерино',\n",
       "       'поселок Кингисеппский', 'поселок Кирпичное', 'поселок Кобралово',\n",
       "       'поселок Кобринское', 'поселок Коммунары', 'поселок Коробицыно',\n",
       "       'поселок Котельский', 'поселок Красная Долина',\n",
       "       'поселок Красносельское', 'поселок Левашово', 'поселок Ленинское',\n",
       "       'поселок Лесное', 'поселок Лисий Нос', 'поселок Лукаши',\n",
       "       'поселок Любань', 'поселок Мельниково', 'поселок Металлострой',\n",
       "       'поселок Мичуринское', 'поселок Молодежное', 'поселок Молодцово',\n",
       "       'поселок Мурино', 'поселок Мыза-Ивановка', 'поселок Новогорелово',\n",
       "       'поселок Новый Свет', 'поселок Новый Учхоз', 'поселок Оредеж',\n",
       "       'поселок Пансионат Зеленый Бор', 'поселок Парголово',\n",
       "       'поселок Первомайское', 'поселок Перово', 'поселок Песочный',\n",
       "       'поселок Петро-Славянка', 'поселок Петровское',\n",
       "       'поселок Платформа 69-й километр', 'поселок Плодовое',\n",
       "       'поселок Плоское', 'поселок Победа', 'поселок Поляны',\n",
       "       'поселок Понтонный', 'поселок Почап', 'поселок Починок',\n",
       "       'поселок Пригородный', 'поселок Пудость', 'поселок Пушное',\n",
       "       'поселок Пчевжа', 'поселок Рабитицы', 'поселок Репино',\n",
       "       'поселок Романовка', 'поселок Ромашки', 'поселок Ропша',\n",
       "       'поселок Рябово', 'поселок Саперное', 'поселок Саперный',\n",
       "       'поселок Севастьяново', 'поселок Селезнево', 'поселок Сельцо',\n",
       "       'поселок Семиозерье', 'поселок Семрино', 'поселок Серебрянский',\n",
       "       'поселок Совхозный', 'поселок Сосново', 'поселок Старая Малукса',\n",
       "       'поселок Стеклянный', 'поселок Стрельна', 'поселок Суйда',\n",
       "       'поселок Сумино', 'поселок Суходолье', 'поселок Тельмана',\n",
       "       'поселок Терволово', 'поселок Тесово-4', 'поселок Торковичи',\n",
       "       'поселок Торфяное', 'поселок Углово', 'поселок Усть-Ижора',\n",
       "       'поселок Усть-Луга', 'поселок Ушаки', 'поселок Форт Красная Горка',\n",
       "       'поселок Цвелодубово', 'поселок Цвылево', 'поселок Шугозеро',\n",
       "       'поселок Шушары', 'поселок Щеглово', 'поселок станции Вещево',\n",
       "       'поселок станции Громово', 'поселок станции Корнево',\n",
       "       'поселок станции Лужайка', 'поселок станции Приветнинское',\n",
       "       'поселок станции Свирь', 'садовое товарищество Лесная Поляна',\n",
       "       'садовое товарищество Новая Ропша',\n",
       "       'садовое товарищество Приладожский', 'садовое товарищество Рахья',\n",
       "       'садовое товарищество Садко', 'село Копорье', 'село Никольское',\n",
       "       'село Павлово', 'село Паша', 'село Путилово', 'село Рождествено',\n",
       "       'село Русско-Высоцкое', 'село Старая Ладога', 'село Шум'],\n",
       "      dtype=object)"
      ]
     },
     "execution_count": 22,
     "metadata": {},
     "output_type": "execute_result"
    }
   ],
   "source": [
    "#проверим замену, не осталось ли дубликатов\n",
    "data['locality_name'].sort_values().unique()"
   ]
  },
  {
   "cell_type": "markdown",
   "metadata": {},
   "source": [
    "**Вывод: Были найдены пропуски и заменены на более-менее подходящие значения**"
   ]
  },
  {
   "cell_type": "markdown",
   "metadata": {},
   "source": [
    "####  устранены редкие и выбивающиеся значения (аномалии) во всех столбцах"
   ]
  },
  {
   "cell_type": "markdown",
   "metadata": {},
   "source": [
    "Проверить данные в столбце с потолками на наличие аномалий, применив ящик с усами для столбца высоты потолка"
   ]
  },
  {
   "cell_type": "code",
   "execution_count": 23,
   "metadata": {},
   "outputs": [
    {
     "data": {
      "text/plain": [
       "<AxesSubplot:>"
      ]
     },
     "execution_count": 23,
     "metadata": {},
     "output_type": "execute_result"
    },
    {
     "data": {
      "image/png": "[encoded data removed]",
      "text/plain": [
       "<Figure size 432x288 with 1 Axes>"
      ]
     },
     "metadata": {
      "needs_background": "light"
     },
     "output_type": "display_data"
    }
   ],
   "source": [
    "data.boxplot(column='ceiling_height')"
   ]
  },
  {
   "cell_type": "markdown",
   "metadata": {},
   "source": [
    "видим довольно большие значения, которые больше 10, а то и 100 метров!"
   ]
  },
  {
   "cell_type": "code",
   "execution_count": 24,
   "metadata": {},
   "outputs": [
    {
     "data": {
      "text/html": [
       "<div>\n",
       "<style scoped>\n",
       "    .dataframe tbody tr th:only-of-type {\n",
       "        vertical-align: middle;\n",
       "    }\n",
       "\n",
       "    .dataframe tbody tr th {\n",
       "        vertical-align: top;\n",
       "    }\n",
       "\n",
       "    .dataframe thead th {\n",
       "        text-align: right;\n",
       "    }\n",
       "</style>\n",
       "<table border=\"1\" class=\"dataframe\">\n",
       "  <thead>\n",
       "    <tr style=\"text-align: right;\">\n",
       "      <th></th>\n",
       "      <th>total_images</th>\n",
       "      <th>last_price</th>\n",
       "      <th>total_area</th>\n",
       "      <th>first_day_exposition</th>\n",
       "      <th>rooms</th>\n",
       "      <th>ceiling_height</th>\n",
       "      <th>floors_total</th>\n",
       "      <th>living_area</th>\n",
       "      <th>floor</th>\n",
       "      <th>is_apartment</th>\n",
       "      <th>studio</th>\n",
       "      <th>open_plan</th>\n",
       "      <th>kitchen_area</th>\n",
       "      <th>balcony</th>\n",
       "      <th>locality_name</th>\n",
       "      <th>airports_nearest</th>\n",
       "      <th>cityCenters_nearest</th>\n",
       "      <th>parks_around3000</th>\n",
       "      <th>parks_nearest</th>\n",
       "      <th>ponds_around3000</th>\n",
       "      <th>ponds_nearest</th>\n",
       "      <th>days_exposition</th>\n",
       "    </tr>\n",
       "  </thead>\n",
       "  <tbody>\n",
       "    <tr>\n",
       "      <th>355</th>\n",
       "      <td>17</td>\n",
       "      <td>3600000.0</td>\n",
       "      <td>55.2</td>\n",
       "      <td>2018-07-12T00:00:00</td>\n",
       "      <td>2</td>\n",
       "      <td>25.0</td>\n",
       "      <td>5</td>\n",
       "      <td>32.0</td>\n",
       "      <td>2</td>\n",
       "      <td>False</td>\n",
       "      <td>False</td>\n",
       "      <td>False</td>\n",
       "      <td>9.517241</td>\n",
       "      <td>2</td>\n",
       "      <td>Гатчина</td>\n",
       "      <td>NaN</td>\n",
       "      <td>NaN</td>\n",
       "      <td>0</td>\n",
       "      <td>NaN</td>\n",
       "      <td>0</td>\n",
       "      <td>NaN</td>\n",
       "      <td>259.0</td>\n",
       "    </tr>\n",
       "    <tr>\n",
       "      <th>3148</th>\n",
       "      <td>14</td>\n",
       "      <td>2900000.0</td>\n",
       "      <td>75.0</td>\n",
       "      <td>2018-11-12T00:00:00</td>\n",
       "      <td>3</td>\n",
       "      <td>32.0</td>\n",
       "      <td>3</td>\n",
       "      <td>53.0</td>\n",
       "      <td>2</td>\n",
       "      <td>False</td>\n",
       "      <td>False</td>\n",
       "      <td>False</td>\n",
       "      <td>8.000000</td>\n",
       "      <td>0</td>\n",
       "      <td>Волхов</td>\n",
       "      <td>NaN</td>\n",
       "      <td>NaN</td>\n",
       "      <td>0</td>\n",
       "      <td>NaN</td>\n",
       "      <td>0</td>\n",
       "      <td>NaN</td>\n",
       "      <td>NaN</td>\n",
       "    </tr>\n",
       "    <tr>\n",
       "      <th>4643</th>\n",
       "      <td>0</td>\n",
       "      <td>4300000.0</td>\n",
       "      <td>45.0</td>\n",
       "      <td>2018-02-01T00:00:00</td>\n",
       "      <td>2</td>\n",
       "      <td>25.0</td>\n",
       "      <td>9</td>\n",
       "      <td>30.0</td>\n",
       "      <td>2</td>\n",
       "      <td>False</td>\n",
       "      <td>False</td>\n",
       "      <td>False</td>\n",
       "      <td>7.000000</td>\n",
       "      <td>1</td>\n",
       "      <td>Санкт-Петербург</td>\n",
       "      <td>12016.0</td>\n",
       "      <td>13256.0</td>\n",
       "      <td>1</td>\n",
       "      <td>658.0</td>\n",
       "      <td>1</td>\n",
       "      <td>331.0</td>\n",
       "      <td>181.0</td>\n",
       "    </tr>\n",
       "    <tr>\n",
       "      <th>4876</th>\n",
       "      <td>7</td>\n",
       "      <td>3000000.0</td>\n",
       "      <td>25.0</td>\n",
       "      <td>2017-09-27T00:00:00</td>\n",
       "      <td>0</td>\n",
       "      <td>27.0</td>\n",
       "      <td>25</td>\n",
       "      <td>17.0</td>\n",
       "      <td>17</td>\n",
       "      <td>False</td>\n",
       "      <td>False</td>\n",
       "      <td>True</td>\n",
       "      <td>4.310345</td>\n",
       "      <td>2</td>\n",
       "      <td>поселок Мурино</td>\n",
       "      <td>NaN</td>\n",
       "      <td>NaN</td>\n",
       "      <td>0</td>\n",
       "      <td>NaN</td>\n",
       "      <td>0</td>\n",
       "      <td>NaN</td>\n",
       "      <td>28.0</td>\n",
       "    </tr>\n",
       "    <tr>\n",
       "      <th>5076</th>\n",
       "      <td>0</td>\n",
       "      <td>3850000.0</td>\n",
       "      <td>30.5</td>\n",
       "      <td>2018-10-03T00:00:00</td>\n",
       "      <td>1</td>\n",
       "      <td>24.0</td>\n",
       "      <td>5</td>\n",
       "      <td>19.5</td>\n",
       "      <td>1</td>\n",
       "      <td>True</td>\n",
       "      <td>False</td>\n",
       "      <td>False</td>\n",
       "      <td>5.500000</td>\n",
       "      <td>0</td>\n",
       "      <td>Санкт-Петербург</td>\n",
       "      <td>29686.0</td>\n",
       "      <td>8389.0</td>\n",
       "      <td>3</td>\n",
       "      <td>397.0</td>\n",
       "      <td>1</td>\n",
       "      <td>578.0</td>\n",
       "      <td>7.0</td>\n",
       "    </tr>\n",
       "    <tr>\n",
       "      <th>5246</th>\n",
       "      <td>0</td>\n",
       "      <td>2500000.0</td>\n",
       "      <td>54.0</td>\n",
       "      <td>2017-10-13T00:00:00</td>\n",
       "      <td>2</td>\n",
       "      <td>27.0</td>\n",
       "      <td>5</td>\n",
       "      <td>30.0</td>\n",
       "      <td>3</td>\n",
       "      <td>False</td>\n",
       "      <td>False</td>\n",
       "      <td>False</td>\n",
       "      <td>9.000000</td>\n",
       "      <td>2</td>\n",
       "      <td>деревня Мины</td>\n",
       "      <td>NaN</td>\n",
       "      <td>NaN</td>\n",
       "      <td>0</td>\n",
       "      <td>NaN</td>\n",
       "      <td>0</td>\n",
       "      <td>NaN</td>\n",
       "      <td>540.0</td>\n",
       "    </tr>\n",
       "    <tr>\n",
       "      <th>5669</th>\n",
       "      <td>4</td>\n",
       "      <td>4400000.0</td>\n",
       "      <td>50.0</td>\n",
       "      <td>2017-08-08T00:00:00</td>\n",
       "      <td>2</td>\n",
       "      <td>26.0</td>\n",
       "      <td>9</td>\n",
       "      <td>21.3</td>\n",
       "      <td>3</td>\n",
       "      <td>False</td>\n",
       "      <td>False</td>\n",
       "      <td>False</td>\n",
       "      <td>7.000000</td>\n",
       "      <td>2</td>\n",
       "      <td>Санкт-Петербург</td>\n",
       "      <td>28981.0</td>\n",
       "      <td>10912.0</td>\n",
       "      <td>1</td>\n",
       "      <td>305.0</td>\n",
       "      <td>0</td>\n",
       "      <td>NaN</td>\n",
       "      <td>267.0</td>\n",
       "    </tr>\n",
       "    <tr>\n",
       "      <th>5807</th>\n",
       "      <td>17</td>\n",
       "      <td>8150000.0</td>\n",
       "      <td>80.0</td>\n",
       "      <td>2019-01-09T00:00:00</td>\n",
       "      <td>2</td>\n",
       "      <td>27.0</td>\n",
       "      <td>36</td>\n",
       "      <td>41.0</td>\n",
       "      <td>13</td>\n",
       "      <td>False</td>\n",
       "      <td>False</td>\n",
       "      <td>False</td>\n",
       "      <td>12.000000</td>\n",
       "      <td>5</td>\n",
       "      <td>Санкт-Петербург</td>\n",
       "      <td>18732.0</td>\n",
       "      <td>20444.0</td>\n",
       "      <td>0</td>\n",
       "      <td>NaN</td>\n",
       "      <td>3</td>\n",
       "      <td>80.0</td>\n",
       "      <td>38.0</td>\n",
       "    </tr>\n",
       "    <tr>\n",
       "      <th>6246</th>\n",
       "      <td>6</td>\n",
       "      <td>3300000.0</td>\n",
       "      <td>44.4</td>\n",
       "      <td>2019-03-25T00:00:00</td>\n",
       "      <td>2</td>\n",
       "      <td>25.0</td>\n",
       "      <td>5</td>\n",
       "      <td>31.3</td>\n",
       "      <td>5</td>\n",
       "      <td>False</td>\n",
       "      <td>False</td>\n",
       "      <td>False</td>\n",
       "      <td>5.700000</td>\n",
       "      <td>0</td>\n",
       "      <td>Кронштадт</td>\n",
       "      <td>68923.0</td>\n",
       "      <td>50649.0</td>\n",
       "      <td>1</td>\n",
       "      <td>417.0</td>\n",
       "      <td>2</td>\n",
       "      <td>73.0</td>\n",
       "      <td>NaN</td>\n",
       "    </tr>\n",
       "    <tr>\n",
       "      <th>9379</th>\n",
       "      <td>5</td>\n",
       "      <td>3950000.0</td>\n",
       "      <td>42.0</td>\n",
       "      <td>2017-03-26T00:00:00</td>\n",
       "      <td>3</td>\n",
       "      <td>25.0</td>\n",
       "      <td>5</td>\n",
       "      <td>30.0</td>\n",
       "      <td>2</td>\n",
       "      <td>False</td>\n",
       "      <td>False</td>\n",
       "      <td>False</td>\n",
       "      <td>5.200000</td>\n",
       "      <td>0</td>\n",
       "      <td>Санкт-Петербург</td>\n",
       "      <td>11647.0</td>\n",
       "      <td>13581.0</td>\n",
       "      <td>0</td>\n",
       "      <td>NaN</td>\n",
       "      <td>0</td>\n",
       "      <td>NaN</td>\n",
       "      <td>NaN</td>\n",
       "    </tr>\n",
       "    <tr>\n",
       "      <th>10773</th>\n",
       "      <td>8</td>\n",
       "      <td>3800000.0</td>\n",
       "      <td>58.0</td>\n",
       "      <td>2017-10-13T00:00:00</td>\n",
       "      <td>2</td>\n",
       "      <td>27.0</td>\n",
       "      <td>10</td>\n",
       "      <td>30.1</td>\n",
       "      <td>3</td>\n",
       "      <td>False</td>\n",
       "      <td>False</td>\n",
       "      <td>False</td>\n",
       "      <td>8.100000</td>\n",
       "      <td>2</td>\n",
       "      <td>поселок Мурино</td>\n",
       "      <td>NaN</td>\n",
       "      <td>NaN</td>\n",
       "      <td>0</td>\n",
       "      <td>NaN</td>\n",
       "      <td>0</td>\n",
       "      <td>NaN</td>\n",
       "      <td>71.0</td>\n",
       "    </tr>\n",
       "    <tr>\n",
       "      <th>11285</th>\n",
       "      <td>0</td>\n",
       "      <td>1950000.0</td>\n",
       "      <td>37.0</td>\n",
       "      <td>2019-03-20T00:00:00</td>\n",
       "      <td>1</td>\n",
       "      <td>25.0</td>\n",
       "      <td>5</td>\n",
       "      <td>17.0</td>\n",
       "      <td>4</td>\n",
       "      <td>False</td>\n",
       "      <td>False</td>\n",
       "      <td>False</td>\n",
       "      <td>9.000000</td>\n",
       "      <td>2</td>\n",
       "      <td>Луга</td>\n",
       "      <td>NaN</td>\n",
       "      <td>NaN</td>\n",
       "      <td>0</td>\n",
       "      <td>NaN</td>\n",
       "      <td>0</td>\n",
       "      <td>NaN</td>\n",
       "      <td>18.0</td>\n",
       "    </tr>\n",
       "    <tr>\n",
       "      <th>14382</th>\n",
       "      <td>9</td>\n",
       "      <td>1700000.0</td>\n",
       "      <td>35.0</td>\n",
       "      <td>2015-12-04T00:00:00</td>\n",
       "      <td>1</td>\n",
       "      <td>25.0</td>\n",
       "      <td>5</td>\n",
       "      <td>20.0</td>\n",
       "      <td>2</td>\n",
       "      <td>False</td>\n",
       "      <td>False</td>\n",
       "      <td>False</td>\n",
       "      <td>8.000000</td>\n",
       "      <td>1</td>\n",
       "      <td>поселок Новый Свет</td>\n",
       "      <td>NaN</td>\n",
       "      <td>NaN</td>\n",
       "      <td>0</td>\n",
       "      <td>NaN</td>\n",
       "      <td>0</td>\n",
       "      <td>NaN</td>\n",
       "      <td>206.0</td>\n",
       "    </tr>\n",
       "    <tr>\n",
       "      <th>15061</th>\n",
       "      <td>19</td>\n",
       "      <td>5600000.0</td>\n",
       "      <td>56.4</td>\n",
       "      <td>2018-05-11T00:00:00</td>\n",
       "      <td>2</td>\n",
       "      <td>14.0</td>\n",
       "      <td>14</td>\n",
       "      <td>32.4</td>\n",
       "      <td>5</td>\n",
       "      <td>False</td>\n",
       "      <td>False</td>\n",
       "      <td>False</td>\n",
       "      <td>9.100000</td>\n",
       "      <td>2</td>\n",
       "      <td>Санкт-Петербург</td>\n",
       "      <td>14814.0</td>\n",
       "      <td>13610.0</td>\n",
       "      <td>0</td>\n",
       "      <td>NaN</td>\n",
       "      <td>0</td>\n",
       "      <td>NaN</td>\n",
       "      <td>315.0</td>\n",
       "    </tr>\n",
       "    <tr>\n",
       "      <th>17496</th>\n",
       "      <td>15</td>\n",
       "      <td>6700000.0</td>\n",
       "      <td>92.9</td>\n",
       "      <td>2019-02-19T00:00:00</td>\n",
       "      <td>3</td>\n",
       "      <td>20.0</td>\n",
       "      <td>17</td>\n",
       "      <td>53.2</td>\n",
       "      <td>14</td>\n",
       "      <td>False</td>\n",
       "      <td>False</td>\n",
       "      <td>False</td>\n",
       "      <td>12.000000</td>\n",
       "      <td>5</td>\n",
       "      <td>Санкт-Петербург</td>\n",
       "      <td>16295.0</td>\n",
       "      <td>15092.0</td>\n",
       "      <td>1</td>\n",
       "      <td>967.0</td>\n",
       "      <td>0</td>\n",
       "      <td>NaN</td>\n",
       "      <td>NaN</td>\n",
       "    </tr>\n",
       "    <tr>\n",
       "      <th>17857</th>\n",
       "      <td>1</td>\n",
       "      <td>3900000.0</td>\n",
       "      <td>56.0</td>\n",
       "      <td>2017-12-22T00:00:00</td>\n",
       "      <td>3</td>\n",
       "      <td>27.0</td>\n",
       "      <td>5</td>\n",
       "      <td>33.0</td>\n",
       "      <td>4</td>\n",
       "      <td>False</td>\n",
       "      <td>False</td>\n",
       "      <td>False</td>\n",
       "      <td>9.655172</td>\n",
       "      <td>0</td>\n",
       "      <td>Санкт-Петербург</td>\n",
       "      <td>41030.0</td>\n",
       "      <td>15543.0</td>\n",
       "      <td>0</td>\n",
       "      <td>NaN</td>\n",
       "      <td>0</td>\n",
       "      <td>NaN</td>\n",
       "      <td>73.0</td>\n",
       "    </tr>\n",
       "    <tr>\n",
       "      <th>18545</th>\n",
       "      <td>6</td>\n",
       "      <td>3750000.0</td>\n",
       "      <td>43.0</td>\n",
       "      <td>2019-03-18T00:00:00</td>\n",
       "      <td>2</td>\n",
       "      <td>25.0</td>\n",
       "      <td>5</td>\n",
       "      <td>29.0</td>\n",
       "      <td>3</td>\n",
       "      <td>False</td>\n",
       "      <td>False</td>\n",
       "      <td>False</td>\n",
       "      <td>7.413793</td>\n",
       "      <td>0</td>\n",
       "      <td>Санкт-Петербург</td>\n",
       "      <td>27054.0</td>\n",
       "      <td>8033.0</td>\n",
       "      <td>1</td>\n",
       "      <td>540.0</td>\n",
       "      <td>0</td>\n",
       "      <td>NaN</td>\n",
       "      <td>12.0</td>\n",
       "    </tr>\n",
       "    <tr>\n",
       "      <th>20478</th>\n",
       "      <td>11</td>\n",
       "      <td>8000000.0</td>\n",
       "      <td>45.0</td>\n",
       "      <td>2017-07-18T00:00:00</td>\n",
       "      <td>1</td>\n",
       "      <td>27.0</td>\n",
       "      <td>4</td>\n",
       "      <td>22.0</td>\n",
       "      <td>2</td>\n",
       "      <td>False</td>\n",
       "      <td>False</td>\n",
       "      <td>False</td>\n",
       "      <td>10.000000</td>\n",
       "      <td>1</td>\n",
       "      <td>Санкт-Петербург</td>\n",
       "      <td>18975.0</td>\n",
       "      <td>3246.0</td>\n",
       "      <td>0</td>\n",
       "      <td>NaN</td>\n",
       "      <td>3</td>\n",
       "      <td>449.0</td>\n",
       "      <td>429.0</td>\n",
       "    </tr>\n",
       "    <tr>\n",
       "      <th>20507</th>\n",
       "      <td>12</td>\n",
       "      <td>5950000.0</td>\n",
       "      <td>60.0</td>\n",
       "      <td>2018-02-19T00:00:00</td>\n",
       "      <td>2</td>\n",
       "      <td>22.6</td>\n",
       "      <td>14</td>\n",
       "      <td>35.0</td>\n",
       "      <td>11</td>\n",
       "      <td>False</td>\n",
       "      <td>False</td>\n",
       "      <td>False</td>\n",
       "      <td>13.000000</td>\n",
       "      <td>1</td>\n",
       "      <td>Санкт-Петербург</td>\n",
       "      <td>27028.0</td>\n",
       "      <td>12570.0</td>\n",
       "      <td>0</td>\n",
       "      <td>NaN</td>\n",
       "      <td>0</td>\n",
       "      <td>NaN</td>\n",
       "      <td>40.0</td>\n",
       "    </tr>\n",
       "    <tr>\n",
       "      <th>21377</th>\n",
       "      <td>19</td>\n",
       "      <td>4900000.0</td>\n",
       "      <td>42.0</td>\n",
       "      <td>2017-04-18T00:00:00</td>\n",
       "      <td>1</td>\n",
       "      <td>27.5</td>\n",
       "      <td>24</td>\n",
       "      <td>37.7</td>\n",
       "      <td>19</td>\n",
       "      <td>False</td>\n",
       "      <td>False</td>\n",
       "      <td>False</td>\n",
       "      <td>11.000000</td>\n",
       "      <td>2</td>\n",
       "      <td>Санкт-Петербург</td>\n",
       "      <td>42742.0</td>\n",
       "      <td>9760.0</td>\n",
       "      <td>0</td>\n",
       "      <td>NaN</td>\n",
       "      <td>0</td>\n",
       "      <td>NaN</td>\n",
       "      <td>61.0</td>\n",
       "    </tr>\n",
       "    <tr>\n",
       "      <th>21824</th>\n",
       "      <td>20</td>\n",
       "      <td>2450000.0</td>\n",
       "      <td>44.0</td>\n",
       "      <td>2019-02-12T00:00:00</td>\n",
       "      <td>2</td>\n",
       "      <td>27.0</td>\n",
       "      <td>2</td>\n",
       "      <td>38.0</td>\n",
       "      <td>2</td>\n",
       "      <td>False</td>\n",
       "      <td>False</td>\n",
       "      <td>False</td>\n",
       "      <td>8.600000</td>\n",
       "      <td>2</td>\n",
       "      <td>городской поселок Большая Ижора</td>\n",
       "      <td>NaN</td>\n",
       "      <td>NaN</td>\n",
       "      <td>0</td>\n",
       "      <td>NaN</td>\n",
       "      <td>0</td>\n",
       "      <td>NaN</td>\n",
       "      <td>NaN</td>\n",
       "    </tr>\n",
       "    <tr>\n",
       "      <th>22309</th>\n",
       "      <td>20</td>\n",
       "      <td>5300000.0</td>\n",
       "      <td>45.0</td>\n",
       "      <td>2017-09-30T00:00:00</td>\n",
       "      <td>1</td>\n",
       "      <td>10.3</td>\n",
       "      <td>16</td>\n",
       "      <td>15.5</td>\n",
       "      <td>15</td>\n",
       "      <td>False</td>\n",
       "      <td>False</td>\n",
       "      <td>False</td>\n",
       "      <td>7.758621</td>\n",
       "      <td>0</td>\n",
       "      <td>Санкт-Петербург</td>\n",
       "      <td>36353.0</td>\n",
       "      <td>11936.0</td>\n",
       "      <td>2</td>\n",
       "      <td>440.0</td>\n",
       "      <td>2</td>\n",
       "      <td>450.0</td>\n",
       "      <td>136.0</td>\n",
       "    </tr>\n",
       "    <tr>\n",
       "      <th>22336</th>\n",
       "      <td>19</td>\n",
       "      <td>9999000.0</td>\n",
       "      <td>92.4</td>\n",
       "      <td>2019-04-05T00:00:00</td>\n",
       "      <td>2</td>\n",
       "      <td>32.0</td>\n",
       "      <td>6</td>\n",
       "      <td>55.5</td>\n",
       "      <td>5</td>\n",
       "      <td>False</td>\n",
       "      <td>False</td>\n",
       "      <td>False</td>\n",
       "      <td>16.500000</td>\n",
       "      <td>4</td>\n",
       "      <td>Санкт-Петербург</td>\n",
       "      <td>18838.0</td>\n",
       "      <td>3506.0</td>\n",
       "      <td>0</td>\n",
       "      <td>NaN</td>\n",
       "      <td>3</td>\n",
       "      <td>511.0</td>\n",
       "      <td>NaN</td>\n",
       "    </tr>\n",
       "    <tr>\n",
       "      <th>22869</th>\n",
       "      <td>0</td>\n",
       "      <td>15000000.0</td>\n",
       "      <td>25.0</td>\n",
       "      <td>2018-07-25T00:00:00</td>\n",
       "      <td>1</td>\n",
       "      <td>100.0</td>\n",
       "      <td>5</td>\n",
       "      <td>14.0</td>\n",
       "      <td>5</td>\n",
       "      <td>True</td>\n",
       "      <td>False</td>\n",
       "      <td>False</td>\n",
       "      <td>11.000000</td>\n",
       "      <td>5</td>\n",
       "      <td>Санкт-Петербург</td>\n",
       "      <td>34963.0</td>\n",
       "      <td>8283.0</td>\n",
       "      <td>1</td>\n",
       "      <td>223.0</td>\n",
       "      <td>3</td>\n",
       "      <td>30.0</td>\n",
       "      <td>19.0</td>\n",
       "    </tr>\n",
       "    <tr>\n",
       "      <th>22938</th>\n",
       "      <td>14</td>\n",
       "      <td>4000000.0</td>\n",
       "      <td>98.0</td>\n",
       "      <td>2018-03-15T00:00:00</td>\n",
       "      <td>4</td>\n",
       "      <td>27.0</td>\n",
       "      <td>2</td>\n",
       "      <td>73.0</td>\n",
       "      <td>2</td>\n",
       "      <td>True</td>\n",
       "      <td>False</td>\n",
       "      <td>False</td>\n",
       "      <td>9.000000</td>\n",
       "      <td>1</td>\n",
       "      <td>деревня Нижняя</td>\n",
       "      <td>NaN</td>\n",
       "      <td>NaN</td>\n",
       "      <td>0</td>\n",
       "      <td>NaN</td>\n",
       "      <td>0</td>\n",
       "      <td>NaN</td>\n",
       "      <td>27.0</td>\n",
       "    </tr>\n",
       "  </tbody>\n",
       "</table>\n",
       "</div>"
      ],
      "text/plain": [
       "       total_images  last_price  total_area first_day_exposition  rooms  \\\n",
       "355              17   3600000.0        55.2  2018-07-12T00:00:00      2   \n",
       "3148             14   2900000.0        75.0  2018-11-12T00:00:00      3   \n",
       "4643              0   4300000.0        45.0  2018-02-01T00:00:00      2   \n",
       "4876              7   3000000.0        25.0  2017-09-27T00:00:00      0   \n",
       "5076              0   3850000.0        30.5  2018-10-03T00:00:00      1   \n",
       "5246              0   2500000.0        54.0  2017-10-13T00:00:00      2   \n",
       "5669              4   4400000.0        50.0  2017-08-08T00:00:00      2   \n",
       "5807             17   8150000.0        80.0  2019-01-09T00:00:00      2   \n",
       "6246              6   3300000.0        44.4  2019-03-25T00:00:00      2   \n",
       "9379              5   3950000.0        42.0  2017-03-26T00:00:00      3   \n",
       "10773             8   3800000.0        58.0  2017-10-13T00:00:00      2   \n",
       "11285             0   1950000.0        37.0  2019-03-20T00:00:00      1   \n",
       "14382             9   1700000.0        35.0  2015-12-04T00:00:00      1   \n",
       "15061            19   5600000.0        56.4  2018-05-11T00:00:00      2   \n",
       "17496            15   6700000.0        92.9  2019-02-19T00:00:00      3   \n",
       "17857             1   3900000.0        56.0  2017-12-22T00:00:00      3   \n",
       "18545             6   3750000.0        43.0  2019-03-18T00:00:00      2   \n",
       "20478            11   8000000.0        45.0  2017-07-18T00:00:00      1   \n",
       "20507            12   5950000.0        60.0  2018-02-19T00:00:00      2   \n",
       "21377            19   4900000.0        42.0  2017-04-18T00:00:00      1   \n",
       "21824            20   2450000.0        44.0  2019-02-12T00:00:00      2   \n",
       "22309            20   5300000.0        45.0  2017-09-30T00:00:00      1   \n",
       "22336            19   9999000.0        92.4  2019-04-05T00:00:00      2   \n",
       "22869             0  15000000.0        25.0  2018-07-25T00:00:00      1   \n",
       "22938            14   4000000.0        98.0  2018-03-15T00:00:00      4   \n",
       "\n",
       "       ceiling_height  floors_total  living_area  floor  is_apartment  studio  \\\n",
       "355              25.0             5         32.0      2         False   False   \n",
       "3148             32.0             3         53.0      2         False   False   \n",
       "4643             25.0             9         30.0      2         False   False   \n",
       "4876             27.0            25         17.0     17         False   False   \n",
       "5076             24.0             5         19.5      1          True   False   \n",
       "5246             27.0             5         30.0      3         False   False   \n",
       "5669             26.0             9         21.3      3         False   False   \n",
       "5807             27.0            36         41.0     13         False   False   \n",
       "6246             25.0             5         31.3      5         False   False   \n",
       "9379             25.0             5         30.0      2         False   False   \n",
       "10773            27.0            10         30.1      3         False   False   \n",
       "11285            25.0             5         17.0      4         False   False   \n",
       "14382            25.0             5         20.0      2         False   False   \n",
       "15061            14.0            14         32.4      5         False   False   \n",
       "17496            20.0            17         53.2     14         False   False   \n",
       "17857            27.0             5         33.0      4         False   False   \n",
       "18545            25.0             5         29.0      3         False   False   \n",
       "20478            27.0             4         22.0      2         False   False   \n",
       "20507            22.6            14         35.0     11         False   False   \n",
       "21377            27.5            24         37.7     19         False   False   \n",
       "21824            27.0             2         38.0      2         False   False   \n",
       "22309            10.3            16         15.5     15         False   False   \n",
       "22336            32.0             6         55.5      5         False   False   \n",
       "22869           100.0             5         14.0      5          True   False   \n",
       "22938            27.0             2         73.0      2          True   False   \n",
       "\n",
       "       open_plan  kitchen_area  balcony                    locality_name  \\\n",
       "355        False      9.517241        2                          Гатчина   \n",
       "3148       False      8.000000        0                           Волхов   \n",
       "4643       False      7.000000        1                  Санкт-Петербург   \n",
       "4876        True      4.310345        2                   поселок Мурино   \n",
       "5076       False      5.500000        0                  Санкт-Петербург   \n",
       "5246       False      9.000000        2                     деревня Мины   \n",
       "5669       False      7.000000        2                  Санкт-Петербург   \n",
       "5807       False     12.000000        5                  Санкт-Петербург   \n",
       "6246       False      5.700000        0                        Кронштадт   \n",
       "9379       False      5.200000        0                  Санкт-Петербург   \n",
       "10773      False      8.100000        2                   поселок Мурино   \n",
       "11285      False      9.000000        2                             Луга   \n",
       "14382      False      8.000000        1               поселок Новый Свет   \n",
       "15061      False      9.100000        2                  Санкт-Петербург   \n",
       "17496      False     12.000000        5                  Санкт-Петербург   \n",
       "17857      False      9.655172        0                  Санкт-Петербург   \n",
       "18545      False      7.413793        0                  Санкт-Петербург   \n",
       "20478      False     10.000000        1                  Санкт-Петербург   \n",
       "20507      False     13.000000        1                  Санкт-Петербург   \n",
       "21377      False     11.000000        2                  Санкт-Петербург   \n",
       "21824      False      8.600000        2  городской поселок Большая Ижора   \n",
       "22309      False      7.758621        0                  Санкт-Петербург   \n",
       "22336      False     16.500000        4                  Санкт-Петербург   \n",
       "22869      False     11.000000        5                  Санкт-Петербург   \n",
       "22938      False      9.000000        1                   деревня Нижняя   \n",
       "\n",
       "       airports_nearest  cityCenters_nearest  parks_around3000  parks_nearest  \\\n",
       "355                 NaN                  NaN                 0            NaN   \n",
       "3148                NaN                  NaN                 0            NaN   \n",
       "4643            12016.0              13256.0                 1          658.0   \n",
       "4876                NaN                  NaN                 0            NaN   \n",
       "5076            29686.0               8389.0                 3          397.0   \n",
       "5246                NaN                  NaN                 0            NaN   \n",
       "5669            28981.0              10912.0                 1          305.0   \n",
       "5807            18732.0              20444.0                 0            NaN   \n",
       "6246            68923.0              50649.0                 1          417.0   \n",
       "9379            11647.0              13581.0                 0            NaN   \n",
       "10773               NaN                  NaN                 0            NaN   \n",
       "11285               NaN                  NaN                 0            NaN   \n",
       "14382               NaN                  NaN                 0            NaN   \n",
       "15061           14814.0              13610.0                 0            NaN   \n",
       "17496           16295.0              15092.0                 1          967.0   \n",
       "17857           41030.0              15543.0                 0            NaN   \n",
       "18545           27054.0               8033.0                 1          540.0   \n",
       "20478           18975.0               3246.0                 0            NaN   \n",
       "20507           27028.0              12570.0                 0            NaN   \n",
       "21377           42742.0               9760.0                 0            NaN   \n",
       "21824               NaN                  NaN                 0            NaN   \n",
       "22309           36353.0              11936.0                 2          440.0   \n",
       "22336           18838.0               3506.0                 0            NaN   \n",
       "22869           34963.0               8283.0                 1          223.0   \n",
       "22938               NaN                  NaN                 0            NaN   \n",
       "\n",
       "       ponds_around3000  ponds_nearest  days_exposition  \n",
       "355                   0            NaN            259.0  \n",
       "3148                  0            NaN              NaN  \n",
       "4643                  1          331.0            181.0  \n",
       "4876                  0            NaN             28.0  \n",
       "5076                  1          578.0              7.0  \n",
       "5246                  0            NaN            540.0  \n",
       "5669                  0            NaN            267.0  \n",
       "5807                  3           80.0             38.0  \n",
       "6246                  2           73.0              NaN  \n",
       "9379                  0            NaN              NaN  \n",
       "10773                 0            NaN             71.0  \n",
       "11285                 0            NaN             18.0  \n",
       "14382                 0            NaN            206.0  \n",
       "15061                 0            NaN            315.0  \n",
       "17496                 0            NaN              NaN  \n",
       "17857                 0            NaN             73.0  \n",
       "18545                 0            NaN             12.0  \n",
       "20478                 3          449.0            429.0  \n",
       "20507                 0            NaN             40.0  \n",
       "21377                 0            NaN             61.0  \n",
       "21824                 0            NaN              NaN  \n",
       "22309                 2          450.0            136.0  \n",
       "22336                 3          511.0              NaN  \n",
       "22869                 3           30.0             19.0  \n",
       "22938                 0            NaN             27.0  "
      ]
     },
     "execution_count": 24,
     "metadata": {},
     "output_type": "execute_result"
    }
   ],
   "source": [
    "data.query('ceiling_height > 10')"
   ]
  },
  {
   "cell_type": "code",
   "execution_count": 25,
   "metadata": {},
   "outputs": [
    {
     "data": {
      "text/plain": [
       "count    23699.000000\n",
       "mean         2.724358\n",
       "std          0.988298\n",
       "min          1.000000\n",
       "25%          2.600000\n",
       "50%          2.650000\n",
       "75%          2.700000\n",
       "max        100.000000\n",
       "Name: ceiling_height, dtype: float64"
      ]
     },
     "execution_count": 25,
     "metadata": {},
     "output_type": "execute_result"
    }
   ],
   "source": [
    "data['ceiling_height'].describe()"
   ]
  },
  {
   "cell_type": "markdown",
   "metadata": {},
   "source": [
    "Значения больше 10 м разделим на 10, чтобы получить корректные значения высоты верхнего этажа"
   ]
  },
  {
   "cell_type": "code",
   "execution_count": 26,
   "metadata": {},
   "outputs": [],
   "source": [
    "data.loc[data['ceiling_height'] > 10, 'ceiling_height'] = data['ceiling_height'] / 10"
   ]
  },
  {
   "cell_type": "markdown",
   "metadata": {},
   "source": [
    "удалим те значения, которые в итоге получились меньше 1,5 м и больше 3 м"
   ]
  },
  {
   "cell_type": "code",
   "execution_count": 27,
   "metadata": {},
   "outputs": [],
   "source": [
    "data = data.query('ceiling_height > 1.5 and ceiling_height < 3')"
   ]
  },
  {
   "cell_type": "markdown",
   "metadata": {},
   "source": [
    "Проверим получившиеся значения для высоты потолков:"
   ]
  },
  {
   "cell_type": "code",
   "execution_count": 28,
   "metadata": {},
   "outputs": [
    {
     "data": {
      "text/plain": [
       "count    21076.000000\n",
       "mean         2.633928\n",
       "std          0.088946\n",
       "min          1.750000\n",
       "25%          2.600000\n",
       "50%          2.650000\n",
       "75%          2.650000\n",
       "max          2.990000\n",
       "Name: ceiling_height, dtype: float64"
      ]
     },
     "execution_count": 28,
     "metadata": {},
     "output_type": "execute_result"
    }
   ],
   "source": [
    "data['ceiling_height'].describe()"
   ]
  },
  {
   "cell_type": "code",
   "execution_count": 29,
   "metadata": {},
   "outputs": [
    {
     "data": {
      "text/plain": [
       "<AxesSubplot:>"
      ]
     },
     "execution_count": 29,
     "metadata": {},
     "output_type": "execute_result"
    },
    {
     "data": {
      "image/png": "[encoded data removed]",
      "text/plain": [
       "<Figure size 432x288 with 1 Axes>"
      ]
     },
     "metadata": {
      "needs_background": "light"
     },
     "output_type": "display_data"
    }
   ],
   "source": [
    "data.boxplot(column='ceiling_height')"
   ]
  },
  {
   "cell_type": "markdown",
   "metadata": {},
   "source": [
    "Несмотря на то, что есть значения за усами графика, все таки встречаются квартиры с высотой потолков и меньше 1,8 и больше 2,8 м, так что считаю, что все в порядке, можно продолжать убирать аномалии в других столбцах.\n",
    "\n",
    "Проверим на примере жилой площади. Выведем описание значений для этого столбца:"
   ]
  },
  {
   "cell_type": "code",
   "execution_count": 30,
   "metadata": {
    "scrolled": true
   },
   "outputs": [
    {
     "data": {
      "text/plain": [
       "count    21076.000000\n",
       "mean        31.922294\n",
       "std         18.059455\n",
       "min          2.000000\n",
       "25%         18.400000\n",
       "50%         29.300000\n",
       "75%         40.000000\n",
       "max        409.700000\n",
       "Name: living_area, dtype: float64"
      ]
     },
     "execution_count": 30,
     "metadata": {},
     "output_type": "execute_result"
    }
   ],
   "source": [
    "data['living_area'].describe()"
   ]
  },
  {
   "cell_type": "markdown",
   "metadata": {},
   "source": [
    "Удалим выбросы для столбцов для стоимости квартиры, общей площади и количества комнат:"
   ]
  },
  {
   "cell_type": "code",
   "execution_count": 31,
   "metadata": {},
   "outputs": [],
   "source": [
    "for column in ['last_price', 'total_area', 'rooms']:\n",
    "    data = data[(data[column] >= data[column].quantile(0.01)) & (data[column] <= data[column].quantile(0.99))]"
   ]
  },
  {
   "cell_type": "markdown",
   "metadata": {},
   "source": [
    "Ещё раз выведем описание для жилой площади:"
   ]
  },
  {
   "cell_type": "code",
   "execution_count": 32,
   "metadata": {},
   "outputs": [
    {
     "data": {
      "text/plain": [
       "count    20048.000000\n",
       "mean        30.519320\n",
       "std         12.974935\n",
       "min          3.000000\n",
       "25%         18.500000\n",
       "50%         29.000000\n",
       "75%         39.100000\n",
       "max         99.700000\n",
       "Name: living_area, dtype: float64"
      ]
     },
     "execution_count": 32,
     "metadata": {},
     "output_type": "execute_result"
    }
   ],
   "source": [
    "data['living_area'].describe()"
   ]
  },
  {
   "cell_type": "markdown",
   "metadata": {},
   "source": [
    "**Аномальные значения удалились! Переходим к анализу данных!**"
   ]
  },
  {
   "cell_type": "markdown",
   "metadata": {},
   "source": [
    "### Посчитайте и добавьте в таблицу новые столбцы"
   ]
  },
  {
   "cell_type": "markdown",
   "metadata": {},
   "source": [
    "Посчитаем стоимость квадратного метра и добавим значения в таблицу"
   ]
  },
  {
   "cell_type": "code",
   "execution_count": 33,
   "metadata": {},
   "outputs": [],
   "source": [
    "data['cost_of_squere_meter'] = data['last_price'] / data['total_area']"
   ]
  },
  {
   "cell_type": "markdown",
   "metadata": {},
   "source": [
    "Преобразуем строковые значения даты"
   ]
  },
  {
   "cell_type": "code",
   "execution_count": 34,
   "metadata": {},
   "outputs": [],
   "source": [
    "data['first_day_exposition'] = pd.to_datetime(data['first_day_exposition'], format='%Y-%m-%dT%H:%M:%S')"
   ]
  },
  {
   "cell_type": "markdown",
   "metadata": {},
   "source": [
    "Добавим в таблицу день публикации объявления"
   ]
  },
  {
   "cell_type": "code",
   "execution_count": 35,
   "metadata": {},
   "outputs": [
    {
     "data": {
      "text/plain": [
       "0   2019-03-07\n",
       "1   2018-12-04\n",
       "2   2015-08-20\n",
       "5   2018-09-10\n",
       "6   2017-11-02\n",
       "Name: first_day_exposition, dtype: datetime64[ns]"
      ]
     },
     "execution_count": 35,
     "metadata": {},
     "output_type": "execute_result"
    }
   ],
   "source": [
    "data['first_day_exposition'].head()"
   ]
  },
  {
   "cell_type": "code",
   "execution_count": 36,
   "metadata": {},
   "outputs": [],
   "source": [
    "data['weekday_exposition'] = data['first_day_exposition'].dt.weekday"
   ]
  },
  {
   "cell_type": "markdown",
   "metadata": {},
   "source": [
    "Добавим месяц публикации объявления"
   ]
  },
  {
   "cell_type": "code",
   "execution_count": 37,
   "metadata": {},
   "outputs": [],
   "source": [
    "data['month_exposition'] = data['first_day_exposition'].dt.month"
   ]
  },
  {
   "cell_type": "markdown",
   "metadata": {},
   "source": [
    "Добавим год публикации объявления"
   ]
  },
  {
   "cell_type": "code",
   "execution_count": 38,
   "metadata": {},
   "outputs": [],
   "source": [
    "data['year_exposition'] = data['first_day_exposition'].dt.year"
   ]
  },
  {
   "cell_type": "markdown",
   "metadata": {},
   "source": [
    "Добавим столбец с типом этажа квартиры. Для этого создадим функцию категоризации и применим её к нашему датафрейму"
   ]
  },
  {
   "cell_type": "code",
   "execution_count": 39,
   "metadata": {},
   "outputs": [],
   "source": [
    "def type_of_floor(row):\n",
    "\n",
    "    floor = row['floor']\n",
    "    floors_total = row['floors_total']\n",
    "    if floor == 1:\n",
    "        return 'первый'\n",
    "    if floor == floors_total:\n",
    "        return 'последний'\n",
    "    return 'другой'\n"
   ]
  },
  {
   "cell_type": "code",
   "execution_count": 40,
   "metadata": {},
   "outputs": [],
   "source": [
    "data['type_of_floor'] = data.apply(type_of_floor, axis=1)"
   ]
  },
  {
   "cell_type": "markdown",
   "metadata": {},
   "source": [
    "посчитаем и добавим в таблицу: расстояние в км до центра города"
   ]
  },
  {
   "cell_type": "code",
   "execution_count": 41,
   "metadata": {},
   "outputs": [],
   "source": [
    "data['city_centers_nearest_km'] = (data['cityCenters_nearest']/1000).round(0)"
   ]
  },
  {
   "cell_type": "code",
   "execution_count": 42,
   "metadata": {},
   "outputs": [
    {
     "data": {
      "text/html": [
       "<div>\n",
       "<style scoped>\n",
       "    .dataframe tbody tr th:only-of-type {\n",
       "        vertical-align: middle;\n",
       "    }\n",
       "\n",
       "    .dataframe tbody tr th {\n",
       "        vertical-align: top;\n",
       "    }\n",
       "\n",
       "    .dataframe thead th {\n",
       "        text-align: right;\n",
       "    }\n",
       "</style>\n",
       "<table border=\"1\" class=\"dataframe\">\n",
       "  <thead>\n",
       "    <tr style=\"text-align: right;\">\n",
       "      <th></th>\n",
       "      <th>total_images</th>\n",
       "      <th>last_price</th>\n",
       "      <th>total_area</th>\n",
       "      <th>first_day_exposition</th>\n",
       "      <th>rooms</th>\n",
       "      <th>ceiling_height</th>\n",
       "      <th>floors_total</th>\n",
       "      <th>living_area</th>\n",
       "      <th>floor</th>\n",
       "      <th>is_apartment</th>\n",
       "      <th>studio</th>\n",
       "      <th>open_plan</th>\n",
       "      <th>kitchen_area</th>\n",
       "      <th>balcony</th>\n",
       "      <th>locality_name</th>\n",
       "      <th>airports_nearest</th>\n",
       "      <th>cityCenters_nearest</th>\n",
       "      <th>parks_around3000</th>\n",
       "      <th>parks_nearest</th>\n",
       "      <th>ponds_around3000</th>\n",
       "      <th>ponds_nearest</th>\n",
       "      <th>days_exposition</th>\n",
       "      <th>cost_of_squere_meter</th>\n",
       "      <th>weekday_exposition</th>\n",
       "      <th>month_exposition</th>\n",
       "      <th>year_exposition</th>\n",
       "      <th>type_of_floor</th>\n",
       "      <th>city_centers_nearest_km</th>\n",
       "    </tr>\n",
       "  </thead>\n",
       "  <tbody>\n",
       "    <tr>\n",
       "      <th>0</th>\n",
       "      <td>20</td>\n",
       "      <td>13000000.0</td>\n",
       "      <td>108.0</td>\n",
       "      <td>2019-03-07</td>\n",
       "      <td>3</td>\n",
       "      <td>2.70</td>\n",
       "      <td>16</td>\n",
       "      <td>51.0</td>\n",
       "      <td>8</td>\n",
       "      <td>False</td>\n",
       "      <td>False</td>\n",
       "      <td>False</td>\n",
       "      <td>25.0</td>\n",
       "      <td>0</td>\n",
       "      <td>Санкт-Петербург</td>\n",
       "      <td>18863.0</td>\n",
       "      <td>16028.0</td>\n",
       "      <td>1</td>\n",
       "      <td>482.0</td>\n",
       "      <td>2</td>\n",
       "      <td>755.0</td>\n",
       "      <td>NaN</td>\n",
       "      <td>120370.370370</td>\n",
       "      <td>3</td>\n",
       "      <td>3</td>\n",
       "      <td>2019</td>\n",
       "      <td>другой</td>\n",
       "      <td>16.0</td>\n",
       "    </tr>\n",
       "    <tr>\n",
       "      <th>1</th>\n",
       "      <td>7</td>\n",
       "      <td>3350000.0</td>\n",
       "      <td>40.4</td>\n",
       "      <td>2018-12-04</td>\n",
       "      <td>1</td>\n",
       "      <td>2.65</td>\n",
       "      <td>11</td>\n",
       "      <td>18.6</td>\n",
       "      <td>1</td>\n",
       "      <td>False</td>\n",
       "      <td>False</td>\n",
       "      <td>False</td>\n",
       "      <td>11.0</td>\n",
       "      <td>2</td>\n",
       "      <td>поселок Шушары</td>\n",
       "      <td>12817.0</td>\n",
       "      <td>18603.0</td>\n",
       "      <td>0</td>\n",
       "      <td>NaN</td>\n",
       "      <td>0</td>\n",
       "      <td>NaN</td>\n",
       "      <td>81.0</td>\n",
       "      <td>82920.792079</td>\n",
       "      <td>1</td>\n",
       "      <td>12</td>\n",
       "      <td>2018</td>\n",
       "      <td>первый</td>\n",
       "      <td>19.0</td>\n",
       "    </tr>\n",
       "    <tr>\n",
       "      <th>2</th>\n",
       "      <td>10</td>\n",
       "      <td>5196000.0</td>\n",
       "      <td>56.0</td>\n",
       "      <td>2015-08-20</td>\n",
       "      <td>2</td>\n",
       "      <td>2.65</td>\n",
       "      <td>5</td>\n",
       "      <td>34.3</td>\n",
       "      <td>4</td>\n",
       "      <td>False</td>\n",
       "      <td>False</td>\n",
       "      <td>False</td>\n",
       "      <td>8.3</td>\n",
       "      <td>0</td>\n",
       "      <td>Санкт-Петербург</td>\n",
       "      <td>21741.0</td>\n",
       "      <td>13933.0</td>\n",
       "      <td>1</td>\n",
       "      <td>90.0</td>\n",
       "      <td>2</td>\n",
       "      <td>574.0</td>\n",
       "      <td>558.0</td>\n",
       "      <td>92785.714286</td>\n",
       "      <td>3</td>\n",
       "      <td>8</td>\n",
       "      <td>2015</td>\n",
       "      <td>другой</td>\n",
       "      <td>14.0</td>\n",
       "    </tr>\n",
       "    <tr>\n",
       "      <th>5</th>\n",
       "      <td>10</td>\n",
       "      <td>2890000.0</td>\n",
       "      <td>30.4</td>\n",
       "      <td>2018-09-10</td>\n",
       "      <td>1</td>\n",
       "      <td>2.65</td>\n",
       "      <td>12</td>\n",
       "      <td>14.4</td>\n",
       "      <td>5</td>\n",
       "      <td>False</td>\n",
       "      <td>False</td>\n",
       "      <td>False</td>\n",
       "      <td>9.1</td>\n",
       "      <td>0</td>\n",
       "      <td>городской поселок Янино-1</td>\n",
       "      <td>NaN</td>\n",
       "      <td>NaN</td>\n",
       "      <td>0</td>\n",
       "      <td>NaN</td>\n",
       "      <td>0</td>\n",
       "      <td>NaN</td>\n",
       "      <td>55.0</td>\n",
       "      <td>95065.789474</td>\n",
       "      <td>0</td>\n",
       "      <td>9</td>\n",
       "      <td>2018</td>\n",
       "      <td>другой</td>\n",
       "      <td>NaN</td>\n",
       "    </tr>\n",
       "    <tr>\n",
       "      <th>6</th>\n",
       "      <td>6</td>\n",
       "      <td>3700000.0</td>\n",
       "      <td>37.3</td>\n",
       "      <td>2017-11-02</td>\n",
       "      <td>1</td>\n",
       "      <td>2.65</td>\n",
       "      <td>26</td>\n",
       "      <td>10.6</td>\n",
       "      <td>6</td>\n",
       "      <td>False</td>\n",
       "      <td>False</td>\n",
       "      <td>False</td>\n",
       "      <td>14.4</td>\n",
       "      <td>1</td>\n",
       "      <td>поселок Парголово</td>\n",
       "      <td>52996.0</td>\n",
       "      <td>19143.0</td>\n",
       "      <td>0</td>\n",
       "      <td>NaN</td>\n",
       "      <td>0</td>\n",
       "      <td>NaN</td>\n",
       "      <td>155.0</td>\n",
       "      <td>99195.710456</td>\n",
       "      <td>3</td>\n",
       "      <td>11</td>\n",
       "      <td>2017</td>\n",
       "      <td>другой</td>\n",
       "      <td>19.0</td>\n",
       "    </tr>\n",
       "  </tbody>\n",
       "</table>\n",
       "</div>"
      ],
      "text/plain": [
       "   total_images  last_price  total_area first_day_exposition  rooms  \\\n",
       "0            20  13000000.0       108.0           2019-03-07      3   \n",
       "1             7   3350000.0        40.4           2018-12-04      1   \n",
       "2            10   5196000.0        56.0           2015-08-20      2   \n",
       "5            10   2890000.0        30.4           2018-09-10      1   \n",
       "6             6   3700000.0        37.3           2017-11-02      1   \n",
       "\n",
       "   ceiling_height  floors_total  living_area  floor  is_apartment  studio  \\\n",
       "0            2.70            16         51.0      8         False   False   \n",
       "1            2.65            11         18.6      1         False   False   \n",
       "2            2.65             5         34.3      4         False   False   \n",
       "5            2.65            12         14.4      5         False   False   \n",
       "6            2.65            26         10.6      6         False   False   \n",
       "\n",
       "   open_plan  kitchen_area  balcony              locality_name  \\\n",
       "0      False          25.0        0            Санкт-Петербург   \n",
       "1      False          11.0        2             поселок Шушары   \n",
       "2      False           8.3        0            Санкт-Петербург   \n",
       "5      False           9.1        0  городской поселок Янино-1   \n",
       "6      False          14.4        1          поселок Парголово   \n",
       "\n",
       "   airports_nearest  cityCenters_nearest  parks_around3000  parks_nearest  \\\n",
       "0           18863.0              16028.0                 1          482.0   \n",
       "1           12817.0              18603.0                 0            NaN   \n",
       "2           21741.0              13933.0                 1           90.0   \n",
       "5               NaN                  NaN                 0            NaN   \n",
       "6           52996.0              19143.0                 0            NaN   \n",
       "\n",
       "   ponds_around3000  ponds_nearest  days_exposition  cost_of_squere_meter  \\\n",
       "0                 2          755.0              NaN         120370.370370   \n",
       "1                 0            NaN             81.0          82920.792079   \n",
       "2                 2          574.0            558.0          92785.714286   \n",
       "5                 0            NaN             55.0          95065.789474   \n",
       "6                 0            NaN            155.0          99195.710456   \n",
       "\n",
       "   weekday_exposition  month_exposition  year_exposition type_of_floor  \\\n",
       "0                   3                 3             2019        другой   \n",
       "1                   1                12             2018        первый   \n",
       "2                   3                 8             2015        другой   \n",
       "5                   0                 9             2018        другой   \n",
       "6                   3                11             2017        другой   \n",
       "\n",
       "   city_centers_nearest_km  \n",
       "0                     16.0  \n",
       "1                     19.0  \n",
       "2                     14.0  \n",
       "5                      NaN  \n",
       "6                     19.0  "
      ]
     },
     "execution_count": 42,
     "metadata": {},
     "output_type": "execute_result"
    }
   ],
   "source": [
    "data.head()"
   ]
  },
  {
   "cell_type": "markdown",
   "metadata": {},
   "source": [
    "### Проведите исследовательский анализ данных"
   ]
  },
  {
   "cell_type": "markdown",
   "metadata": {},
   "source": [
    "Построим диаграммы для каждого параметра"
   ]
  },
  {
   "cell_type": "code",
   "execution_count": 43,
   "metadata": {},
   "outputs": [
    {
     "data": {
      "image/png": "[encoded data removed]",
      "text/plain": [
       "<Figure size 1080x1440 with 25 Axes>"
      ]
     },
     "metadata": {
      "needs_background": "light"
     },
     "output_type": "display_data"
    }
   ],
   "source": [
    "data.hist(figsize=(15, 20));"
   ]
  },
  {
   "cell_type": "markdown",
   "metadata": {},
   "source": [
    "Построим отдельные гистограммы для каждого столбца\n",
    "  - общая площадь;\n",
    "  - жилая площадь;\n",
    "  - площадь кухни;\n",
    "  - цена объекта;\n",
    "  - количество комнат;\n",
    "  - высота потолков;\n",
    "  - этаж квартиры;\n",
    "  - тип этажа квартиры («первый», «последний», «другой»);\n",
    "  - общее количество этажей в доме;\n",
    "  - расстояние до центра города в метрах;\n",
    "  - расстояние до ближайшего аэропорта;\n",
    "  - расстояние до ближайшего парка;\n",
    "  - день и месяц публикации объявления"
   ]
  },
  {
   "cell_type": "code",
   "execution_count": 44,
   "metadata": {},
   "outputs": [
    {
     "data": {
      "image/png": "[encoded data removed]",
      "text/plain": [
       "<Figure size 360x360 with 1 Axes>"
      ]
     },
     "metadata": {
      "needs_background": "light"
     },
     "output_type": "display_data"
    }
   ],
   "source": [
    "# общая площадь\n",
    "data['total_area'].hist(figsize=(5, 5), bins=15);"
   ]
  },
  {
   "cell_type": "markdown",
   "metadata": {},
   "source": [
    "*Распределение площадей квартир похоже на распределение Пуассона с пиком в 40-50 кв. м. Квартиры больше 80 кв.м уже гораздо меньше.*"
   ]
  },
  {
   "cell_type": "code",
   "execution_count": 45,
   "metadata": {},
   "outputs": [
    {
     "data": {
      "image/png": "[encoded data removed]",
      "text/plain": [
       "<Figure size 360x360 with 1 Axes>"
      ]
     },
     "metadata": {
      "needs_background": "light"
     },
     "output_type": "display_data"
    }
   ],
   "source": [
    "# жилая площадь\n",
    "data['living_area'].hist(figsize=(5, 5), bins=15);"
   ]
  },
  {
   "cell_type": "markdown",
   "metadata": {},
   "source": [
    "*Распределение жилой площади квартир по форме дублирует значения общей площади квартиры - не удивительно, чем больше сама квартира, тем, скорее всего, и больше жилая площадь. Предполагаю, что и площадь кухни будет аналогична.*"
   ]
  },
  {
   "cell_type": "code",
   "execution_count": 46,
   "metadata": {},
   "outputs": [
    {
     "data": {
      "image/png": "[encoded data removed]",
      "text/plain": [
       "<Figure size 360x360 with 1 Axes>"
      ]
     },
     "metadata": {
      "needs_background": "light"
     },
     "output_type": "display_data"
    }
   ],
   "source": [
    "# площадь кухни\n",
    "data['kitchen_area'].hist(figsize=(5, 5), bins=15);"
   ]
  },
  {
   "cell_type": "markdown",
   "metadata": {},
   "source": [
    "*Все таки гистограмма площади кухни немного отличается от общей и жилой площади. Логично, ведь не обязательно увеличивать площадь кухни пропорционально общей площади квартиры и делать из неё \"столовую\"*"
   ]
  },
  {
   "cell_type": "code",
   "execution_count": 47,
   "metadata": {},
   "outputs": [
    {
     "data": {
      "image/png": "[encoded data removed]",
      "text/plain": [
       "<Figure size 360x360 with 1 Axes>"
      ]
     },
     "metadata": {
      "needs_background": "light"
     },
     "output_type": "display_data"
    }
   ],
   "source": [
    "# цена квартиры\n",
    "data['last_price'].hist(figsize=(5, 5), bins=70);"
   ]
  },
  {
   "cell_type": "markdown",
   "metadata": {},
   "source": [
    "*Стоимость квартир также похоже на распределение Пуассона с пиком  стоимости 4 млн руб.\n",
    "Квартиры дороже 10 млн.  рубл.встречаются гораздо меньше.*"
   ]
  },
  {
   "cell_type": "code",
   "execution_count": 48,
   "metadata": {},
   "outputs": [
    {
     "data": {
      "image/png": "[encoded data removed]",
      "text/plain": [
       "<Figure size 360x360 with 1 Axes>"
      ]
     },
     "metadata": {
      "needs_background": "light"
     },
     "output_type": "display_data"
    }
   ],
   "source": [
    "# количество комнат;\n",
    "data['rooms'].hist(figsize=(5, 5));"
   ]
  },
  {
   "cell_type": "markdown",
   "metadata": {},
   "source": [
    "*больше всего на рынке - однушек, чуть меньше 2-шек. квартир с 4мя комнатами уже гораздо меньше, чем остальных.*"
   ]
  },
  {
   "cell_type": "code",
   "execution_count": 49,
   "metadata": {},
   "outputs": [
    {
     "data": {
      "image/png": "[encoded data removed]",
      "text/plain": [
       "<Figure size 360x360 with 1 Axes>"
      ]
     },
     "metadata": {
      "needs_background": "light"
     },
     "output_type": "display_data"
    }
   ],
   "source": [
    "# высота потолков;\n",
    "data['ceiling_height'].hist(figsize=(5, 5), bins=20);"
   ]
  },
  {
   "cell_type": "markdown",
   "metadata": {},
   "source": [
    "*квартир с высотой потолков от 2,5 до 2,8 в районе Санкт-Петербурга больше всего. Питер - город широких парадных и высоких потолков )*"
   ]
  },
  {
   "cell_type": "code",
   "execution_count": 50,
   "metadata": {},
   "outputs": [
    {
     "data": {
      "image/png": "[encoded data removed]",
      "text/plain": [
       "<Figure size 360x360 with 1 Axes>"
      ]
     },
     "metadata": {
      "needs_background": "light"
     },
     "output_type": "display_data"
    }
   ],
   "source": [
    "# этаж квартиры;\n",
    "data['floor'].hist(figsize=(5, 5), bins=30);"
   ]
  },
  {
   "cell_type": "markdown",
   "metadata": {},
   "source": [
    "*больше всего квартир продают до 5ого этажа - много домов с высотностью в 5 этажей. Дальше идет \"провал\". Следующий резкий спад - на 9 этажах - тоже связано с типовыми домами в 9 этажей.*"
   ]
  },
  {
   "cell_type": "code",
   "execution_count": 51,
   "metadata": {},
   "outputs": [
    {
     "data": {
      "image/png": "[encoded data removed]",
      "text/plain": [
       "<Figure size 360x360 with 1 Axes>"
      ]
     },
     "metadata": {
      "needs_background": "light"
     },
     "output_type": "display_data"
    }
   ],
   "source": [
    "# тип этажа квартиры («первый», «последний», «другой»);\n",
    "data['type_of_floor'].hist(figsize=(5, 5));"
   ]
  },
  {
   "cell_type": "markdown",
   "metadata": {},
   "source": [
    "*Видим, что первых и последних этажей почти одинаковое количество на рынке, а других (промежуточных) гораздо больше, что соответствует здравой логике*"
   ]
  },
  {
   "cell_type": "code",
   "execution_count": 52,
   "metadata": {},
   "outputs": [
    {
     "data": {
      "image/png": "[encoded data removed]",
      "text/plain": [
       "<Figure size 360x360 with 1 Axes>"
      ]
     },
     "metadata": {
      "needs_background": "light"
     },
     "output_type": "display_data"
    }
   ],
   "source": [
    "# общее количество этажей в доме;\n",
    "data['floors_total'].hist(figsize=(5, 5), bins=25);"
   ]
  },
  {
   "cell_type": "markdown",
   "metadata": {},
   "source": [
    "*видим пики на 5, 9 и 15 этажах - стандартные высоты домов. Коррелирует с гистограммой этажа квартир*"
   ]
  },
  {
   "cell_type": "code",
   "execution_count": 53,
   "metadata": {},
   "outputs": [
    {
     "data": {
      "image/png": "[encoded data removed]",
      "text/plain": [
       "<Figure size 360x360 with 1 Axes>"
      ]
     },
     "metadata": {
      "needs_background": "light"
     },
     "output_type": "display_data"
    }
   ],
   "source": [
    "# расстояние до центра города в метрах;\n",
    "data['cityCenters_nearest'].hist(figsize=(5, 5), bins=50);"
   ]
  },
  {
   "cell_type": "markdown",
   "metadata": {},
   "source": [
    "*самый большой пик - от 10 до 20 км от центра - самая плотная застройка жилых домов в СПб*"
   ]
  },
  {
   "cell_type": "code",
   "execution_count": 54,
   "metadata": {},
   "outputs": [
    {
     "data": {
      "image/png": "[encoded data removed]",
      "text/plain": [
       "<Figure size 360x360 with 1 Axes>"
      ]
     },
     "metadata": {
      "needs_background": "light"
     },
     "output_type": "display_data"
    }
   ],
   "source": [
    "# расстояние до ближайшего аэропорта;\n",
    "data['airports_nearest'].hist(figsize=(5, 5), bins=50);"
   ]
  },
  {
   "cell_type": "markdown",
   "metadata": {},
   "source": [
    "*рядом с аэропортом ожидаемо жилых построек нет. Все остальные квартиры располагаются от ~10 км ~55 км. С пиками, так, где по расстоянию находятся крупные населенные пункты.*"
   ]
  },
  {
   "cell_type": "code",
   "execution_count": 55,
   "metadata": {},
   "outputs": [
    {
     "data": {
      "image/png": "[encoded data removed]",
      "text/plain": [
       "<Figure size 360x360 with 1 Axes>"
      ]
     },
     "metadata": {
      "needs_background": "light"
     },
     "output_type": "display_data"
    }
   ],
   "source": [
    "# расстояние до ближайшего парка;\n",
    "data['parks_nearest'].hist(figsize=(5, 5), bins=50);"
   ]
  },
  {
   "cell_type": "markdown",
   "metadata": {},
   "source": [
    "*Парков в городах много - не так далеко от большинства представленных объявлений*"
   ]
  },
  {
   "cell_type": "code",
   "execution_count": 56,
   "metadata": {},
   "outputs": [
    {
     "data": {
      "image/png": "[encoded data removed]",
      "text/plain": [
       "<Figure size 360x360 with 1 Axes>"
      ]
     },
     "metadata": {
      "needs_background": "light"
     },
     "output_type": "display_data"
    }
   ],
   "source": [
    "# день публикации объявления\n",
    "data['weekday_exposition'].hist(figsize=(5, 5), bins=7);"
   ]
  },
  {
   "cell_type": "markdown",
   "metadata": {},
   "source": [
    "*в выходные дни объявления выставляют гораздо меньше, чем в будни - агенства по недвижимости работают не каждый день*"
   ]
  },
  {
   "cell_type": "code",
   "execution_count": 57,
   "metadata": {},
   "outputs": [
    {
     "data": {
      "image/png": "[encoded data removed]",
      "text/plain": [
       "<Figure size 360x360 with 1 Axes>"
      ]
     },
     "metadata": {
      "needs_background": "light"
     },
     "output_type": "display_data"
    }
   ],
   "source": [
    "# месяц публикации объявления\n",
    "data['month_exposition'].hist(figsize=(5, 5), bins=12);"
   ]
  },
  {
   "cell_type": "markdown",
   "metadata": {},
   "source": [
    "*в январе, как и во всей стране, продаж почти нет - все отходят от новогодних праздников. В мае июне начинается отпусной период, который, потихоньку, заканчивается в августе, что и сказывается на количестве публикаций объявлений*"
   ]
  },
  {
   "cell_type": "markdown",
   "metadata": {},
   "source": [
    "Первое, что попалось на глаза, видя из графиков - большие значения для средних величин. Видимо, это обусловлено заменой пустых значений на медианные для тех параметров, где этого лучше не делать.\n",
    "\n",
    "Большая часть распределений похожи на распределения Пуассона: Стоимость, площадь, этаж, время выставлени на продажу.\n",
    "\n",
    "График по количеству комнат получился не очень - попробуем его перестроить."
   ]
  },
  {
   "cell_type": "code",
   "execution_count": 58,
   "metadata": {},
   "outputs": [
    {
     "data": {
      "text/plain": [
       "<AxesSubplot:>"
      ]
     },
     "execution_count": 58,
     "metadata": {},
     "output_type": "execute_result"
    },
    {
     "data": {
      "image/png": "[encoded data removed]",
      "text/plain": [
       "<Figure size 432x288 with 1 Axes>"
      ]
     },
     "metadata": {
      "needs_background": "light"
     },
     "output_type": "display_data"
    }
   ],
   "source": [
    "#\n",
    "\n",
    "data['rooms'].hist(bins=5, range = (1, 5))"
   ]
  },
  {
   "cell_type": "markdown",
   "metadata": {},
   "source": [
    "Из этого гистограммы более понятно, что больше всего квартир на продажу с одной и двумя комнатами, а с 5 комнатами совсем немного."
   ]
  },
  {
   "cell_type": "markdown",
   "metadata": {},
   "source": [
    "#### Изучим столбец с типом этажа квартиры"
   ]
  },
  {
   "cell_type": "code",
   "execution_count": 59,
   "metadata": {},
   "outputs": [
    {
     "data": {
      "text/plain": [
       "другой       14936\n",
       "последний     2689\n",
       "первый        2423\n",
       "Name: type_of_floor, dtype: int64"
      ]
     },
     "execution_count": 59,
     "metadata": {},
     "output_type": "execute_result"
    }
   ],
   "source": [
    "data['type_of_floor'].value_counts()"
   ]
  },
  {
   "cell_type": "code",
   "execution_count": 60,
   "metadata": {},
   "outputs": [
    {
     "data": {
      "text/plain": [
       "count      20048\n",
       "unique         3\n",
       "top       другой\n",
       "freq       14936\n",
       "Name: type_of_floor, dtype: object"
      ]
     },
     "execution_count": 60,
     "metadata": {},
     "output_type": "execute_result"
    }
   ],
   "source": [
    "data['type_of_floor'].describe()"
   ]
  },
  {
   "cell_type": "code",
   "execution_count": 61,
   "metadata": {},
   "outputs": [
    {
     "data": {
      "text/plain": [
       "<AxesSubplot:>"
      ]
     },
     "execution_count": 61,
     "metadata": {},
     "output_type": "execute_result"
    },
    {
     "data": {
      "image/png": "[encoded data removed]",
      "text/plain": [
       "<Figure size 432x288 with 1 Axes>"
      ]
     },
     "metadata": {
      "needs_background": "light"
     },
     "output_type": "display_data"
    }
   ],
   "source": [
    "data['type_of_floor'].hist()"
   ]
  },
  {
   "cell_type": "markdown",
   "metadata": {},
   "source": [
    "Видим, что первых и последних этажей почти одинаковое количество, , а других (промежуточных) гораздо больше, что соответствует здравой логике"
   ]
  },
  {
   "cell_type": "markdown",
   "metadata": {},
   "source": [
    "#### Изучим, как быстро продавались квартиры (столбец days_exposition)"
   ]
  },
  {
   "cell_type": "markdown",
   "metadata": {},
   "source": [
    "Для начала построим гистограмму"
   ]
  },
  {
   "cell_type": "code",
   "execution_count": 62,
   "metadata": {},
   "outputs": [
    {
     "data": {
      "image/png": "[encoded data removed]",
      "text/plain": [
       "<Figure size 432x288 with 1 Axes>"
      ]
     },
     "metadata": {
      "needs_background": "light"
     },
     "output_type": "display_data"
    }
   ],
   "source": [
    "data['days_exposition'].hist(bins=100);"
   ]
  },
  {
   "cell_type": "markdown",
   "metadata": {},
   "source": [
    "Выведем значения для средних арифметических и медианных величин"
   ]
  },
  {
   "cell_type": "code",
   "execution_count": 63,
   "metadata": {},
   "outputs": [
    {
     "data": {
      "image/png": "[encoded data removed]",
      "text/plain": [
       "<Figure size 432x288 with 1 Axes>"
      ]
     },
     "metadata": {
      "needs_background": "light"
     },
     "output_type": "display_data"
    }
   ],
   "source": [
    "#построим гистограмму для значени меньше 100 дней\n",
    "data.loc[data['days_exposition'] < 100, 'days_exposition'].hist(bins=50);"
   ]
  },
  {
   "cell_type": "markdown",
   "metadata": {},
   "source": [
    "*На графике видим 2 значительных пика - на 45 день и на 60й. Возможно, это связано с тем, что бесплатное размещение объявлений допускается на 45 и на 60 дней на разных ресурсах? После чего объявление снималось с продажи и регистрировалось новое*"
   ]
  },
  {
   "cell_type": "code",
   "execution_count": 64,
   "metadata": {},
   "outputs": [
    {
     "data": {
      "text/plain": [
       "count    17629.000000\n",
       "mean       171.705599\n",
       "std        209.316360\n",
       "min          1.000000\n",
       "25%         43.000000\n",
       "50%         91.000000\n",
       "75%        217.000000\n",
       "max       1580.000000\n",
       "Name: days_exposition, dtype: float64"
      ]
     },
     "execution_count": 64,
     "metadata": {},
     "output_type": "execute_result"
    }
   ],
   "source": [
    "data['days_exposition'].describe()"
   ]
  },
  {
   "cell_type": "markdown",
   "metadata": {},
   "source": [
    "Можно сделать вывод, что быстрыми продажами квартиры можно считать те, которые продавались за несколько дней. Долгими - больше 200 дней, т.е. более 3х месяцев.\n",
    "\n",
    "Так, есть продажи, которые были осуществлены меньше недели после публикации, а есть и те, которые продавались больше года - такие продажи назовем экстремально долгими. Видимо, первый этаж, которые далеко от центра и парков, и рядом с аэропортами :)"
   ]
  },
  {
   "cell_type": "markdown",
   "metadata": {},
   "source": [
    "#### Теперь узнаем, какие факторы больше всего влияют на общую стоимость"
   ]
  },
  {
   "cell_type": "markdown",
   "metadata": {},
   "source": [
    "Посмотрим графики "
   ]
  },
  {
   "cell_type": "markdown",
   "metadata": {},
   "source": [
    "Постром графики, которые покажут зависимость цены от указанных ниже параметров.\n",
    "\n",
    "        - общей площади;\n",
    "        - жилой площади;\n",
    "        - площади кухни;\n",
    "        - количество комнат;\n",
    "        - типа этажа, на котором расположена квартира (первый, последний, другой);\n",
    "        - даты размещения (день недели, месяц, год);"
   ]
  },
  {
   "cell_type": "markdown",
   "metadata": {},
   "source": [
    "parameters = ['total_area', 'living_area', 'kitchen_area', 'rooms', 'type_of_floor', 'weekday_exposition', 'month_exposition', 'year_exposition']\n"
   ]
  },
  {
   "cell_type": "code",
   "execution_count": 65,
   "metadata": {},
   "outputs": [
    {
     "data": {
      "text/plain": [
       "Text(0, 0.5, 'Стоимость квартиры')"
      ]
     },
     "execution_count": 65,
     "metadata": {},
     "output_type": "execute_result"
    },
    {
     "data": {
      "image/png": "[encoded data removed]",
      "text/plain": [
       "<Figure size 432x288 with 1 Axes>"
      ]
     },
     "metadata": {
      "needs_background": "light"
     },
     "output_type": "display_data"
    }
   ],
   "source": [
    "data_pivot = data.pivot_table(index='total_area', values='last_price')\n",
    "\n",
    "plt.scatter(x=data_pivot.index, y=data_pivot['last_price'])\n",
    "plt.title('Распределение цены от общей площади')\n",
    "plt.xlabel('Площадь квартиры')\n",
    "plt.ylabel('Стоимость квартиры')"
   ]
  },
  {
   "cell_type": "code",
   "execution_count": 66,
   "metadata": {},
   "outputs": [
    {
     "data": {
      "text/plain": [
       "Text(0, 0.5, 'Стоимость квартиры')"
      ]
     },
     "execution_count": 66,
     "metadata": {},
     "output_type": "execute_result"
    },
    {
     "data": {
      "image/png": "[encoded data removed]",
      "text/plain": [
       "<Figure size 432x288 with 1 Axes>"
      ]
     },
     "metadata": {
      "needs_background": "light"
     },
     "output_type": "display_data"
    }
   ],
   "source": [
    "data_pivot = data.pivot_table(index='living_area', values='last_price')\n",
    "\n",
    "plt.scatter(x=data_pivot.index, y=data_pivot['last_price'])\n",
    "plt.title('Распределение цены от жилой площади')\n",
    "plt.xlabel('Площадь жилая')\n",
    "plt.ylabel('Стоимость квартиры')"
   ]
  },
  {
   "cell_type": "code",
   "execution_count": 67,
   "metadata": {},
   "outputs": [
    {
     "data": {
      "text/plain": [
       "Text(0, 0.5, 'Стоимость квартиры')"
      ]
     },
     "execution_count": 67,
     "metadata": {},
     "output_type": "execute_result"
    },
    {
     "data": {
      "image/png": "[encoded data removed]",
      "text/plain": [
       "<Figure size 432x288 with 1 Axes>"
      ]
     },
     "metadata": {
      "needs_background": "light"
     },
     "output_type": "display_data"
    }
   ],
   "source": [
    "data_pivot = data.pivot_table(index='kitchen_area', values='last_price')\n",
    "\n",
    "plt.scatter(x=data_pivot.index, y=data_pivot['last_price'])\n",
    "plt.title('Распределение цены от площади кухни')\n",
    "plt.xlabel('Площадь кухни')\n",
    "plt.ylabel('Стоимость квартиры')"
   ]
  },
  {
   "cell_type": "code",
   "execution_count": 68,
   "metadata": {},
   "outputs": [
    {
     "data": {
      "text/plain": [
       "Text(0, 0.5, 'Стоимость квартиры')"
      ]
     },
     "execution_count": 68,
     "metadata": {},
     "output_type": "execute_result"
    },
    {
     "data": {
      "image/png": "[encoded data removed]",
      "text/plain": [
       "<Figure size 432x288 with 1 Axes>"
      ]
     },
     "metadata": {
      "needs_background": "light"
     },
     "output_type": "display_data"
    }
   ],
   "source": [
    "data_pivot = data.pivot_table(index='rooms', values='last_price')\n",
    "\n",
    "plt.scatter(x=data_pivot.index, y=data_pivot['last_price'])\n",
    "plt.title('Распределение цены от количества комнат')\n",
    "plt.xlabel('количество комнат')\n",
    "plt.ylabel('Стоимость квартиры')"
   ]
  },
  {
   "cell_type": "code",
   "execution_count": 69,
   "metadata": {},
   "outputs": [
    {
     "data": {
      "text/plain": [
       "Text(0, 0.5, 'Стоимость квартиры')"
      ]
     },
     "execution_count": 69,
     "metadata": {},
     "output_type": "execute_result"
    },
    {
     "data": {
      "image/png": "[encoded data removed]",
      "text/plain": [
       "<Figure size 432x288 with 1 Axes>"
      ]
     },
     "metadata": {
      "needs_background": "light"
     },
     "output_type": "display_data"
    }
   ],
   "source": [
    "data_pivot = data.pivot_table(index='type_of_floor', values='last_price')\n",
    "\n",
    "plt.scatter(x=data_pivot.index, y=data_pivot['last_price'])\n",
    "plt.title('Распределение цены от этажа')\n",
    "plt.xlabel('Этаж')\n",
    "plt.ylabel('Стоимость квартиры')"
   ]
  },
  {
   "cell_type": "code",
   "execution_count": 70,
   "metadata": {},
   "outputs": [
    {
     "data": {
      "text/plain": [
       "Text(0, 0.5, 'Стоимость квартиры')"
      ]
     },
     "execution_count": 70,
     "metadata": {},
     "output_type": "execute_result"
    },
    {
     "data": {
      "image/png": "[encoded data removed]",
      "text/plain": [
       "<Figure size 432x288 with 1 Axes>"
      ]
     },
     "metadata": {
      "needs_background": "light"
     },
     "output_type": "display_data"
    }
   ],
   "source": [
    "data_pivot = data.pivot_table(index='weekday_exposition', values='last_price')\n",
    "\n",
    "plt.scatter(x=data_pivot.index, y=data_pivot['last_price'])\n",
    "plt.title('Распределение цены от дня недели')\n",
    "plt.xlabel('День недели')\n",
    "plt.ylabel('Стоимость квартиры')"
   ]
  },
  {
   "cell_type": "code",
   "execution_count": 71,
   "metadata": {},
   "outputs": [
    {
     "data": {
      "text/plain": [
       "Text(0, 0.5, 'Стоимость квартиры')"
      ]
     },
     "execution_count": 71,
     "metadata": {},
     "output_type": "execute_result"
    },
    {
     "data": {
      "image/png": "[encoded data removed]",
      "text/plain": [
       "<Figure size 432x288 with 1 Axes>"
      ]
     },
     "metadata": {
      "needs_background": "light"
     },
     "output_type": "display_data"
    }
   ],
   "source": [
    "data_pivot = data.pivot_table(index='month_exposition', values='last_price')\n",
    "\n",
    "plt.scatter(x=data_pivot.index, y=data_pivot['last_price'])\n",
    "plt.title('Распределение цены от месяца')\n",
    "plt.xlabel('Месяц')\n",
    "plt.ylabel('Стоимость квартиры')"
   ]
  },
  {
   "cell_type": "code",
   "execution_count": 72,
   "metadata": {},
   "outputs": [
    {
     "data": {
      "text/plain": [
       "Text(0, 0.5, 'Стоимость квартиры')"
      ]
     },
     "execution_count": 72,
     "metadata": {},
     "output_type": "execute_result"
    },
    {
     "data": {
      "image/png": "[encoded data removed]",
      "text/plain": [
       "<Figure size 432x288 with 1 Axes>"
      ]
     },
     "metadata": {
      "needs_background": "light"
     },
     "output_type": "display_data"
    }
   ],
   "source": [
    "data_pivot = data.pivot_table(index='year_exposition', values='last_price')\n",
    "\n",
    "plt.scatter(x=data_pivot.index, y=data_pivot['last_price'])\n",
    "plt.title('Распределение цены от года')\n",
    "plt.xlabel('Год')\n",
    "plt.ylabel('Стоимость квартиры')"
   ]
  },
  {
   "cell_type": "markdown",
   "metadata": {},
   "source": [
    "**Вывод: Стоимость квартиры зависит от исследуемых факторов следующим образом:**\n",
    "- чем больше общая и жилая площадь квартиры, тем цена больше\n",
    "- площадь кухни также влияет на стоимость квартиры, но для больших площадей кухни - больший разброс по стоимости, т.к. квартиры с большой площадью кухни могут быть в разном сегменте по статусу жилья.\n",
    "- чем больше комнат, тем дороже квартира. если больше 5, то квартиры такого сегмента относятся скорее всего к премиум классу - их стоимость существенно выше\n",
    "- Логично, что на первом этаже квартиры самые дешевые, на последнем - чуть дороже, но также существенно дешевле промежуточных этажей.\n",
    "- Видим, что когда в восресенье публикуются объявления, то такие квартиры самые дешевые. В эти дни, скорее всего, объявления публикуют частные лица, которым надо продать квартиры в срочном порядке - цена у таких квартир, соответственно, ниже\n",
    "- самые дешевые квартиры - в июне, когда покупательская способность у людей меньше, а деньги нужны больше (люди уезжают в отпуска)\n",
    "- спад стоимости квартир пришелся на 16-18е года, когда стоимость ипотеки существенно возросла, в эти годы выгодно было брать квартиры, но с определенными рисками, если брать в кредит"
   ]
  },
  {
   "cell_type": "markdown",
   "metadata": {},
   "source": [
    "#### Посчитайте среднюю цену одного квадратного метра в 10 населённых пунктах с наибольшим числом объявлений. Выделите населённые пункты с самой высокой и низкой стоимостью квадратного метра"
   ]
  },
  {
   "cell_type": "code",
   "execution_count": 73,
   "metadata": {},
   "outputs": [],
   "source": [
    "data_pivot = (\n",
    "    data.pivot_table(index='locality_name', values='cost_of_squere_meter', aggfunc=['count', 'mean'])\n",
    ")\n",
    "data_pivot.columns = ['cost_count', 'cost_mean']\n",
    "data_pivot = data_pivot.sort_values(by='cost_count', ascending=False).iloc[:10]\n"
   ]
  },
  {
   "cell_type": "code",
   "execution_count": 74,
   "metadata": {},
   "outputs": [
    {
     "data": {
      "text/html": [
       "<div>\n",
       "<style scoped>\n",
       "    .dataframe tbody tr th:only-of-type {\n",
       "        vertical-align: middle;\n",
       "    }\n",
       "\n",
       "    .dataframe tbody tr th {\n",
       "        vertical-align: top;\n",
       "    }\n",
       "\n",
       "    .dataframe thead th {\n",
       "        text-align: right;\n",
       "    }\n",
       "</style>\n",
       "<table border=\"1\" class=\"dataframe\">\n",
       "  <thead>\n",
       "    <tr style=\"text-align: right;\">\n",
       "      <th></th>\n",
       "      <th>cost_count</th>\n",
       "      <th>cost_mean</th>\n",
       "    </tr>\n",
       "    <tr>\n",
       "      <th>locality_name</th>\n",
       "      <th></th>\n",
       "      <th></th>\n",
       "    </tr>\n",
       "  </thead>\n",
       "  <tbody>\n",
       "    <tr>\n",
       "      <th>Санкт-Петербург</th>\n",
       "      <td>12806</td>\n",
       "      <td>107362.209681</td>\n",
       "    </tr>\n",
       "    <tr>\n",
       "      <th>поселок Мурино</th>\n",
       "      <td>506</td>\n",
       "      <td>84762.501607</td>\n",
       "    </tr>\n",
       "    <tr>\n",
       "      <th>поселок Шушары</th>\n",
       "      <td>429</td>\n",
       "      <td>78215.861967</td>\n",
       "    </tr>\n",
       "    <tr>\n",
       "      <th>Всеволожск</th>\n",
       "      <td>379</td>\n",
       "      <td>68367.909458</td>\n",
       "    </tr>\n",
       "    <tr>\n",
       "      <th>поселок Парголово</th>\n",
       "      <td>322</td>\n",
       "      <td>90448.423806</td>\n",
       "    </tr>\n",
       "    <tr>\n",
       "      <th>Колпино</th>\n",
       "      <td>317</td>\n",
       "      <td>75377.263013</td>\n",
       "    </tr>\n",
       "    <tr>\n",
       "      <th>Пушкин</th>\n",
       "      <td>317</td>\n",
       "      <td>101308.908318</td>\n",
       "    </tr>\n",
       "    <tr>\n",
       "      <th>Гатчина</th>\n",
       "      <td>285</td>\n",
       "      <td>68838.838196</td>\n",
       "    </tr>\n",
       "    <tr>\n",
       "      <th>деревня Кудрово</th>\n",
       "      <td>275</td>\n",
       "      <td>92226.972772</td>\n",
       "    </tr>\n",
       "    <tr>\n",
       "      <th>Выборг</th>\n",
       "      <td>205</td>\n",
       "      <td>57738.001825</td>\n",
       "    </tr>\n",
       "  </tbody>\n",
       "</table>\n",
       "</div>"
      ],
      "text/plain": [
       "                   cost_count      cost_mean\n",
       "locality_name                               \n",
       "Санкт-Петербург         12806  107362.209681\n",
       "поселок Мурино            506   84762.501607\n",
       "поселок Шушары            429   78215.861967\n",
       "Всеволожск                379   68367.909458\n",
       "поселок Парголово         322   90448.423806\n",
       "Колпино                   317   75377.263013\n",
       "Пушкин                    317  101308.908318\n",
       "Гатчина                   285   68838.838196\n",
       "деревня Кудрово           275   92226.972772\n",
       "Выборг                    205   57738.001825"
      ]
     },
     "execution_count": 74,
     "metadata": {},
     "output_type": "execute_result"
    }
   ],
   "source": [
    "data_pivot"
   ]
  },
  {
   "cell_type": "code",
   "execution_count": 75,
   "metadata": {},
   "outputs": [
    {
     "data": {
      "text/html": [
       "<div>\n",
       "<style scoped>\n",
       "    .dataframe tbody tr th:only-of-type {\n",
       "        vertical-align: middle;\n",
       "    }\n",
       "\n",
       "    .dataframe tbody tr th {\n",
       "        vertical-align: top;\n",
       "    }\n",
       "\n",
       "    .dataframe thead th {\n",
       "        text-align: right;\n",
       "    }\n",
       "</style>\n",
       "<table border=\"1\" class=\"dataframe\">\n",
       "  <thead>\n",
       "    <tr style=\"text-align: right;\">\n",
       "      <th></th>\n",
       "      <th>cost_count</th>\n",
       "      <th>cost_mean</th>\n",
       "    </tr>\n",
       "    <tr>\n",
       "      <th>locality_name</th>\n",
       "      <th></th>\n",
       "      <th></th>\n",
       "    </tr>\n",
       "  </thead>\n",
       "  <tbody>\n",
       "    <tr>\n",
       "      <th>Выборг</th>\n",
       "      <td>205</td>\n",
       "      <td>57738.001825</td>\n",
       "    </tr>\n",
       "  </tbody>\n",
       "</table>\n",
       "</div>"
      ],
      "text/plain": [
       "               cost_count     cost_mean\n",
       "locality_name                          \n",
       "Выборг                205  57738.001825"
      ]
     },
     "metadata": {},
     "output_type": "display_data"
    }
   ],
   "source": [
    "display(data_pivot.query('cost_mean == cost_mean.min()'))"
   ]
  },
  {
   "cell_type": "code",
   "execution_count": 76,
   "metadata": {},
   "outputs": [
    {
     "data": {
      "text/html": [
       "<div>\n",
       "<style scoped>\n",
       "    .dataframe tbody tr th:only-of-type {\n",
       "        vertical-align: middle;\n",
       "    }\n",
       "\n",
       "    .dataframe tbody tr th {\n",
       "        vertical-align: top;\n",
       "    }\n",
       "\n",
       "    .dataframe thead th {\n",
       "        text-align: right;\n",
       "    }\n",
       "</style>\n",
       "<table border=\"1\" class=\"dataframe\">\n",
       "  <thead>\n",
       "    <tr style=\"text-align: right;\">\n",
       "      <th></th>\n",
       "      <th>cost_count</th>\n",
       "      <th>cost_mean</th>\n",
       "    </tr>\n",
       "    <tr>\n",
       "      <th>locality_name</th>\n",
       "      <th></th>\n",
       "      <th></th>\n",
       "    </tr>\n",
       "  </thead>\n",
       "  <tbody>\n",
       "    <tr>\n",
       "      <th>Санкт-Петербург</th>\n",
       "      <td>12806</td>\n",
       "      <td>107362.209681</td>\n",
       "    </tr>\n",
       "  </tbody>\n",
       "</table>\n",
       "</div>"
      ],
      "text/plain": [
       "                 cost_count      cost_mean\n",
       "locality_name                             \n",
       "Санкт-Петербург       12806  107362.209681"
      ]
     },
     "metadata": {},
     "output_type": "display_data"
    }
   ],
   "source": [
    "display(data_pivot.query('cost_mean == cost_mean.max()'))"
   ]
  },
  {
   "cell_type": "markdown",
   "metadata": {},
   "source": [
    "**Самые дорогие квартиры - в культурной столице Санкт-Петербурга - это логично.\n",
    "А Выборг из 10тки лучших - со стоимостью квартир в 2 раза меньше, чем с Санкт-Петербурге. При переезде из Москвы в Северную Столицу надо будет учесть этот факт.**"
   ]
  },
  {
   "cell_type": "markdown",
   "metadata": {},
   "source": [
    "#### Ранее посчитали расстояние до центра в километрах. Теперь выделим квартиры в Санкт-Петербурге с помощью столбца `locality_name` и вычислим среднюю цену каждого километра."
   ]
  },
  {
   "cell_type": "code",
   "execution_count": 77,
   "metadata": {},
   "outputs": [
    {
     "data": {
      "text/plain": [
       "<AxesSubplot:xlabel='city_centers_nearest_km'>"
      ]
     },
     "execution_count": 77,
     "metadata": {},
     "output_type": "execute_result"
    },
    {
     "data": {
      "image/png": "[encoded data removed]",
      "text/plain": [
       "<Figure size 1080x1080 with 1 Axes>"
      ]
     },
     "metadata": {
      "needs_background": "light"
     },
     "output_type": "display_data"
    }
   ],
   "source": [
    "data.query('locality_name == \"Санкт-Петербург\"')\\\n",
    "    .pivot_table(index='city_centers_nearest_km', values='cost_of_squere_meter')\\\n",
    "    .plot(y = 'cost_of_squere_meter', figsize=(15,15), grid=True)"
   ]
  },
  {
   "cell_type": "markdown",
   "metadata": {},
   "source": [
    "***Ожидаемо, что чем дальше от центра города, тем меньше стоимость квадратного метра квартиры. Самые догорие те, которые находятся в пешей доступности от центра. Эти квартиры можно будет в последствие сдавать для туристов***"
   ]
  },
  {
   "cell_type": "markdown",
   "metadata": {},
   "source": [
    "### Общий вывод"
   ]
  },
  {
   "cell_type": "markdown",
   "metadata": {},
   "source": [
    "Для анализа рынка недвижимости (квартир) в Санкт-Петербурге и соседних населённых пунктов были получены данные сервиса Яндекс.Недвижимость - архив объявлений о продаже за несколько лет (заполнена в ручную и автоматически для географических значений).\n",
    "\n",
    "Данные были обработаны и исправлены: определены пропущенные значения и заполнены, где это представлялось возможным (наличие балконов, высота потолков); преобразованы типы данных для значений, где это было необходимо (количество балконов, парков в радиусе 3000 м и др.); исправлены данные, где, например, указаны неверные данные по высотам потолков); идалены неявные дубликаты населенных пунктов; удалены аномальные значения, которые не превышают 10% от всего датасета.\n",
    "Также к набору данных были расчитаны и добавлены столбцы со следующими значениями:\n",
    "- цена одного квадратного метра\n",
    "- день публикации объявления (0 - понедельник, 1 - вторник и т.д.)\n",
    "- месяц публикации объявления\n",
    "- год публикации объявления\n",
    "- тип этажа квартиры (значения — «первый», «последний», «другой»)\n",
    "- расстояние в км до центра города\n",
    "\n",
    "После этого был произведен анализ данных и стоимости квартир от различных параметров, построены гистограммы и сделаны следующие закономерности:\n",
    "Больше всего на рынке представлены квартиры в 5ти и 9ти этажных домах.\n",
    "\n",
    "Чем больше площадь квартиры (общая и/или жилая) - тем больше стоимость. Площадь кухни не так линейно влияет на стоимость квартиры, но определенная зависимость также прослеживается.\n",
    "Чем ближе квартира к центру - тем она дороже.\n",
    "Квартиры на первом этаже выставлены на продажу меньше всего, их стоимость также ниже, чем у квартир на верхнем этаже и существенно ниже, чем на средних этажах.\n",
    "\n",
    "Объявления реже всего выставлялись в выходные дни (скорее всего - частные продавцы по цене ниже, чем в другие дни).\n",
    "В начале года и в середине - период каникул и отпусков, цены также ниже на квартиры, чем в другие периоды года.\n",
    "\n",
    "В период с 2016 по 2018 гг, когда ипотечное кредитование было дорогим, цены на квартиры были гораздо ниже, чем до и после этого периода.\n"
   ]
  }
 ],
 "metadata": {
  "ExecuteTimeLog": [
   {
    "duration": 411,
    "start_time": "2022-10-16T12:50:36.734Z"
   },
   {
    "duration": 963,
    "start_time": "2022-10-16T12:50:56.634Z"
   },
   {
    "duration": 3,
    "start_time": "2022-10-16T12:50:58.661Z"
   },
   {
    "duration": 301,
    "start_time": "2022-10-16T12:51:05.771Z"
   },
   {
    "duration": 10,
    "start_time": "2022-10-16T12:54:32.489Z"
   },
   {
    "duration": 5,
    "start_time": "2022-10-16T12:55:11.597Z"
   },
   {
    "duration": 80,
    "start_time": "2022-10-16T12:55:14.891Z"
   },
   {
    "duration": 69,
    "start_time": "2022-10-16T12:55:29.575Z"
   },
   {
    "duration": 3,
    "start_time": "2022-10-16T12:55:35.892Z"
   },
   {
    "duration": 3,
    "start_time": "2022-10-16T12:55:37.403Z"
   },
   {
    "duration": 7,
    "start_time": "2022-10-16T12:55:40.106Z"
   },
   {
    "duration": 1278,
    "start_time": "2022-10-16T12:56:26.270Z"
   },
   {
    "duration": 3,
    "start_time": "2022-10-16T12:56:29.476Z"
   },
   {
    "duration": 4,
    "start_time": "2022-10-16T12:56:31.195Z"
   },
   {
    "duration": 82,
    "start_time": "2022-10-16T12:56:35.927Z"
   },
   {
    "duration": 9,
    "start_time": "2022-10-16T12:56:37.819Z"
   },
   {
    "duration": 13,
    "start_time": "2022-10-16T12:56:56.346Z"
   },
   {
    "duration": 7,
    "start_time": "2022-10-16T12:57:00.745Z"
   },
   {
    "duration": 114,
    "start_time": "2022-10-16T12:58:12.920Z"
   },
   {
    "duration": 88,
    "start_time": "2022-10-16T12:58:31.153Z"
   },
   {
    "duration": 3,
    "start_time": "2022-10-16T12:58:35.868Z"
   },
   {
    "duration": 84,
    "start_time": "2022-10-16T12:58:37.282Z"
   },
   {
    "duration": 25,
    "start_time": "2022-10-16T12:58:39.155Z"
   },
   {
    "duration": 26,
    "start_time": "2022-10-16T12:58:41.764Z"
   },
   {
    "duration": 1860,
    "start_time": "2022-10-16T12:58:50.716Z"
   },
   {
    "duration": 68,
    "start_time": "2022-10-16T12:59:57.993Z"
   },
   {
    "duration": 33,
    "start_time": "2022-10-16T13:00:04.067Z"
   },
   {
    "duration": 15,
    "start_time": "2022-10-16T13:00:56.911Z"
   },
   {
    "duration": 12,
    "start_time": "2022-10-16T13:03:46.569Z"
   },
   {
    "duration": 1467,
    "start_time": "2022-10-16T16:06:18.064Z"
   },
   {
    "duration": 129,
    "start_time": "2022-10-16T16:06:20.449Z"
   },
   {
    "duration": 35,
    "start_time": "2022-10-16T16:06:22.212Z"
   },
   {
    "duration": 42,
    "start_time": "2022-10-16T16:12:23.328Z"
   },
   {
    "duration": 75,
    "start_time": "2022-10-16T16:15:01.548Z"
   },
   {
    "duration": 3,
    "start_time": "2022-10-16T16:17:45.166Z"
   },
   {
    "duration": 7,
    "start_time": "2022-10-16T16:24:02.104Z"
   },
   {
    "duration": 10,
    "start_time": "2022-10-16T16:24:14.338Z"
   },
   {
    "duration": 3,
    "start_time": "2022-10-16T16:24:23.402Z"
   },
   {
    "duration": 87,
    "start_time": "2022-10-16T16:24:23.407Z"
   },
   {
    "duration": 33,
    "start_time": "2022-10-16T16:24:23.495Z"
   },
   {
    "duration": 26,
    "start_time": "2022-10-16T16:24:23.530Z"
   },
   {
    "duration": 2134,
    "start_time": "2022-10-16T16:24:23.559Z"
   },
   {
    "duration": 10,
    "start_time": "2022-10-16T16:24:25.694Z"
   },
   {
    "duration": 6,
    "start_time": "2022-10-16T16:24:25.706Z"
   },
   {
    "duration": 3,
    "start_time": "2022-10-16T16:24:48.266Z"
   },
   {
    "duration": 5,
    "start_time": "2022-10-16T16:24:52.541Z"
   },
   {
    "duration": 120,
    "start_time": "2022-10-16T16:25:01.337Z"
   },
   {
    "duration": 11,
    "start_time": "2022-10-16T16:25:25.099Z"
   },
   {
    "duration": 1233,
    "start_time": "2022-10-16T16:25:35.834Z"
   },
   {
    "duration": 94,
    "start_time": "2022-10-16T16:25:37.069Z"
   },
   {
    "duration": 36,
    "start_time": "2022-10-16T16:25:37.166Z"
   },
   {
    "duration": 16,
    "start_time": "2022-10-16T16:25:37.204Z"
   },
   {
    "duration": 2231,
    "start_time": "2022-10-16T16:25:37.222Z"
   },
   {
    "duration": 14,
    "start_time": "2022-10-16T16:25:39.455Z"
   },
   {
    "duration": 12,
    "start_time": "2022-10-16T16:25:39.471Z"
   },
   {
    "duration": 11,
    "start_time": "2022-10-16T16:25:39.485Z"
   },
   {
    "duration": 10,
    "start_time": "2022-10-16T16:25:39.498Z"
   },
   {
    "duration": 5,
    "start_time": "2022-10-16T16:28:05.228Z"
   },
   {
    "duration": 8,
    "start_time": "2022-10-16T16:28:15.171Z"
   },
   {
    "duration": 6,
    "start_time": "2022-10-16T16:28:20.572Z"
   },
   {
    "duration": 4,
    "start_time": "2022-10-16T16:28:36.905Z"
   },
   {
    "duration": 6,
    "start_time": "2022-10-16T16:28:39.774Z"
   },
   {
    "duration": 11,
    "start_time": "2022-10-16T16:28:42.128Z"
   },
   {
    "duration": 10,
    "start_time": "2022-10-16T16:31:08.472Z"
   },
   {
    "duration": 1255,
    "start_time": "2022-10-17T18:02:05.734Z"
   },
   {
    "duration": 120,
    "start_time": "2022-10-17T18:02:06.991Z"
   },
   {
    "duration": 41,
    "start_time": "2022-10-17T18:02:07.113Z"
   },
   {
    "duration": 15,
    "start_time": "2022-10-17T18:02:07.156Z"
   },
   {
    "duration": 1920,
    "start_time": "2022-10-17T18:02:07.173Z"
   },
   {
    "duration": 9,
    "start_time": "2022-10-17T18:02:09.095Z"
   },
   {
    "duration": 6,
    "start_time": "2022-10-17T18:02:09.105Z"
   },
   {
    "duration": 4,
    "start_time": "2022-10-17T18:02:09.133Z"
   },
   {
    "duration": 9,
    "start_time": "2022-10-17T18:02:12.482Z"
   },
   {
    "duration": 110,
    "start_time": "2022-10-17T18:09:09.562Z"
   },
   {
    "duration": 8,
    "start_time": "2022-10-17T18:10:35.548Z"
   },
   {
    "duration": 25,
    "start_time": "2022-10-17T18:11:03.968Z"
   },
   {
    "duration": 5,
    "start_time": "2022-10-17T18:12:43.500Z"
   },
   {
    "duration": 8,
    "start_time": "2022-10-17T18:13:12.232Z"
   },
   {
    "duration": 2,
    "start_time": "2022-10-17T18:13:22.453Z"
   },
   {
    "duration": 8,
    "start_time": "2022-10-17T18:13:25.249Z"
   },
   {
    "duration": 1087,
    "start_time": "2022-10-17T18:13:40.754Z"
   },
   {
    "duration": 77,
    "start_time": "2022-10-17T18:13:41.843Z"
   },
   {
    "duration": 32,
    "start_time": "2022-10-17T18:13:41.921Z"
   },
   {
    "duration": 14,
    "start_time": "2022-10-17T18:13:41.955Z"
   },
   {
    "duration": 1803,
    "start_time": "2022-10-17T18:13:41.970Z"
   },
   {
    "duration": 9,
    "start_time": "2022-10-17T18:13:43.774Z"
   },
   {
    "duration": 3,
    "start_time": "2022-10-17T18:13:43.784Z"
   },
   {
    "duration": 5,
    "start_time": "2022-10-17T18:13:43.789Z"
   },
   {
    "duration": 6,
    "start_time": "2022-10-17T18:13:43.796Z"
   },
   {
    "duration": 9,
    "start_time": "2022-10-17T18:13:45.040Z"
   },
   {
    "duration": 5,
    "start_time": "2022-10-17T18:13:51.816Z"
   },
   {
    "duration": 10,
    "start_time": "2022-10-17T18:13:54.085Z"
   },
   {
    "duration": 6,
    "start_time": "2022-10-17T18:16:13.943Z"
   },
   {
    "duration": 6,
    "start_time": "2022-10-17T18:23:56.396Z"
   },
   {
    "duration": 5,
    "start_time": "2022-10-17T18:24:26.143Z"
   },
   {
    "duration": 1157,
    "start_time": "2022-10-17T18:24:40.893Z"
   },
   {
    "duration": 79,
    "start_time": "2022-10-17T18:24:42.052Z"
   },
   {
    "duration": 34,
    "start_time": "2022-10-17T18:24:42.133Z"
   },
   {
    "duration": 15,
    "start_time": "2022-10-17T18:24:42.169Z"
   },
   {
    "duration": 1840,
    "start_time": "2022-10-17T18:24:42.185Z"
   },
   {
    "duration": 9,
    "start_time": "2022-10-17T18:24:44.027Z"
   },
   {
    "duration": 8,
    "start_time": "2022-10-17T18:24:44.037Z"
   },
   {
    "duration": 8,
    "start_time": "2022-10-17T18:24:44.046Z"
   },
   {
    "duration": 9,
    "start_time": "2022-10-17T18:24:44.055Z"
   },
   {
    "duration": 10,
    "start_time": "2022-10-17T18:24:44.066Z"
   },
   {
    "duration": 8,
    "start_time": "2022-10-17T18:24:44.077Z"
   },
   {
    "duration": 27,
    "start_time": "2022-10-17T18:26:25.257Z"
   },
   {
    "duration": 6,
    "start_time": "2022-10-17T18:27:13.486Z"
   },
   {
    "duration": 6,
    "start_time": "2022-10-17T18:27:30.341Z"
   },
   {
    "duration": 5,
    "start_time": "2022-10-17T18:27:44.977Z"
   },
   {
    "duration": 7,
    "start_time": "2022-10-17T18:28:31.057Z"
   },
   {
    "duration": 7,
    "start_time": "2022-10-17T18:28:56.582Z"
   },
   {
    "duration": 5,
    "start_time": "2022-10-17T18:29:18.155Z"
   },
   {
    "duration": 7,
    "start_time": "2022-10-17T18:29:53.583Z"
   },
   {
    "duration": 5,
    "start_time": "2022-10-17T18:29:58.366Z"
   },
   {
    "duration": 7,
    "start_time": "2022-10-17T18:30:03.128Z"
   },
   {
    "duration": 8,
    "start_time": "2022-10-17T18:30:27.790Z"
   },
   {
    "duration": 6,
    "start_time": "2022-10-17T18:30:40.620Z"
   },
   {
    "duration": 5,
    "start_time": "2022-10-17T18:30:48.409Z"
   },
   {
    "duration": 5,
    "start_time": "2022-10-17T18:31:02.456Z"
   },
   {
    "duration": 6,
    "start_time": "2022-10-17T18:31:15.025Z"
   },
   {
    "duration": 108,
    "start_time": "2022-10-17T18:32:26.037Z"
   },
   {
    "duration": 45,
    "start_time": "2022-10-17T18:32:36.530Z"
   },
   {
    "duration": 6,
    "start_time": "2022-10-17T18:32:41.519Z"
   },
   {
    "duration": 5,
    "start_time": "2022-10-17T18:33:18.433Z"
   },
   {
    "duration": 5,
    "start_time": "2022-10-17T18:33:21.131Z"
   },
   {
    "duration": 43,
    "start_time": "2022-10-17T18:34:54.824Z"
   },
   {
    "duration": 43,
    "start_time": "2022-10-17T18:35:04.258Z"
   },
   {
    "duration": 5,
    "start_time": "2022-10-17T18:35:32.435Z"
   },
   {
    "duration": 5,
    "start_time": "2022-10-17T18:36:39.277Z"
   },
   {
    "duration": 8,
    "start_time": "2022-10-17T18:36:45.625Z"
   },
   {
    "duration": 5,
    "start_time": "2022-10-17T18:37:09.399Z"
   },
   {
    "duration": 5,
    "start_time": "2022-10-17T18:37:28.237Z"
   },
   {
    "duration": 8,
    "start_time": "2022-10-17T18:37:31.021Z"
   },
   {
    "duration": 6,
    "start_time": "2022-10-17T18:37:53.655Z"
   },
   {
    "duration": 5,
    "start_time": "2022-10-17T18:38:04.005Z"
   },
   {
    "duration": 1153,
    "start_time": "2022-10-17T18:38:18.125Z"
   },
   {
    "duration": 78,
    "start_time": "2022-10-17T18:38:19.279Z"
   },
   {
    "duration": 30,
    "start_time": "2022-10-17T18:38:19.359Z"
   },
   {
    "duration": 22,
    "start_time": "2022-10-17T18:38:19.391Z"
   },
   {
    "duration": 1743,
    "start_time": "2022-10-17T18:38:19.414Z"
   },
   {
    "duration": 9,
    "start_time": "2022-10-17T18:38:21.158Z"
   },
   {
    "duration": 3,
    "start_time": "2022-10-17T18:38:21.168Z"
   },
   {
    "duration": 4,
    "start_time": "2022-10-17T18:38:21.173Z"
   },
   {
    "duration": 6,
    "start_time": "2022-10-17T18:38:21.178Z"
   },
   {
    "duration": 7,
    "start_time": "2022-10-17T18:38:21.186Z"
   },
   {
    "duration": 7,
    "start_time": "2022-10-17T18:38:21.194Z"
   },
   {
    "duration": 8,
    "start_time": "2022-10-17T18:38:36.183Z"
   },
   {
    "duration": 4,
    "start_time": "2022-10-17T18:39:04.584Z"
   },
   {
    "duration": 6,
    "start_time": "2022-10-17T18:39:46.672Z"
   },
   {
    "duration": 6,
    "start_time": "2022-10-17T18:39:53.790Z"
   },
   {
    "duration": 3,
    "start_time": "2022-10-17T18:40:09.237Z"
   },
   {
    "duration": 7,
    "start_time": "2022-10-17T18:40:24.024Z"
   },
   {
    "duration": 7,
    "start_time": "2022-10-17T18:40:39.702Z"
   },
   {
    "duration": 1235,
    "start_time": "2022-10-20T18:55:38.906Z"
   },
   {
    "duration": 118,
    "start_time": "2022-10-20T18:55:40.143Z"
   },
   {
    "duration": 32,
    "start_time": "2022-10-20T18:55:40.262Z"
   },
   {
    "duration": 26,
    "start_time": "2022-10-20T18:55:40.295Z"
   },
   {
    "duration": 1783,
    "start_time": "2022-10-20T18:55:40.324Z"
   },
   {
    "duration": 10,
    "start_time": "2022-10-20T18:55:42.109Z"
   },
   {
    "duration": 4,
    "start_time": "2022-10-20T18:55:42.120Z"
   },
   {
    "duration": 9,
    "start_time": "2022-10-20T18:55:42.125Z"
   },
   {
    "duration": 9,
    "start_time": "2022-10-20T18:55:42.136Z"
   },
   {
    "duration": 11,
    "start_time": "2022-10-20T18:55:42.147Z"
   },
   {
    "duration": 9,
    "start_time": "2022-10-20T18:55:42.159Z"
   },
   {
    "duration": 5,
    "start_time": "2022-10-20T18:55:50.755Z"
   },
   {
    "duration": 6,
    "start_time": "2022-10-20T18:55:55.432Z"
   },
   {
    "duration": 8,
    "start_time": "2022-10-20T18:56:12.080Z"
   },
   {
    "duration": 8,
    "start_time": "2022-10-20T18:56:26.677Z"
   },
   {
    "duration": 4,
    "start_time": "2022-10-20T18:56:37.635Z"
   },
   {
    "duration": 5,
    "start_time": "2022-10-20T18:56:47.668Z"
   },
   {
    "duration": 4,
    "start_time": "2022-10-20T18:57:24.246Z"
   },
   {
    "duration": 5,
    "start_time": "2022-10-20T18:57:31.767Z"
   },
   {
    "duration": 5,
    "start_time": "2022-10-20T18:57:34.972Z"
   },
   {
    "duration": 6,
    "start_time": "2022-10-20T18:58:41.763Z"
   },
   {
    "duration": 4,
    "start_time": "2022-10-20T18:58:50.609Z"
   },
   {
    "duration": 6,
    "start_time": "2022-10-20T18:59:18.887Z"
   },
   {
    "duration": 6,
    "start_time": "2022-10-20T18:59:55.212Z"
   },
   {
    "duration": 6,
    "start_time": "2022-10-20T19:00:36.053Z"
   },
   {
    "duration": 5,
    "start_time": "2022-10-20T19:00:40.654Z"
   },
   {
    "duration": 5,
    "start_time": "2022-10-20T19:01:00.525Z"
   },
   {
    "duration": 5,
    "start_time": "2022-10-20T19:01:03.091Z"
   },
   {
    "duration": 6,
    "start_time": "2022-10-20T19:03:12.524Z"
   },
   {
    "duration": 9,
    "start_time": "2022-10-20T19:03:15.562Z"
   },
   {
    "duration": 6,
    "start_time": "2022-10-20T21:02:40.529Z"
   },
   {
    "duration": 9,
    "start_time": "2022-10-20T21:02:43.868Z"
   },
   {
    "duration": 28,
    "start_time": "2022-10-20T21:05:49.958Z"
   },
   {
    "duration": 5,
    "start_time": "2022-10-20T21:09:15.048Z"
   },
   {
    "duration": 112,
    "start_time": "2022-10-20T21:09:24.199Z"
   },
   {
    "duration": 101,
    "start_time": "2022-10-20T21:13:03.020Z"
   },
   {
    "duration": 29,
    "start_time": "2022-10-20T21:13:37.456Z"
   },
   {
    "duration": 18,
    "start_time": "2022-10-20T21:16:35.603Z"
   },
   {
    "duration": 6,
    "start_time": "2022-10-20T21:16:44.534Z"
   },
   {
    "duration": 8,
    "start_time": "2022-10-20T21:16:47.431Z"
   },
   {
    "duration": 34,
    "start_time": "2022-10-20T21:16:50.509Z"
   },
   {
    "duration": 7,
    "start_time": "2022-10-20T21:17:22.663Z"
   },
   {
    "duration": 29,
    "start_time": "2022-10-20T21:17:25.780Z"
   },
   {
    "duration": 6,
    "start_time": "2022-10-20T21:21:49.490Z"
   },
   {
    "duration": 1184,
    "start_time": "2022-10-21T16:32:28.760Z"
   },
   {
    "duration": 304,
    "start_time": "2022-10-21T16:32:29.946Z"
   },
   {
    "duration": 30,
    "start_time": "2022-10-21T16:32:30.252Z"
   },
   {
    "duration": 14,
    "start_time": "2022-10-21T16:32:30.285Z"
   },
   {
    "duration": 1706,
    "start_time": "2022-10-21T16:32:30.301Z"
   },
   {
    "duration": 8,
    "start_time": "2022-10-21T16:32:32.009Z"
   },
   {
    "duration": 3,
    "start_time": "2022-10-21T16:32:32.018Z"
   },
   {
    "duration": 10,
    "start_time": "2022-10-21T16:32:32.022Z"
   },
   {
    "duration": 12,
    "start_time": "2022-10-21T16:32:32.033Z"
   },
   {
    "duration": 9,
    "start_time": "2022-10-21T16:32:32.048Z"
   },
   {
    "duration": 4,
    "start_time": "2022-10-21T16:32:32.059Z"
   },
   {
    "duration": 6,
    "start_time": "2022-10-21T16:32:32.065Z"
   },
   {
    "duration": 9,
    "start_time": "2022-10-21T16:32:32.072Z"
   },
   {
    "duration": 3,
    "start_time": "2022-10-21T16:32:32.083Z"
   },
   {
    "duration": 8,
    "start_time": "2022-10-21T16:32:32.106Z"
   },
   {
    "duration": 106,
    "start_time": "2022-10-21T16:32:32.115Z"
   },
   {
    "duration": 7,
    "start_time": "2022-10-21T16:32:32.223Z"
   },
   {
    "duration": 1266,
    "start_time": "2022-10-25T20:02:12.170Z"
   },
   {
    "duration": 152,
    "start_time": "2022-10-25T20:02:13.438Z"
   },
   {
    "duration": 36,
    "start_time": "2022-10-25T20:02:13.592Z"
   },
   {
    "duration": 16,
    "start_time": "2022-10-25T20:02:13.630Z"
   },
   {
    "duration": 1968,
    "start_time": "2022-10-25T20:02:13.649Z"
   },
   {
    "duration": 9,
    "start_time": "2022-10-25T20:02:15.619Z"
   },
   {
    "duration": 4,
    "start_time": "2022-10-25T20:02:15.630Z"
   },
   {
    "duration": 5,
    "start_time": "2022-10-25T20:02:15.636Z"
   },
   {
    "duration": 5,
    "start_time": "2022-10-25T20:02:15.643Z"
   },
   {
    "duration": 12,
    "start_time": "2022-10-25T20:02:15.649Z"
   },
   {
    "duration": 5,
    "start_time": "2022-10-25T20:02:15.663Z"
   },
   {
    "duration": 6,
    "start_time": "2022-10-25T20:02:15.670Z"
   },
   {
    "duration": 8,
    "start_time": "2022-10-25T20:02:15.678Z"
   },
   {
    "duration": 5,
    "start_time": "2022-10-25T20:02:15.688Z"
   },
   {
    "duration": 10,
    "start_time": "2022-10-25T20:02:15.728Z"
   },
   {
    "duration": 45,
    "start_time": "2022-10-25T20:02:15.739Z"
   },
   {
    "duration": 7,
    "start_time": "2022-10-25T20:02:15.786Z"
   },
   {
    "duration": 75,
    "start_time": "2022-10-25T20:02:15.795Z"
   },
   {
    "duration": 4,
    "start_time": "2022-10-25T20:02:38.199Z"
   },
   {
    "duration": 11,
    "start_time": "2022-10-25T20:02:40.492Z"
   },
   {
    "duration": 28,
    "start_time": "2022-10-25T20:02:51.529Z"
   },
   {
    "duration": 114,
    "start_time": "2022-10-25T20:04:45.480Z"
   },
   {
    "duration": 3,
    "start_time": "2022-10-25T20:05:05.154Z"
   },
   {
    "duration": 12,
    "start_time": "2022-10-25T20:05:17.735Z"
   },
   {
    "duration": 42,
    "start_time": "2022-10-25T20:05:20.397Z"
   },
   {
    "duration": 47,
    "start_time": "2022-10-25T20:05:33.809Z"
   },
   {
    "duration": 1182,
    "start_time": "2022-10-25T20:05:43.649Z"
   },
   {
    "duration": 96,
    "start_time": "2022-10-25T20:05:44.833Z"
   },
   {
    "duration": 33,
    "start_time": "2022-10-25T20:05:44.931Z"
   },
   {
    "duration": 15,
    "start_time": "2022-10-25T20:05:44.966Z"
   },
   {
    "duration": 2047,
    "start_time": "2022-10-25T20:05:44.982Z"
   },
   {
    "duration": 9,
    "start_time": "2022-10-25T20:05:47.031Z"
   },
   {
    "duration": 3,
    "start_time": "2022-10-25T20:05:47.042Z"
   },
   {
    "duration": 6,
    "start_time": "2022-10-25T20:05:47.047Z"
   },
   {
    "duration": 5,
    "start_time": "2022-10-25T20:05:47.054Z"
   },
   {
    "duration": 7,
    "start_time": "2022-10-25T20:05:47.061Z"
   },
   {
    "duration": 5,
    "start_time": "2022-10-25T20:05:47.069Z"
   },
   {
    "duration": 6,
    "start_time": "2022-10-25T20:05:47.075Z"
   },
   {
    "duration": 50,
    "start_time": "2022-10-25T20:05:47.083Z"
   },
   {
    "duration": 4,
    "start_time": "2022-10-25T20:05:47.135Z"
   },
   {
    "duration": 11,
    "start_time": "2022-10-25T20:05:47.141Z"
   },
   {
    "duration": 120,
    "start_time": "2022-10-25T20:05:47.154Z"
   },
   {
    "duration": 7,
    "start_time": "2022-10-25T20:05:47.276Z"
   },
   {
    "duration": 3,
    "start_time": "2022-10-25T20:05:47.284Z"
   },
   {
    "duration": 11,
    "start_time": "2022-10-25T20:05:47.289Z"
   },
   {
    "duration": 65,
    "start_time": "2022-10-25T20:05:47.302Z"
   },
   {
    "duration": 3,
    "start_time": "2022-10-25T20:06:19.864Z"
   },
   {
    "duration": 11,
    "start_time": "2022-10-25T20:06:21.746Z"
   },
   {
    "duration": 29,
    "start_time": "2022-10-25T20:06:25.579Z"
   },
   {
    "duration": 74,
    "start_time": "2022-10-25T20:06:37.554Z"
   },
   {
    "duration": 73,
    "start_time": "2022-10-25T20:06:49.089Z"
   },
   {
    "duration": 3,
    "start_time": "2022-10-25T20:06:53.588Z"
   },
   {
    "duration": 10,
    "start_time": "2022-10-25T20:06:56.408Z"
   },
   {
    "duration": 37,
    "start_time": "2022-10-25T20:06:58.405Z"
   },
   {
    "duration": 3,
    "start_time": "2022-10-25T20:07:26.872Z"
   },
   {
    "duration": 16,
    "start_time": "2022-10-25T20:07:29.497Z"
   },
   {
    "duration": 29,
    "start_time": "2022-10-25T20:07:31.144Z"
   },
   {
    "duration": 3,
    "start_time": "2022-10-25T20:07:48.550Z"
   },
   {
    "duration": 10,
    "start_time": "2022-10-25T20:07:51.214Z"
   },
   {
    "duration": 31,
    "start_time": "2022-10-25T20:07:53.251Z"
   },
   {
    "duration": 5,
    "start_time": "2022-10-25T20:09:50.634Z"
   },
   {
    "duration": 5,
    "start_time": "2022-10-25T20:09:53.112Z"
   },
   {
    "duration": 6,
    "start_time": "2022-10-25T20:10:11.919Z"
   },
   {
    "duration": 101,
    "start_time": "2022-10-25T20:10:18.775Z"
   },
   {
    "duration": 11,
    "start_time": "2022-10-25T20:20:07.684Z"
   },
   {
    "duration": 18,
    "start_time": "2022-10-25T20:20:35.409Z"
   },
   {
    "duration": 23,
    "start_time": "2022-10-25T20:20:45.411Z"
   },
   {
    "duration": 19,
    "start_time": "2022-10-25T20:20:50.919Z"
   },
   {
    "duration": 54,
    "start_time": "2022-10-26T18:21:02.061Z"
   },
   {
    "duration": 1236,
    "start_time": "2022-10-26T18:21:12.673Z"
   },
   {
    "duration": 333,
    "start_time": "2022-10-26T18:21:13.911Z"
   },
   {
    "duration": 31,
    "start_time": "2022-10-26T18:21:14.246Z"
   },
   {
    "duration": 15,
    "start_time": "2022-10-26T18:21:14.279Z"
   },
   {
    "duration": 1844,
    "start_time": "2022-10-26T18:21:14.296Z"
   },
   {
    "duration": 8,
    "start_time": "2022-10-26T18:21:16.142Z"
   },
   {
    "duration": 7,
    "start_time": "2022-10-26T18:21:16.151Z"
   },
   {
    "duration": 6,
    "start_time": "2022-10-26T18:21:16.160Z"
   },
   {
    "duration": 8,
    "start_time": "2022-10-26T18:21:16.168Z"
   },
   {
    "duration": 25,
    "start_time": "2022-10-26T18:21:16.178Z"
   },
   {
    "duration": 5,
    "start_time": "2022-10-26T18:21:16.204Z"
   },
   {
    "duration": 7,
    "start_time": "2022-10-26T18:21:16.211Z"
   },
   {
    "duration": 16,
    "start_time": "2022-10-26T18:21:16.219Z"
   },
   {
    "duration": 6,
    "start_time": "2022-10-26T18:21:16.237Z"
   },
   {
    "duration": 17,
    "start_time": "2022-10-26T18:21:16.245Z"
   },
   {
    "duration": 92,
    "start_time": "2022-10-26T18:21:16.264Z"
   },
   {
    "duration": 19,
    "start_time": "2022-10-26T18:21:16.357Z"
   },
   {
    "duration": 5,
    "start_time": "2022-10-26T18:21:18.996Z"
   },
   {
    "duration": 28,
    "start_time": "2022-10-26T18:21:24.189Z"
   },
   {
    "duration": 17,
    "start_time": "2022-10-26T18:21:43.137Z"
   },
   {
    "duration": 30,
    "start_time": "2022-10-26T18:46:30.253Z"
   },
   {
    "duration": 18,
    "start_time": "2022-10-26T18:46:38.918Z"
   },
   {
    "duration": 3,
    "start_time": "2022-10-26T18:59:09.520Z"
   },
   {
    "duration": 80,
    "start_time": "2022-10-26T18:59:11.756Z"
   },
   {
    "duration": 21,
    "start_time": "2022-10-26T18:59:17.713Z"
   },
   {
    "duration": 3,
    "start_time": "2022-10-26T18:59:59.108Z"
   },
   {
    "duration": 19,
    "start_time": "2022-10-26T19:00:04.267Z"
   },
   {
    "duration": 18,
    "start_time": "2022-10-26T19:00:18.616Z"
   },
   {
    "duration": 3,
    "start_time": "2022-10-26T19:01:18.437Z"
   },
   {
    "duration": 101,
    "start_time": "2022-10-26T19:01:22.033Z"
   },
   {
    "duration": 20,
    "start_time": "2022-10-26T19:01:24.718Z"
   },
   {
    "duration": 1153,
    "start_time": "2022-10-26T19:01:35.697Z"
   },
   {
    "duration": 93,
    "start_time": "2022-10-26T19:01:36.852Z"
   },
   {
    "duration": 31,
    "start_time": "2022-10-26T19:01:36.947Z"
   },
   {
    "duration": 14,
    "start_time": "2022-10-26T19:01:36.979Z"
   },
   {
    "duration": 1776,
    "start_time": "2022-10-26T19:01:37.008Z"
   },
   {
    "duration": 8,
    "start_time": "2022-10-26T19:01:38.786Z"
   },
   {
    "duration": 16,
    "start_time": "2022-10-26T19:01:38.796Z"
   },
   {
    "duration": 15,
    "start_time": "2022-10-26T19:01:38.813Z"
   },
   {
    "duration": 22,
    "start_time": "2022-10-26T19:01:38.830Z"
   },
   {
    "duration": 28,
    "start_time": "2022-10-26T19:01:38.853Z"
   },
   {
    "duration": 11,
    "start_time": "2022-10-26T19:01:38.882Z"
   },
   {
    "duration": 14,
    "start_time": "2022-10-26T19:01:38.894Z"
   },
   {
    "duration": 23,
    "start_time": "2022-10-26T19:01:38.910Z"
   },
   {
    "duration": 8,
    "start_time": "2022-10-26T19:01:38.936Z"
   },
   {
    "duration": 32,
    "start_time": "2022-10-26T19:01:38.945Z"
   },
   {
    "duration": 97,
    "start_time": "2022-10-26T19:01:38.978Z"
   },
   {
    "duration": 23,
    "start_time": "2022-10-26T19:01:39.076Z"
   },
   {
    "duration": 8,
    "start_time": "2022-10-26T19:01:39.101Z"
   },
   {
    "duration": 111,
    "start_time": "2022-10-26T19:01:39.110Z"
   },
   {
    "duration": 19,
    "start_time": "2022-10-26T19:01:42.964Z"
   },
   {
    "duration": 3,
    "start_time": "2022-10-26T19:02:16.616Z"
   },
   {
    "duration": 109,
    "start_time": "2022-10-26T19:02:19.223Z"
   },
   {
    "duration": 20,
    "start_time": "2022-10-26T19:02:21.530Z"
   },
   {
    "duration": 1203,
    "start_time": "2022-10-27T19:27:37.197Z"
   },
   {
    "duration": 297,
    "start_time": "2022-10-27T19:27:38.402Z"
   },
   {
    "duration": 32,
    "start_time": "2022-10-27T19:27:38.700Z"
   },
   {
    "duration": 14,
    "start_time": "2022-10-27T19:27:38.733Z"
   },
   {
    "duration": 1750,
    "start_time": "2022-10-27T19:27:38.749Z"
   },
   {
    "duration": 10,
    "start_time": "2022-10-27T19:27:40.501Z"
   },
   {
    "duration": 3,
    "start_time": "2022-10-27T19:27:40.513Z"
   },
   {
    "duration": 8,
    "start_time": "2022-10-27T19:27:40.517Z"
   },
   {
    "duration": 9,
    "start_time": "2022-10-27T19:27:40.527Z"
   },
   {
    "duration": 9,
    "start_time": "2022-10-27T19:27:40.538Z"
   },
   {
    "duration": 6,
    "start_time": "2022-10-27T19:27:40.549Z"
   },
   {
    "duration": 8,
    "start_time": "2022-10-27T19:27:40.556Z"
   },
   {
    "duration": 9,
    "start_time": "2022-10-27T19:27:40.565Z"
   },
   {
    "duration": 4,
    "start_time": "2022-10-27T19:27:40.576Z"
   },
   {
    "duration": 18,
    "start_time": "2022-10-27T19:27:40.582Z"
   },
   {
    "duration": 118,
    "start_time": "2022-10-27T19:27:40.601Z"
   },
   {
    "duration": 31,
    "start_time": "2022-10-27T19:27:40.721Z"
   },
   {
    "duration": 3,
    "start_time": "2022-10-27T19:27:40.753Z"
   },
   {
    "duration": 95,
    "start_time": "2022-10-27T19:27:40.758Z"
   },
   {
    "duration": 17,
    "start_time": "2022-10-27T19:27:40.855Z"
   },
   {
    "duration": 70,
    "start_time": "2022-10-27T19:27:40.874Z"
   },
   {
    "duration": 113,
    "start_time": "2022-10-27T19:27:57.385Z"
   },
   {
    "duration": 92,
    "start_time": "2022-10-27T19:31:39.128Z"
   },
   {
    "duration": 38,
    "start_time": "2022-10-27T19:32:22.835Z"
   },
   {
    "duration": 44,
    "start_time": "2022-10-27T19:37:38.542Z"
   },
   {
    "duration": 39,
    "start_time": "2022-10-27T19:39:54.549Z"
   },
   {
    "duration": 744,
    "start_time": "2022-10-27T19:40:21.208Z"
   },
   {
    "duration": 962,
    "start_time": "2022-10-27T19:40:27.356Z"
   },
   {
    "duration": 9,
    "start_time": "2022-10-27T19:40:41.516Z"
   },
   {
    "duration": 1335,
    "start_time": "2022-11-08T17:08:35.422Z"
   },
   {
    "duration": 156,
    "start_time": "2022-11-08T17:08:36.760Z"
   },
   {
    "duration": 35,
    "start_time": "2022-11-08T17:08:36.918Z"
   },
   {
    "duration": 15,
    "start_time": "2022-11-08T17:08:36.954Z"
   },
   {
    "duration": 2047,
    "start_time": "2022-11-08T17:08:36.972Z"
   },
   {
    "duration": 9,
    "start_time": "2022-11-08T17:08:39.020Z"
   },
   {
    "duration": 5,
    "start_time": "2022-11-08T17:08:39.031Z"
   },
   {
    "duration": 13,
    "start_time": "2022-11-08T17:08:39.037Z"
   },
   {
    "duration": 23,
    "start_time": "2022-11-08T17:08:39.052Z"
   },
   {
    "duration": 17,
    "start_time": "2022-11-08T17:08:39.077Z"
   },
   {
    "duration": 32,
    "start_time": "2022-11-08T17:08:39.095Z"
   },
   {
    "duration": 12,
    "start_time": "2022-11-08T17:08:39.129Z"
   },
   {
    "duration": 22,
    "start_time": "2022-11-08T17:08:39.143Z"
   },
   {
    "duration": 15,
    "start_time": "2022-11-08T17:08:39.167Z"
   },
   {
    "duration": 24,
    "start_time": "2022-11-08T17:08:39.183Z"
   },
   {
    "duration": 122,
    "start_time": "2022-11-08T17:08:39.209Z"
   },
   {
    "duration": 27,
    "start_time": "2022-11-08T17:08:39.333Z"
   },
   {
    "duration": 19,
    "start_time": "2022-11-08T17:08:39.361Z"
   },
   {
    "duration": 127,
    "start_time": "2022-11-08T17:08:39.382Z"
   },
   {
    "duration": 18,
    "start_time": "2022-11-08T17:08:39.512Z"
   },
   {
    "duration": 130,
    "start_time": "2022-11-08T17:08:39.532Z"
   },
   {
    "duration": 66,
    "start_time": "2022-11-08T17:08:39.663Z"
   },
   {
    "duration": 9,
    "start_time": "2022-11-08T17:08:39.730Z"
   },
   {
    "duration": 98,
    "start_time": "2022-11-08T17:08:39.741Z"
   },
   {
    "duration": 0,
    "start_time": "2022-11-08T17:08:39.841Z"
   },
   {
    "duration": 122,
    "start_time": "2022-11-08T17:10:54.862Z"
   },
   {
    "duration": 17,
    "start_time": "2022-11-08T17:11:04.988Z"
   },
   {
    "duration": 13,
    "start_time": "2022-11-08T17:12:07.410Z"
   },
   {
    "duration": 3,
    "start_time": "2022-11-08T17:12:12.694Z"
   },
   {
    "duration": 100,
    "start_time": "2022-11-08T17:12:12.699Z"
   },
   {
    "duration": 32,
    "start_time": "2022-11-08T17:12:12.801Z"
   },
   {
    "duration": 20,
    "start_time": "2022-11-08T17:12:12.835Z"
   },
   {
    "duration": 2173,
    "start_time": "2022-11-08T17:12:12.858Z"
   },
   {
    "duration": 10,
    "start_time": "2022-11-08T17:12:15.032Z"
   },
   {
    "duration": 8,
    "start_time": "2022-11-08T17:12:15.043Z"
   },
   {
    "duration": 12,
    "start_time": "2022-11-08T17:12:15.053Z"
   },
   {
    "duration": 14,
    "start_time": "2022-11-08T17:12:15.067Z"
   },
   {
    "duration": 18,
    "start_time": "2022-11-08T17:12:15.083Z"
   },
   {
    "duration": 7,
    "start_time": "2022-11-08T17:12:15.103Z"
   },
   {
    "duration": 17,
    "start_time": "2022-11-08T17:12:15.112Z"
   },
   {
    "duration": 9,
    "start_time": "2022-11-08T17:12:15.131Z"
   },
   {
    "duration": 6,
    "start_time": "2022-11-08T17:12:15.144Z"
   },
   {
    "duration": 22,
    "start_time": "2022-11-08T17:12:15.152Z"
   },
   {
    "duration": 38,
    "start_time": "2022-11-08T17:12:15.196Z"
   },
   {
    "duration": 19,
    "start_time": "2022-11-08T17:12:15.236Z"
   },
   {
    "duration": 4,
    "start_time": "2022-11-08T17:12:15.257Z"
   },
   {
    "duration": 123,
    "start_time": "2022-11-08T17:12:15.263Z"
   },
   {
    "duration": 25,
    "start_time": "2022-11-08T17:12:15.388Z"
   },
   {
    "duration": 140,
    "start_time": "2022-11-08T17:12:15.416Z"
   },
   {
    "duration": 55,
    "start_time": "2022-11-08T17:12:15.558Z"
   },
   {
    "duration": 10,
    "start_time": "2022-11-08T17:12:15.615Z"
   },
   {
    "duration": 85,
    "start_time": "2022-11-08T17:12:15.626Z"
   },
   {
    "duration": 0,
    "start_time": "2022-11-08T17:12:15.713Z"
   },
   {
    "duration": 11,
    "start_time": "2022-11-08T17:24:14.882Z"
   },
   {
    "duration": 4,
    "start_time": "2022-11-08T17:24:39.033Z"
   },
   {
    "duration": 6,
    "start_time": "2022-11-08T17:24:53.623Z"
   },
   {
    "duration": 12,
    "start_time": "2022-11-08T17:25:04.387Z"
   },
   {
    "duration": 1169,
    "start_time": "2022-11-08T17:27:10.516Z"
   },
   {
    "duration": 91,
    "start_time": "2022-11-08T17:27:11.687Z"
   },
   {
    "duration": 44,
    "start_time": "2022-11-08T17:27:11.780Z"
   },
   {
    "duration": 18,
    "start_time": "2022-11-08T17:27:11.827Z"
   },
   {
    "duration": 2503,
    "start_time": "2022-11-08T17:27:11.848Z"
   },
   {
    "duration": 12,
    "start_time": "2022-11-08T17:27:14.353Z"
   },
   {
    "duration": 10,
    "start_time": "2022-11-08T17:27:14.367Z"
   },
   {
    "duration": 7,
    "start_time": "2022-11-08T17:27:14.379Z"
   },
   {
    "duration": 8,
    "start_time": "2022-11-08T17:27:14.387Z"
   },
   {
    "duration": 23,
    "start_time": "2022-11-08T17:27:14.397Z"
   },
   {
    "duration": 6,
    "start_time": "2022-11-08T17:27:14.422Z"
   },
   {
    "duration": 15,
    "start_time": "2022-11-08T17:27:14.429Z"
   },
   {
    "duration": 9,
    "start_time": "2022-11-08T17:27:14.446Z"
   },
   {
    "duration": 4,
    "start_time": "2022-11-08T17:27:14.457Z"
   },
   {
    "duration": 112,
    "start_time": "2022-11-08T17:27:14.463Z"
   },
   {
    "duration": 47,
    "start_time": "2022-11-08T17:27:14.577Z"
   },
   {
    "duration": 18,
    "start_time": "2022-11-08T17:27:14.625Z"
   },
   {
    "duration": 3,
    "start_time": "2022-11-08T17:27:14.644Z"
   },
   {
    "duration": 122,
    "start_time": "2022-11-08T17:27:14.649Z"
   },
   {
    "duration": 25,
    "start_time": "2022-11-08T17:27:14.773Z"
   },
   {
    "duration": 132,
    "start_time": "2022-11-08T17:27:14.800Z"
   },
   {
    "duration": 43,
    "start_time": "2022-11-08T17:27:14.933Z"
   },
   {
    "duration": 27,
    "start_time": "2022-11-08T17:27:14.978Z"
   },
   {
    "duration": 122,
    "start_time": "2022-11-08T17:27:15.007Z"
   },
   {
    "duration": 10,
    "start_time": "2022-11-08T17:29:00.562Z"
   },
   {
    "duration": 15,
    "start_time": "2022-11-08T17:29:32.123Z"
   },
   {
    "duration": 9,
    "start_time": "2022-11-08T17:31:34.021Z"
   },
   {
    "duration": 10,
    "start_time": "2022-11-08T17:31:42.534Z"
   },
   {
    "duration": 7,
    "start_time": "2022-11-08T17:32:45.194Z"
   },
   {
    "duration": 5,
    "start_time": "2022-11-08T17:33:31.810Z"
   },
   {
    "duration": 5,
    "start_time": "2022-11-08T17:33:32.910Z"
   },
   {
    "duration": 6,
    "start_time": "2022-11-08T17:33:33.409Z"
   },
   {
    "duration": 45,
    "start_time": "2022-11-08T17:33:46.212Z"
   },
   {
    "duration": 8,
    "start_time": "2022-11-08T17:34:09.911Z"
   },
   {
    "duration": 6,
    "start_time": "2022-11-08T17:34:37.782Z"
   },
   {
    "duration": 9,
    "start_time": "2022-11-08T17:34:44.625Z"
   },
   {
    "duration": 6,
    "start_time": "2022-11-08T17:34:51.430Z"
   },
   {
    "duration": 1205,
    "start_time": "2022-11-08T17:35:01.064Z"
   },
   {
    "duration": 90,
    "start_time": "2022-11-08T17:35:02.271Z"
   },
   {
    "duration": 49,
    "start_time": "2022-11-08T17:35:02.363Z"
   },
   {
    "duration": 38,
    "start_time": "2022-11-08T17:35:02.414Z"
   },
   {
    "duration": 2357,
    "start_time": "2022-11-08T17:35:02.454Z"
   },
   {
    "duration": 12,
    "start_time": "2022-11-08T17:35:04.813Z"
   },
   {
    "duration": 6,
    "start_time": "2022-11-08T17:35:04.827Z"
   },
   {
    "duration": 7,
    "start_time": "2022-11-08T17:35:04.835Z"
   },
   {
    "duration": 6,
    "start_time": "2022-11-08T17:35:04.844Z"
   },
   {
    "duration": 13,
    "start_time": "2022-11-08T17:35:04.852Z"
   },
   {
    "duration": 17,
    "start_time": "2022-11-08T17:35:04.867Z"
   },
   {
    "duration": 48,
    "start_time": "2022-11-08T17:35:04.886Z"
   },
   {
    "duration": 141,
    "start_time": "2022-11-08T17:35:04.936Z"
   },
   {
    "duration": 189,
    "start_time": "2022-11-08T17:35:05.080Z"
   },
   {
    "duration": 25,
    "start_time": "2022-11-08T17:35:05.271Z"
   },
   {
    "duration": 128,
    "start_time": "2022-11-08T17:35:05.298Z"
   },
   {
    "duration": 27,
    "start_time": "2022-11-08T17:35:05.429Z"
   },
   {
    "duration": 11,
    "start_time": "2022-11-08T17:35:05.458Z"
   },
   {
    "duration": 141,
    "start_time": "2022-11-08T17:35:05.471Z"
   },
   {
    "duration": 20,
    "start_time": "2022-11-08T17:35:05.615Z"
   },
   {
    "duration": 146,
    "start_time": "2022-11-08T17:35:05.636Z"
   },
   {
    "duration": 62,
    "start_time": "2022-11-08T17:35:05.784Z"
   },
   {
    "duration": 10,
    "start_time": "2022-11-08T17:35:05.847Z"
   },
   {
    "duration": 4353,
    "start_time": "2022-11-08T17:35:05.859Z"
   },
   {
    "duration": 0,
    "start_time": "2022-11-08T17:35:10.215Z"
   },
   {
    "duration": 0,
    "start_time": "2022-11-08T17:35:10.216Z"
   },
   {
    "duration": 7,
    "start_time": "2022-11-08T17:37:14.693Z"
   },
   {
    "duration": 59,
    "start_time": "2022-11-08T17:37:23.965Z"
   },
   {
    "duration": 14,
    "start_time": "2022-11-08T17:37:37.737Z"
   },
   {
    "duration": 47,
    "start_time": "2022-11-08T17:42:22.198Z"
   },
   {
    "duration": 15,
    "start_time": "2022-11-08T17:42:47.392Z"
   },
   {
    "duration": 6,
    "start_time": "2022-11-08T17:43:00.614Z"
   },
   {
    "duration": 16,
    "start_time": "2022-11-08T17:43:14.877Z"
   },
   {
    "duration": 24,
    "start_time": "2022-11-08T17:43:20.294Z"
   },
   {
    "duration": 6,
    "start_time": "2022-11-08T17:43:31.771Z"
   },
   {
    "duration": 50,
    "start_time": "2022-11-08T17:43:47.224Z"
   },
   {
    "duration": 1431,
    "start_time": "2022-11-08T17:43:54.377Z"
   },
   {
    "duration": 97,
    "start_time": "2022-11-08T17:43:55.810Z"
   },
   {
    "duration": 48,
    "start_time": "2022-11-08T17:43:55.909Z"
   },
   {
    "duration": 23,
    "start_time": "2022-11-08T17:43:55.959Z"
   },
   {
    "duration": 2214,
    "start_time": "2022-11-08T17:43:56.001Z"
   },
   {
    "duration": 11,
    "start_time": "2022-11-08T17:43:58.217Z"
   },
   {
    "duration": 20,
    "start_time": "2022-11-08T17:43:58.230Z"
   },
   {
    "duration": 21,
    "start_time": "2022-11-08T17:43:58.252Z"
   },
   {
    "duration": 25,
    "start_time": "2022-11-08T17:43:58.275Z"
   },
   {
    "duration": 29,
    "start_time": "2022-11-08T17:43:58.302Z"
   },
   {
    "duration": 23,
    "start_time": "2022-11-08T17:43:58.333Z"
   },
   {
    "duration": 19,
    "start_time": "2022-11-08T17:43:58.358Z"
   },
   {
    "duration": 13,
    "start_time": "2022-11-08T17:43:58.379Z"
   },
   {
    "duration": 26,
    "start_time": "2022-11-08T17:43:58.395Z"
   },
   {
    "duration": 24,
    "start_time": "2022-11-08T17:43:58.423Z"
   },
   {
    "duration": 141,
    "start_time": "2022-11-08T17:43:58.449Z"
   },
   {
    "duration": 28,
    "start_time": "2022-11-08T17:43:58.592Z"
   },
   {
    "duration": 25,
    "start_time": "2022-11-08T17:43:58.622Z"
   },
   {
    "duration": 153,
    "start_time": "2022-11-08T17:43:58.649Z"
   },
   {
    "duration": 21,
    "start_time": "2022-11-08T17:43:58.804Z"
   },
   {
    "duration": 144,
    "start_time": "2022-11-08T17:43:58.827Z"
   },
   {
    "duration": 63,
    "start_time": "2022-11-08T17:43:58.972Z"
   },
   {
    "duration": 10,
    "start_time": "2022-11-08T17:43:59.037Z"
   },
   {
    "duration": 28,
    "start_time": "2022-11-08T17:43:59.048Z"
   },
   {
    "duration": 35,
    "start_time": "2022-11-08T17:43:59.078Z"
   },
   {
    "duration": 34,
    "start_time": "2022-11-08T17:44:12.986Z"
   },
   {
    "duration": 8,
    "start_time": "2022-11-08T17:46:38.158Z"
   },
   {
    "duration": 21,
    "start_time": "2022-11-08T17:46:41.858Z"
   },
   {
    "duration": 8,
    "start_time": "2022-11-08T17:46:52.810Z"
   },
   {
    "duration": 8,
    "start_time": "2022-11-08T17:46:58.811Z"
   },
   {
    "duration": 1226,
    "start_time": "2022-11-08T17:47:19.228Z"
   },
   {
    "duration": 102,
    "start_time": "2022-11-08T17:47:20.456Z"
   },
   {
    "duration": 38,
    "start_time": "2022-11-08T17:47:20.560Z"
   },
   {
    "duration": 20,
    "start_time": "2022-11-08T17:47:20.601Z"
   },
   {
    "duration": 2200,
    "start_time": "2022-11-08T17:47:20.623Z"
   },
   {
    "duration": 10,
    "start_time": "2022-11-08T17:47:22.826Z"
   },
   {
    "duration": 11,
    "start_time": "2022-11-08T17:47:22.839Z"
   },
   {
    "duration": 12,
    "start_time": "2022-11-08T17:47:22.852Z"
   },
   {
    "duration": 11,
    "start_time": "2022-11-08T17:47:22.866Z"
   },
   {
    "duration": 12,
    "start_time": "2022-11-08T17:47:22.881Z"
   },
   {
    "duration": 27,
    "start_time": "2022-11-08T17:47:22.895Z"
   },
   {
    "duration": 27,
    "start_time": "2022-11-08T17:47:22.924Z"
   },
   {
    "duration": 9,
    "start_time": "2022-11-08T17:47:22.953Z"
   },
   {
    "duration": 5,
    "start_time": "2022-11-08T17:47:22.964Z"
   },
   {
    "duration": 113,
    "start_time": "2022-11-08T17:47:22.971Z"
   },
   {
    "duration": 48,
    "start_time": "2022-11-08T17:47:23.086Z"
   },
   {
    "duration": 20,
    "start_time": "2022-11-08T17:47:23.136Z"
   },
   {
    "duration": 3,
    "start_time": "2022-11-08T17:47:23.158Z"
   },
   {
    "duration": 129,
    "start_time": "2022-11-08T17:47:23.163Z"
   },
   {
    "duration": 28,
    "start_time": "2022-11-08T17:47:23.298Z"
   },
   {
    "duration": 140,
    "start_time": "2022-11-08T17:47:23.328Z"
   },
   {
    "duration": 64,
    "start_time": "2022-11-08T17:47:23.470Z"
   },
   {
    "duration": 11,
    "start_time": "2022-11-08T17:47:23.535Z"
   },
   {
    "duration": 16,
    "start_time": "2022-11-08T17:47:23.548Z"
   },
   {
    "duration": 20,
    "start_time": "2022-11-08T17:47:23.566Z"
   },
   {
    "duration": 30,
    "start_time": "2022-11-08T17:47:23.588Z"
   },
   {
    "duration": 178,
    "start_time": "2022-11-08T17:55:52.152Z"
   },
   {
    "duration": 5,
    "start_time": "2022-11-08T17:57:26.110Z"
   },
   {
    "duration": 6,
    "start_time": "2022-11-08T18:15:21.030Z"
   },
   {
    "duration": 113,
    "start_time": "2022-11-08T18:16:37.817Z"
   },
   {
    "duration": 11,
    "start_time": "2022-11-08T18:16:43.714Z"
   },
   {
    "duration": 6,
    "start_time": "2022-11-08T18:17:04.616Z"
   },
   {
    "duration": 12,
    "start_time": "2022-11-08T18:21:51.859Z"
   },
   {
    "duration": 10,
    "start_time": "2022-11-08T18:22:43.702Z"
   },
   {
    "duration": 10,
    "start_time": "2022-11-08T18:22:49.767Z"
   },
   {
    "duration": 11,
    "start_time": "2022-11-08T18:22:54.328Z"
   },
   {
    "duration": 9,
    "start_time": "2022-11-08T18:22:59.638Z"
   },
   {
    "duration": 9,
    "start_time": "2022-11-08T18:23:12.201Z"
   },
   {
    "duration": 10,
    "start_time": "2022-11-08T18:23:24.927Z"
   },
   {
    "duration": 9,
    "start_time": "2022-11-08T18:23:32.102Z"
   },
   {
    "duration": 10,
    "start_time": "2022-11-08T18:24:47.103Z"
   },
   {
    "duration": 10,
    "start_time": "2022-11-08T18:25:40.562Z"
   },
   {
    "duration": 10,
    "start_time": "2022-11-08T18:25:54.566Z"
   },
   {
    "duration": 9,
    "start_time": "2022-11-08T18:26:08.255Z"
   },
   {
    "duration": 5,
    "start_time": "2022-11-08T18:26:17.123Z"
   },
   {
    "duration": 9,
    "start_time": "2022-11-08T18:26:22.419Z"
   },
   {
    "duration": 4,
    "start_time": "2022-11-08T18:26:33.180Z"
   },
   {
    "duration": 6,
    "start_time": "2022-11-08T18:26:48.126Z"
   },
   {
    "duration": 5,
    "start_time": "2022-11-08T18:30:51.626Z"
   },
   {
    "duration": 16,
    "start_time": "2022-11-08T18:31:02.247Z"
   },
   {
    "duration": 671,
    "start_time": "2022-11-08T18:31:23.493Z"
   },
   {
    "duration": 65,
    "start_time": "2022-11-08T18:32:12.019Z"
   },
   {
    "duration": 7,
    "start_time": "2022-11-08T18:32:20.703Z"
   },
   {
    "duration": 4,
    "start_time": "2022-11-08T18:33:43.702Z"
   },
   {
    "duration": 4,
    "start_time": "2022-11-08T18:33:51.566Z"
   },
   {
    "duration": 48,
    "start_time": "2022-11-08T18:34:43.107Z"
   },
   {
    "duration": 9,
    "start_time": "2022-11-08T18:35:27.626Z"
   },
   {
    "duration": 11,
    "start_time": "2022-11-08T18:35:33.550Z"
   },
   {
    "duration": 1178,
    "start_time": "2022-11-08T18:35:44.877Z"
   },
   {
    "duration": 85,
    "start_time": "2022-11-08T18:35:46.057Z"
   },
   {
    "duration": 34,
    "start_time": "2022-11-08T18:35:46.144Z"
   },
   {
    "duration": 26,
    "start_time": "2022-11-08T18:35:46.180Z"
   },
   {
    "duration": 2055,
    "start_time": "2022-11-08T18:35:46.208Z"
   },
   {
    "duration": 10,
    "start_time": "2022-11-08T18:35:48.265Z"
   },
   {
    "duration": 4,
    "start_time": "2022-11-08T18:35:48.276Z"
   },
   {
    "duration": 6,
    "start_time": "2022-11-08T18:35:48.282Z"
   },
   {
    "duration": 6,
    "start_time": "2022-11-08T18:35:48.290Z"
   },
   {
    "duration": 12,
    "start_time": "2022-11-08T18:35:48.297Z"
   },
   {
    "duration": 5,
    "start_time": "2022-11-08T18:35:48.311Z"
   },
   {
    "duration": 20,
    "start_time": "2022-11-08T18:35:48.318Z"
   },
   {
    "duration": 11,
    "start_time": "2022-11-08T18:35:48.340Z"
   },
   {
    "duration": 5,
    "start_time": "2022-11-08T18:35:48.356Z"
   },
   {
    "duration": 37,
    "start_time": "2022-11-08T18:35:48.362Z"
   },
   {
    "duration": 122,
    "start_time": "2022-11-08T18:35:48.401Z"
   },
   {
    "duration": 18,
    "start_time": "2022-11-08T18:35:48.525Z"
   },
   {
    "duration": 4,
    "start_time": "2022-11-08T18:35:48.544Z"
   },
   {
    "duration": 16,
    "start_time": "2022-11-08T18:35:48.549Z"
   },
   {
    "duration": 110,
    "start_time": "2022-11-08T18:35:48.566Z"
   },
   {
    "duration": 21,
    "start_time": "2022-11-08T18:35:48.678Z"
   },
   {
    "duration": 127,
    "start_time": "2022-11-08T18:35:48.701Z"
   },
   {
    "duration": 43,
    "start_time": "2022-11-08T18:35:48.830Z"
   },
   {
    "duration": 25,
    "start_time": "2022-11-08T18:35:48.874Z"
   },
   {
    "duration": 5,
    "start_time": "2022-11-08T18:35:48.900Z"
   },
   {
    "duration": 13,
    "start_time": "2022-11-08T18:35:48.907Z"
   },
   {
    "duration": 9,
    "start_time": "2022-11-08T18:35:48.921Z"
   },
   {
    "duration": 138,
    "start_time": "2022-11-08T18:35:48.931Z"
   },
   {
    "duration": 9,
    "start_time": "2022-11-08T18:35:49.071Z"
   },
   {
    "duration": 65,
    "start_time": "2022-11-08T18:35:49.082Z"
   },
   {
    "duration": 11,
    "start_time": "2022-11-08T18:35:49.149Z"
   },
   {
    "duration": 41,
    "start_time": "2022-11-08T18:38:21.116Z"
   },
   {
    "duration": 640,
    "start_time": "2022-11-08T19:27:39.228Z"
   },
   {
    "duration": 30,
    "start_time": "2022-11-08T19:28:02.558Z"
   },
   {
    "duration": 11,
    "start_time": "2022-11-08T19:28:10.492Z"
   },
   {
    "duration": 11,
    "start_time": "2022-11-08T19:29:55.667Z"
   },
   {
    "duration": 13,
    "start_time": "2022-11-08T19:29:58.828Z"
   },
   {
    "duration": 11,
    "start_time": "2022-11-08T19:34:50.177Z"
   },
   {
    "duration": 11,
    "start_time": "2022-11-08T19:34:53.653Z"
   },
   {
    "duration": 5,
    "start_time": "2022-11-08T19:35:26.587Z"
   },
   {
    "duration": 9,
    "start_time": "2022-11-08T19:35:33.945Z"
   },
   {
    "duration": 5,
    "start_time": "2022-11-08T19:36:11.159Z"
   },
   {
    "duration": 5,
    "start_time": "2022-11-08T19:36:16.398Z"
   },
   {
    "duration": 5,
    "start_time": "2022-11-08T19:36:21.182Z"
   },
   {
    "duration": 24,
    "start_time": "2022-11-08T19:36:23.273Z"
   },
   {
    "duration": 4,
    "start_time": "2022-11-08T19:42:38.286Z"
   },
   {
    "duration": 26,
    "start_time": "2022-11-08T19:42:42.426Z"
   },
   {
    "duration": 4,
    "start_time": "2022-11-08T19:43:25.933Z"
   },
   {
    "duration": 1271,
    "start_time": "2022-11-09T15:32:03.326Z"
   },
   {
    "duration": 140,
    "start_time": "2022-11-09T15:32:04.599Z"
   },
   {
    "duration": 33,
    "start_time": "2022-11-09T15:32:04.740Z"
   },
   {
    "duration": 21,
    "start_time": "2022-11-09T15:32:04.774Z"
   },
   {
    "duration": 1846,
    "start_time": "2022-11-09T15:32:04.796Z"
   },
   {
    "duration": 9,
    "start_time": "2022-11-09T15:32:06.644Z"
   },
   {
    "duration": 10,
    "start_time": "2022-11-09T15:32:06.655Z"
   },
   {
    "duration": 10,
    "start_time": "2022-11-09T15:32:06.667Z"
   },
   {
    "duration": 7,
    "start_time": "2022-11-09T15:32:06.679Z"
   },
   {
    "duration": 13,
    "start_time": "2022-11-09T15:32:06.689Z"
   },
   {
    "duration": 14,
    "start_time": "2022-11-09T15:32:06.703Z"
   },
   {
    "duration": 19,
    "start_time": "2022-11-09T15:32:06.718Z"
   },
   {
    "duration": 9,
    "start_time": "2022-11-09T15:32:06.738Z"
   },
   {
    "duration": 86,
    "start_time": "2022-11-09T15:32:06.749Z"
   },
   {
    "duration": 18,
    "start_time": "2022-11-09T15:32:06.837Z"
   },
   {
    "duration": 49,
    "start_time": "2022-11-09T15:32:06.857Z"
   },
   {
    "duration": 21,
    "start_time": "2022-11-09T15:32:06.908Z"
   },
   {
    "duration": 4,
    "start_time": "2022-11-09T15:32:06.931Z"
   },
   {
    "duration": 16,
    "start_time": "2022-11-09T15:32:06.938Z"
   },
   {
    "duration": 117,
    "start_time": "2022-11-09T15:32:06.956Z"
   },
   {
    "duration": 27,
    "start_time": "2022-11-09T15:32:07.075Z"
   },
   {
    "duration": 137,
    "start_time": "2022-11-09T15:32:07.104Z"
   },
   {
    "duration": 49,
    "start_time": "2022-11-09T15:32:07.243Z"
   },
   {
    "duration": 9,
    "start_time": "2022-11-09T15:32:07.294Z"
   },
   {
    "duration": 4,
    "start_time": "2022-11-09T15:32:07.304Z"
   },
   {
    "duration": 11,
    "start_time": "2022-11-09T15:32:07.310Z"
   },
   {
    "duration": 8,
    "start_time": "2022-11-09T15:32:07.322Z"
   },
   {
    "duration": 139,
    "start_time": "2022-11-09T15:32:07.333Z"
   },
   {
    "duration": 11,
    "start_time": "2022-11-09T15:32:07.484Z"
   },
   {
    "duration": 61,
    "start_time": "2022-11-09T15:32:07.497Z"
   },
   {
    "duration": 26,
    "start_time": "2022-11-09T15:32:07.560Z"
   },
   {
    "duration": 6,
    "start_time": "2022-11-09T15:32:07.588Z"
   },
   {
    "duration": 22,
    "start_time": "2022-11-09T15:32:07.596Z"
   },
   {
    "duration": 13,
    "start_time": "2022-11-09T15:32:07.620Z"
   },
   {
    "duration": 32,
    "start_time": "2022-11-09T15:32:07.635Z"
   },
   {
    "duration": 72,
    "start_time": "2022-11-09T15:32:07.669Z"
   },
   {
    "duration": 0,
    "start_time": "2022-11-09T15:32:07.743Z"
   },
   {
    "duration": 0,
    "start_time": "2022-11-09T15:32:07.746Z"
   },
   {
    "duration": 0,
    "start_time": "2022-11-09T15:32:07.747Z"
   },
   {
    "duration": 0,
    "start_time": "2022-11-09T15:32:07.748Z"
   },
   {
    "duration": 0,
    "start_time": "2022-11-09T15:32:07.749Z"
   },
   {
    "duration": 0,
    "start_time": "2022-11-09T15:32:07.750Z"
   },
   {
    "duration": 5,
    "start_time": "2022-11-09T15:32:27.958Z"
   },
   {
    "duration": 5,
    "start_time": "2022-11-09T15:32:31.341Z"
   },
   {
    "duration": 24,
    "start_time": "2022-11-09T15:32:33.837Z"
   },
   {
    "duration": 69,
    "start_time": "2022-11-09T15:32:38.505Z"
   },
   {
    "duration": 72,
    "start_time": "2022-11-09T15:33:01.433Z"
   },
   {
    "duration": 3,
    "start_time": "2022-11-09T15:34:02.051Z"
   },
   {
    "duration": 106,
    "start_time": "2022-11-09T15:34:05.497Z"
   },
   {
    "duration": 5,
    "start_time": "2022-11-09T15:34:21.805Z"
   },
   {
    "duration": 957,
    "start_time": "2022-11-09T15:34:28.051Z"
   },
   {
    "duration": 208,
    "start_time": "2022-11-09T15:35:46.774Z"
   },
   {
    "duration": 28,
    "start_time": "2022-11-09T15:35:51.852Z"
   },
   {
    "duration": 25,
    "start_time": "2022-11-09T15:36:11.804Z"
   },
   {
    "duration": 5,
    "start_time": "2022-11-09T15:37:18.867Z"
   },
   {
    "duration": 196,
    "start_time": "2022-11-09T15:37:21.397Z"
   },
   {
    "duration": 4,
    "start_time": "2022-11-09T15:40:48.199Z"
   },
   {
    "duration": 26,
    "start_time": "2022-11-09T15:40:50.313Z"
   },
   {
    "duration": 11,
    "start_time": "2022-11-09T15:45:14.283Z"
   },
   {
    "duration": 4,
    "start_time": "2022-11-09T15:46:13.783Z"
   },
   {
    "duration": 27,
    "start_time": "2022-11-09T15:46:16.382Z"
   },
   {
    "duration": 2565,
    "start_time": "2022-11-09T15:57:01.894Z"
   },
   {
    "duration": 57,
    "start_time": "2022-11-09T16:18:38.945Z"
   },
   {
    "duration": 1143,
    "start_time": "2022-11-09T16:18:45.499Z"
   },
   {
    "duration": 92,
    "start_time": "2022-11-09T16:18:46.644Z"
   },
   {
    "duration": 36,
    "start_time": "2022-11-09T16:18:46.738Z"
   },
   {
    "duration": 20,
    "start_time": "2022-11-09T16:18:46.775Z"
   },
   {
    "duration": 2065,
    "start_time": "2022-11-09T16:18:46.797Z"
   },
   {
    "duration": 10,
    "start_time": "2022-11-09T16:18:48.863Z"
   },
   {
    "duration": 3,
    "start_time": "2022-11-09T16:18:48.875Z"
   },
   {
    "duration": 9,
    "start_time": "2022-11-09T16:18:48.880Z"
   },
   {
    "duration": 6,
    "start_time": "2022-11-09T16:18:48.891Z"
   },
   {
    "duration": 10,
    "start_time": "2022-11-09T16:18:48.898Z"
   },
   {
    "duration": 7,
    "start_time": "2022-11-09T16:18:48.910Z"
   },
   {
    "duration": 18,
    "start_time": "2022-11-09T16:18:48.919Z"
   },
   {
    "duration": 18,
    "start_time": "2022-11-09T16:18:48.939Z"
   },
   {
    "duration": 5,
    "start_time": "2022-11-09T16:18:49.051Z"
   },
   {
    "duration": 11,
    "start_time": "2022-11-09T16:18:49.058Z"
   },
   {
    "duration": 42,
    "start_time": "2022-11-09T16:18:49.071Z"
   },
   {
    "duration": 23,
    "start_time": "2022-11-09T16:18:49.115Z"
   },
   {
    "duration": 13,
    "start_time": "2022-11-09T16:18:49.140Z"
   },
   {
    "duration": 5,
    "start_time": "2022-11-09T16:18:49.154Z"
   },
   {
    "duration": 113,
    "start_time": "2022-11-09T16:18:49.161Z"
   },
   {
    "duration": 23,
    "start_time": "2022-11-09T16:18:49.275Z"
   },
   {
    "duration": 139,
    "start_time": "2022-11-09T16:18:49.300Z"
   },
   {
    "duration": 64,
    "start_time": "2022-11-09T16:18:49.441Z"
   },
   {
    "duration": 10,
    "start_time": "2022-11-09T16:18:49.506Z"
   },
   {
    "duration": 5,
    "start_time": "2022-11-09T16:18:49.517Z"
   },
   {
    "duration": 11,
    "start_time": "2022-11-09T16:18:49.524Z"
   },
   {
    "duration": 13,
    "start_time": "2022-11-09T16:18:49.537Z"
   },
   {
    "duration": 155,
    "start_time": "2022-11-09T16:18:49.552Z"
   },
   {
    "duration": 11,
    "start_time": "2022-11-09T16:18:49.708Z"
   },
   {
    "duration": 69,
    "start_time": "2022-11-09T16:18:49.722Z"
   },
   {
    "duration": 10,
    "start_time": "2022-11-09T16:18:49.792Z"
   },
   {
    "duration": 4,
    "start_time": "2022-11-09T16:18:49.804Z"
   },
   {
    "duration": 12,
    "start_time": "2022-11-09T16:18:49.810Z"
   },
   {
    "duration": 21,
    "start_time": "2022-11-09T16:18:49.824Z"
   },
   {
    "duration": 8,
    "start_time": "2022-11-09T16:18:49.847Z"
   },
   {
    "duration": 11,
    "start_time": "2022-11-09T16:18:49.857Z"
   },
   {
    "duration": 15,
    "start_time": "2022-11-09T16:18:49.870Z"
   },
   {
    "duration": 6,
    "start_time": "2022-11-09T16:18:49.887Z"
   },
   {
    "duration": 244,
    "start_time": "2022-11-09T16:18:49.894Z"
   },
   {
    "duration": 4,
    "start_time": "2022-11-09T16:18:50.140Z"
   },
   {
    "duration": 38,
    "start_time": "2022-11-09T16:18:50.148Z"
   },
   {
    "duration": 2702,
    "start_time": "2022-11-09T16:18:50.188Z"
   },
   {
    "duration": 187,
    "start_time": "2022-11-09T16:21:11.644Z"
   },
   {
    "duration": 9,
    "start_time": "2022-11-09T16:22:45.108Z"
   },
   {
    "duration": 124,
    "start_time": "2022-11-09T16:23:45.539Z"
   },
   {
    "duration": 10,
    "start_time": "2022-11-09T16:23:51.822Z"
   },
   {
    "duration": 6,
    "start_time": "2022-11-09T16:23:59.311Z"
   },
   {
    "duration": 5,
    "start_time": "2022-11-09T16:24:06.612Z"
   },
   {
    "duration": 107,
    "start_time": "2022-11-09T16:24:17.773Z"
   },
   {
    "duration": 7,
    "start_time": "2022-11-09T16:24:29.196Z"
   },
   {
    "duration": 71,
    "start_time": "2022-11-09T16:30:18.658Z"
   },
   {
    "duration": 69,
    "start_time": "2022-11-09T16:30:20.848Z"
   },
   {
    "duration": 174,
    "start_time": "2022-11-09T16:34:11.561Z"
   },
   {
    "duration": 136,
    "start_time": "2022-11-09T16:35:42.952Z"
   },
   {
    "duration": 142,
    "start_time": "2022-11-09T16:35:51.032Z"
   },
   {
    "duration": 142,
    "start_time": "2022-11-09T16:36:00.297Z"
   },
   {
    "duration": 136,
    "start_time": "2022-11-09T16:37:03.741Z"
   },
   {
    "duration": 144,
    "start_time": "2022-11-09T16:37:10.812Z"
   },
   {
    "duration": 264,
    "start_time": "2022-11-09T16:37:20.695Z"
   },
   {
    "duration": 164,
    "start_time": "2022-11-09T16:37:24.977Z"
   },
   {
    "duration": 130,
    "start_time": "2022-11-09T16:37:28.217Z"
   },
   {
    "duration": 130,
    "start_time": "2022-11-09T16:38:14.994Z"
   },
   {
    "duration": 75,
    "start_time": "2022-11-09T16:38:21.551Z"
   },
   {
    "duration": 76,
    "start_time": "2022-11-09T16:38:26.089Z"
   },
   {
    "duration": 143,
    "start_time": "2022-11-09T16:38:33.967Z"
   },
   {
    "duration": 3,
    "start_time": "2022-11-09T16:43:19.755Z"
   },
   {
    "duration": 132,
    "start_time": "2022-11-09T16:48:33.364Z"
   },
   {
    "duration": 130,
    "start_time": "2022-11-09T16:48:45.841Z"
   },
   {
    "duration": 141,
    "start_time": "2022-11-09T16:50:00.318Z"
   },
   {
    "duration": 133,
    "start_time": "2022-11-09T16:50:03.659Z"
   },
   {
    "duration": 174,
    "start_time": "2022-11-09T16:50:09.813Z"
   },
   {
    "duration": 6,
    "start_time": "2022-11-09T16:51:39.856Z"
   },
   {
    "duration": 11,
    "start_time": "2022-11-09T16:51:44.860Z"
   },
   {
    "duration": 262,
    "start_time": "2022-11-09T16:54:06.862Z"
   },
   {
    "duration": 12,
    "start_time": "2022-11-09T17:09:37.461Z"
   },
   {
    "duration": 158,
    "start_time": "2022-11-09T17:09:54.084Z"
   },
   {
    "duration": 157,
    "start_time": "2022-11-09T17:10:18.193Z"
   },
   {
    "duration": 1367,
    "start_time": "2022-11-09T17:13:29.556Z"
   },
   {
    "duration": 1242,
    "start_time": "2022-11-09T18:37:09.267Z"
   },
   {
    "duration": 29,
    "start_time": "2022-11-09T18:37:35.903Z"
   },
   {
    "duration": 76,
    "start_time": "2022-11-09T18:38:03.492Z"
   },
   {
    "duration": 1278,
    "start_time": "2022-11-09T18:38:09.739Z"
   },
   {
    "duration": 8,
    "start_time": "2022-11-09T18:40:42.390Z"
   },
   {
    "duration": 11,
    "start_time": "2022-11-09T18:41:01.589Z"
   },
   {
    "duration": 28981,
    "start_time": "2022-11-09T18:41:20.980Z"
   },
   {
    "duration": 19,
    "start_time": "2022-11-09T18:49:56.887Z"
   },
   {
    "duration": 1647,
    "start_time": "2022-11-09T18:50:33.493Z"
   },
   {
    "duration": 1215,
    "start_time": "2022-11-09T18:51:03.774Z"
   },
   {
    "duration": 20,
    "start_time": "2022-11-09T18:54:12.724Z"
   },
   {
    "duration": 1179,
    "start_time": "2022-11-09T18:56:24.647Z"
   },
   {
    "duration": 17,
    "start_time": "2022-11-09T18:56:34.151Z"
   },
   {
    "duration": 72,
    "start_time": "2022-11-09T18:58:07.469Z"
   },
   {
    "duration": 21,
    "start_time": "2022-11-09T18:58:24.355Z"
   },
   {
    "duration": 20,
    "start_time": "2022-11-09T19:01:53.464Z"
   },
   {
    "duration": 20,
    "start_time": "2022-11-09T19:02:35.247Z"
   },
   {
    "duration": 1095,
    "start_time": "2022-11-09T19:03:42.229Z"
   },
   {
    "duration": 87,
    "start_time": "2022-11-09T19:03:43.326Z"
   },
   {
    "duration": 32,
    "start_time": "2022-11-09T19:03:43.415Z"
   },
   {
    "duration": 14,
    "start_time": "2022-11-09T19:03:43.449Z"
   },
   {
    "duration": 1930,
    "start_time": "2022-11-09T19:03:43.464Z"
   },
   {
    "duration": 10,
    "start_time": "2022-11-09T19:03:45.396Z"
   },
   {
    "duration": 4,
    "start_time": "2022-11-09T19:03:45.408Z"
   },
   {
    "duration": 5,
    "start_time": "2022-11-09T19:03:45.414Z"
   },
   {
    "duration": 8,
    "start_time": "2022-11-09T19:03:45.421Z"
   },
   {
    "duration": 12,
    "start_time": "2022-11-09T19:03:45.431Z"
   },
   {
    "duration": 6,
    "start_time": "2022-11-09T19:03:45.444Z"
   },
   {
    "duration": 14,
    "start_time": "2022-11-09T19:03:45.451Z"
   },
   {
    "duration": 25,
    "start_time": "2022-11-09T19:03:45.467Z"
   },
   {
    "duration": 11,
    "start_time": "2022-11-09T19:03:45.574Z"
   },
   {
    "duration": 9,
    "start_time": "2022-11-09T19:03:45.587Z"
   },
   {
    "duration": 29,
    "start_time": "2022-11-09T19:03:45.598Z"
   },
   {
    "duration": 18,
    "start_time": "2022-11-09T19:03:45.629Z"
   },
   {
    "duration": 4,
    "start_time": "2022-11-09T19:03:45.649Z"
   },
   {
    "duration": 36,
    "start_time": "2022-11-09T19:03:45.654Z"
   },
   {
    "duration": 98,
    "start_time": "2022-11-09T19:03:45.692Z"
   },
   {
    "duration": 20,
    "start_time": "2022-11-09T19:03:45.791Z"
   },
   {
    "duration": 137,
    "start_time": "2022-11-09T19:03:45.813Z"
   },
   {
    "duration": 55,
    "start_time": "2022-11-09T19:03:45.952Z"
   },
   {
    "duration": 10,
    "start_time": "2022-11-09T19:03:46.009Z"
   },
   {
    "duration": 5,
    "start_time": "2022-11-09T19:03:46.020Z"
   },
   {
    "duration": 10,
    "start_time": "2022-11-09T19:03:46.026Z"
   },
   {
    "duration": 10,
    "start_time": "2022-11-09T19:03:46.038Z"
   },
   {
    "duration": 163,
    "start_time": "2022-11-09T19:03:46.050Z"
   },
   {
    "duration": 9,
    "start_time": "2022-11-09T19:03:46.215Z"
   },
   {
    "duration": 63,
    "start_time": "2022-11-09T19:03:46.226Z"
   },
   {
    "duration": 10,
    "start_time": "2022-11-09T19:03:46.291Z"
   },
   {
    "duration": 4,
    "start_time": "2022-11-09T19:03:46.303Z"
   },
   {
    "duration": 11,
    "start_time": "2022-11-09T19:03:46.308Z"
   },
   {
    "duration": 7,
    "start_time": "2022-11-09T19:03:46.321Z"
   },
   {
    "duration": 13,
    "start_time": "2022-11-09T19:03:46.330Z"
   },
   {
    "duration": 8,
    "start_time": "2022-11-09T19:03:46.345Z"
   },
   {
    "duration": 8,
    "start_time": "2022-11-09T19:03:46.355Z"
   },
   {
    "duration": 25,
    "start_time": "2022-11-09T19:03:46.365Z"
   },
   {
    "duration": 216,
    "start_time": "2022-11-09T19:03:46.392Z"
   },
   {
    "duration": 4,
    "start_time": "2022-11-09T19:03:46.610Z"
   },
   {
    "duration": 25,
    "start_time": "2022-11-09T19:03:46.617Z"
   },
   {
    "duration": 2621,
    "start_time": "2022-11-09T19:03:46.643Z"
   },
   {
    "duration": 151,
    "start_time": "2022-11-09T19:03:49.265Z"
   },
   {
    "duration": 8,
    "start_time": "2022-11-09T19:03:49.418Z"
   },
   {
    "duration": 12,
    "start_time": "2022-11-09T19:03:49.427Z"
   },
   {
    "duration": 126,
    "start_time": "2022-11-09T19:03:49.440Z"
   },
   {
    "duration": 241,
    "start_time": "2022-11-09T19:03:49.568Z"
   },
   {
    "duration": 10,
    "start_time": "2022-11-09T19:03:49.810Z"
   },
   {
    "duration": 128,
    "start_time": "2022-11-09T19:03:49.821Z"
   },
   {
    "duration": 0,
    "start_time": "2022-11-09T19:03:49.951Z"
   },
   {
    "duration": 73,
    "start_time": "2022-11-09T19:03:58.645Z"
   },
   {
    "duration": 3,
    "start_time": "2022-11-09T19:04:06.673Z"
   },
   {
    "duration": 3,
    "start_time": "2022-11-09T19:04:17.154Z"
   },
   {
    "duration": 1327,
    "start_time": "2022-11-09T19:09:54.771Z"
   },
   {
    "duration": 1232,
    "start_time": "2022-11-09T19:10:08.864Z"
   },
   {
    "duration": 1398,
    "start_time": "2022-11-09T19:10:28.819Z"
   },
   {
    "duration": 1264,
    "start_time": "2022-11-09T19:10:34.319Z"
   },
   {
    "duration": 1276,
    "start_time": "2022-11-09T19:18:14.604Z"
   },
   {
    "duration": 19,
    "start_time": "2022-11-09T19:18:33.433Z"
   },
   {
    "duration": 21,
    "start_time": "2022-11-09T19:18:39.842Z"
   },
   {
    "duration": 18,
    "start_time": "2022-11-09T19:18:40.554Z"
   },
   {
    "duration": 19,
    "start_time": "2022-11-09T19:18:40.798Z"
   },
   {
    "duration": 21,
    "start_time": "2022-11-09T19:18:40.994Z"
   },
   {
    "duration": 122,
    "start_time": "2022-11-09T19:19:43.089Z"
   },
   {
    "duration": 1150,
    "start_time": "2022-11-09T19:21:34.698Z"
   },
   {
    "duration": 131,
    "start_time": "2022-11-09T19:21:59.389Z"
   },
   {
    "duration": 132,
    "start_time": "2022-11-09T19:22:12.183Z"
   },
   {
    "duration": 130,
    "start_time": "2022-11-09T19:36:03.802Z"
   },
   {
    "duration": 130,
    "start_time": "2022-11-09T19:36:13.741Z"
   },
   {
    "duration": 148,
    "start_time": "2022-11-09T19:36:55.525Z"
   },
   {
    "duration": 158,
    "start_time": "2022-11-09T19:36:59.750Z"
   },
   {
    "duration": 115,
    "start_time": "2022-11-09T19:37:38.212Z"
   },
   {
    "duration": 133,
    "start_time": "2022-11-09T19:38:05.473Z"
   },
   {
    "duration": 129,
    "start_time": "2022-11-09T19:38:31.548Z"
   },
   {
    "duration": 144,
    "start_time": "2022-11-09T19:38:58.293Z"
   },
   {
    "duration": 8,
    "start_time": "2022-11-09T20:00:33.739Z"
   },
   {
    "duration": 29,
    "start_time": "2022-11-09T20:00:40.638Z"
   },
   {
    "duration": 51,
    "start_time": "2022-11-10T03:20:38.284Z"
   },
   {
    "duration": 48,
    "start_time": "2022-11-10T03:20:47.636Z"
   },
   {
    "duration": 51,
    "start_time": "2022-11-10T03:21:40.032Z"
   },
   {
    "duration": 1274,
    "start_time": "2022-11-10T03:21:47.700Z"
   },
   {
    "duration": 386,
    "start_time": "2022-11-10T03:21:48.976Z"
   },
   {
    "duration": 46,
    "start_time": "2022-11-10T03:21:49.364Z"
   },
   {
    "duration": 22,
    "start_time": "2022-11-10T03:21:49.412Z"
   },
   {
    "duration": 2045,
    "start_time": "2022-11-10T03:21:49.436Z"
   },
   {
    "duration": 9,
    "start_time": "2022-11-10T03:21:51.483Z"
   },
   {
    "duration": 7,
    "start_time": "2022-11-10T03:21:51.494Z"
   },
   {
    "duration": 14,
    "start_time": "2022-11-10T03:21:51.502Z"
   },
   {
    "duration": 13,
    "start_time": "2022-11-10T03:21:51.517Z"
   },
   {
    "duration": 9,
    "start_time": "2022-11-10T03:21:51.533Z"
   },
   {
    "duration": 20,
    "start_time": "2022-11-10T03:21:51.544Z"
   },
   {
    "duration": 32,
    "start_time": "2022-11-10T03:21:51.566Z"
   },
   {
    "duration": 99,
    "start_time": "2022-11-10T03:21:51.600Z"
   },
   {
    "duration": 5,
    "start_time": "2022-11-10T03:21:51.701Z"
   },
   {
    "duration": 16,
    "start_time": "2022-11-10T03:21:51.708Z"
   },
   {
    "duration": 42,
    "start_time": "2022-11-10T03:21:51.726Z"
   },
   {
    "duration": 19,
    "start_time": "2022-11-10T03:21:51.770Z"
   },
   {
    "duration": 4,
    "start_time": "2022-11-10T03:21:51.790Z"
   },
   {
    "duration": 6,
    "start_time": "2022-11-10T03:21:51.796Z"
   },
   {
    "duration": 142,
    "start_time": "2022-11-10T03:21:51.804Z"
   },
   {
    "duration": 25,
    "start_time": "2022-11-10T03:21:51.948Z"
   },
   {
    "duration": 158,
    "start_time": "2022-11-10T03:21:51.976Z"
   },
   {
    "duration": 53,
    "start_time": "2022-11-10T03:21:52.149Z"
   },
   {
    "duration": 8,
    "start_time": "2022-11-10T03:21:52.204Z"
   },
   {
    "duration": 9,
    "start_time": "2022-11-10T03:21:52.213Z"
   },
   {
    "duration": 41,
    "start_time": "2022-11-10T03:21:52.224Z"
   },
   {
    "duration": 22,
    "start_time": "2022-11-10T03:21:52.267Z"
   },
   {
    "duration": 128,
    "start_time": "2022-11-10T03:21:52.293Z"
   },
   {
    "duration": 9,
    "start_time": "2022-11-10T03:21:52.423Z"
   },
   {
    "duration": 61,
    "start_time": "2022-11-10T03:21:52.434Z"
   },
   {
    "duration": 9,
    "start_time": "2022-11-10T03:21:52.496Z"
   },
   {
    "duration": 4,
    "start_time": "2022-11-10T03:21:52.506Z"
   },
   {
    "duration": 13,
    "start_time": "2022-11-10T03:21:52.511Z"
   },
   {
    "duration": 23,
    "start_time": "2022-11-10T03:21:52.526Z"
   },
   {
    "duration": 22,
    "start_time": "2022-11-10T03:21:52.551Z"
   },
   {
    "duration": 7,
    "start_time": "2022-11-10T03:21:52.574Z"
   },
   {
    "duration": 6,
    "start_time": "2022-11-10T03:21:52.583Z"
   },
   {
    "duration": 7,
    "start_time": "2022-11-10T03:21:52.590Z"
   },
   {
    "duration": 234,
    "start_time": "2022-11-10T03:21:52.599Z"
   },
   {
    "duration": 4,
    "start_time": "2022-11-10T03:21:52.835Z"
   },
   {
    "duration": 32,
    "start_time": "2022-11-10T03:21:52.845Z"
   },
   {
    "duration": 2626,
    "start_time": "2022-11-10T03:21:52.879Z"
   },
   {
    "duration": 151,
    "start_time": "2022-11-10T03:21:55.507Z"
   },
   {
    "duration": 9,
    "start_time": "2022-11-10T03:21:55.661Z"
   },
   {
    "duration": 16,
    "start_time": "2022-11-10T03:21:55.673Z"
   },
   {
    "duration": 145,
    "start_time": "2022-11-10T03:21:55.690Z"
   },
   {
    "duration": 241,
    "start_time": "2022-11-10T03:21:55.837Z"
   },
   {
    "duration": 8,
    "start_time": "2022-11-10T03:21:56.080Z"
   },
   {
    "duration": 153,
    "start_time": "2022-11-10T03:21:56.089Z"
   },
   {
    "duration": 160,
    "start_time": "2022-11-10T03:21:56.244Z"
   },
   {
    "duration": 172,
    "start_time": "2022-11-10T03:21:56.406Z"
   },
   {
    "duration": 270,
    "start_time": "2022-11-10T03:21:56.580Z"
   },
   {
    "duration": 135,
    "start_time": "2022-11-10T03:21:56.853Z"
   },
   {
    "duration": 148,
    "start_time": "2022-11-10T03:21:56.990Z"
   },
   {
    "duration": 157,
    "start_time": "2022-11-10T03:21:57.140Z"
   },
   {
    "duration": 169,
    "start_time": "2022-11-10T03:21:57.299Z"
   },
   {
    "duration": 106,
    "start_time": "2022-11-10T03:21:57.470Z"
   },
   {
    "duration": 28,
    "start_time": "2022-11-10T03:22:31.475Z"
   },
   {
    "duration": 14,
    "start_time": "2022-11-10T03:22:38.912Z"
   },
   {
    "duration": 34,
    "start_time": "2022-11-10T03:23:37.672Z"
   },
   {
    "duration": 36,
    "start_time": "2022-11-10T03:24:22.254Z"
   },
   {
    "duration": 52,
    "start_time": "2022-11-10T03:24:36.131Z"
   },
   {
    "duration": 35,
    "start_time": "2022-11-10T03:24:50.741Z"
   },
   {
    "duration": 37,
    "start_time": "2022-11-10T03:25:31.436Z"
   },
   {
    "duration": 47,
    "start_time": "2022-11-10T03:27:37.620Z"
   },
   {
    "duration": 196,
    "start_time": "2022-11-10T03:32:06.877Z"
   },
   {
    "duration": 29,
    "start_time": "2022-11-10T03:32:29.414Z"
   },
   {
    "duration": 12,
    "start_time": "2022-11-10T03:32:33.527Z"
   },
   {
    "duration": 28,
    "start_time": "2022-11-10T03:32:39.742Z"
   },
   {
    "duration": 11,
    "start_time": "2022-11-10T03:32:42.122Z"
   },
   {
    "duration": 31,
    "start_time": "2022-11-10T03:33:12.179Z"
   },
   {
    "duration": 12,
    "start_time": "2022-11-10T03:33:14.598Z"
   },
   {
    "duration": 28,
    "start_time": "2022-11-10T03:33:34.951Z"
   },
   {
    "duration": 11,
    "start_time": "2022-11-10T03:33:38.526Z"
   },
   {
    "duration": 35,
    "start_time": "2022-11-10T03:33:44.529Z"
   },
   {
    "duration": 11,
    "start_time": "2022-11-10T03:33:47.564Z"
   },
   {
    "duration": 34,
    "start_time": "2022-11-10T03:34:22.037Z"
   },
   {
    "duration": 9,
    "start_time": "2022-11-10T03:34:26.990Z"
   },
   {
    "duration": 34,
    "start_time": "2022-11-10T03:34:37.136Z"
   },
   {
    "duration": 8,
    "start_time": "2022-11-10T03:34:39.201Z"
   },
   {
    "duration": 15,
    "start_time": "2022-11-10T03:36:16.243Z"
   },
   {
    "duration": 53,
    "start_time": "2022-11-10T03:36:25.218Z"
   },
   {
    "duration": 48,
    "start_time": "2022-11-10T03:36:33.491Z"
   },
   {
    "duration": 69,
    "start_time": "2022-11-10T03:36:37.809Z"
   },
   {
    "duration": 40,
    "start_time": "2022-11-10T03:36:41.797Z"
   },
   {
    "duration": 55,
    "start_time": "2022-11-10T03:36:50.746Z"
   },
   {
    "duration": 51,
    "start_time": "2022-11-10T03:37:00.653Z"
   },
   {
    "duration": 11,
    "start_time": "2022-11-10T03:37:04.838Z"
   },
   {
    "duration": 8,
    "start_time": "2022-11-10T03:37:13.514Z"
   },
   {
    "duration": 11,
    "start_time": "2022-11-10T03:37:18.358Z"
   },
   {
    "duration": 19,
    "start_time": "2022-11-10T03:38:11.991Z"
   },
   {
    "duration": 8,
    "start_time": "2022-11-10T03:38:14.657Z"
   },
   {
    "duration": 12,
    "start_time": "2022-11-10T03:38:31.640Z"
   },
   {
    "duration": 12,
    "start_time": "2022-11-10T03:38:44.661Z"
   },
   {
    "duration": 32,
    "start_time": "2022-11-10T03:44:39.421Z"
   },
   {
    "duration": 19,
    "start_time": "2022-11-10T03:44:52.832Z"
   },
   {
    "duration": 42,
    "start_time": "2022-11-10T03:45:16.580Z"
   },
   {
    "duration": 38,
    "start_time": "2022-11-10T03:51:34.249Z"
   },
   {
    "duration": 139,
    "start_time": "2022-11-10T03:51:43.329Z"
   },
   {
    "duration": 180,
    "start_time": "2022-11-10T03:52:07.203Z"
   },
   {
    "duration": 224,
    "start_time": "2022-11-10T03:52:13.437Z"
   },
   {
    "duration": 3,
    "start_time": "2022-11-10T03:58:54.333Z"
   },
   {
    "duration": 110,
    "start_time": "2022-11-10T03:58:54.338Z"
   },
   {
    "duration": 38,
    "start_time": "2022-11-10T03:58:54.450Z"
   },
   {
    "duration": 17,
    "start_time": "2022-11-10T03:58:54.490Z"
   },
   {
    "duration": 1966,
    "start_time": "2022-11-10T03:58:54.510Z"
   },
   {
    "duration": 10,
    "start_time": "2022-11-10T03:58:56.477Z"
   },
   {
    "duration": 5,
    "start_time": "2022-11-10T03:58:56.489Z"
   },
   {
    "duration": 5,
    "start_time": "2022-11-10T03:58:56.496Z"
   },
   {
    "duration": 7,
    "start_time": "2022-11-10T03:58:56.502Z"
   },
   {
    "duration": 8,
    "start_time": "2022-11-10T03:58:56.511Z"
   },
   {
    "duration": 25,
    "start_time": "2022-11-10T03:58:56.521Z"
   },
   {
    "duration": 14,
    "start_time": "2022-11-10T03:58:56.547Z"
   },
   {
    "duration": 6,
    "start_time": "2022-11-10T03:58:56.563Z"
   },
   {
    "duration": 4,
    "start_time": "2022-11-10T03:58:56.570Z"
   },
   {
    "duration": 12,
    "start_time": "2022-11-10T03:58:56.576Z"
   },
   {
    "duration": 24,
    "start_time": "2022-11-10T03:58:56.590Z"
   },
   {
    "duration": 45,
    "start_time": "2022-11-10T03:58:56.616Z"
   },
   {
    "duration": 3,
    "start_time": "2022-11-10T03:58:56.662Z"
   },
   {
    "duration": 15,
    "start_time": "2022-11-10T03:58:56.667Z"
   },
   {
    "duration": 98,
    "start_time": "2022-11-10T03:58:56.683Z"
   },
   {
    "duration": 17,
    "start_time": "2022-11-10T03:58:56.783Z"
   },
   {
    "duration": 120,
    "start_time": "2022-11-10T03:58:56.801Z"
   },
   {
    "duration": 47,
    "start_time": "2022-11-10T03:58:56.922Z"
   },
   {
    "duration": 8,
    "start_time": "2022-11-10T03:58:56.970Z"
   },
   {
    "duration": 4,
    "start_time": "2022-11-10T03:58:56.980Z"
   },
   {
    "duration": 10,
    "start_time": "2022-11-10T03:58:56.985Z"
   },
   {
    "duration": 8,
    "start_time": "2022-11-10T03:58:56.997Z"
   },
   {
    "duration": 141,
    "start_time": "2022-11-10T03:58:57.006Z"
   },
   {
    "duration": 8,
    "start_time": "2022-11-10T03:58:57.148Z"
   },
   {
    "duration": 43,
    "start_time": "2022-11-10T03:58:57.157Z"
   },
   {
    "duration": 8,
    "start_time": "2022-11-10T03:58:57.202Z"
   },
   {
    "duration": 3,
    "start_time": "2022-11-10T03:58:57.212Z"
   },
   {
    "duration": 31,
    "start_time": "2022-11-10T03:58:57.216Z"
   },
   {
    "duration": 6,
    "start_time": "2022-11-10T03:58:57.249Z"
   },
   {
    "duration": 13,
    "start_time": "2022-11-10T03:58:57.257Z"
   },
   {
    "duration": 8,
    "start_time": "2022-11-10T03:58:57.271Z"
   },
   {
    "duration": 5,
    "start_time": "2022-11-10T03:58:57.283Z"
   },
   {
    "duration": 5,
    "start_time": "2022-11-10T03:58:57.289Z"
   },
   {
    "duration": 220,
    "start_time": "2022-11-10T03:58:57.296Z"
   },
   {
    "duration": 5,
    "start_time": "2022-11-10T03:58:57.518Z"
   },
   {
    "duration": 31,
    "start_time": "2022-11-10T03:58:57.525Z"
   },
   {
    "duration": 2319,
    "start_time": "2022-11-10T03:58:57.558Z"
   },
   {
    "duration": 129,
    "start_time": "2022-11-10T03:58:59.879Z"
   },
   {
    "duration": 6,
    "start_time": "2022-11-10T03:59:00.010Z"
   },
   {
    "duration": 21,
    "start_time": "2022-11-10T03:59:00.018Z"
   },
   {
    "duration": 118,
    "start_time": "2022-11-10T03:59:00.040Z"
   },
   {
    "duration": 238,
    "start_time": "2022-11-10T03:59:00.160Z"
   },
   {
    "duration": 8,
    "start_time": "2022-11-10T03:59:00.399Z"
   },
   {
    "duration": 173,
    "start_time": "2022-11-10T03:59:00.409Z"
   },
   {
    "duration": 147,
    "start_time": "2022-11-10T03:59:00.584Z"
   },
   {
    "duration": 155,
    "start_time": "2022-11-10T03:59:00.733Z"
   },
   {
    "duration": 151,
    "start_time": "2022-11-10T03:59:00.890Z"
   },
   {
    "duration": 126,
    "start_time": "2022-11-10T03:59:01.045Z"
   },
   {
    "duration": 140,
    "start_time": "2022-11-10T03:59:01.173Z"
   },
   {
    "duration": 131,
    "start_time": "2022-11-10T03:59:01.315Z"
   },
   {
    "duration": 150,
    "start_time": "2022-11-10T03:59:01.447Z"
   },
   {
    "duration": 18,
    "start_time": "2022-11-10T03:59:01.599Z"
   },
   {
    "duration": 16,
    "start_time": "2022-11-10T03:59:01.618Z"
   },
   {
    "duration": 12,
    "start_time": "2022-11-10T03:59:01.636Z"
   },
   {
    "duration": 23,
    "start_time": "2022-11-10T03:59:01.650Z"
   },
   {
    "duration": 229,
    "start_time": "2022-11-10T03:59:01.676Z"
   },
   {
    "duration": 3403,
    "start_time": "2022-11-10T04:35:35.069Z"
   },
   {
    "duration": 291,
    "start_time": "2022-11-10T04:35:38.474Z"
   },
   {
    "duration": 188,
    "start_time": "2022-11-10T04:35:38.767Z"
   },
   {
    "duration": 92,
    "start_time": "2022-11-10T04:35:38.958Z"
   },
   {
    "duration": 7303,
    "start_time": "2022-11-10T04:35:39.056Z"
   },
   {
    "duration": 89,
    "start_time": "2022-11-10T04:35:46.361Z"
   },
   {
    "duration": 27,
    "start_time": "2022-11-10T04:35:46.452Z"
   },
   {
    "duration": 73,
    "start_time": "2022-11-10T04:35:46.481Z"
   },
   {
    "duration": 25,
    "start_time": "2022-11-10T04:35:46.556Z"
   },
   {
    "duration": 79,
    "start_time": "2022-11-10T04:35:46.583Z"
   },
   {
    "duration": 86,
    "start_time": "2022-11-10T04:35:46.664Z"
   },
   {
    "duration": 22,
    "start_time": "2022-11-10T04:35:46.752Z"
   },
   {
    "duration": 105,
    "start_time": "2022-11-10T04:35:46.776Z"
   },
   {
    "duration": 5,
    "start_time": "2022-11-10T04:35:47.169Z"
   },
   {
    "duration": 79,
    "start_time": "2022-11-10T04:35:47.176Z"
   },
   {
    "duration": 113,
    "start_time": "2022-11-10T04:35:47.256Z"
   },
   {
    "duration": 88,
    "start_time": "2022-11-10T04:35:47.371Z"
   },
   {
    "duration": 88,
    "start_time": "2022-11-10T04:35:47.461Z"
   },
   {
    "duration": 98,
    "start_time": "2022-11-10T04:35:47.551Z"
   },
   {
    "duration": 429,
    "start_time": "2022-11-10T04:35:47.651Z"
   },
   {
    "duration": 28,
    "start_time": "2022-11-10T04:35:48.149Z"
   },
   {
    "duration": 414,
    "start_time": "2022-11-10T04:35:48.253Z"
   },
   {
    "duration": 185,
    "start_time": "2022-11-10T04:35:48.668Z"
   },
   {
    "duration": 11,
    "start_time": "2022-11-10T04:35:48.856Z"
   },
   {
    "duration": 82,
    "start_time": "2022-11-10T04:35:48.869Z"
   },
   {
    "duration": 33,
    "start_time": "2022-11-10T04:35:48.955Z"
   },
   {
    "duration": 11,
    "start_time": "2022-11-10T04:35:49.049Z"
   },
   {
    "duration": 588,
    "start_time": "2022-11-10T04:35:49.063Z"
   },
   {
    "duration": 10,
    "start_time": "2022-11-10T04:35:49.653Z"
   },
   {
    "duration": 202,
    "start_time": "2022-11-10T04:35:49.670Z"
   },
   {
    "duration": 204,
    "start_time": "2022-11-10T04:35:49.874Z"
   },
   {
    "duration": 70,
    "start_time": "2022-11-10T04:35:50.079Z"
   },
   {
    "duration": 96,
    "start_time": "2022-11-10T04:35:50.152Z"
   },
   {
    "duration": 120,
    "start_time": "2022-11-10T04:35:50.250Z"
   },
   {
    "duration": 8,
    "start_time": "2022-11-10T04:35:50.372Z"
   },
   {
    "duration": 72,
    "start_time": "2022-11-10T04:35:50.381Z"
   },
   {
    "duration": 20,
    "start_time": "2022-11-10T04:35:50.455Z"
   },
   {
    "duration": 1070,
    "start_time": "2022-11-10T04:59:04.517Z"
   },
   {
    "duration": 86,
    "start_time": "2022-11-10T04:59:05.589Z"
   },
   {
    "duration": 29,
    "start_time": "2022-11-10T04:59:05.677Z"
   },
   {
    "duration": 13,
    "start_time": "2022-11-10T04:59:05.708Z"
   },
   {
    "duration": 1694,
    "start_time": "2022-11-10T04:59:05.723Z"
   },
   {
    "duration": 8,
    "start_time": "2022-11-10T04:59:07.419Z"
   },
   {
    "duration": 5,
    "start_time": "2022-11-10T04:59:07.428Z"
   },
   {
    "duration": 4,
    "start_time": "2022-11-10T04:59:07.447Z"
   },
   {
    "duration": 6,
    "start_time": "2022-11-10T04:59:07.452Z"
   },
   {
    "duration": 6,
    "start_time": "2022-11-10T04:59:07.460Z"
   },
   {
    "duration": 4,
    "start_time": "2022-11-10T04:59:07.468Z"
   },
   {
    "duration": 15,
    "start_time": "2022-11-10T04:59:07.473Z"
   },
   {
    "duration": 7,
    "start_time": "2022-11-10T04:59:07.489Z"
   },
   {
    "duration": 88,
    "start_time": "2022-11-10T04:59:07.498Z"
   },
   {
    "duration": 11,
    "start_time": "2022-11-10T04:59:07.588Z"
   },
   {
    "duration": 24,
    "start_time": "2022-11-10T04:59:07.600Z"
   },
   {
    "duration": 31,
    "start_time": "2022-11-10T04:59:07.626Z"
   },
   {
    "duration": 4,
    "start_time": "2022-11-10T04:59:07.658Z"
   },
   {
    "duration": 5,
    "start_time": "2022-11-10T04:59:07.663Z"
   },
   {
    "duration": 97,
    "start_time": "2022-11-10T04:59:07.670Z"
   },
   {
    "duration": 16,
    "start_time": "2022-11-10T04:59:07.769Z"
   },
   {
    "duration": 112,
    "start_time": "2022-11-10T04:59:07.786Z"
   },
   {
    "duration": 37,
    "start_time": "2022-11-10T04:59:07.899Z"
   },
   {
    "duration": 8,
    "start_time": "2022-11-10T04:59:07.947Z"
   },
   {
    "duration": 11,
    "start_time": "2022-11-10T04:59:07.957Z"
   },
   {
    "duration": 11,
    "start_time": "2022-11-10T04:59:07.969Z"
   },
   {
    "duration": 11,
    "start_time": "2022-11-10T04:59:07.981Z"
   },
   {
    "duration": 113,
    "start_time": "2022-11-10T04:59:07.995Z"
   },
   {
    "duration": 8,
    "start_time": "2022-11-10T04:59:08.109Z"
   },
   {
    "duration": 52,
    "start_time": "2022-11-10T04:59:08.118Z"
   },
   {
    "duration": 7,
    "start_time": "2022-11-10T04:59:08.171Z"
   },
   {
    "duration": 6,
    "start_time": "2022-11-10T04:59:08.179Z"
   },
   {
    "duration": 10,
    "start_time": "2022-11-10T04:59:08.186Z"
   },
   {
    "duration": 7,
    "start_time": "2022-11-10T04:59:08.197Z"
   },
   {
    "duration": 7,
    "start_time": "2022-11-10T04:59:08.206Z"
   },
   {
    "duration": 5,
    "start_time": "2022-11-10T04:59:08.214Z"
   },
   {
    "duration": 8,
    "start_time": "2022-11-10T04:59:08.221Z"
   },
   {
    "duration": 4,
    "start_time": "2022-11-10T04:59:08.249Z"
   },
   {
    "duration": 205,
    "start_time": "2022-11-10T04:59:08.254Z"
   },
   {
    "duration": 4,
    "start_time": "2022-11-10T04:59:08.461Z"
   },
   {
    "duration": 25,
    "start_time": "2022-11-10T04:59:08.466Z"
   },
   {
    "duration": 2263,
    "start_time": "2022-11-10T04:59:08.493Z"
   },
   {
    "duration": 124,
    "start_time": "2022-11-10T04:59:10.757Z"
   },
   {
    "duration": 6,
    "start_time": "2022-11-10T04:59:10.882Z"
   },
   {
    "duration": 11,
    "start_time": "2022-11-10T04:59:10.890Z"
   },
   {
    "duration": 115,
    "start_time": "2022-11-10T04:59:10.902Z"
   },
   {
    "duration": 214,
    "start_time": "2022-11-10T04:59:11.019Z"
   },
   {
    "duration": 14,
    "start_time": "2022-11-10T04:59:11.235Z"
   },
   {
    "duration": 140,
    "start_time": "2022-11-10T04:59:11.251Z"
   },
   {
    "duration": 146,
    "start_time": "2022-11-10T04:59:11.393Z"
   },
   {
    "duration": 155,
    "start_time": "2022-11-10T04:59:11.540Z"
   },
   {
    "duration": 233,
    "start_time": "2022-11-10T04:59:11.697Z"
   },
   {
    "duration": 106,
    "start_time": "2022-11-10T04:59:11.931Z"
   },
   {
    "duration": 134,
    "start_time": "2022-11-10T04:59:12.039Z"
   },
   {
    "duration": 124,
    "start_time": "2022-11-10T04:59:12.175Z"
   },
   {
    "duration": 138,
    "start_time": "2022-11-10T04:59:12.301Z"
   },
   {
    "duration": 21,
    "start_time": "2022-11-10T04:59:12.440Z"
   },
   {
    "duration": 7,
    "start_time": "2022-11-10T04:59:12.463Z"
   },
   {
    "duration": 10,
    "start_time": "2022-11-10T04:59:12.471Z"
   },
   {
    "duration": 9,
    "start_time": "2022-11-10T04:59:12.482Z"
   },
   {
    "duration": 224,
    "start_time": "2022-11-10T04:59:12.492Z"
   },
   {
    "duration": 1046,
    "start_time": "2022-11-10T05:09:58.789Z"
   },
   {
    "duration": 87,
    "start_time": "2022-11-10T05:09:59.836Z"
   },
   {
    "duration": 29,
    "start_time": "2022-11-10T05:09:59.925Z"
   },
   {
    "duration": 14,
    "start_time": "2022-11-10T05:09:59.955Z"
   },
   {
    "duration": 1797,
    "start_time": "2022-11-10T05:09:59.970Z"
   },
   {
    "duration": 9,
    "start_time": "2022-11-10T05:10:01.769Z"
   },
   {
    "duration": 18,
    "start_time": "2022-11-10T05:10:01.780Z"
   },
   {
    "duration": 18,
    "start_time": "2022-11-10T05:10:01.799Z"
   },
   {
    "duration": 8,
    "start_time": "2022-11-10T05:10:01.818Z"
   },
   {
    "duration": 27,
    "start_time": "2022-11-10T05:10:01.827Z"
   },
   {
    "duration": 5,
    "start_time": "2022-11-10T05:10:01.856Z"
   },
   {
    "duration": 13,
    "start_time": "2022-11-10T05:10:01.862Z"
   },
   {
    "duration": 24,
    "start_time": "2022-11-10T05:10:01.876Z"
   },
   {
    "duration": 5,
    "start_time": "2022-11-10T05:10:01.976Z"
   },
   {
    "duration": 17,
    "start_time": "2022-11-10T05:10:01.982Z"
   },
   {
    "duration": 25,
    "start_time": "2022-11-10T05:10:02.002Z"
   },
   {
    "duration": 26,
    "start_time": "2022-11-10T05:10:02.029Z"
   },
   {
    "duration": 3,
    "start_time": "2022-11-10T05:10:02.057Z"
   },
   {
    "duration": 7,
    "start_time": "2022-11-10T05:10:02.061Z"
   },
   {
    "duration": 104,
    "start_time": "2022-11-10T05:10:02.069Z"
   },
   {
    "duration": 16,
    "start_time": "2022-11-10T05:10:02.175Z"
   },
   {
    "duration": 135,
    "start_time": "2022-11-10T05:10:02.193Z"
   },
   {
    "duration": 44,
    "start_time": "2022-11-10T05:10:02.329Z"
   },
   {
    "duration": 8,
    "start_time": "2022-11-10T05:10:02.375Z"
   },
   {
    "duration": 18,
    "start_time": "2022-11-10T05:10:02.385Z"
   },
   {
    "duration": 50,
    "start_time": "2022-11-10T05:10:02.404Z"
   },
   {
    "duration": 23,
    "start_time": "2022-11-10T05:10:02.455Z"
   },
   {
    "duration": 126,
    "start_time": "2022-11-10T05:10:02.479Z"
   },
   {
    "duration": 8,
    "start_time": "2022-11-10T05:10:02.606Z"
   },
   {
    "duration": 51,
    "start_time": "2022-11-10T05:10:02.615Z"
   },
   {
    "duration": 8,
    "start_time": "2022-11-10T05:10:02.667Z"
   },
   {
    "duration": 6,
    "start_time": "2022-11-10T05:10:02.676Z"
   },
   {
    "duration": 13,
    "start_time": "2022-11-10T05:10:02.683Z"
   },
   {
    "duration": 16,
    "start_time": "2022-11-10T05:10:02.698Z"
   },
   {
    "duration": 15,
    "start_time": "2022-11-10T05:10:02.716Z"
   },
   {
    "duration": 6,
    "start_time": "2022-11-10T05:10:02.733Z"
   },
   {
    "duration": 7,
    "start_time": "2022-11-10T05:10:02.741Z"
   },
   {
    "duration": 12,
    "start_time": "2022-11-10T05:10:02.749Z"
   },
   {
    "duration": 214,
    "start_time": "2022-11-10T05:10:02.762Z"
   },
   {
    "duration": 4,
    "start_time": "2022-11-10T05:10:02.978Z"
   },
   {
    "duration": 21,
    "start_time": "2022-11-10T05:10:02.985Z"
   },
   {
    "duration": 2341,
    "start_time": "2022-11-10T05:10:03.008Z"
   },
   {
    "duration": 140,
    "start_time": "2022-11-10T05:10:05.351Z"
   },
   {
    "duration": 6,
    "start_time": "2022-11-10T05:10:05.492Z"
   },
   {
    "duration": 17,
    "start_time": "2022-11-10T05:10:05.500Z"
   },
   {
    "duration": 123,
    "start_time": "2022-11-10T05:10:05.518Z"
   },
   {
    "duration": 221,
    "start_time": "2022-11-10T05:10:05.648Z"
   },
   {
    "duration": 7,
    "start_time": "2022-11-10T05:10:05.871Z"
   },
   {
    "duration": 136,
    "start_time": "2022-11-10T05:10:05.880Z"
   },
   {
    "duration": 137,
    "start_time": "2022-11-10T05:10:06.018Z"
   },
   {
    "duration": 254,
    "start_time": "2022-11-10T05:10:06.156Z"
   },
   {
    "duration": 149,
    "start_time": "2022-11-10T05:10:06.411Z"
   },
   {
    "duration": 119,
    "start_time": "2022-11-10T05:10:06.561Z"
   },
   {
    "duration": 139,
    "start_time": "2022-11-10T05:10:06.682Z"
   },
   {
    "duration": 128,
    "start_time": "2022-11-10T05:10:06.822Z"
   },
   {
    "duration": 141,
    "start_time": "2022-11-10T05:10:06.951Z"
   },
   {
    "duration": 16,
    "start_time": "2022-11-10T05:10:07.094Z"
   },
   {
    "duration": 7,
    "start_time": "2022-11-10T05:10:07.111Z"
   },
   {
    "duration": 10,
    "start_time": "2022-11-10T05:10:07.119Z"
   },
   {
    "duration": 9,
    "start_time": "2022-11-10T05:10:07.148Z"
   },
   {
    "duration": 218,
    "start_time": "2022-11-10T05:10:07.158Z"
   },
   {
    "duration": 12,
    "start_time": "2022-11-10T05:17:13.843Z"
   },
   {
    "duration": 73,
    "start_time": "2022-11-10T05:17:27.342Z"
   },
   {
    "duration": 6,
    "start_time": "2022-11-10T05:18:25.781Z"
   },
   {
    "duration": 1122,
    "start_time": "2022-11-10T05:23:12.828Z"
   },
   {
    "duration": 91,
    "start_time": "2022-11-10T05:23:13.952Z"
   },
   {
    "duration": 30,
    "start_time": "2022-11-10T05:23:14.044Z"
   },
   {
    "duration": 17,
    "start_time": "2022-11-10T05:23:14.076Z"
   },
   {
    "duration": 1775,
    "start_time": "2022-11-10T05:23:14.095Z"
   },
   {
    "duration": 9,
    "start_time": "2022-11-10T05:23:15.872Z"
   },
   {
    "duration": 6,
    "start_time": "2022-11-10T05:23:15.882Z"
   },
   {
    "duration": 7,
    "start_time": "2022-11-10T05:23:15.890Z"
   },
   {
    "duration": 8,
    "start_time": "2022-11-10T05:23:15.898Z"
   },
   {
    "duration": 8,
    "start_time": "2022-11-10T05:23:15.908Z"
   },
   {
    "duration": 14,
    "start_time": "2022-11-10T05:23:15.917Z"
   },
   {
    "duration": 21,
    "start_time": "2022-11-10T05:23:15.933Z"
   },
   {
    "duration": 10,
    "start_time": "2022-11-10T05:23:15.956Z"
   },
   {
    "duration": 82,
    "start_time": "2022-11-10T05:23:15.968Z"
   },
   {
    "duration": 11,
    "start_time": "2022-11-10T05:23:16.052Z"
   },
   {
    "duration": 28,
    "start_time": "2022-11-10T05:23:16.064Z"
   },
   {
    "duration": 21,
    "start_time": "2022-11-10T05:23:16.093Z"
   },
   {
    "duration": 33,
    "start_time": "2022-11-10T05:23:16.116Z"
   },
   {
    "duration": 7,
    "start_time": "2022-11-10T05:23:16.151Z"
   },
   {
    "duration": 97,
    "start_time": "2022-11-10T05:23:16.159Z"
   },
   {
    "duration": 17,
    "start_time": "2022-11-10T05:23:16.258Z"
   },
   {
    "duration": 118,
    "start_time": "2022-11-10T05:23:16.276Z"
   },
   {
    "duration": 38,
    "start_time": "2022-11-10T05:23:16.396Z"
   },
   {
    "duration": 19,
    "start_time": "2022-11-10T05:23:16.436Z"
   },
   {
    "duration": 6,
    "start_time": "2022-11-10T05:23:16.457Z"
   },
   {
    "duration": 12,
    "start_time": "2022-11-10T05:23:16.464Z"
   },
   {
    "duration": 10,
    "start_time": "2022-11-10T05:23:16.477Z"
   },
   {
    "duration": 144,
    "start_time": "2022-11-10T05:23:16.492Z"
   },
   {
    "duration": 10,
    "start_time": "2022-11-10T05:23:16.647Z"
   },
   {
    "duration": 57,
    "start_time": "2022-11-10T05:23:16.658Z"
   },
   {
    "duration": 9,
    "start_time": "2022-11-10T05:23:16.718Z"
   },
   {
    "duration": 20,
    "start_time": "2022-11-10T05:23:16.728Z"
   },
   {
    "duration": 13,
    "start_time": "2022-11-10T05:23:16.750Z"
   },
   {
    "duration": 14,
    "start_time": "2022-11-10T05:23:16.765Z"
   },
   {
    "duration": 11,
    "start_time": "2022-11-10T05:23:16.780Z"
   },
   {
    "duration": 8,
    "start_time": "2022-11-10T05:23:16.793Z"
   },
   {
    "duration": 7,
    "start_time": "2022-11-10T05:23:16.802Z"
   },
   {
    "duration": 6,
    "start_time": "2022-11-10T05:23:16.810Z"
   },
   {
    "duration": 198,
    "start_time": "2022-11-10T05:23:16.817Z"
   },
   {
    "duration": 3,
    "start_time": "2022-11-10T05:23:17.017Z"
   },
   {
    "duration": 29,
    "start_time": "2022-11-10T05:23:17.022Z"
   },
   {
    "duration": 2354,
    "start_time": "2022-11-10T05:23:17.053Z"
   },
   {
    "duration": 144,
    "start_time": "2022-11-10T05:23:19.409Z"
   },
   {
    "duration": 6,
    "start_time": "2022-11-10T05:23:19.555Z"
   },
   {
    "duration": 14,
    "start_time": "2022-11-10T05:23:19.562Z"
   },
   {
    "duration": 126,
    "start_time": "2022-11-10T05:23:19.577Z"
   },
   {
    "duration": 228,
    "start_time": "2022-11-10T05:23:19.705Z"
   },
   {
    "duration": 20,
    "start_time": "2022-11-10T05:23:19.934Z"
   },
   {
    "duration": 135,
    "start_time": "2022-11-10T05:23:19.955Z"
   },
   {
    "duration": 146,
    "start_time": "2022-11-10T05:23:20.092Z"
   },
   {
    "duration": 160,
    "start_time": "2022-11-10T05:23:20.240Z"
   },
   {
    "duration": 255,
    "start_time": "2022-11-10T05:23:20.401Z"
   },
   {
    "duration": 120,
    "start_time": "2022-11-10T05:23:20.658Z"
   },
   {
    "duration": 139,
    "start_time": "2022-11-10T05:23:20.779Z"
   },
   {
    "duration": 132,
    "start_time": "2022-11-10T05:23:20.919Z"
   },
   {
    "duration": 156,
    "start_time": "2022-11-10T05:23:21.053Z"
   },
   {
    "duration": 17,
    "start_time": "2022-11-10T05:23:21.210Z"
   },
   {
    "duration": 25,
    "start_time": "2022-11-10T05:23:21.228Z"
   },
   {
    "duration": 12,
    "start_time": "2022-11-10T05:23:21.254Z"
   },
   {
    "duration": 10,
    "start_time": "2022-11-10T05:23:21.268Z"
   },
   {
    "duration": 245,
    "start_time": "2022-11-10T05:23:21.280Z"
   },
   {
    "duration": 50,
    "start_time": "2022-11-10T06:14:52.439Z"
   },
   {
    "duration": 1427,
    "start_time": "2022-11-10T06:15:06.944Z"
   },
   {
    "duration": 306,
    "start_time": "2022-11-10T06:15:08.374Z"
   },
   {
    "duration": 37,
    "start_time": "2022-11-10T06:15:08.682Z"
   },
   {
    "duration": 22,
    "start_time": "2022-11-10T06:15:08.722Z"
   },
   {
    "duration": 2024,
    "start_time": "2022-11-10T06:15:08.747Z"
   },
   {
    "duration": 16,
    "start_time": "2022-11-10T06:15:10.772Z"
   },
   {
    "duration": 13,
    "start_time": "2022-11-10T06:15:10.790Z"
   },
   {
    "duration": 20,
    "start_time": "2022-11-10T06:15:10.805Z"
   },
   {
    "duration": 24,
    "start_time": "2022-11-10T06:15:10.827Z"
   },
   {
    "duration": 22,
    "start_time": "2022-11-10T06:15:10.853Z"
   },
   {
    "duration": 26,
    "start_time": "2022-11-10T06:15:10.877Z"
   },
   {
    "duration": 25,
    "start_time": "2022-11-10T06:15:10.905Z"
   },
   {
    "duration": 18,
    "start_time": "2022-11-10T06:15:10.932Z"
   },
   {
    "duration": 6,
    "start_time": "2022-11-10T06:15:11.043Z"
   },
   {
    "duration": 19,
    "start_time": "2022-11-10T06:15:11.051Z"
   },
   {
    "duration": 43,
    "start_time": "2022-11-10T06:15:11.072Z"
   },
   {
    "duration": 42,
    "start_time": "2022-11-10T06:15:11.117Z"
   },
   {
    "duration": 4,
    "start_time": "2022-11-10T06:15:11.161Z"
   },
   {
    "duration": 19,
    "start_time": "2022-11-10T06:15:11.167Z"
   },
   {
    "duration": 117,
    "start_time": "2022-11-10T06:15:11.188Z"
   },
   {
    "duration": 26,
    "start_time": "2022-11-10T06:15:11.307Z"
   },
   {
    "duration": 130,
    "start_time": "2022-11-10T06:15:11.335Z"
   },
   {
    "duration": 55,
    "start_time": "2022-11-10T06:15:11.467Z"
   },
   {
    "duration": 9,
    "start_time": "2022-11-10T06:15:11.524Z"
   },
   {
    "duration": 6,
    "start_time": "2022-11-10T06:15:11.535Z"
   },
   {
    "duration": 19,
    "start_time": "2022-11-10T06:15:11.542Z"
   },
   {
    "duration": 20,
    "start_time": "2022-11-10T06:15:11.563Z"
   },
   {
    "duration": 138,
    "start_time": "2022-11-10T06:15:11.584Z"
   },
   {
    "duration": 9,
    "start_time": "2022-11-10T06:15:11.723Z"
   },
   {
    "duration": 62,
    "start_time": "2022-11-10T06:15:11.734Z"
   },
   {
    "duration": 9,
    "start_time": "2022-11-10T06:15:11.797Z"
   },
   {
    "duration": 12,
    "start_time": "2022-11-10T06:15:11.807Z"
   },
   {
    "duration": 25,
    "start_time": "2022-11-10T06:15:11.821Z"
   },
   {
    "duration": 16,
    "start_time": "2022-11-10T06:15:11.848Z"
   },
   {
    "duration": 23,
    "start_time": "2022-11-10T06:15:11.866Z"
   },
   {
    "duration": 14,
    "start_time": "2022-11-10T06:15:11.890Z"
   },
   {
    "duration": 30,
    "start_time": "2022-11-10T06:15:11.906Z"
   },
   {
    "duration": 20,
    "start_time": "2022-11-10T06:15:11.937Z"
   },
   {
    "duration": 234,
    "start_time": "2022-11-10T06:15:11.959Z"
   },
   {
    "duration": 5,
    "start_time": "2022-11-10T06:15:12.194Z"
   },
   {
    "duration": 46,
    "start_time": "2022-11-10T06:15:12.203Z"
   },
   {
    "duration": 2566,
    "start_time": "2022-11-10T06:15:12.250Z"
   },
   {
    "duration": 147,
    "start_time": "2022-11-10T06:15:14.818Z"
   },
   {
    "duration": 7,
    "start_time": "2022-11-10T06:15:14.967Z"
   },
   {
    "duration": 18,
    "start_time": "2022-11-10T06:15:14.976Z"
   },
   {
    "duration": 141,
    "start_time": "2022-11-10T06:15:14.996Z"
   },
   {
    "duration": 236,
    "start_time": "2022-11-10T06:15:15.139Z"
   },
   {
    "duration": 8,
    "start_time": "2022-11-10T06:15:15.376Z"
   },
   {
    "duration": 152,
    "start_time": "2022-11-10T06:15:15.386Z"
   },
   {
    "duration": 167,
    "start_time": "2022-11-10T06:15:15.540Z"
   },
   {
    "duration": 252,
    "start_time": "2022-11-10T06:15:15.709Z"
   },
   {
    "duration": 158,
    "start_time": "2022-11-10T06:15:15.963Z"
   },
   {
    "duration": 134,
    "start_time": "2022-11-10T06:15:16.123Z"
   },
   {
    "duration": 188,
    "start_time": "2022-11-10T06:15:16.259Z"
   },
   {
    "duration": 166,
    "start_time": "2022-11-10T06:15:16.450Z"
   },
   {
    "duration": 153,
    "start_time": "2022-11-10T06:15:16.619Z"
   },
   {
    "duration": 34,
    "start_time": "2022-11-10T06:15:16.774Z"
   },
   {
    "duration": 11,
    "start_time": "2022-11-10T06:15:16.810Z"
   },
   {
    "duration": 15,
    "start_time": "2022-11-10T06:15:16.823Z"
   },
   {
    "duration": 15,
    "start_time": "2022-11-10T06:15:16.839Z"
   },
   {
    "duration": 247,
    "start_time": "2022-11-10T06:15:16.855Z"
   },
   {
    "duration": 80,
    "start_time": "2022-11-10T06:24:18.197Z"
   },
   {
    "duration": 16,
    "start_time": "2022-11-10T06:24:25.586Z"
   },
   {
    "duration": 1230,
    "start_time": "2022-11-10T06:25:10.280Z"
   },
   {
    "duration": 117,
    "start_time": "2022-11-10T06:25:11.512Z"
   },
   {
    "duration": 38,
    "start_time": "2022-11-10T06:25:11.630Z"
   },
   {
    "duration": 19,
    "start_time": "2022-11-10T06:25:11.671Z"
   },
   {
    "duration": 2259,
    "start_time": "2022-11-10T06:25:11.692Z"
   },
   {
    "duration": 13,
    "start_time": "2022-11-10T06:25:13.954Z"
   },
   {
    "duration": 9,
    "start_time": "2022-11-10T06:25:13.969Z"
   },
   {
    "duration": 25,
    "start_time": "2022-11-10T06:25:13.980Z"
   },
   {
    "duration": 19,
    "start_time": "2022-11-10T06:25:14.007Z"
   },
   {
    "duration": 32,
    "start_time": "2022-11-10T06:25:14.030Z"
   },
   {
    "duration": 13,
    "start_time": "2022-11-10T06:25:14.064Z"
   },
   {
    "duration": 23,
    "start_time": "2022-11-10T06:25:14.080Z"
   },
   {
    "duration": 34,
    "start_time": "2022-11-10T06:25:14.105Z"
   },
   {
    "duration": 124,
    "start_time": "2022-11-10T06:25:14.142Z"
   },
   {
    "duration": 27,
    "start_time": "2022-11-10T06:25:14.269Z"
   },
   {
    "duration": 45,
    "start_time": "2022-11-10T06:25:14.298Z"
   },
   {
    "duration": 30,
    "start_time": "2022-11-10T06:25:14.344Z"
   },
   {
    "duration": 7,
    "start_time": "2022-11-10T06:25:14.376Z"
   },
   {
    "duration": 45,
    "start_time": "2022-11-10T06:25:14.386Z"
   },
   {
    "duration": 0,
    "start_time": "2022-11-10T06:25:14.435Z"
   },
   {
    "duration": 0,
    "start_time": "2022-11-10T06:25:14.436Z"
   },
   {
    "duration": 0,
    "start_time": "2022-11-10T06:25:14.438Z"
   },
   {
    "duration": 0,
    "start_time": "2022-11-10T06:25:14.439Z"
   },
   {
    "duration": 0,
    "start_time": "2022-11-10T06:25:14.440Z"
   },
   {
    "duration": 0,
    "start_time": "2022-11-10T06:25:14.441Z"
   },
   {
    "duration": 0,
    "start_time": "2022-11-10T06:25:14.442Z"
   },
   {
    "duration": 0,
    "start_time": "2022-11-10T06:25:14.443Z"
   },
   {
    "duration": 0,
    "start_time": "2022-11-10T06:25:14.445Z"
   },
   {
    "duration": 0,
    "start_time": "2022-11-10T06:25:14.446Z"
   },
   {
    "duration": 0,
    "start_time": "2022-11-10T06:25:14.448Z"
   },
   {
    "duration": 0,
    "start_time": "2022-11-10T06:25:14.449Z"
   },
   {
    "duration": 0,
    "start_time": "2022-11-10T06:25:14.450Z"
   },
   {
    "duration": 0,
    "start_time": "2022-11-10T06:25:14.451Z"
   },
   {
    "duration": 0,
    "start_time": "2022-11-10T06:25:14.452Z"
   },
   {
    "duration": 0,
    "start_time": "2022-11-10T06:25:14.453Z"
   },
   {
    "duration": 0,
    "start_time": "2022-11-10T06:25:14.454Z"
   },
   {
    "duration": 0,
    "start_time": "2022-11-10T06:25:14.455Z"
   },
   {
    "duration": 0,
    "start_time": "2022-11-10T06:25:14.457Z"
   },
   {
    "duration": 0,
    "start_time": "2022-11-10T06:25:14.458Z"
   },
   {
    "duration": 0,
    "start_time": "2022-11-10T06:25:14.459Z"
   },
   {
    "duration": 0,
    "start_time": "2022-11-10T06:25:14.460Z"
   },
   {
    "duration": 0,
    "start_time": "2022-11-10T06:25:14.461Z"
   },
   {
    "duration": 0,
    "start_time": "2022-11-10T06:25:14.462Z"
   },
   {
    "duration": 0,
    "start_time": "2022-11-10T06:25:14.463Z"
   },
   {
    "duration": 0,
    "start_time": "2022-11-10T06:25:14.464Z"
   },
   {
    "duration": 0,
    "start_time": "2022-11-10T06:25:14.465Z"
   },
   {
    "duration": 0,
    "start_time": "2022-11-10T06:25:14.468Z"
   },
   {
    "duration": 0,
    "start_time": "2022-11-10T06:25:14.520Z"
   },
   {
    "duration": 0,
    "start_time": "2022-11-10T06:25:14.522Z"
   },
   {
    "duration": 0,
    "start_time": "2022-11-10T06:25:14.524Z"
   },
   {
    "duration": 0,
    "start_time": "2022-11-10T06:25:14.526Z"
   },
   {
    "duration": 0,
    "start_time": "2022-11-10T06:25:14.528Z"
   },
   {
    "duration": 0,
    "start_time": "2022-11-10T06:25:14.531Z"
   },
   {
    "duration": 0,
    "start_time": "2022-11-10T06:25:14.532Z"
   },
   {
    "duration": 0,
    "start_time": "2022-11-10T06:25:14.534Z"
   },
   {
    "duration": 0,
    "start_time": "2022-11-10T06:25:14.536Z"
   },
   {
    "duration": 0,
    "start_time": "2022-11-10T06:25:14.538Z"
   },
   {
    "duration": 0,
    "start_time": "2022-11-10T06:25:14.540Z"
   },
   {
    "duration": 0,
    "start_time": "2022-11-10T06:25:14.542Z"
   },
   {
    "duration": 0,
    "start_time": "2022-11-10T06:25:14.543Z"
   },
   {
    "duration": 0,
    "start_time": "2022-11-10T06:25:14.545Z"
   },
   {
    "duration": 3,
    "start_time": "2022-11-10T06:25:42.536Z"
   },
   {
    "duration": 95,
    "start_time": "2022-11-10T06:25:44.488Z"
   },
   {
    "duration": 18,
    "start_time": "2022-11-10T06:25:50.596Z"
   },
   {
    "duration": 106,
    "start_time": "2022-11-10T06:26:33.738Z"
   },
   {
    "duration": 21,
    "start_time": "2022-11-10T06:26:36.259Z"
   },
   {
    "duration": 1227,
    "start_time": "2022-11-10T06:27:29.920Z"
   },
   {
    "duration": 98,
    "start_time": "2022-11-10T06:27:31.149Z"
   },
   {
    "duration": 63,
    "start_time": "2022-11-10T06:27:31.250Z"
   },
   {
    "duration": 24,
    "start_time": "2022-11-10T06:27:31.315Z"
   },
   {
    "duration": 1985,
    "start_time": "2022-11-10T06:27:31.342Z"
   },
   {
    "duration": 9,
    "start_time": "2022-11-10T06:27:33.329Z"
   },
   {
    "duration": 23,
    "start_time": "2022-11-10T06:27:33.340Z"
   },
   {
    "duration": 18,
    "start_time": "2022-11-10T06:27:33.365Z"
   },
   {
    "duration": 19,
    "start_time": "2022-11-10T06:27:33.386Z"
   },
   {
    "duration": 31,
    "start_time": "2022-11-10T06:27:33.407Z"
   },
   {
    "duration": 15,
    "start_time": "2022-11-10T06:27:33.440Z"
   },
   {
    "duration": 32,
    "start_time": "2022-11-10T06:27:33.456Z"
   },
   {
    "duration": 27,
    "start_time": "2022-11-10T06:27:33.489Z"
   },
   {
    "duration": 7,
    "start_time": "2022-11-10T06:27:33.614Z"
   },
   {
    "duration": 42,
    "start_time": "2022-11-10T06:27:33.622Z"
   },
   {
    "duration": 43,
    "start_time": "2022-11-10T06:27:33.665Z"
   },
   {
    "duration": 25,
    "start_time": "2022-11-10T06:27:33.710Z"
   },
   {
    "duration": 14,
    "start_time": "2022-11-10T06:27:33.736Z"
   },
   {
    "duration": 8,
    "start_time": "2022-11-10T06:27:33.752Z"
   },
   {
    "duration": 117,
    "start_time": "2022-11-10T06:27:33.762Z"
   },
   {
    "duration": 19,
    "start_time": "2022-11-10T06:27:33.880Z"
   },
   {
    "duration": 131,
    "start_time": "2022-11-10T06:27:33.900Z"
   },
   {
    "duration": 43,
    "start_time": "2022-11-10T06:27:34.033Z"
   },
   {
    "duration": 10,
    "start_time": "2022-11-10T06:27:34.078Z"
   },
   {
    "duration": 29,
    "start_time": "2022-11-10T06:27:34.089Z"
   },
   {
    "duration": 10,
    "start_time": "2022-11-10T06:27:34.120Z"
   },
   {
    "duration": 20,
    "start_time": "2022-11-10T06:27:34.132Z"
   },
   {
    "duration": 134,
    "start_time": "2022-11-10T06:27:34.154Z"
   },
   {
    "duration": 9,
    "start_time": "2022-11-10T06:27:34.289Z"
   },
   {
    "duration": 57,
    "start_time": "2022-11-10T06:27:34.300Z"
   },
   {
    "duration": 12,
    "start_time": "2022-11-10T06:27:34.359Z"
   },
   {
    "duration": 5,
    "start_time": "2022-11-10T06:27:34.374Z"
   },
   {
    "duration": 17,
    "start_time": "2022-11-10T06:27:34.381Z"
   },
   {
    "duration": 21,
    "start_time": "2022-11-10T06:27:34.400Z"
   },
   {
    "duration": 9,
    "start_time": "2022-11-10T06:27:34.423Z"
   },
   {
    "duration": 11,
    "start_time": "2022-11-10T06:27:34.435Z"
   },
   {
    "duration": 6,
    "start_time": "2022-11-10T06:27:34.448Z"
   },
   {
    "duration": 10,
    "start_time": "2022-11-10T06:27:34.455Z"
   },
   {
    "duration": 248,
    "start_time": "2022-11-10T06:27:34.466Z"
   },
   {
    "duration": 5,
    "start_time": "2022-11-10T06:27:34.716Z"
   },
   {
    "duration": 25,
    "start_time": "2022-11-10T06:27:34.725Z"
   },
   {
    "duration": 2785,
    "start_time": "2022-11-10T06:27:34.752Z"
   },
   {
    "duration": 162,
    "start_time": "2022-11-10T06:27:37.539Z"
   },
   {
    "duration": 7,
    "start_time": "2022-11-10T06:27:37.703Z"
   },
   {
    "duration": 15,
    "start_time": "2022-11-10T06:27:37.712Z"
   },
   {
    "duration": 134,
    "start_time": "2022-11-10T06:27:37.728Z"
   },
   {
    "duration": 270,
    "start_time": "2022-11-10T06:27:37.864Z"
   },
   {
    "duration": 9,
    "start_time": "2022-11-10T06:27:38.135Z"
   },
   {
    "duration": 160,
    "start_time": "2022-11-10T06:27:38.145Z"
   },
   {
    "duration": 160,
    "start_time": "2022-11-10T06:27:38.306Z"
   },
   {
    "duration": 258,
    "start_time": "2022-11-10T06:27:38.468Z"
   },
   {
    "duration": 172,
    "start_time": "2022-11-10T06:27:38.728Z"
   },
   {
    "duration": 142,
    "start_time": "2022-11-10T06:27:38.901Z"
   },
   {
    "duration": 166,
    "start_time": "2022-11-10T06:27:39.046Z"
   },
   {
    "duration": 153,
    "start_time": "2022-11-10T06:27:39.214Z"
   },
   {
    "duration": 180,
    "start_time": "2022-11-10T06:27:39.369Z"
   },
   {
    "duration": 18,
    "start_time": "2022-11-10T06:27:39.551Z"
   },
   {
    "duration": 8,
    "start_time": "2022-11-10T06:27:39.571Z"
   },
   {
    "duration": 13,
    "start_time": "2022-11-10T06:27:39.581Z"
   },
   {
    "duration": 26,
    "start_time": "2022-11-10T06:27:39.596Z"
   },
   {
    "duration": 237,
    "start_time": "2022-11-10T06:27:39.623Z"
   },
   {
    "duration": 31,
    "start_time": "2022-11-10T06:29:50.507Z"
   },
   {
    "duration": 1246,
    "start_time": "2022-11-10T06:35:46.478Z"
   },
   {
    "duration": 103,
    "start_time": "2022-11-10T06:35:47.726Z"
   },
   {
    "duration": 43,
    "start_time": "2022-11-10T06:35:47.833Z"
   },
   {
    "duration": 21,
    "start_time": "2022-11-10T06:35:47.878Z"
   },
   {
    "duration": 2166,
    "start_time": "2022-11-10T06:35:47.901Z"
   },
   {
    "duration": 9,
    "start_time": "2022-11-10T06:35:50.069Z"
   },
   {
    "duration": 9,
    "start_time": "2022-11-10T06:35:50.080Z"
   },
   {
    "duration": 11,
    "start_time": "2022-11-10T06:35:50.091Z"
   },
   {
    "duration": 38,
    "start_time": "2022-11-10T06:35:50.104Z"
   },
   {
    "duration": 12,
    "start_time": "2022-11-10T06:35:50.145Z"
   },
   {
    "duration": 5,
    "start_time": "2022-11-10T06:35:50.159Z"
   },
   {
    "duration": 23,
    "start_time": "2022-11-10T06:35:50.165Z"
   },
   {
    "duration": 111,
    "start_time": "2022-11-10T06:35:50.190Z"
   },
   {
    "duration": 5,
    "start_time": "2022-11-10T06:35:50.303Z"
   },
   {
    "duration": 144,
    "start_time": "2022-11-10T06:35:50.309Z"
   },
   {
    "duration": 48,
    "start_time": "2022-11-10T06:35:50.454Z"
   },
   {
    "duration": 35,
    "start_time": "2022-11-10T06:35:50.503Z"
   },
   {
    "duration": 5,
    "start_time": "2022-11-10T06:35:50.540Z"
   },
   {
    "duration": 7,
    "start_time": "2022-11-10T06:35:50.546Z"
   },
   {
    "duration": 117,
    "start_time": "2022-11-10T06:35:50.554Z"
   },
   {
    "duration": 18,
    "start_time": "2022-11-10T06:35:50.672Z"
   },
   {
    "duration": 155,
    "start_time": "2022-11-10T06:35:50.692Z"
   },
   {
    "duration": 39,
    "start_time": "2022-11-10T06:35:50.848Z"
   },
   {
    "duration": 9,
    "start_time": "2022-11-10T06:35:50.889Z"
   },
   {
    "duration": 30,
    "start_time": "2022-11-10T06:35:50.899Z"
   },
   {
    "duration": 28,
    "start_time": "2022-11-10T06:35:50.931Z"
   },
   {
    "duration": 11,
    "start_time": "2022-11-10T06:35:50.960Z"
   },
   {
    "duration": 133,
    "start_time": "2022-11-10T06:35:50.975Z"
   },
   {
    "duration": 24,
    "start_time": "2022-11-10T06:35:51.110Z"
   },
   {
    "duration": 46,
    "start_time": "2022-11-10T06:35:51.137Z"
   },
   {
    "duration": 9,
    "start_time": "2022-11-10T06:35:51.185Z"
   },
   {
    "duration": 5,
    "start_time": "2022-11-10T06:35:51.196Z"
   },
   {
    "duration": 21,
    "start_time": "2022-11-10T06:35:51.203Z"
   },
   {
    "duration": 18,
    "start_time": "2022-11-10T06:35:51.227Z"
   },
   {
    "duration": 17,
    "start_time": "2022-11-10T06:35:51.247Z"
   },
   {
    "duration": 6,
    "start_time": "2022-11-10T06:35:51.267Z"
   },
   {
    "duration": 9,
    "start_time": "2022-11-10T06:35:51.275Z"
   },
   {
    "duration": 6,
    "start_time": "2022-11-10T06:35:51.286Z"
   },
   {
    "duration": 245,
    "start_time": "2022-11-10T06:35:51.294Z"
   },
   {
    "duration": 4,
    "start_time": "2022-11-10T06:35:51.541Z"
   },
   {
    "duration": 27,
    "start_time": "2022-11-10T06:35:51.548Z"
   },
   {
    "duration": 2902,
    "start_time": "2022-11-10T06:35:51.576Z"
   },
   {
    "duration": 177,
    "start_time": "2022-11-10T06:35:54.480Z"
   },
   {
    "duration": 7,
    "start_time": "2022-11-10T06:35:54.659Z"
   },
   {
    "duration": 164,
    "start_time": "2022-11-10T06:35:54.668Z"
   },
   {
    "duration": 156,
    "start_time": "2022-11-10T06:35:54.835Z"
   },
   {
    "duration": 270,
    "start_time": "2022-11-10T06:35:54.992Z"
   },
   {
    "duration": 9,
    "start_time": "2022-11-10T06:35:55.264Z"
   },
   {
    "duration": 189,
    "start_time": "2022-11-10T06:35:55.275Z"
   },
   {
    "duration": 170,
    "start_time": "2022-11-10T06:35:55.467Z"
   },
   {
    "duration": 289,
    "start_time": "2022-11-10T06:35:55.641Z"
   },
   {
    "duration": 155,
    "start_time": "2022-11-10T06:35:55.932Z"
   },
   {
    "duration": 143,
    "start_time": "2022-11-10T06:35:56.089Z"
   },
   {
    "duration": 174,
    "start_time": "2022-11-10T06:35:56.234Z"
   },
   {
    "duration": 182,
    "start_time": "2022-11-10T06:35:56.410Z"
   },
   {
    "duration": 186,
    "start_time": "2022-11-10T06:35:56.594Z"
   },
   {
    "duration": 22,
    "start_time": "2022-11-10T06:35:56.783Z"
   },
   {
    "duration": 9,
    "start_time": "2022-11-10T06:35:56.820Z"
   },
   {
    "duration": 11,
    "start_time": "2022-11-10T06:35:56.831Z"
   },
   {
    "duration": 14,
    "start_time": "2022-11-10T06:35:56.843Z"
   },
   {
    "duration": 263,
    "start_time": "2022-11-10T06:35:56.858Z"
   },
   {
    "duration": 48,
    "start_time": "2022-11-10T17:22:27.095Z"
   },
   {
    "duration": 1342,
    "start_time": "2022-11-10T17:27:33.163Z"
   },
   {
    "duration": 317,
    "start_time": "2022-11-10T17:27:34.507Z"
   },
   {
    "duration": 30,
    "start_time": "2022-11-10T17:27:34.825Z"
   },
   {
    "duration": 16,
    "start_time": "2022-11-10T17:27:34.857Z"
   },
   {
    "duration": 2058,
    "start_time": "2022-11-10T17:27:34.875Z"
   },
   {
    "duration": 9,
    "start_time": "2022-11-10T17:27:36.935Z"
   },
   {
    "duration": 4,
    "start_time": "2022-11-10T17:27:36.945Z"
   },
   {
    "duration": 5,
    "start_time": "2022-11-10T17:27:36.950Z"
   },
   {
    "duration": 4,
    "start_time": "2022-11-10T17:27:36.957Z"
   },
   {
    "duration": 9,
    "start_time": "2022-11-10T17:27:36.963Z"
   },
   {
    "duration": 4,
    "start_time": "2022-11-10T17:27:36.974Z"
   },
   {
    "duration": 6,
    "start_time": "2022-11-10T17:27:36.980Z"
   },
   {
    "duration": 5,
    "start_time": "2022-11-10T17:28:54.497Z"
   },
   {
    "duration": 1013,
    "start_time": "2022-11-10T17:39:43.640Z"
   },
   {
    "duration": 4,
    "start_time": "2022-11-10T17:39:54.777Z"
   },
   {
    "duration": 1114,
    "start_time": "2022-11-10T17:40:07.005Z"
   },
   {
    "duration": 90,
    "start_time": "2022-11-10T17:40:08.122Z"
   },
   {
    "duration": 31,
    "start_time": "2022-11-10T17:40:08.214Z"
   },
   {
    "duration": 29,
    "start_time": "2022-11-10T17:40:08.247Z"
   },
   {
    "duration": 2027,
    "start_time": "2022-11-10T17:40:08.278Z"
   },
   {
    "duration": 9,
    "start_time": "2022-11-10T17:40:10.307Z"
   },
   {
    "duration": 3,
    "start_time": "2022-11-10T17:40:10.318Z"
   },
   {
    "duration": 11,
    "start_time": "2022-11-10T17:40:10.323Z"
   },
   {
    "duration": 19,
    "start_time": "2022-11-10T17:40:10.336Z"
   },
   {
    "duration": 9,
    "start_time": "2022-11-10T17:40:10.357Z"
   },
   {
    "duration": 6,
    "start_time": "2022-11-10T17:40:10.369Z"
   },
   {
    "duration": 7,
    "start_time": "2022-11-10T17:40:10.378Z"
   },
   {
    "duration": 7,
    "start_time": "2022-11-10T17:40:10.386Z"
   },
   {
    "duration": 108,
    "start_time": "2022-11-10T17:40:10.396Z"
   },
   {
    "duration": 14,
    "start_time": "2022-11-10T17:40:10.506Z"
   },
   {
    "duration": 6,
    "start_time": "2022-11-10T17:40:10.522Z"
   },
   {
    "duration": 16,
    "start_time": "2022-11-10T17:40:10.530Z"
   },
   {
    "duration": 23,
    "start_time": "2022-11-10T17:40:10.567Z"
   },
   {
    "duration": 19,
    "start_time": "2022-11-10T17:40:10.591Z"
   },
   {
    "duration": 4,
    "start_time": "2022-11-10T17:40:10.612Z"
   },
   {
    "duration": 4,
    "start_time": "2022-11-10T17:40:10.618Z"
   },
   {
    "duration": 124,
    "start_time": "2022-11-10T17:40:10.623Z"
   },
   {
    "duration": 21,
    "start_time": "2022-11-10T17:40:10.749Z"
   },
   {
    "duration": 127,
    "start_time": "2022-11-10T17:40:10.771Z"
   },
   {
    "duration": 37,
    "start_time": "2022-11-10T17:40:10.899Z"
   },
   {
    "duration": 9,
    "start_time": "2022-11-10T17:40:10.938Z"
   },
   {
    "duration": 6,
    "start_time": "2022-11-10T17:40:10.968Z"
   },
   {
    "duration": 12,
    "start_time": "2022-11-10T17:40:10.975Z"
   },
   {
    "duration": 7,
    "start_time": "2022-11-10T17:40:10.989Z"
   },
   {
    "duration": 141,
    "start_time": "2022-11-10T17:40:10.998Z"
   },
   {
    "duration": 8,
    "start_time": "2022-11-10T17:40:11.141Z"
   },
   {
    "duration": 50,
    "start_time": "2022-11-10T17:40:11.151Z"
   },
   {
    "duration": 7,
    "start_time": "2022-11-10T17:40:11.203Z"
   },
   {
    "duration": 3,
    "start_time": "2022-11-10T17:40:11.212Z"
   },
   {
    "duration": 10,
    "start_time": "2022-11-10T17:40:11.217Z"
   },
   {
    "duration": 8,
    "start_time": "2022-11-10T17:40:11.229Z"
   },
   {
    "duration": 8,
    "start_time": "2022-11-10T17:40:11.238Z"
   },
   {
    "duration": 22,
    "start_time": "2022-11-10T17:40:11.248Z"
   },
   {
    "duration": 5,
    "start_time": "2022-11-10T17:40:11.272Z"
   },
   {
    "duration": 6,
    "start_time": "2022-11-10T17:40:11.279Z"
   },
   {
    "duration": 45,
    "start_time": "2022-11-10T17:40:11.289Z"
   },
   {
    "duration": 5,
    "start_time": "2022-11-10T17:40:11.335Z"
   },
   {
    "duration": 37,
    "start_time": "2022-11-10T17:40:11.342Z"
   },
   {
    "duration": 2649,
    "start_time": "2022-11-10T17:40:11.381Z"
   },
   {
    "duration": 147,
    "start_time": "2022-11-10T17:40:14.032Z"
   },
   {
    "duration": 6,
    "start_time": "2022-11-10T17:40:14.180Z"
   },
   {
    "duration": 10,
    "start_time": "2022-11-10T17:40:14.188Z"
   },
   {
    "duration": 138,
    "start_time": "2022-11-10T17:40:14.200Z"
   },
   {
    "duration": 268,
    "start_time": "2022-11-10T17:40:14.340Z"
   },
   {
    "duration": 7,
    "start_time": "2022-11-10T17:40:14.610Z"
   },
   {
    "duration": 157,
    "start_time": "2022-11-10T17:40:14.619Z"
   },
   {
    "duration": 148,
    "start_time": "2022-11-10T17:40:14.778Z"
   },
   {
    "duration": 172,
    "start_time": "2022-11-10T17:40:14.928Z"
   },
   {
    "duration": 256,
    "start_time": "2022-11-10T17:40:15.102Z"
   },
   {
    "duration": 141,
    "start_time": "2022-11-10T17:40:15.359Z"
   },
   {
    "duration": 154,
    "start_time": "2022-11-10T17:40:15.501Z"
   },
   {
    "duration": 145,
    "start_time": "2022-11-10T17:40:15.657Z"
   },
   {
    "duration": 166,
    "start_time": "2022-11-10T17:40:15.804Z"
   },
   {
    "duration": 20,
    "start_time": "2022-11-10T17:40:15.972Z"
   },
   {
    "duration": 23,
    "start_time": "2022-11-10T17:40:15.994Z"
   },
   {
    "duration": 29,
    "start_time": "2022-11-10T17:40:16.019Z"
   },
   {
    "duration": 19,
    "start_time": "2022-11-10T17:40:16.050Z"
   },
   {
    "duration": 234,
    "start_time": "2022-11-10T17:40:16.072Z"
   },
   {
    "duration": 3,
    "start_time": "2022-11-10T17:43:37.254Z"
   },
   {
    "duration": 3,
    "start_time": "2022-11-10T17:45:51.916Z"
   },
   {
    "duration": 16,
    "start_time": "2022-11-10T17:45:54.961Z"
   },
   {
    "duration": 6,
    "start_time": "2022-11-10T17:46:20.362Z"
   },
   {
    "duration": 7,
    "start_time": "2022-11-10T17:46:28.263Z"
   },
   {
    "duration": 1092,
    "start_time": "2022-11-10T17:46:38.722Z"
   },
   {
    "duration": 89,
    "start_time": "2022-11-10T17:46:39.816Z"
   },
   {
    "duration": 30,
    "start_time": "2022-11-10T17:46:39.907Z"
   },
   {
    "duration": 15,
    "start_time": "2022-11-10T17:46:39.938Z"
   },
   {
    "duration": 1914,
    "start_time": "2022-11-10T17:46:39.967Z"
   },
   {
    "duration": 9,
    "start_time": "2022-11-10T17:46:41.882Z"
   },
   {
    "duration": 5,
    "start_time": "2022-11-10T17:46:41.893Z"
   },
   {
    "duration": 15,
    "start_time": "2022-11-10T17:46:41.899Z"
   },
   {
    "duration": 12,
    "start_time": "2022-11-10T17:46:41.915Z"
   },
   {
    "duration": 31,
    "start_time": "2022-11-10T17:46:41.929Z"
   },
   {
    "duration": 7,
    "start_time": "2022-11-10T17:46:41.961Z"
   },
   {
    "duration": 5,
    "start_time": "2022-11-10T17:46:41.970Z"
   },
   {
    "duration": 19,
    "start_time": "2022-11-10T17:46:41.976Z"
   },
   {
    "duration": 11,
    "start_time": "2022-11-10T17:46:41.998Z"
   },
   {
    "duration": 18,
    "start_time": "2022-11-10T17:46:42.011Z"
   },
   {
    "duration": 9,
    "start_time": "2022-11-10T17:46:42.030Z"
   },
   {
    "duration": 19,
    "start_time": "2022-11-10T17:46:42.040Z"
   },
   {
    "duration": 30,
    "start_time": "2022-11-10T17:46:42.060Z"
   },
   {
    "duration": 30,
    "start_time": "2022-11-10T17:46:42.092Z"
   },
   {
    "duration": 8,
    "start_time": "2022-11-10T17:46:42.124Z"
   },
   {
    "duration": 17,
    "start_time": "2022-11-10T17:46:48.492Z"
   },
   {
    "duration": 3,
    "start_time": "2022-11-10T17:47:13.649Z"
   },
   {
    "duration": 94,
    "start_time": "2022-11-10T17:47:15.812Z"
   },
   {
    "duration": 17,
    "start_time": "2022-11-10T17:47:17.984Z"
   },
   {
    "duration": 1154,
    "start_time": "2022-11-10T17:50:46.149Z"
   },
   {
    "duration": 91,
    "start_time": "2022-11-10T17:50:47.305Z"
   },
   {
    "duration": 32,
    "start_time": "2022-11-10T17:50:47.397Z"
   },
   {
    "duration": 14,
    "start_time": "2022-11-10T17:50:47.431Z"
   },
   {
    "duration": 2051,
    "start_time": "2022-11-10T17:50:47.446Z"
   },
   {
    "duration": 10,
    "start_time": "2022-11-10T17:50:49.499Z"
   },
   {
    "duration": 4,
    "start_time": "2022-11-10T17:50:49.511Z"
   },
   {
    "duration": 5,
    "start_time": "2022-11-10T17:50:49.516Z"
   },
   {
    "duration": 7,
    "start_time": "2022-11-10T17:50:49.523Z"
   },
   {
    "duration": 7,
    "start_time": "2022-11-10T17:50:49.532Z"
   },
   {
    "duration": 7,
    "start_time": "2022-11-10T17:50:49.541Z"
   },
   {
    "duration": 13,
    "start_time": "2022-11-10T17:50:49.550Z"
   },
   {
    "duration": 8,
    "start_time": "2022-11-10T17:50:49.565Z"
   },
   {
    "duration": 5,
    "start_time": "2022-11-10T17:50:49.575Z"
   },
   {
    "duration": 105,
    "start_time": "2022-11-10T17:50:49.581Z"
   },
   {
    "duration": 4,
    "start_time": "2022-11-10T17:50:49.688Z"
   },
   {
    "duration": 13,
    "start_time": "2022-11-10T17:50:49.694Z"
   },
   {
    "duration": 25,
    "start_time": "2022-11-10T17:50:49.708Z"
   },
   {
    "duration": 41,
    "start_time": "2022-11-10T17:50:49.735Z"
   },
   {
    "duration": 3,
    "start_time": "2022-11-10T17:50:49.778Z"
   },
   {
    "duration": 105,
    "start_time": "2022-11-10T17:50:49.782Z"
   },
   {
    "duration": 18,
    "start_time": "2022-11-10T17:50:49.889Z"
   },
   {
    "duration": 122,
    "start_time": "2022-11-10T17:50:49.908Z"
   },
   {
    "duration": 50,
    "start_time": "2022-11-10T17:50:50.032Z"
   },
   {
    "duration": 10,
    "start_time": "2022-11-10T17:50:50.083Z"
   },
   {
    "duration": 5,
    "start_time": "2022-11-10T17:50:50.094Z"
   },
   {
    "duration": 9,
    "start_time": "2022-11-10T17:50:50.101Z"
   },
   {
    "duration": 9,
    "start_time": "2022-11-10T17:50:50.113Z"
   },
   {
    "duration": 158,
    "start_time": "2022-11-10T17:50:50.124Z"
   },
   {
    "duration": 8,
    "start_time": "2022-11-10T17:50:50.284Z"
   },
   {
    "duration": 42,
    "start_time": "2022-11-10T17:50:50.294Z"
   },
   {
    "duration": 8,
    "start_time": "2022-11-10T17:50:50.337Z"
   },
   {
    "duration": 24,
    "start_time": "2022-11-10T17:50:50.346Z"
   },
   {
    "duration": 8,
    "start_time": "2022-11-10T17:50:50.371Z"
   },
   {
    "duration": 8,
    "start_time": "2022-11-10T17:50:50.381Z"
   },
   {
    "duration": 6,
    "start_time": "2022-11-10T17:50:50.390Z"
   },
   {
    "duration": 6,
    "start_time": "2022-11-10T17:50:50.398Z"
   },
   {
    "duration": 6,
    "start_time": "2022-11-10T17:50:50.405Z"
   },
   {
    "duration": 5,
    "start_time": "2022-11-10T17:50:50.413Z"
   },
   {
    "duration": 61,
    "start_time": "2022-11-10T17:50:50.420Z"
   },
   {
    "duration": 5,
    "start_time": "2022-11-10T17:50:50.483Z"
   },
   {
    "duration": 28,
    "start_time": "2022-11-10T17:50:50.490Z"
   },
   {
    "duration": 2567,
    "start_time": "2022-11-10T17:50:50.519Z"
   },
   {
    "duration": 142,
    "start_time": "2022-11-10T17:50:53.088Z"
   },
   {
    "duration": 8,
    "start_time": "2022-11-10T17:50:53.232Z"
   },
   {
    "duration": 13,
    "start_time": "2022-11-10T17:50:53.241Z"
   },
   {
    "duration": 135,
    "start_time": "2022-11-10T17:50:53.256Z"
   },
   {
    "duration": 258,
    "start_time": "2022-11-10T17:50:53.393Z"
   },
   {
    "duration": 17,
    "start_time": "2022-11-10T17:50:53.653Z"
   },
   {
    "duration": 157,
    "start_time": "2022-11-10T17:50:53.672Z"
   },
   {
    "duration": 145,
    "start_time": "2022-11-10T17:50:53.831Z"
   },
   {
    "duration": 165,
    "start_time": "2022-11-10T17:50:53.977Z"
   },
   {
    "duration": 268,
    "start_time": "2022-11-10T17:50:54.144Z"
   },
   {
    "duration": 140,
    "start_time": "2022-11-10T17:50:54.414Z"
   },
   {
    "duration": 149,
    "start_time": "2022-11-10T17:50:54.556Z"
   },
   {
    "duration": 151,
    "start_time": "2022-11-10T17:50:54.707Z"
   },
   {
    "duration": 151,
    "start_time": "2022-11-10T17:50:54.859Z"
   },
   {
    "duration": 15,
    "start_time": "2022-11-10T17:50:55.012Z"
   },
   {
    "duration": 12,
    "start_time": "2022-11-10T17:50:55.028Z"
   },
   {
    "duration": 25,
    "start_time": "2022-11-10T17:50:55.042Z"
   },
   {
    "duration": 8,
    "start_time": "2022-11-10T17:50:55.069Z"
   },
   {
    "duration": 228,
    "start_time": "2022-11-10T17:50:55.079Z"
   },
   {
    "duration": 4,
    "start_time": "2022-11-10T17:51:29.778Z"
   },
   {
    "duration": 5,
    "start_time": "2022-11-10T17:51:39.968Z"
   },
   {
    "duration": 4,
    "start_time": "2022-11-10T17:51:51.388Z"
   },
   {
    "duration": 120,
    "start_time": "2022-11-10T17:59:14.242Z"
   },
   {
    "duration": 4,
    "start_time": "2022-11-10T17:59:58.921Z"
   },
   {
    "duration": 13,
    "start_time": "2022-11-10T18:00:04.389Z"
   },
   {
    "duration": 9,
    "start_time": "2022-11-10T18:00:06.931Z"
   },
   {
    "duration": 1138,
    "start_time": "2022-11-10T18:00:14.672Z"
   },
   {
    "duration": 94,
    "start_time": "2022-11-10T18:00:15.812Z"
   },
   {
    "duration": 31,
    "start_time": "2022-11-10T18:00:15.908Z"
   },
   {
    "duration": 29,
    "start_time": "2022-11-10T18:00:15.941Z"
   },
   {
    "duration": 2041,
    "start_time": "2022-11-10T18:00:15.972Z"
   },
   {
    "duration": 9,
    "start_time": "2022-11-10T18:00:18.015Z"
   },
   {
    "duration": 8,
    "start_time": "2022-11-10T18:00:18.025Z"
   },
   {
    "duration": 5,
    "start_time": "2022-11-10T18:00:18.034Z"
   },
   {
    "duration": 8,
    "start_time": "2022-11-10T18:00:18.041Z"
   },
   {
    "duration": 15,
    "start_time": "2022-11-10T18:00:18.051Z"
   },
   {
    "duration": 14,
    "start_time": "2022-11-10T18:00:18.067Z"
   },
   {
    "duration": 4,
    "start_time": "2022-11-10T18:00:18.083Z"
   },
   {
    "duration": 8,
    "start_time": "2022-11-10T18:00:18.089Z"
   },
   {
    "duration": 4,
    "start_time": "2022-11-10T18:00:18.099Z"
   },
   {
    "duration": 109,
    "start_time": "2022-11-10T18:00:18.105Z"
   },
   {
    "duration": 4,
    "start_time": "2022-11-10T18:00:18.216Z"
   },
   {
    "duration": 12,
    "start_time": "2022-11-10T18:00:18.222Z"
   },
   {
    "duration": 36,
    "start_time": "2022-11-10T18:00:18.236Z"
   },
   {
    "duration": 17,
    "start_time": "2022-11-10T18:00:18.273Z"
   },
   {
    "duration": 3,
    "start_time": "2022-11-10T18:00:18.292Z"
   },
   {
    "duration": 125,
    "start_time": "2022-11-10T18:00:18.296Z"
   },
   {
    "duration": 16,
    "start_time": "2022-11-10T18:00:18.423Z"
   },
   {
    "duration": 120,
    "start_time": "2022-11-10T18:00:18.441Z"
   },
   {
    "duration": 34,
    "start_time": "2022-11-10T18:00:18.568Z"
   },
   {
    "duration": 8,
    "start_time": "2022-11-10T18:00:18.604Z"
   },
   {
    "duration": 4,
    "start_time": "2022-11-10T18:00:18.614Z"
   },
   {
    "duration": 9,
    "start_time": "2022-11-10T18:00:18.620Z"
   },
   {
    "duration": 38,
    "start_time": "2022-11-10T18:00:18.633Z"
   },
   {
    "duration": 131,
    "start_time": "2022-11-10T18:00:18.673Z"
   },
   {
    "duration": 10,
    "start_time": "2022-11-10T18:00:18.806Z"
   },
   {
    "duration": 4,
    "start_time": "2022-11-10T18:00:18.818Z"
   },
   {
    "duration": 20,
    "start_time": "2022-11-10T18:00:18.824Z"
   },
   {
    "duration": 30,
    "start_time": "2022-11-10T18:00:18.846Z"
   },
   {
    "duration": 3,
    "start_time": "2022-11-10T18:00:18.878Z"
   },
   {
    "duration": 18,
    "start_time": "2022-11-10T18:00:18.883Z"
   },
   {
    "duration": 16,
    "start_time": "2022-11-10T18:00:18.903Z"
   },
   {
    "duration": 14,
    "start_time": "2022-11-10T18:00:18.920Z"
   },
   {
    "duration": 7,
    "start_time": "2022-11-10T18:00:18.936Z"
   },
   {
    "duration": 7,
    "start_time": "2022-11-10T18:00:18.944Z"
   },
   {
    "duration": 4,
    "start_time": "2022-11-10T18:00:18.952Z"
   },
   {
    "duration": 261,
    "start_time": "2022-11-10T18:00:18.958Z"
   },
   {
    "duration": 113,
    "start_time": "2022-11-10T18:00:19.220Z"
   },
   {
    "duration": 0,
    "start_time": "2022-11-10T18:00:19.334Z"
   },
   {
    "duration": 0,
    "start_time": "2022-11-10T18:00:19.335Z"
   },
   {
    "duration": 0,
    "start_time": "2022-11-10T18:00:19.337Z"
   },
   {
    "duration": 0,
    "start_time": "2022-11-10T18:00:19.338Z"
   },
   {
    "duration": 0,
    "start_time": "2022-11-10T18:00:19.339Z"
   },
   {
    "duration": 0,
    "start_time": "2022-11-10T18:00:19.340Z"
   },
   {
    "duration": 0,
    "start_time": "2022-11-10T18:00:19.341Z"
   },
   {
    "duration": 0,
    "start_time": "2022-11-10T18:00:19.342Z"
   },
   {
    "duration": 1,
    "start_time": "2022-11-10T18:00:19.343Z"
   },
   {
    "duration": 0,
    "start_time": "2022-11-10T18:00:19.345Z"
   },
   {
    "duration": 0,
    "start_time": "2022-11-10T18:00:19.346Z"
   },
   {
    "duration": 0,
    "start_time": "2022-11-10T18:00:19.368Z"
   },
   {
    "duration": 0,
    "start_time": "2022-11-10T18:00:19.369Z"
   },
   {
    "duration": 0,
    "start_time": "2022-11-10T18:00:19.370Z"
   },
   {
    "duration": 0,
    "start_time": "2022-11-10T18:00:19.372Z"
   },
   {
    "duration": 0,
    "start_time": "2022-11-10T18:00:19.373Z"
   },
   {
    "duration": 0,
    "start_time": "2022-11-10T18:00:19.374Z"
   },
   {
    "duration": 0,
    "start_time": "2022-11-10T18:00:19.375Z"
   },
   {
    "duration": 0,
    "start_time": "2022-11-10T18:00:19.376Z"
   },
   {
    "duration": 0,
    "start_time": "2022-11-10T18:00:19.377Z"
   },
   {
    "duration": 0,
    "start_time": "2022-11-10T18:00:19.379Z"
   },
   {
    "duration": 18,
    "start_time": "2022-11-10T18:04:06.481Z"
   },
   {
    "duration": 14,
    "start_time": "2022-11-10T18:04:22.787Z"
   },
   {
    "duration": 14,
    "start_time": "2022-11-10T18:04:39.316Z"
   },
   {
    "duration": 5,
    "start_time": "2022-11-10T18:13:19.893Z"
   },
   {
    "duration": 11,
    "start_time": "2022-11-10T18:13:30.928Z"
   },
   {
    "duration": 4,
    "start_time": "2022-11-10T18:13:41.613Z"
   },
   {
    "duration": 23,
    "start_time": "2022-11-10T18:13:43.640Z"
   },
   {
    "duration": 6,
    "start_time": "2022-11-10T18:18:54.273Z"
   },
   {
    "duration": 24,
    "start_time": "2022-11-10T18:18:57.047Z"
   },
   {
    "duration": 6,
    "start_time": "2022-11-10T18:19:20.089Z"
   },
   {
    "duration": 4,
    "start_time": "2022-11-10T18:19:24.976Z"
   },
   {
    "duration": 21,
    "start_time": "2022-11-10T18:19:27.309Z"
   },
   {
    "duration": 19,
    "start_time": "2022-11-10T18:21:03.246Z"
   },
   {
    "duration": 10,
    "start_time": "2022-11-10T18:21:05.225Z"
   },
   {
    "duration": 1101,
    "start_time": "2022-11-10T18:21:19.905Z"
   },
   {
    "duration": 94,
    "start_time": "2022-11-10T18:21:21.008Z"
   },
   {
    "duration": 31,
    "start_time": "2022-11-10T18:21:21.106Z"
   },
   {
    "duration": 32,
    "start_time": "2022-11-10T18:21:21.139Z"
   },
   {
    "duration": 1896,
    "start_time": "2022-11-10T18:21:21.173Z"
   },
   {
    "duration": 9,
    "start_time": "2022-11-10T18:21:23.071Z"
   },
   {
    "duration": 4,
    "start_time": "2022-11-10T18:21:23.082Z"
   },
   {
    "duration": 14,
    "start_time": "2022-11-10T18:21:23.087Z"
   },
   {
    "duration": 22,
    "start_time": "2022-11-10T18:21:23.103Z"
   },
   {
    "duration": 22,
    "start_time": "2022-11-10T18:21:23.127Z"
   },
   {
    "duration": 16,
    "start_time": "2022-11-10T18:21:23.150Z"
   },
   {
    "duration": 8,
    "start_time": "2022-11-10T18:21:23.168Z"
   },
   {
    "duration": 22,
    "start_time": "2022-11-10T18:21:23.178Z"
   },
   {
    "duration": 90,
    "start_time": "2022-11-10T18:21:23.203Z"
   },
   {
    "duration": 17,
    "start_time": "2022-11-10T18:21:23.294Z"
   },
   {
    "duration": 4,
    "start_time": "2022-11-10T18:21:23.313Z"
   },
   {
    "duration": 13,
    "start_time": "2022-11-10T18:21:23.319Z"
   },
   {
    "duration": 21,
    "start_time": "2022-11-10T18:21:23.334Z"
   },
   {
    "duration": 18,
    "start_time": "2022-11-10T18:21:23.367Z"
   },
   {
    "duration": 3,
    "start_time": "2022-11-10T18:21:23.387Z"
   },
   {
    "duration": 111,
    "start_time": "2022-11-10T18:21:23.392Z"
   },
   {
    "duration": 17,
    "start_time": "2022-11-10T18:21:23.505Z"
   },
   {
    "duration": 126,
    "start_time": "2022-11-10T18:21:23.524Z"
   },
   {
    "duration": 49,
    "start_time": "2022-11-10T18:21:23.652Z"
   },
   {
    "duration": 10,
    "start_time": "2022-11-10T18:21:23.703Z"
   },
   {
    "duration": 16,
    "start_time": "2022-11-10T18:21:23.715Z"
   },
   {
    "duration": 22,
    "start_time": "2022-11-10T18:21:23.733Z"
   },
   {
    "duration": 27,
    "start_time": "2022-11-10T18:21:23.757Z"
   },
   {
    "duration": 127,
    "start_time": "2022-11-10T18:21:23.786Z"
   },
   {
    "duration": 9,
    "start_time": "2022-11-10T18:21:23.915Z"
   },
   {
    "duration": 4,
    "start_time": "2022-11-10T18:21:23.926Z"
   },
   {
    "duration": 36,
    "start_time": "2022-11-10T18:21:23.932Z"
   },
   {
    "duration": 8,
    "start_time": "2022-11-10T18:21:23.970Z"
   },
   {
    "duration": 13,
    "start_time": "2022-11-10T18:21:23.980Z"
   },
   {
    "duration": 17,
    "start_time": "2022-11-10T18:21:23.995Z"
   },
   {
    "duration": 9,
    "start_time": "2022-11-10T18:21:24.014Z"
   },
   {
    "duration": 8,
    "start_time": "2022-11-10T18:21:24.024Z"
   },
   {
    "duration": 6,
    "start_time": "2022-11-10T18:21:24.033Z"
   },
   {
    "duration": 9,
    "start_time": "2022-11-10T18:21:24.041Z"
   },
   {
    "duration": 13,
    "start_time": "2022-11-10T18:21:24.052Z"
   },
   {
    "duration": 248,
    "start_time": "2022-11-10T18:21:24.068Z"
   },
   {
    "duration": 4,
    "start_time": "2022-11-10T18:21:24.318Z"
   },
   {
    "duration": 25,
    "start_time": "2022-11-10T18:21:24.323Z"
   },
   {
    "duration": 2612,
    "start_time": "2022-11-10T18:21:24.350Z"
   },
   {
    "duration": 148,
    "start_time": "2022-11-10T18:21:26.967Z"
   },
   {
    "duration": 7,
    "start_time": "2022-11-10T18:21:27.117Z"
   },
   {
    "duration": 10,
    "start_time": "2022-11-10T18:21:27.125Z"
   },
   {
    "duration": 137,
    "start_time": "2022-11-10T18:21:27.137Z"
   },
   {
    "duration": 272,
    "start_time": "2022-11-10T18:21:27.276Z"
   },
   {
    "duration": 18,
    "start_time": "2022-11-10T18:21:27.550Z"
   },
   {
    "duration": 151,
    "start_time": "2022-11-10T18:21:27.570Z"
   },
   {
    "duration": 255,
    "start_time": "2022-11-10T18:21:27.723Z"
   },
   {
    "duration": 166,
    "start_time": "2022-11-10T18:21:27.980Z"
   },
   {
    "duration": 156,
    "start_time": "2022-11-10T18:21:28.148Z"
   },
   {
    "duration": 140,
    "start_time": "2022-11-10T18:21:28.306Z"
   },
   {
    "duration": 159,
    "start_time": "2022-11-10T18:21:28.449Z"
   },
   {
    "duration": 158,
    "start_time": "2022-11-10T18:21:28.610Z"
   },
   {
    "duration": 177,
    "start_time": "2022-11-10T18:21:28.769Z"
   },
   {
    "duration": 26,
    "start_time": "2022-11-10T18:21:28.948Z"
   },
   {
    "duration": 7,
    "start_time": "2022-11-10T18:21:28.975Z"
   },
   {
    "duration": 13,
    "start_time": "2022-11-10T18:21:28.983Z"
   },
   {
    "duration": 10,
    "start_time": "2022-11-10T18:21:28.997Z"
   },
   {
    "duration": 259,
    "start_time": "2022-11-10T18:21:29.009Z"
   },
   {
    "duration": 225,
    "start_time": "2022-11-10T18:28:18.108Z"
   },
   {
    "duration": 239,
    "start_time": "2022-11-10T18:32:00.464Z"
   },
   {
    "duration": 134,
    "start_time": "2022-11-10T18:32:07.862Z"
   },
   {
    "duration": 46,
    "start_time": "2022-11-10T18:34:15.953Z"
   },
   {
    "duration": 135,
    "start_time": "2022-11-10T18:34:20.494Z"
   },
   {
    "duration": 154,
    "start_time": "2022-11-10T18:34:23.603Z"
   },
   {
    "duration": 143,
    "start_time": "2022-11-10T18:34:57.430Z"
   },
   {
    "duration": 133,
    "start_time": "2022-11-10T18:35:33.260Z"
   },
   {
    "duration": 129,
    "start_time": "2022-11-10T18:38:40.249Z"
   },
   {
    "duration": 2667,
    "start_time": "2022-11-10T18:49:31.920Z"
   },
   {
    "duration": 269,
    "start_time": "2022-11-10T18:49:59.738Z"
   },
   {
    "duration": 123,
    "start_time": "2022-11-10T18:50:06.050Z"
   },
   {
    "duration": 138,
    "start_time": "2022-11-10T18:50:09.209Z"
   },
   {
    "duration": 143,
    "start_time": "2022-11-10T18:50:14.377Z"
   },
   {
    "duration": 137,
    "start_time": "2022-11-10T18:50:20.133Z"
   },
   {
    "duration": 121,
    "start_time": "2022-11-10T18:50:23.216Z"
   },
   {
    "duration": 151,
    "start_time": "2022-11-10T18:50:31.722Z"
   },
   {
    "duration": 176,
    "start_time": "2022-11-10T18:50:35.849Z"
   },
   {
    "duration": 175,
    "start_time": "2022-11-10T18:50:42.797Z"
   },
   {
    "duration": 143,
    "start_time": "2022-11-10T18:50:50.888Z"
   },
   {
    "duration": 182,
    "start_time": "2022-11-10T18:50:59.001Z"
   },
   {
    "duration": 134,
    "start_time": "2022-11-10T18:51:05.646Z"
   },
   {
    "duration": 232,
    "start_time": "2022-11-10T18:51:18.193Z"
   },
   {
    "duration": 304,
    "start_time": "2022-11-10T18:51:24.258Z"
   },
   {
    "duration": 177,
    "start_time": "2022-11-10T18:51:28.730Z"
   },
   {
    "duration": 128,
    "start_time": "2022-11-10T18:51:32.291Z"
   },
   {
    "duration": 133,
    "start_time": "2022-11-10T18:51:36.222Z"
   },
   {
    "duration": 149,
    "start_time": "2022-11-10T18:51:39.297Z"
   },
   {
    "duration": 112,
    "start_time": "2022-11-10T18:52:00.168Z"
   },
   {
    "duration": 151,
    "start_time": "2022-11-10T18:52:08.411Z"
   },
   {
    "duration": 157,
    "start_time": "2022-11-10T18:52:14.313Z"
   },
   {
    "duration": 128,
    "start_time": "2022-11-10T18:52:20.493Z"
   },
   {
    "duration": 142,
    "start_time": "2022-11-10T18:52:27.094Z"
   },
   {
    "duration": 130,
    "start_time": "2022-11-10T18:52:30.440Z"
   },
   {
    "duration": 144,
    "start_time": "2022-11-10T18:52:34.563Z"
   },
   {
    "duration": 125,
    "start_time": "2022-11-10T18:52:42.097Z"
   },
   {
    "duration": 130,
    "start_time": "2022-11-10T18:52:47.159Z"
   },
   {
    "duration": 126,
    "start_time": "2022-11-10T18:52:52.198Z"
   },
   {
    "duration": 134,
    "start_time": "2022-11-10T18:52:57.902Z"
   },
   {
    "duration": 124,
    "start_time": "2022-11-10T18:53:06.744Z"
   },
   {
    "duration": 323,
    "start_time": "2022-11-10T18:53:14.780Z"
   },
   {
    "duration": 164,
    "start_time": "2022-11-10T18:54:28.607Z"
   },
   {
    "duration": 234,
    "start_time": "2022-11-10T18:54:33.525Z"
   },
   {
    "duration": 177,
    "start_time": "2022-11-10T18:54:49.268Z"
   },
   {
    "duration": 198,
    "start_time": "2022-11-10T18:54:52.540Z"
   },
   {
    "duration": 157,
    "start_time": "2022-11-10T18:59:06.059Z"
   },
   {
    "duration": 125,
    "start_time": "2022-11-10T18:59:11.189Z"
   },
   {
    "duration": 140,
    "start_time": "2022-11-10T18:59:19.041Z"
   },
   {
    "duration": 109,
    "start_time": "2022-11-10T19:03:27.882Z"
   },
   {
    "duration": 461,
    "start_time": "2022-11-10T19:39:55.948Z"
   },
   {
    "duration": 259,
    "start_time": "2022-11-10T19:40:19.371Z"
   },
   {
    "duration": 903,
    "start_time": "2022-11-10T19:40:29.306Z"
   },
   {
    "duration": 168,
    "start_time": "2022-11-10T19:40:34.822Z"
   },
   {
    "duration": 245,
    "start_time": "2022-11-10T19:41:15.376Z"
   },
   {
    "duration": 183,
    "start_time": "2022-11-10T19:41:19.115Z"
   },
   {
    "duration": 294,
    "start_time": "2022-11-10T19:42:15.161Z"
   },
   {
    "duration": 322,
    "start_time": "2022-11-10T19:43:00.723Z"
   },
   {
    "duration": 1139,
    "start_time": "2022-11-10T19:58:16.060Z"
   },
   {
    "duration": 91,
    "start_time": "2022-11-10T19:58:17.201Z"
   },
   {
    "duration": 31,
    "start_time": "2022-11-10T19:58:17.293Z"
   },
   {
    "duration": 14,
    "start_time": "2022-11-10T19:58:17.327Z"
   },
   {
    "duration": 1899,
    "start_time": "2022-11-10T19:58:17.342Z"
   },
   {
    "duration": 9,
    "start_time": "2022-11-10T19:58:19.243Z"
   },
   {
    "duration": 4,
    "start_time": "2022-11-10T19:58:19.253Z"
   },
   {
    "duration": 6,
    "start_time": "2022-11-10T19:58:19.258Z"
   },
   {
    "duration": 7,
    "start_time": "2022-11-10T19:58:19.266Z"
   },
   {
    "duration": 10,
    "start_time": "2022-11-10T19:58:19.276Z"
   },
   {
    "duration": 6,
    "start_time": "2022-11-10T19:58:19.288Z"
   },
   {
    "duration": 9,
    "start_time": "2022-11-10T19:58:19.296Z"
   },
   {
    "duration": 7,
    "start_time": "2022-11-10T19:58:19.306Z"
   },
   {
    "duration": 3,
    "start_time": "2022-11-10T19:58:19.315Z"
   },
   {
    "duration": 128,
    "start_time": "2022-11-10T19:58:19.320Z"
   },
   {
    "duration": 6,
    "start_time": "2022-11-10T19:58:19.449Z"
   },
   {
    "duration": 16,
    "start_time": "2022-11-10T19:58:19.457Z"
   },
   {
    "duration": 22,
    "start_time": "2022-11-10T19:58:19.475Z"
   },
   {
    "duration": 22,
    "start_time": "2022-11-10T19:58:19.499Z"
   },
   {
    "duration": 3,
    "start_time": "2022-11-10T19:58:19.523Z"
   },
   {
    "duration": 119,
    "start_time": "2022-11-10T19:58:19.527Z"
   },
   {
    "duration": 22,
    "start_time": "2022-11-10T19:58:19.647Z"
   },
   {
    "duration": 125,
    "start_time": "2022-11-10T19:58:19.671Z"
   },
   {
    "duration": 36,
    "start_time": "2022-11-10T19:58:19.798Z"
   },
   {
    "duration": 10,
    "start_time": "2022-11-10T19:58:19.836Z"
   },
   {
    "duration": 6,
    "start_time": "2022-11-10T19:58:19.868Z"
   },
   {
    "duration": 11,
    "start_time": "2022-11-10T19:58:19.876Z"
   },
   {
    "duration": 9,
    "start_time": "2022-11-10T19:58:19.892Z"
   },
   {
    "duration": 146,
    "start_time": "2022-11-10T19:58:19.903Z"
   },
   {
    "duration": 22,
    "start_time": "2022-11-10T19:58:20.051Z"
   },
   {
    "duration": 19,
    "start_time": "2022-11-10T19:58:20.075Z"
   },
   {
    "duration": 8,
    "start_time": "2022-11-10T19:58:20.096Z"
   },
   {
    "duration": 3,
    "start_time": "2022-11-10T19:58:20.106Z"
   },
   {
    "duration": 13,
    "start_time": "2022-11-10T19:58:20.111Z"
   },
   {
    "duration": 9,
    "start_time": "2022-11-10T19:58:20.125Z"
   },
   {
    "duration": 32,
    "start_time": "2022-11-10T19:58:20.136Z"
   },
   {
    "duration": 5,
    "start_time": "2022-11-10T19:58:20.170Z"
   },
   {
    "duration": 31,
    "start_time": "2022-11-10T19:58:20.177Z"
   },
   {
    "duration": 3,
    "start_time": "2022-11-10T19:58:20.210Z"
   },
   {
    "duration": 235,
    "start_time": "2022-11-10T19:58:20.214Z"
   },
   {
    "duration": 4,
    "start_time": "2022-11-10T19:58:20.451Z"
   },
   {
    "duration": 38,
    "start_time": "2022-11-10T19:58:20.456Z"
   },
   {
    "duration": 2671,
    "start_time": "2022-11-10T19:58:20.497Z"
   },
   {
    "duration": 150,
    "start_time": "2022-11-10T19:58:23.169Z"
   },
   {
    "duration": 140,
    "start_time": "2022-11-10T19:58:23.321Z"
   },
   {
    "duration": 134,
    "start_time": "2022-11-10T19:58:23.463Z"
   },
   {
    "duration": 213,
    "start_time": "2022-11-10T19:58:23.598Z"
   },
   {
    "duration": 262,
    "start_time": "2022-11-10T19:58:23.813Z"
   },
   {
    "duration": 140,
    "start_time": "2022-11-10T19:58:24.077Z"
   },
   {
    "duration": 152,
    "start_time": "2022-11-10T19:58:24.218Z"
   },
   {
    "duration": 130,
    "start_time": "2022-11-10T19:58:24.372Z"
   },
   {
    "duration": 147,
    "start_time": "2022-11-10T19:58:24.504Z"
   },
   {
    "duration": 187,
    "start_time": "2022-11-10T19:58:24.652Z"
   },
   {
    "duration": 165,
    "start_time": "2022-11-10T19:58:24.841Z"
   },
   {
    "duration": 177,
    "start_time": "2022-11-10T19:58:25.008Z"
   },
   {
    "duration": 134,
    "start_time": "2022-11-10T19:58:25.186Z"
   },
   {
    "duration": 120,
    "start_time": "2022-11-10T19:58:25.322Z"
   },
   {
    "duration": 146,
    "start_time": "2022-11-10T19:58:25.444Z"
   },
   {
    "duration": 8,
    "start_time": "2022-11-10T19:58:25.591Z"
   },
   {
    "duration": 10,
    "start_time": "2022-11-10T19:58:25.601Z"
   },
   {
    "duration": 225,
    "start_time": "2022-11-10T19:58:25.613Z"
   },
   {
    "duration": 301,
    "start_time": "2022-11-10T19:58:25.840Z"
   },
   {
    "duration": 196,
    "start_time": "2022-11-10T19:58:26.144Z"
   },
   {
    "duration": 10,
    "start_time": "2022-11-10T19:58:26.342Z"
   },
   {
    "duration": 155,
    "start_time": "2022-11-10T19:58:26.367Z"
   },
   {
    "duration": 150,
    "start_time": "2022-11-10T19:58:26.525Z"
   },
   {
    "duration": 154,
    "start_time": "2022-11-10T19:58:26.678Z"
   },
   {
    "duration": 149,
    "start_time": "2022-11-10T19:58:26.833Z"
   },
   {
    "duration": 124,
    "start_time": "2022-11-10T19:58:26.983Z"
   },
   {
    "duration": 152,
    "start_time": "2022-11-10T19:58:27.108Z"
   },
   {
    "duration": 147,
    "start_time": "2022-11-10T19:58:27.261Z"
   },
   {
    "duration": 247,
    "start_time": "2022-11-10T19:58:27.410Z"
   },
   {
    "duration": 23,
    "start_time": "2022-11-10T19:58:27.658Z"
   },
   {
    "duration": 7,
    "start_time": "2022-11-10T19:58:27.683Z"
   },
   {
    "duration": 14,
    "start_time": "2022-11-10T19:58:27.691Z"
   },
   {
    "duration": 15,
    "start_time": "2022-11-10T19:58:27.706Z"
   },
   {
    "duration": 236,
    "start_time": "2022-11-10T19:58:27.723Z"
   },
   {
    "duration": 1199,
    "start_time": "2022-11-11T16:25:24.018Z"
   },
   {
    "duration": 101,
    "start_time": "2022-11-11T16:25:25.219Z"
   },
   {
    "duration": 43,
    "start_time": "2022-11-11T16:25:25.321Z"
   },
   {
    "duration": 15,
    "start_time": "2022-11-11T16:25:25.366Z"
   },
   {
    "duration": 2169,
    "start_time": "2022-11-11T16:25:25.382Z"
   },
   {
    "duration": 11,
    "start_time": "2022-11-11T16:25:27.553Z"
   },
   {
    "duration": 6,
    "start_time": "2022-11-11T16:25:27.567Z"
   },
   {
    "duration": 11,
    "start_time": "2022-11-11T16:25:27.575Z"
   },
   {
    "duration": 4,
    "start_time": "2022-11-11T16:25:27.588Z"
   },
   {
    "duration": 13,
    "start_time": "2022-11-11T16:25:27.595Z"
   },
   {
    "duration": 26,
    "start_time": "2022-11-11T16:25:27.610Z"
   },
   {
    "duration": 4,
    "start_time": "2022-11-11T16:25:27.638Z"
   },
   {
    "duration": 12,
    "start_time": "2022-11-11T16:25:27.644Z"
   },
   {
    "duration": 6,
    "start_time": "2022-11-11T16:25:27.657Z"
   },
   {
    "duration": 108,
    "start_time": "2022-11-11T16:25:27.664Z"
   },
   {
    "duration": 5,
    "start_time": "2022-11-11T16:25:27.773Z"
   },
   {
    "duration": 13,
    "start_time": "2022-11-11T16:25:27.779Z"
   },
   {
    "duration": 41,
    "start_time": "2022-11-11T16:25:27.793Z"
   },
   {
    "duration": 25,
    "start_time": "2022-11-11T16:25:27.837Z"
   },
   {
    "duration": 4,
    "start_time": "2022-11-11T16:25:27.864Z"
   },
   {
    "duration": 118,
    "start_time": "2022-11-11T16:25:27.870Z"
   },
   {
    "duration": 17,
    "start_time": "2022-11-11T16:25:27.990Z"
   },
   {
    "duration": 127,
    "start_time": "2022-11-11T16:25:28.008Z"
   },
   {
    "duration": 37,
    "start_time": "2022-11-11T16:25:28.138Z"
   },
   {
    "duration": 7,
    "start_time": "2022-11-11T16:25:28.177Z"
   },
   {
    "duration": 4,
    "start_time": "2022-11-11T16:25:28.186Z"
   },
   {
    "duration": 14,
    "start_time": "2022-11-11T16:25:28.192Z"
   },
   {
    "duration": 34,
    "start_time": "2022-11-11T16:25:28.209Z"
   },
   {
    "duration": 141,
    "start_time": "2022-11-11T16:25:28.245Z"
   },
   {
    "duration": 8,
    "start_time": "2022-11-11T16:25:28.388Z"
   },
   {
    "duration": 18,
    "start_time": "2022-11-11T16:25:28.397Z"
   },
   {
    "duration": 15,
    "start_time": "2022-11-11T16:25:28.435Z"
   },
   {
    "duration": 6,
    "start_time": "2022-11-11T16:25:28.452Z"
   },
   {
    "duration": 11,
    "start_time": "2022-11-11T16:25:28.460Z"
   },
   {
    "duration": 9,
    "start_time": "2022-11-11T16:25:28.473Z"
   },
   {
    "duration": 8,
    "start_time": "2022-11-11T16:25:28.483Z"
   },
   {
    "duration": 5,
    "start_time": "2022-11-11T16:25:28.492Z"
   },
   {
    "duration": 8,
    "start_time": "2022-11-11T16:25:28.498Z"
   },
   {
    "duration": 25,
    "start_time": "2022-11-11T16:25:28.507Z"
   },
   {
    "duration": 274,
    "start_time": "2022-11-11T16:25:28.534Z"
   },
   {
    "duration": 4,
    "start_time": "2022-11-11T16:25:28.809Z"
   },
   {
    "duration": 44,
    "start_time": "2022-11-11T16:25:28.815Z"
   },
   {
    "duration": 2925,
    "start_time": "2022-11-11T16:25:28.861Z"
   },
   {
    "duration": 148,
    "start_time": "2022-11-11T16:25:31.788Z"
   },
   {
    "duration": 140,
    "start_time": "2022-11-11T16:25:31.937Z"
   },
   {
    "duration": 137,
    "start_time": "2022-11-11T16:25:32.079Z"
   },
   {
    "duration": 240,
    "start_time": "2022-11-11T16:25:32.218Z"
   },
   {
    "duration": 269,
    "start_time": "2022-11-11T16:25:32.459Z"
   },
   {
    "duration": 135,
    "start_time": "2022-11-11T16:25:32.732Z"
   },
   {
    "duration": 157,
    "start_time": "2022-11-11T16:25:32.869Z"
   },
   {
    "duration": 117,
    "start_time": "2022-11-11T16:25:33.035Z"
   },
   {
    "duration": 152,
    "start_time": "2022-11-11T16:25:33.154Z"
   },
   {
    "duration": 180,
    "start_time": "2022-11-11T16:25:33.308Z"
   },
   {
    "duration": 161,
    "start_time": "2022-11-11T16:25:33.489Z"
   },
   {
    "duration": 202,
    "start_time": "2022-11-11T16:25:33.652Z"
   },
   {
    "duration": 155,
    "start_time": "2022-11-11T16:25:33.856Z"
   },
   {
    "duration": 140,
    "start_time": "2022-11-11T16:25:34.013Z"
   },
   {
    "duration": 159,
    "start_time": "2022-11-11T16:25:34.155Z"
   },
   {
    "duration": 7,
    "start_time": "2022-11-11T16:25:34.315Z"
   },
   {
    "duration": 19,
    "start_time": "2022-11-11T16:25:34.324Z"
   },
   {
    "duration": 230,
    "start_time": "2022-11-11T16:25:34.345Z"
   },
   {
    "duration": 277,
    "start_time": "2022-11-11T16:25:34.577Z"
   },
   {
    "duration": 203,
    "start_time": "2022-11-11T16:25:34.857Z"
   },
   {
    "duration": 8,
    "start_time": "2022-11-11T16:25:35.062Z"
   },
   {
    "duration": 182,
    "start_time": "2022-11-11T16:25:35.072Z"
   },
   {
    "duration": 164,
    "start_time": "2022-11-11T16:25:35.257Z"
   },
   {
    "duration": 182,
    "start_time": "2022-11-11T16:25:35.423Z"
   },
   {
    "duration": 170,
    "start_time": "2022-11-11T16:25:35.607Z"
   },
   {
    "duration": 128,
    "start_time": "2022-11-11T16:25:35.778Z"
   },
   {
    "duration": 192,
    "start_time": "2022-11-11T16:25:35.907Z"
   },
   {
    "duration": 206,
    "start_time": "2022-11-11T16:25:36.101Z"
   },
   {
    "duration": 347,
    "start_time": "2022-11-11T16:25:36.309Z"
   },
   {
    "duration": 22,
    "start_time": "2022-11-11T16:25:36.658Z"
   },
   {
    "duration": 22,
    "start_time": "2022-11-11T16:25:36.683Z"
   },
   {
    "duration": 22,
    "start_time": "2022-11-11T16:25:36.707Z"
   },
   {
    "duration": 30,
    "start_time": "2022-11-11T16:25:36.732Z"
   },
   {
    "duration": 284,
    "start_time": "2022-11-11T16:25:36.765Z"
   },
   {
    "duration": 14,
    "start_time": "2022-11-11T16:27:39.377Z"
   },
   {
    "duration": 79,
    "start_time": "2022-11-11T16:27:43.242Z"
   }
  ],
  "kernelspec": {
   "display_name": "Python 3 (ipykernel)",
   "language": "python",
   "name": "python3"
  },
  "language_info": {
   "codemirror_mode": {
    "name": "ipython",
    "version": 3
   },
   "file_extension": ".py",
   "mimetype": "text/x-python",
   "name": "python",
   "nbconvert_exporter": "python",
   "pygments_lexer": "ipython3",
   "version": "3.10.12"
  },
  "toc": {
   "base_numbering": 1,
   "nav_menu": {},
   "number_sections": true,
   "sideBar": true,
   "skip_h1_title": true,
   "title_cell": "Table of Contents",
   "title_sidebar": "Contents",
   "toc_cell": false,
   "toc_position": {},
   "toc_section_display": true,
   "toc_window_display": true
  },
  "varInspector": {
   "cols": {
    "lenName": 16,
    "lenType": 16,
    "lenVar": 40
   },
   "kernels_config": {
    "python": {
     "delete_cmd_postfix": "",
     "delete_cmd_prefix": "del ",
     "library": "var_list.py",
     "varRefreshCmd": "print(var_dic_list())"
    },
    "r": {
     "delete_cmd_postfix": ") ",
     "delete_cmd_prefix": "rm(",
     "library": "var_list.r",
     "varRefreshCmd": "cat(var_dic_list()) "
    }
   },
   "types_to_exclude": [
    "module",
    "function",
    "builtin_function_or_method",
    "instance",
    "_Feature"
   ],
   "window_display": false
  }
 },
 "nbformat": 4,
 "nbformat_minor": 2
}
