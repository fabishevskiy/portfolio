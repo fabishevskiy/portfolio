{
 "cells": [
  {
   "cell_type": "markdown",
   "metadata": {
    "toc": true
   },
   "source": [
    "<h1>Содержание<span class=\"tocSkip\"></span></h1>\n",
    "<div class=\"toc\"><ul class=\"toc-item\"><li><span><a href=\"#Подготовка-данных\" data-toc-modified-id=\"Подготовка-данных-1\"><span class=\"toc-item-num\">1&nbsp;&nbsp;</span>Подготовка данных</a></span><ul class=\"toc-item\"><li><span><a href=\"#Первоначальная-обработка-данных\" data-toc-modified-id=\"Первоначальная-обработка-данных-1.1\"><span class=\"toc-item-num\">1.1&nbsp;&nbsp;</span>Первоначальная обработка данных</a></span></li><li><span><a href=\"#Подготовка-данных-к-исследованию\" data-toc-modified-id=\"Подготовка-данных-к-исследованию-1.2\"><span class=\"toc-item-num\">1.2&nbsp;&nbsp;</span>Подготовка данных к исследованию</a></span></li></ul></li><li><span><a href=\"#Исследование-задачи\" data-toc-modified-id=\"Исследование-задачи-2\"><span class=\"toc-item-num\">2&nbsp;&nbsp;</span>Исследование задачи</a></span><ul class=\"toc-item\"><li><span><a href=\"#Исследуем-баланс-классов\" data-toc-modified-id=\"Исследуем-баланс-классов-2.1\"><span class=\"toc-item-num\">2.1&nbsp;&nbsp;</span>Исследуем баланс классов</a></span></li><li><span><a href=\"#Изучение-модели-без-учёта-дисбаланса\" data-toc-modified-id=\"Изучение-модели-без-учёта-дисбаланса-2.2\"><span class=\"toc-item-num\">2.2&nbsp;&nbsp;</span>Изучение модели без учёта дисбаланса</a></span><ul class=\"toc-item\"><li><span><a href=\"#Исследуем-модель-&quot;Решающее-дерево&quot;\" data-toc-modified-id=\"Исследуем-модель-&quot;Решающее-дерево&quot;-2.2.1\"><span class=\"toc-item-num\">2.2.1&nbsp;&nbsp;</span>Исследуем модель \"Решающее дерево\"</a></span></li><li><span><a href=\"#Исследуем-модель-&quot;Случайный-лес&quot;\" data-toc-modified-id=\"Исследуем-модель-&quot;Случайный-лес&quot;-2.2.2\"><span class=\"toc-item-num\">2.2.2&nbsp;&nbsp;</span>Исследуем модель \"Случайный лес\"</a></span><ul class=\"toc-item\"><li><span><a href=\"#Отдельный-подбор-гиперпараметров\" data-toc-modified-id=\"Отдельный-подбор-гиперпараметров-2.2.2.1\"><span class=\"toc-item-num\">2.2.2.1&nbsp;&nbsp;</span>Отдельный подбор гиперпараметров</a></span></li><li><span><a href=\"#Совместный-подбор-гиперпараметров\" data-toc-modified-id=\"Совместный-подбор-гиперпараметров-2.2.2.2\"><span class=\"toc-item-num\">2.2.2.2&nbsp;&nbsp;</span>Совместный подбор гиперпараметров</a></span></li></ul></li><li><span><a href=\"#Исследуем-модель-&quot;Логистическая-регрессия&quot;\" data-toc-modified-id=\"Исследуем-модель-&quot;Логистическая-регрессия&quot;-2.2.3\"><span class=\"toc-item-num\">2.2.3&nbsp;&nbsp;</span>Исследуем модель \"Логистическая регрессия\"</a></span></li></ul></li></ul></li><li><span><a href=\"#Борьба-с-дисбалансом\" data-toc-modified-id=\"Борьба-с-дисбалансом-3\"><span class=\"toc-item-num\">3&nbsp;&nbsp;</span>Борьба с дисбалансом</a></span><ul class=\"toc-item\"><li><span><a href=\"#Взвешивание-классов\" data-toc-modified-id=\"Взвешивание-классов-3.1\"><span class=\"toc-item-num\">3.1&nbsp;&nbsp;</span>Взвешивание классов</a></span><ul class=\"toc-item\"><li><span><a href=\"#На-модели-Решающего-дерева\" data-toc-modified-id=\"На-модели-Решающего-дерева-3.1.1\"><span class=\"toc-item-num\">3.1.1&nbsp;&nbsp;</span>На модели Решающего дерева</a></span></li><li><span><a href=\"#На-модели-Случайного-леса\" data-toc-modified-id=\"На-модели-Случайного-леса-3.1.2\"><span class=\"toc-item-num\">3.1.2&nbsp;&nbsp;</span>На модели Случайного леса</a></span></li></ul></li><li><span><a href=\"#upsampling-(Увеличение-выборки)\" data-toc-modified-id=\"upsampling-(Увеличение-выборки)-3.2\"><span class=\"toc-item-num\">3.2&nbsp;&nbsp;</span>upsampling (Увеличение выборки)</a></span><ul class=\"toc-item\"><li><span><a href=\"#На-модели-Решающего-дерева\" data-toc-modified-id=\"На-модели-Решающего-дерева-3.2.1\"><span class=\"toc-item-num\">3.2.1&nbsp;&nbsp;</span>На модели Решающего дерева</a></span></li><li><span><a href=\"#На-модели-Случайного-леса\" data-toc-modified-id=\"На-модели-Случайного-леса-3.2.2\"><span class=\"toc-item-num\">3.2.2&nbsp;&nbsp;</span>На модели Случайного леса</a></span></li></ul></li><li><span><a href=\"#downsampling-(Уменьшение-выборки)\" data-toc-modified-id=\"downsampling-(Уменьшение-выборки)-3.3\"><span class=\"toc-item-num\">3.3&nbsp;&nbsp;</span>downsampling (Уменьшение выборки)</a></span><ul class=\"toc-item\"><li><span><a href=\"#На-модели-Решающего-дерева\" data-toc-modified-id=\"На-модели-Решающего-дерева-3.3.1\"><span class=\"toc-item-num\">3.3.1&nbsp;&nbsp;</span>На модели Решающего дерева</a></span></li><li><span><a href=\"#На-модели-Случайного-леса\" data-toc-modified-id=\"На-модели-Случайного-леса-3.3.2\"><span class=\"toc-item-num\">3.3.2&nbsp;&nbsp;</span>На модели Случайного леса</a></span></li></ul></li><li><span><a href=\"#Изменение-порога\" data-toc-modified-id=\"Изменение-порога-3.4\"><span class=\"toc-item-num\">3.4&nbsp;&nbsp;</span>Изменение порога</a></span></li></ul></li><li><span><a href=\"#Тестирование-модели\" data-toc-modified-id=\"Тестирование-модели-4\"><span class=\"toc-item-num\">4&nbsp;&nbsp;</span>Тестирование модели</a></span></li><li><span><a href=\"#Вывод\" data-toc-modified-id=\"Вывод-5\"><span class=\"toc-item-num\">5&nbsp;&nbsp;</span>Вывод</a></span></li></ul></div>"
   ]
  },
  {
   "cell_type": "markdown",
   "metadata": {},
   "source": [
    "# Отток клиентов"
   ]
  },
  {
   "cell_type": "markdown",
   "metadata": {},
   "source": [
    "Из «Бета-Банка» стали уходить клиенты. Каждый месяц. Немного, но заметно. Банковские маркетологи посчитали: сохранять текущих клиентов дешевле, чем привлекать новых.\n",
    "\n",
    "Нужно спрогнозировать, уйдёт клиент из банка в ближайшее время или нет. Вам предоставлены исторические данные о поведении клиентов и расторжении договоров с банком. \n",
    "\n",
    "Постройте модель с предельно большим значением *F1*-меры. Чтобы сдать проект успешно, нужно довести метрику до 0.59. Проверьте *F1*-меру на тестовой выборке самостоятельно.\n",
    "\n",
    "Дополнительно измеряйте *AUC-ROC*, сравнивайте её значение с *F1*-мерой.\n",
    "\n",
    "Источник данных: [https://www.kaggle.com/barelydedicated/bank-customer-churn-modeling](https://www.kaggle.com/barelydedicated/bank-customer-churn-modeling)"
   ]
  },
  {
   "cell_type": "markdown",
   "metadata": {},
   "source": [
    "## Подготовка данных"
   ]
  },
  {
   "cell_type": "markdown",
   "metadata": {},
   "source": [
    "### Первоначальная обработка данных"
   ]
  },
  {
   "cell_type": "code",
   "execution_count": 1,
   "metadata": {},
   "outputs": [
    {
     "name": "stdout",
     "output_type": "stream",
     "text": [
      "Requirement already satisfied: missingno in /opt/conda/lib/python3.9/site-packages (0.5.2)\n",
      "Requirement already satisfied: seaborn in /opt/conda/lib/python3.9/site-packages (from missingno) (0.11.1)\n",
      "Requirement already satisfied: scipy in /opt/conda/lib/python3.9/site-packages (from missingno) (1.9.1)\n",
      "Requirement already satisfied: numpy in /opt/conda/lib/python3.9/site-packages (from missingno) (1.21.1)\n",
      "Requirement already satisfied: matplotlib in /opt/conda/lib/python3.9/site-packages (from missingno) (3.3.4)\n",
      "Requirement already satisfied: kiwisolver>=1.0.1 in /opt/conda/lib/python3.9/site-packages (from matplotlib->missingno) (1.4.4)\n",
      "Requirement already satisfied: python-dateutil>=2.1 in /opt/conda/lib/python3.9/site-packages (from matplotlib->missingno) (2.8.1)\n",
      "Requirement already satisfied: pyparsing!=2.0.4,!=2.1.2,!=2.1.6,>=2.0.3 in /opt/conda/lib/python3.9/site-packages (from matplotlib->missingno) (2.4.7)\n",
      "Requirement already satisfied: cycler>=0.10 in /opt/conda/lib/python3.9/site-packages (from matplotlib->missingno) (0.11.0)\n",
      "Requirement already satisfied: pillow>=6.2.0 in /opt/conda/lib/python3.9/site-packages (from matplotlib->missingno) (8.4.0)\n",
      "Requirement already satisfied: six>=1.5 in /opt/conda/lib/python3.9/site-packages (from python-dateutil>=2.1->matplotlib->missingno) (1.16.0)\n",
      "Requirement already satisfied: pandas>=0.23 in /opt/conda/lib/python3.9/site-packages (from seaborn->missingno) (1.2.4)\n",
      "Requirement already satisfied: pytz>=2017.3 in /opt/conda/lib/python3.9/site-packages (from pandas>=0.23->seaborn->missingno) (2021.1)\n"
     ]
    }
   ],
   "source": [
    "# установим и импортируем необходимые библиотеки\n",
    "!pip install missingno"
   ]
  },
  {
   "cell_type": "code",
   "execution_count": 2,
   "metadata": {},
   "outputs": [],
   "source": [
    "import pandas as pd\n",
    "import numpy as np\n",
    "from sklearn.tree import DecisionTreeClassifier\n",
    "from sklearn.ensemble import RandomForestRegressor\n",
    "from sklearn.ensemble import RandomForestClassifier\n",
    "from sklearn.model_selection import train_test_split\n",
    "from sklearn.preprocessing import StandardScaler\n",
    "\n",
    "from sklearn.metrics import precision_score, recall_score\n",
    "from sklearn.metrics import mean_squared_error\n",
    "from sklearn.metrics import accuracy_score\n",
    "from sklearn.metrics import roc_auc_score\n",
    "from sklearn.metrics import confusion_matrix\n",
    "from sklearn.metrics import f1_score\n",
    "from sklearn.metrics import roc_curve\n",
    "\n",
    "from sklearn.metrics import precision_recall_curve\n",
    "from sklearn.utils import shuffle\n",
    "from sklearn.linear_model import LogisticRegression \n",
    "import seaborn as sns\n",
    "import matplotlib.pyplot as plt\n",
    "from joblib import dump\n",
    "\n",
    "\n",
    "\n",
    "import missingno as msno\n",
    "\n",
    "from sklearn.dummy import DummyClassifier\n",
    "pd.options.mode.chained_assignment = None\n"
   ]
  },
  {
   "cell_type": "code",
   "execution_count": 3,
   "metadata": {},
   "outputs": [],
   "source": [
    "#импортируем файл и запишем в переменную df\n",
    "try:\n",
    "    df = pd.read_csv('/datasets/Churn.csv')\n",
    "except:\n",
    "    df = pd.read_csv('https://code.s3.yandex.net/datasets/Churn.csv')"
   ]
  },
  {
   "cell_type": "code",
   "execution_count": 4,
   "metadata": {},
   "outputs": [
    {
     "name": "stdout",
     "output_type": "stream",
     "text": [
      "(10000, 14)\n"
     ]
    },
    {
     "data": {
      "text/html": [
       "<div>\n",
       "<style scoped>\n",
       "    .dataframe tbody tr th:only-of-type {\n",
       "        vertical-align: middle;\n",
       "    }\n",
       "\n",
       "    .dataframe tbody tr th {\n",
       "        vertical-align: top;\n",
       "    }\n",
       "\n",
       "    .dataframe thead th {\n",
       "        text-align: right;\n",
       "    }\n",
       "</style>\n",
       "<table border=\"1\" class=\"dataframe\">\n",
       "  <thead>\n",
       "    <tr style=\"text-align: right;\">\n",
       "      <th></th>\n",
       "      <th>RowNumber</th>\n",
       "      <th>CustomerId</th>\n",
       "      <th>Surname</th>\n",
       "      <th>CreditScore</th>\n",
       "      <th>Geography</th>\n",
       "      <th>Gender</th>\n",
       "      <th>Age</th>\n",
       "      <th>Tenure</th>\n",
       "      <th>Balance</th>\n",
       "      <th>NumOfProducts</th>\n",
       "      <th>HasCrCard</th>\n",
       "      <th>IsActiveMember</th>\n",
       "      <th>EstimatedSalary</th>\n",
       "      <th>Exited</th>\n",
       "    </tr>\n",
       "  </thead>\n",
       "  <tbody>\n",
       "    <tr>\n",
       "      <th>0</th>\n",
       "      <td>1</td>\n",
       "      <td>15634602</td>\n",
       "      <td>Hargrave</td>\n",
       "      <td>619</td>\n",
       "      <td>France</td>\n",
       "      <td>Female</td>\n",
       "      <td>42</td>\n",
       "      <td>2.0</td>\n",
       "      <td>0.00</td>\n",
       "      <td>1</td>\n",
       "      <td>1</td>\n",
       "      <td>1</td>\n",
       "      <td>101348.88</td>\n",
       "      <td>1</td>\n",
       "    </tr>\n",
       "    <tr>\n",
       "      <th>1</th>\n",
       "      <td>2</td>\n",
       "      <td>15647311</td>\n",
       "      <td>Hill</td>\n",
       "      <td>608</td>\n",
       "      <td>Spain</td>\n",
       "      <td>Female</td>\n",
       "      <td>41</td>\n",
       "      <td>1.0</td>\n",
       "      <td>83807.86</td>\n",
       "      <td>1</td>\n",
       "      <td>0</td>\n",
       "      <td>1</td>\n",
       "      <td>112542.58</td>\n",
       "      <td>0</td>\n",
       "    </tr>\n",
       "    <tr>\n",
       "      <th>2</th>\n",
       "      <td>3</td>\n",
       "      <td>15619304</td>\n",
       "      <td>Onio</td>\n",
       "      <td>502</td>\n",
       "      <td>France</td>\n",
       "      <td>Female</td>\n",
       "      <td>42</td>\n",
       "      <td>8.0</td>\n",
       "      <td>159660.80</td>\n",
       "      <td>3</td>\n",
       "      <td>1</td>\n",
       "      <td>0</td>\n",
       "      <td>113931.57</td>\n",
       "      <td>1</td>\n",
       "    </tr>\n",
       "    <tr>\n",
       "      <th>3</th>\n",
       "      <td>4</td>\n",
       "      <td>15701354</td>\n",
       "      <td>Boni</td>\n",
       "      <td>699</td>\n",
       "      <td>France</td>\n",
       "      <td>Female</td>\n",
       "      <td>39</td>\n",
       "      <td>1.0</td>\n",
       "      <td>0.00</td>\n",
       "      <td>2</td>\n",
       "      <td>0</td>\n",
       "      <td>0</td>\n",
       "      <td>93826.63</td>\n",
       "      <td>0</td>\n",
       "    </tr>\n",
       "    <tr>\n",
       "      <th>4</th>\n",
       "      <td>5</td>\n",
       "      <td>15737888</td>\n",
       "      <td>Mitchell</td>\n",
       "      <td>850</td>\n",
       "      <td>Spain</td>\n",
       "      <td>Female</td>\n",
       "      <td>43</td>\n",
       "      <td>2.0</td>\n",
       "      <td>125510.82</td>\n",
       "      <td>1</td>\n",
       "      <td>1</td>\n",
       "      <td>1</td>\n",
       "      <td>79084.10</td>\n",
       "      <td>0</td>\n",
       "    </tr>\n",
       "  </tbody>\n",
       "</table>\n",
       "</div>"
      ],
      "text/plain": [
       "   RowNumber  CustomerId   Surname  CreditScore Geography  Gender  Age  \\\n",
       "0          1    15634602  Hargrave          619    France  Female   42   \n",
       "1          2    15647311      Hill          608     Spain  Female   41   \n",
       "2          3    15619304      Onio          502    France  Female   42   \n",
       "3          4    15701354      Boni          699    France  Female   39   \n",
       "4          5    15737888  Mitchell          850     Spain  Female   43   \n",
       "\n",
       "   Tenure    Balance  NumOfProducts  HasCrCard  IsActiveMember  \\\n",
       "0     2.0       0.00              1          1               1   \n",
       "1     1.0   83807.86              1          0               1   \n",
       "2     8.0  159660.80              3          1               0   \n",
       "3     1.0       0.00              2          0               0   \n",
       "4     2.0  125510.82              1          1               1   \n",
       "\n",
       "   EstimatedSalary  Exited  \n",
       "0        101348.88       1  \n",
       "1        112542.58       0  \n",
       "2        113931.57       1  \n",
       "3         93826.63       0  \n",
       "4         79084.10       0  "
      ]
     },
     "execution_count": 4,
     "metadata": {},
     "output_type": "execute_result"
    }
   ],
   "source": [
    "#выведем основную информацию о данных\n",
    "pd.set_option('display.max_columns', None) \n",
    "print(df.shape)\n",
    "df.head(5)"
   ]
  },
  {
   "cell_type": "code",
   "execution_count": 5,
   "metadata": {},
   "outputs": [
    {
     "name": "stdout",
     "output_type": "stream",
     "text": [
      "<class 'pandas.core.frame.DataFrame'>\n",
      "RangeIndex: 10000 entries, 0 to 9999\n",
      "Data columns (total 14 columns):\n",
      " #   Column           Non-Null Count  Dtype  \n",
      "---  ------           --------------  -----  \n",
      " 0   RowNumber        10000 non-null  int64  \n",
      " 1   CustomerId       10000 non-null  int64  \n",
      " 2   Surname          10000 non-null  object \n",
      " 3   CreditScore      10000 non-null  int64  \n",
      " 4   Geography        10000 non-null  object \n",
      " 5   Gender           10000 non-null  object \n",
      " 6   Age              10000 non-null  int64  \n",
      " 7   Tenure           9091 non-null   float64\n",
      " 8   Balance          10000 non-null  float64\n",
      " 9   NumOfProducts    10000 non-null  int64  \n",
      " 10  HasCrCard        10000 non-null  int64  \n",
      " 11  IsActiveMember   10000 non-null  int64  \n",
      " 12  EstimatedSalary  10000 non-null  float64\n",
      " 13  Exited           10000 non-null  int64  \n",
      "dtypes: float64(3), int64(8), object(3)\n",
      "memory usage: 1.1+ MB\n"
     ]
    }
   ],
   "source": [
    "df.info()"
   ]
  },
  {
   "cell_type": "code",
   "execution_count": 6,
   "metadata": {},
   "outputs": [
    {
     "data": {
      "text/plain": [
       "0"
      ]
     },
     "execution_count": 6,
     "metadata": {},
     "output_type": "execute_result"
    }
   ],
   "source": [
    "df.duplicated().sum() #проверим наличия явных дубликатов"
   ]
  },
  {
   "cell_type": "code",
   "execution_count": 7,
   "metadata": {},
   "outputs": [
    {
     "data": {
      "text/plain": [
       "RowNumber            0\n",
       "CustomerId           0\n",
       "Surname              0\n",
       "CreditScore          0\n",
       "Geography            0\n",
       "Gender               0\n",
       "Age                  0\n",
       "Tenure             909\n",
       "Balance              0\n",
       "NumOfProducts        0\n",
       "HasCrCard            0\n",
       "IsActiveMember       0\n",
       "EstimatedSalary      0\n",
       "Exited               0\n",
       "dtype: int64"
      ]
     },
     "execution_count": 7,
     "metadata": {},
     "output_type": "execute_result"
    },
    {
     "data": {
      "image/png": "[encoded data removed]",
      "text/plain": [
       "<Figure size 1800x720 with 2 Axes>"
      ]
     },
     "metadata": {
      "needs_background": "light"
     },
     "output_type": "display_data"
    }
   ],
   "source": [
    "# посмотрим на пропущенные данные\n",
    "msno.matrix(df, labels=True)\n",
    "df.isna().sum()"
   ]
  },
  {
   "cell_type": "markdown",
   "metadata": {},
   "source": [
    "Исходя из скачанных данным, мы видим, что дата фрейм имеет информацию о 10 000 клиентов банка.  \n",
    "Признаки: \n",
    "\n",
    "    RowNumber — индекс строки в данных\n",
    "    CustomerId — уникальный идентификатор клиента\n",
    "    Surname — фамилия\n",
    "    CreditScore — кредитный рейтинг\n",
    "    Geography — страна проживания\n",
    "    Gender — пол\n",
    "    Age — возраст\n",
    "    Tenure — сколько лет человек является клиентом банка\n",
    "    Balance — баланс на счёте\n",
    "    NumOfProducts — количество продуктов банка, используемых клиентом\n",
    "    HasCrCard — наличие кредитной карты\n",
    "    IsActiveMember — активность клиента\n",
    "    EstimatedSalary — предполагаемая зарплата\n",
    "\n",
    "Целевой признак\n",
    "\n",
    "    Exited — факт ухода клиента\n",
    "\n",
    "Качество данных не плохое: пропущенные значения есть только в одном столбце Tenure (сколько лет человек является клиентом банка) и они составляют 909/10 000 < 10% от всех данных. Также из недостатков видно, что названия столбцов не приведены к \"змеиному\" виду, а тип данных в столбце с количеством лет имеет не верный тип.\n",
    "\n",
    "Исправим эти недочеты"
   ]
  },
  {
   "cell_type": "code",
   "execution_count": 8,
   "metadata": {},
   "outputs": [],
   "source": [
    "#переименуем названия столбцов\n",
    "df = df.rename(\n",
    "    columns={\n",
    "        'RowNumber': 'row_number',\n",
    "        'CustomerId': 'customer_id',\n",
    "        'Surname': 'surname',\n",
    "        'CreditScore': 'credit_score',\n",
    "        'Geography': 'geography',\n",
    "        'Gender': 'gender',\n",
    "        'Age': 'age',\n",
    "        'Tenure': 'tenure',\n",
    "        'Balance': 'balance',\n",
    "        'NumOfProducts': 'number_of_products',\n",
    "        'HasCrCard': 'has_credit_card',\n",
    "        'IsActiveMember': 'is_active_member',\n",
    "        'EstimatedSalary': 'estimate_salary',\n",
    "        'Exited': 'exited'\n",
    "    }\n",
    ")"
   ]
  },
  {
   "cell_type": "code",
   "execution_count": 9,
   "metadata": {},
   "outputs": [
    {
     "data": {
      "text/html": [
       "<div>\n",
       "<style scoped>\n",
       "    .dataframe tbody tr th:only-of-type {\n",
       "        vertical-align: middle;\n",
       "    }\n",
       "\n",
       "    .dataframe tbody tr th {\n",
       "        vertical-align: top;\n",
       "    }\n",
       "\n",
       "    .dataframe thead th {\n",
       "        text-align: right;\n",
       "    }\n",
       "</style>\n",
       "<table border=\"1\" class=\"dataframe\">\n",
       "  <thead>\n",
       "    <tr style=\"text-align: right;\">\n",
       "      <th></th>\n",
       "      <th>row_number</th>\n",
       "      <th>customer_id</th>\n",
       "      <th>surname</th>\n",
       "      <th>credit_score</th>\n",
       "      <th>geography</th>\n",
       "      <th>gender</th>\n",
       "      <th>age</th>\n",
       "      <th>tenure</th>\n",
       "      <th>balance</th>\n",
       "      <th>number_of_products</th>\n",
       "      <th>has_credit_card</th>\n",
       "      <th>is_active_member</th>\n",
       "      <th>estimate_salary</th>\n",
       "      <th>exited</th>\n",
       "    </tr>\n",
       "  </thead>\n",
       "  <tbody>\n",
       "    <tr>\n",
       "      <th>30</th>\n",
       "      <td>31</td>\n",
       "      <td>15589475</td>\n",
       "      <td>Azikiwe</td>\n",
       "      <td>591</td>\n",
       "      <td>Spain</td>\n",
       "      <td>Female</td>\n",
       "      <td>39</td>\n",
       "      <td>NaN</td>\n",
       "      <td>0.00</td>\n",
       "      <td>3</td>\n",
       "      <td>1</td>\n",
       "      <td>0</td>\n",
       "      <td>140469.38</td>\n",
       "      <td>1</td>\n",
       "    </tr>\n",
       "    <tr>\n",
       "      <th>48</th>\n",
       "      <td>49</td>\n",
       "      <td>15766205</td>\n",
       "      <td>Yin</td>\n",
       "      <td>550</td>\n",
       "      <td>Germany</td>\n",
       "      <td>Male</td>\n",
       "      <td>38</td>\n",
       "      <td>NaN</td>\n",
       "      <td>103391.38</td>\n",
       "      <td>1</td>\n",
       "      <td>0</td>\n",
       "      <td>1</td>\n",
       "      <td>90878.13</td>\n",
       "      <td>0</td>\n",
       "    </tr>\n",
       "    <tr>\n",
       "      <th>51</th>\n",
       "      <td>52</td>\n",
       "      <td>15768193</td>\n",
       "      <td>Trevisani</td>\n",
       "      <td>585</td>\n",
       "      <td>Germany</td>\n",
       "      <td>Male</td>\n",
       "      <td>36</td>\n",
       "      <td>NaN</td>\n",
       "      <td>146050.97</td>\n",
       "      <td>2</td>\n",
       "      <td>0</td>\n",
       "      <td>0</td>\n",
       "      <td>86424.57</td>\n",
       "      <td>0</td>\n",
       "    </tr>\n",
       "    <tr>\n",
       "      <th>53</th>\n",
       "      <td>54</td>\n",
       "      <td>15702298</td>\n",
       "      <td>Parkhill</td>\n",
       "      <td>655</td>\n",
       "      <td>Germany</td>\n",
       "      <td>Male</td>\n",
       "      <td>41</td>\n",
       "      <td>NaN</td>\n",
       "      <td>125561.97</td>\n",
       "      <td>1</td>\n",
       "      <td>0</td>\n",
       "      <td>0</td>\n",
       "      <td>164040.94</td>\n",
       "      <td>1</td>\n",
       "    </tr>\n",
       "    <tr>\n",
       "      <th>60</th>\n",
       "      <td>61</td>\n",
       "      <td>15651280</td>\n",
       "      <td>Hunter</td>\n",
       "      <td>742</td>\n",
       "      <td>Germany</td>\n",
       "      <td>Male</td>\n",
       "      <td>35</td>\n",
       "      <td>NaN</td>\n",
       "      <td>136857.00</td>\n",
       "      <td>1</td>\n",
       "      <td>0</td>\n",
       "      <td>0</td>\n",
       "      <td>84509.57</td>\n",
       "      <td>0</td>\n",
       "    </tr>\n",
       "    <tr>\n",
       "      <th>82</th>\n",
       "      <td>83</td>\n",
       "      <td>15641732</td>\n",
       "      <td>Mills</td>\n",
       "      <td>543</td>\n",
       "      <td>France</td>\n",
       "      <td>Female</td>\n",
       "      <td>36</td>\n",
       "      <td>NaN</td>\n",
       "      <td>0.00</td>\n",
       "      <td>2</td>\n",
       "      <td>0</td>\n",
       "      <td>0</td>\n",
       "      <td>26019.59</td>\n",
       "      <td>0</td>\n",
       "    </tr>\n",
       "    <tr>\n",
       "      <th>85</th>\n",
       "      <td>86</td>\n",
       "      <td>15805254</td>\n",
       "      <td>Ndukaku</td>\n",
       "      <td>652</td>\n",
       "      <td>Spain</td>\n",
       "      <td>Female</td>\n",
       "      <td>75</td>\n",
       "      <td>NaN</td>\n",
       "      <td>0.00</td>\n",
       "      <td>2</td>\n",
       "      <td>1</td>\n",
       "      <td>1</td>\n",
       "      <td>114675.75</td>\n",
       "      <td>0</td>\n",
       "    </tr>\n",
       "    <tr>\n",
       "      <th>94</th>\n",
       "      <td>95</td>\n",
       "      <td>15676966</td>\n",
       "      <td>Capon</td>\n",
       "      <td>730</td>\n",
       "      <td>Spain</td>\n",
       "      <td>Male</td>\n",
       "      <td>42</td>\n",
       "      <td>NaN</td>\n",
       "      <td>0.00</td>\n",
       "      <td>2</td>\n",
       "      <td>0</td>\n",
       "      <td>1</td>\n",
       "      <td>85982.47</td>\n",
       "      <td>0</td>\n",
       "    </tr>\n",
       "    <tr>\n",
       "      <th>99</th>\n",
       "      <td>100</td>\n",
       "      <td>15633059</td>\n",
       "      <td>Fanucci</td>\n",
       "      <td>413</td>\n",
       "      <td>France</td>\n",
       "      <td>Male</td>\n",
       "      <td>34</td>\n",
       "      <td>NaN</td>\n",
       "      <td>0.00</td>\n",
       "      <td>2</td>\n",
       "      <td>0</td>\n",
       "      <td>0</td>\n",
       "      <td>6534.18</td>\n",
       "      <td>0</td>\n",
       "    </tr>\n",
       "    <tr>\n",
       "      <th>111</th>\n",
       "      <td>112</td>\n",
       "      <td>15665790</td>\n",
       "      <td>Rowntree</td>\n",
       "      <td>538</td>\n",
       "      <td>Germany</td>\n",
       "      <td>Male</td>\n",
       "      <td>39</td>\n",
       "      <td>NaN</td>\n",
       "      <td>108055.10</td>\n",
       "      <td>2</td>\n",
       "      <td>1</td>\n",
       "      <td>0</td>\n",
       "      <td>27231.26</td>\n",
       "      <td>0</td>\n",
       "    </tr>\n",
       "    <tr>\n",
       "      <th>123</th>\n",
       "      <td>124</td>\n",
       "      <td>15760085</td>\n",
       "      <td>Calabresi</td>\n",
       "      <td>684</td>\n",
       "      <td>Germany</td>\n",
       "      <td>Female</td>\n",
       "      <td>48</td>\n",
       "      <td>NaN</td>\n",
       "      <td>126384.42</td>\n",
       "      <td>1</td>\n",
       "      <td>1</td>\n",
       "      <td>1</td>\n",
       "      <td>198129.36</td>\n",
       "      <td>0</td>\n",
       "    </tr>\n",
       "    <tr>\n",
       "      <th>125</th>\n",
       "      <td>126</td>\n",
       "      <td>15627360</td>\n",
       "      <td>Fuller</td>\n",
       "      <td>432</td>\n",
       "      <td>France</td>\n",
       "      <td>Male</td>\n",
       "      <td>42</td>\n",
       "      <td>NaN</td>\n",
       "      <td>152603.45</td>\n",
       "      <td>1</td>\n",
       "      <td>1</td>\n",
       "      <td>0</td>\n",
       "      <td>110265.24</td>\n",
       "      <td>1</td>\n",
       "    </tr>\n",
       "    <tr>\n",
       "      <th>146</th>\n",
       "      <td>147</td>\n",
       "      <td>15705707</td>\n",
       "      <td>Bennelong</td>\n",
       "      <td>635</td>\n",
       "      <td>Spain</td>\n",
       "      <td>Female</td>\n",
       "      <td>29</td>\n",
       "      <td>NaN</td>\n",
       "      <td>138296.94</td>\n",
       "      <td>2</td>\n",
       "      <td>1</td>\n",
       "      <td>0</td>\n",
       "      <td>141075.51</td>\n",
       "      <td>0</td>\n",
       "    </tr>\n",
       "    <tr>\n",
       "      <th>162</th>\n",
       "      <td>163</td>\n",
       "      <td>15630910</td>\n",
       "      <td>Treacy</td>\n",
       "      <td>800</td>\n",
       "      <td>France</td>\n",
       "      <td>Female</td>\n",
       "      <td>49</td>\n",
       "      <td>NaN</td>\n",
       "      <td>108007.36</td>\n",
       "      <td>1</td>\n",
       "      <td>0</td>\n",
       "      <td>0</td>\n",
       "      <td>47125.11</td>\n",
       "      <td>0</td>\n",
       "    </tr>\n",
       "    <tr>\n",
       "      <th>173</th>\n",
       "      <td>174</td>\n",
       "      <td>15586310</td>\n",
       "      <td>Ting</td>\n",
       "      <td>578</td>\n",
       "      <td>France</td>\n",
       "      <td>Male</td>\n",
       "      <td>30</td>\n",
       "      <td>NaN</td>\n",
       "      <td>169462.09</td>\n",
       "      <td>1</td>\n",
       "      <td>1</td>\n",
       "      <td>0</td>\n",
       "      <td>112187.11</td>\n",
       "      <td>0</td>\n",
       "    </tr>\n",
       "    <tr>\n",
       "      <th>180</th>\n",
       "      <td>181</td>\n",
       "      <td>15716334</td>\n",
       "      <td>Rozier</td>\n",
       "      <td>850</td>\n",
       "      <td>Spain</td>\n",
       "      <td>Female</td>\n",
       "      <td>45</td>\n",
       "      <td>NaN</td>\n",
       "      <td>122311.21</td>\n",
       "      <td>1</td>\n",
       "      <td>1</td>\n",
       "      <td>1</td>\n",
       "      <td>19482.50</td>\n",
       "      <td>0</td>\n",
       "    </tr>\n",
       "    <tr>\n",
       "      <th>217</th>\n",
       "      <td>218</td>\n",
       "      <td>15786308</td>\n",
       "      <td>Millar</td>\n",
       "      <td>730</td>\n",
       "      <td>Spain</td>\n",
       "      <td>Female</td>\n",
       "      <td>33</td>\n",
       "      <td>NaN</td>\n",
       "      <td>0.00</td>\n",
       "      <td>2</td>\n",
       "      <td>0</td>\n",
       "      <td>0</td>\n",
       "      <td>176576.62</td>\n",
       "      <td>0</td>\n",
       "    </tr>\n",
       "    <tr>\n",
       "      <th>222</th>\n",
       "      <td>223</td>\n",
       "      <td>15727829</td>\n",
       "      <td>McIntyre</td>\n",
       "      <td>567</td>\n",
       "      <td>France</td>\n",
       "      <td>Male</td>\n",
       "      <td>42</td>\n",
       "      <td>NaN</td>\n",
       "      <td>0.00</td>\n",
       "      <td>2</td>\n",
       "      <td>1</td>\n",
       "      <td>1</td>\n",
       "      <td>167984.61</td>\n",
       "      <td>0</td>\n",
       "    </tr>\n",
       "    <tr>\n",
       "      <th>225</th>\n",
       "      <td>226</td>\n",
       "      <td>15699029</td>\n",
       "      <td>Bagley</td>\n",
       "      <td>670</td>\n",
       "      <td>France</td>\n",
       "      <td>Male</td>\n",
       "      <td>37</td>\n",
       "      <td>NaN</td>\n",
       "      <td>170557.91</td>\n",
       "      <td>2</td>\n",
       "      <td>1</td>\n",
       "      <td>0</td>\n",
       "      <td>198252.88</td>\n",
       "      <td>0</td>\n",
       "    </tr>\n",
       "    <tr>\n",
       "      <th>237</th>\n",
       "      <td>238</td>\n",
       "      <td>15764866</td>\n",
       "      <td>Synnot</td>\n",
       "      <td>539</td>\n",
       "      <td>Germany</td>\n",
       "      <td>Female</td>\n",
       "      <td>43</td>\n",
       "      <td>NaN</td>\n",
       "      <td>116220.50</td>\n",
       "      <td>3</td>\n",
       "      <td>1</td>\n",
       "      <td>0</td>\n",
       "      <td>55803.96</td>\n",
       "      <td>1</td>\n",
       "    </tr>\n",
       "  </tbody>\n",
       "</table>\n",
       "</div>"
      ],
      "text/plain": [
       "     row_number  customer_id    surname  credit_score geography  gender  age  \\\n",
       "30           31     15589475    Azikiwe           591     Spain  Female   39   \n",
       "48           49     15766205        Yin           550   Germany    Male   38   \n",
       "51           52     15768193  Trevisani           585   Germany    Male   36   \n",
       "53           54     15702298   Parkhill           655   Germany    Male   41   \n",
       "60           61     15651280     Hunter           742   Germany    Male   35   \n",
       "82           83     15641732      Mills           543    France  Female   36   \n",
       "85           86     15805254    Ndukaku           652     Spain  Female   75   \n",
       "94           95     15676966      Capon           730     Spain    Male   42   \n",
       "99          100     15633059    Fanucci           413    France    Male   34   \n",
       "111         112     15665790   Rowntree           538   Germany    Male   39   \n",
       "123         124     15760085  Calabresi           684   Germany  Female   48   \n",
       "125         126     15627360     Fuller           432    France    Male   42   \n",
       "146         147     15705707  Bennelong           635     Spain  Female   29   \n",
       "162         163     15630910     Treacy           800    France  Female   49   \n",
       "173         174     15586310       Ting           578    France    Male   30   \n",
       "180         181     15716334     Rozier           850     Spain  Female   45   \n",
       "217         218     15786308     Millar           730     Spain  Female   33   \n",
       "222         223     15727829   McIntyre           567    France    Male   42   \n",
       "225         226     15699029     Bagley           670    France    Male   37   \n",
       "237         238     15764866     Synnot           539   Germany  Female   43   \n",
       "\n",
       "     tenure    balance  number_of_products  has_credit_card  is_active_member  \\\n",
       "30      NaN       0.00                   3                1                 0   \n",
       "48      NaN  103391.38                   1                0                 1   \n",
       "51      NaN  146050.97                   2                0                 0   \n",
       "53      NaN  125561.97                   1                0                 0   \n",
       "60      NaN  136857.00                   1                0                 0   \n",
       "82      NaN       0.00                   2                0                 0   \n",
       "85      NaN       0.00                   2                1                 1   \n",
       "94      NaN       0.00                   2                0                 1   \n",
       "99      NaN       0.00                   2                0                 0   \n",
       "111     NaN  108055.10                   2                1                 0   \n",
       "123     NaN  126384.42                   1                1                 1   \n",
       "125     NaN  152603.45                   1                1                 0   \n",
       "146     NaN  138296.94                   2                1                 0   \n",
       "162     NaN  108007.36                   1                0                 0   \n",
       "173     NaN  169462.09                   1                1                 0   \n",
       "180     NaN  122311.21                   1                1                 1   \n",
       "217     NaN       0.00                   2                0                 0   \n",
       "222     NaN       0.00                   2                1                 1   \n",
       "225     NaN  170557.91                   2                1                 0   \n",
       "237     NaN  116220.50                   3                1                 0   \n",
       "\n",
       "     estimate_salary  exited  \n",
       "30         140469.38       1  \n",
       "48          90878.13       0  \n",
       "51          86424.57       0  \n",
       "53         164040.94       1  \n",
       "60          84509.57       0  \n",
       "82          26019.59       0  \n",
       "85         114675.75       0  \n",
       "94          85982.47       0  \n",
       "99           6534.18       0  \n",
       "111         27231.26       0  \n",
       "123        198129.36       0  \n",
       "125        110265.24       1  \n",
       "146        141075.51       0  \n",
       "162         47125.11       0  \n",
       "173        112187.11       0  \n",
       "180         19482.50       0  \n",
       "217        176576.62       0  \n",
       "222        167984.61       0  \n",
       "225        198252.88       0  \n",
       "237         55803.96       1  "
      ]
     },
     "execution_count": 9,
     "metadata": {},
     "output_type": "execute_result"
    }
   ],
   "source": [
    "# выведем несколько строк с пропущенными значениями\n",
    "df[df['tenure'].isna()].head(20)"
   ]
  },
  {
   "cell_type": "markdown",
   "metadata": {},
   "source": [
    "Так как количество строк, где отсутствуют данные с количеством лет, сколько человек является клиентом банка, меньше 10%, можно удалить эти строки.\n",
    "\n",
    "К тому же, возможной причиной отсутствия данных может быть то, что человек является клиентом меньше года, и эти данные не будут полезны."
   ]
  },
  {
   "cell_type": "code",
   "execution_count": 10,
   "metadata": {},
   "outputs": [],
   "source": [
    "#удалим столбца с пропущенными данными и поменяем тип на int\n",
    "df = df.dropna(subset=['tenure'])"
   ]
  },
  {
   "cell_type": "code",
   "execution_count": 11,
   "metadata": {},
   "outputs": [],
   "source": [
    "df['tenure'] = df['tenure'].astype('int')"
   ]
  },
  {
   "cell_type": "markdown",
   "metadata": {},
   "source": [
    "Выведем информацию по исправелнному датафрейму и выведем на экран первые 10 строк"
   ]
  },
  {
   "cell_type": "code",
   "execution_count": 12,
   "metadata": {},
   "outputs": [
    {
     "name": "stdout",
     "output_type": "stream",
     "text": [
      "(9091, 14)\n"
     ]
    },
    {
     "data": {
      "text/html": [
       "<div>\n",
       "<style scoped>\n",
       "    .dataframe tbody tr th:only-of-type {\n",
       "        vertical-align: middle;\n",
       "    }\n",
       "\n",
       "    .dataframe tbody tr th {\n",
       "        vertical-align: top;\n",
       "    }\n",
       "\n",
       "    .dataframe thead th {\n",
       "        text-align: right;\n",
       "    }\n",
       "</style>\n",
       "<table border=\"1\" class=\"dataframe\">\n",
       "  <thead>\n",
       "    <tr style=\"text-align: right;\">\n",
       "      <th></th>\n",
       "      <th>row_number</th>\n",
       "      <th>customer_id</th>\n",
       "      <th>surname</th>\n",
       "      <th>credit_score</th>\n",
       "      <th>geography</th>\n",
       "      <th>gender</th>\n",
       "      <th>age</th>\n",
       "      <th>tenure</th>\n",
       "      <th>balance</th>\n",
       "      <th>number_of_products</th>\n",
       "      <th>has_credit_card</th>\n",
       "      <th>is_active_member</th>\n",
       "      <th>estimate_salary</th>\n",
       "      <th>exited</th>\n",
       "    </tr>\n",
       "  </thead>\n",
       "  <tbody>\n",
       "    <tr>\n",
       "      <th>0</th>\n",
       "      <td>1</td>\n",
       "      <td>15634602</td>\n",
       "      <td>Hargrave</td>\n",
       "      <td>619</td>\n",
       "      <td>France</td>\n",
       "      <td>Female</td>\n",
       "      <td>42</td>\n",
       "      <td>2</td>\n",
       "      <td>0.00</td>\n",
       "      <td>1</td>\n",
       "      <td>1</td>\n",
       "      <td>1</td>\n",
       "      <td>101348.88</td>\n",
       "      <td>1</td>\n",
       "    </tr>\n",
       "    <tr>\n",
       "      <th>1</th>\n",
       "      <td>2</td>\n",
       "      <td>15647311</td>\n",
       "      <td>Hill</td>\n",
       "      <td>608</td>\n",
       "      <td>Spain</td>\n",
       "      <td>Female</td>\n",
       "      <td>41</td>\n",
       "      <td>1</td>\n",
       "      <td>83807.86</td>\n",
       "      <td>1</td>\n",
       "      <td>0</td>\n",
       "      <td>1</td>\n",
       "      <td>112542.58</td>\n",
       "      <td>0</td>\n",
       "    </tr>\n",
       "    <tr>\n",
       "      <th>2</th>\n",
       "      <td>3</td>\n",
       "      <td>15619304</td>\n",
       "      <td>Onio</td>\n",
       "      <td>502</td>\n",
       "      <td>France</td>\n",
       "      <td>Female</td>\n",
       "      <td>42</td>\n",
       "      <td>8</td>\n",
       "      <td>159660.80</td>\n",
       "      <td>3</td>\n",
       "      <td>1</td>\n",
       "      <td>0</td>\n",
       "      <td>113931.57</td>\n",
       "      <td>1</td>\n",
       "    </tr>\n",
       "    <tr>\n",
       "      <th>3</th>\n",
       "      <td>4</td>\n",
       "      <td>15701354</td>\n",
       "      <td>Boni</td>\n",
       "      <td>699</td>\n",
       "      <td>France</td>\n",
       "      <td>Female</td>\n",
       "      <td>39</td>\n",
       "      <td>1</td>\n",
       "      <td>0.00</td>\n",
       "      <td>2</td>\n",
       "      <td>0</td>\n",
       "      <td>0</td>\n",
       "      <td>93826.63</td>\n",
       "      <td>0</td>\n",
       "    </tr>\n",
       "    <tr>\n",
       "      <th>4</th>\n",
       "      <td>5</td>\n",
       "      <td>15737888</td>\n",
       "      <td>Mitchell</td>\n",
       "      <td>850</td>\n",
       "      <td>Spain</td>\n",
       "      <td>Female</td>\n",
       "      <td>43</td>\n",
       "      <td>2</td>\n",
       "      <td>125510.82</td>\n",
       "      <td>1</td>\n",
       "      <td>1</td>\n",
       "      <td>1</td>\n",
       "      <td>79084.10</td>\n",
       "      <td>0</td>\n",
       "    </tr>\n",
       "    <tr>\n",
       "      <th>5</th>\n",
       "      <td>6</td>\n",
       "      <td>15574012</td>\n",
       "      <td>Chu</td>\n",
       "      <td>645</td>\n",
       "      <td>Spain</td>\n",
       "      <td>Male</td>\n",
       "      <td>44</td>\n",
       "      <td>8</td>\n",
       "      <td>113755.78</td>\n",
       "      <td>2</td>\n",
       "      <td>1</td>\n",
       "      <td>0</td>\n",
       "      <td>149756.71</td>\n",
       "      <td>1</td>\n",
       "    </tr>\n",
       "    <tr>\n",
       "      <th>6</th>\n",
       "      <td>7</td>\n",
       "      <td>15592531</td>\n",
       "      <td>Bartlett</td>\n",
       "      <td>822</td>\n",
       "      <td>France</td>\n",
       "      <td>Male</td>\n",
       "      <td>50</td>\n",
       "      <td>7</td>\n",
       "      <td>0.00</td>\n",
       "      <td>2</td>\n",
       "      <td>1</td>\n",
       "      <td>1</td>\n",
       "      <td>10062.80</td>\n",
       "      <td>0</td>\n",
       "    </tr>\n",
       "    <tr>\n",
       "      <th>7</th>\n",
       "      <td>8</td>\n",
       "      <td>15656148</td>\n",
       "      <td>Obinna</td>\n",
       "      <td>376</td>\n",
       "      <td>Germany</td>\n",
       "      <td>Female</td>\n",
       "      <td>29</td>\n",
       "      <td>4</td>\n",
       "      <td>115046.74</td>\n",
       "      <td>4</td>\n",
       "      <td>1</td>\n",
       "      <td>0</td>\n",
       "      <td>119346.88</td>\n",
       "      <td>1</td>\n",
       "    </tr>\n",
       "    <tr>\n",
       "      <th>8</th>\n",
       "      <td>9</td>\n",
       "      <td>15792365</td>\n",
       "      <td>He</td>\n",
       "      <td>501</td>\n",
       "      <td>France</td>\n",
       "      <td>Male</td>\n",
       "      <td>44</td>\n",
       "      <td>4</td>\n",
       "      <td>142051.07</td>\n",
       "      <td>2</td>\n",
       "      <td>0</td>\n",
       "      <td>1</td>\n",
       "      <td>74940.50</td>\n",
       "      <td>0</td>\n",
       "    </tr>\n",
       "    <tr>\n",
       "      <th>9</th>\n",
       "      <td>10</td>\n",
       "      <td>15592389</td>\n",
       "      <td>H?</td>\n",
       "      <td>684</td>\n",
       "      <td>France</td>\n",
       "      <td>Male</td>\n",
       "      <td>27</td>\n",
       "      <td>2</td>\n",
       "      <td>134603.88</td>\n",
       "      <td>1</td>\n",
       "      <td>1</td>\n",
       "      <td>1</td>\n",
       "      <td>71725.73</td>\n",
       "      <td>0</td>\n",
       "    </tr>\n",
       "  </tbody>\n",
       "</table>\n",
       "</div>"
      ],
      "text/plain": [
       "   row_number  customer_id   surname  credit_score geography  gender  age  \\\n",
       "0           1     15634602  Hargrave           619    France  Female   42   \n",
       "1           2     15647311      Hill           608     Spain  Female   41   \n",
       "2           3     15619304      Onio           502    France  Female   42   \n",
       "3           4     15701354      Boni           699    France  Female   39   \n",
       "4           5     15737888  Mitchell           850     Spain  Female   43   \n",
       "5           6     15574012       Chu           645     Spain    Male   44   \n",
       "6           7     15592531  Bartlett           822    France    Male   50   \n",
       "7           8     15656148    Obinna           376   Germany  Female   29   \n",
       "8           9     15792365        He           501    France    Male   44   \n",
       "9          10     15592389        H?           684    France    Male   27   \n",
       "\n",
       "   tenure    balance  number_of_products  has_credit_card  is_active_member  \\\n",
       "0       2       0.00                   1                1                 1   \n",
       "1       1   83807.86                   1                0                 1   \n",
       "2       8  159660.80                   3                1                 0   \n",
       "3       1       0.00                   2                0                 0   \n",
       "4       2  125510.82                   1                1                 1   \n",
       "5       8  113755.78                   2                1                 0   \n",
       "6       7       0.00                   2                1                 1   \n",
       "7       4  115046.74                   4                1                 0   \n",
       "8       4  142051.07                   2                0                 1   \n",
       "9       2  134603.88                   1                1                 1   \n",
       "\n",
       "   estimate_salary  exited  \n",
       "0        101348.88       1  \n",
       "1        112542.58       0  \n",
       "2        113931.57       1  \n",
       "3         93826.63       0  \n",
       "4         79084.10       0  \n",
       "5        149756.71       1  \n",
       "6         10062.80       0  \n",
       "7        119346.88       1  \n",
       "8         74940.50       0  \n",
       "9         71725.73       0  "
      ]
     },
     "execution_count": 12,
     "metadata": {},
     "output_type": "execute_result"
    }
   ],
   "source": [
    "print(df.shape)\n",
    "df.head(10)"
   ]
  },
  {
   "cell_type": "code",
   "execution_count": 13,
   "metadata": {},
   "outputs": [
    {
     "name": "stdout",
     "output_type": "stream",
     "text": [
      "<class 'pandas.core.frame.DataFrame'>\n",
      "Int64Index: 9091 entries, 0 to 9998\n",
      "Data columns (total 14 columns):\n",
      " #   Column              Non-Null Count  Dtype  \n",
      "---  ------              --------------  -----  \n",
      " 0   row_number          9091 non-null   int64  \n",
      " 1   customer_id         9091 non-null   int64  \n",
      " 2   surname             9091 non-null   object \n",
      " 3   credit_score        9091 non-null   int64  \n",
      " 4   geography           9091 non-null   object \n",
      " 5   gender              9091 non-null   object \n",
      " 6   age                 9091 non-null   int64  \n",
      " 7   tenure              9091 non-null   int64  \n",
      " 8   balance             9091 non-null   float64\n",
      " 9   number_of_products  9091 non-null   int64  \n",
      " 10  has_credit_card     9091 non-null   int64  \n",
      " 11  is_active_member    9091 non-null   int64  \n",
      " 12  estimate_salary     9091 non-null   float64\n",
      " 13  exited              9091 non-null   int64  \n",
      "dtypes: float64(2), int64(9), object(3)\n",
      "memory usage: 1.0+ MB\n"
     ]
    }
   ],
   "source": [
    "df.info()"
   ]
  },
  {
   "cell_type": "code",
   "execution_count": 14,
   "metadata": {},
   "outputs": [
    {
     "data": {
      "text/plain": [
       "row_number            0\n",
       "customer_id           0\n",
       "surname               0\n",
       "credit_score          0\n",
       "geography             0\n",
       "gender                0\n",
       "age                   0\n",
       "tenure                0\n",
       "balance               0\n",
       "number_of_products    0\n",
       "has_credit_card       0\n",
       "is_active_member      0\n",
       "estimate_salary       0\n",
       "exited                0\n",
       "dtype: int64"
      ]
     },
     "execution_count": 14,
     "metadata": {},
     "output_type": "execute_result"
    }
   ],
   "source": [
    "df.isna().sum()"
   ]
  },
  {
   "cell_type": "markdown",
   "metadata": {},
   "source": [
    "**Мы загрузили данные, привели наименование столбцов к унифицированной форме, удалили пустые значения (менее 10% от всех данных) и привели значения к подходящему типу данных.**"
   ]
  },
  {
   "cell_type": "markdown",
   "metadata": {},
   "source": [
    "### Подготовка данных к исследованию"
   ]
  },
  {
   "cell_type": "markdown",
   "metadata": {},
   "source": [
    "Удалим столбцы, которые не нужны для обучения модели - это данные с порядковым номером, id клиента и его именем."
   ]
  },
  {
   "cell_type": "code",
   "execution_count": 15,
   "metadata": {},
   "outputs": [],
   "source": [
    "df = df.drop(['row_number', 'customer_id', 'surname'] , axis=1)"
   ]
  },
  {
   "cell_type": "markdown",
   "metadata": {},
   "source": [
    "Преобразуем категориальные признаки в численные техникой прямого кодирования *OHE*. Чтобы не попасть в дамми-ловушку, применим аргумент drop_first функции pd.get_dummies()."
   ]
  },
  {
   "cell_type": "code",
   "execution_count": 16,
   "metadata": {},
   "outputs": [],
   "source": [
    "df_ohe = pd.get_dummies(df, drop_first=True)"
   ]
  },
  {
   "cell_type": "markdown",
   "metadata": {},
   "source": [
    "Разделим данные на обучающую, валидационную и тестовые выборки"
   ]
  },
  {
   "cell_type": "code",
   "execution_count": 17,
   "metadata": {},
   "outputs": [],
   "source": [
    "target = df_ohe['exited']\n",
    "features = df_ohe.drop('exited', axis=1)\n",
    "\n",
    "# отделите 40% данных для валидационной и тестовой выборок\n",
    "features_train, features_valid_test, target_train, target_valid_test = train_test_split(\n",
    "    features, target, test_size=0.40, random_state=12345)\n",
    "\n",
    "# отделите 20% данных для валидационной и 20% для тестовой выборок\n",
    "features_valid, features_test, target_valid, target_test = train_test_split(\n",
    "    features_valid_test, target_valid_test, test_size=0.50, random_state=12345) "
   ]
  },
  {
   "cell_type": "code",
   "execution_count": 18,
   "metadata": {},
   "outputs": [
    {
     "name": "stdout",
     "output_type": "stream",
     "text": [
      "(5454, 11) (5454,)\n",
      "(1818, 11) (1818,)\n",
      "(1819, 11) (1819,)\n"
     ]
    }
   ],
   "source": [
    "# проверим размеры полученных выборок:\n",
    "print(features_train.shape, target_train.shape)\n",
    "print(features_valid.shape, target_valid.shape)\n",
    "print(features_test.shape, target_test.shape)"
   ]
  },
  {
   "cell_type": "markdown",
   "metadata": {},
   "source": [
    "и проведем масштабирование численных признаков"
   ]
  },
  {
   "cell_type": "code",
   "execution_count": 19,
   "metadata": {},
   "outputs": [],
   "source": [
    "numeric = ['credit_score', 'age', 'tenure','balance', 'number_of_products', 'estimate_salary']\n",
    "\n",
    "scaler = StandardScaler()\n",
    "scaler.fit(features_train[numeric])\n",
    "features_train[numeric] = scaler.transform(features_train[numeric])\n",
    "features_valid[numeric] = scaler.transform(features_valid[numeric])\n",
    "features_test[numeric] = scaler.transform(features_test[numeric])"
   ]
  },
  {
   "cell_type": "code",
   "execution_count": 20,
   "metadata": {},
   "outputs": [
    {
     "name": "stdout",
     "output_type": "stream",
     "text": [
      "(5454, 11)\n"
     ]
    }
   ],
   "source": [
    "print(features_train.shape) "
   ]
  },
  {
   "cell_type": "markdown",
   "metadata": {},
   "source": [
    "**ВЫВОД** Данные для исследования оттока клиентов из банка были загружены и подготовлены:\n",
    "\n",
    "- удалены строки с пропущенными данными - менее 10% от всех данных\n",
    "- исправлены типы данных\n",
    "- удалены столбцы, которые не должны участвовать в обучении модели\n",
    "- преобразованы категориальные признаки в численные техникой ОНЕ\n",
    "- проведено масштабирование численных признаков\n",
    "- данные разделены на обучающую и валидационную выборки в отношении 75/25"
   ]
  },
  {
   "cell_type": "markdown",
   "metadata": {},
   "source": [
    "## Исследование задачи"
   ]
  },
  {
   "cell_type": "markdown",
   "metadata": {},
   "source": [
    "### Исследуем баланс классов"
   ]
  },
  {
   "cell_type": "markdown",
   "metadata": {},
   "source": [
    "Подсчитаем классы в целевом признаке метод value_counts(). Сделаем частоты относительными (от 0 до 1).\n",
    "Значения сохраним в переменной class_frequency. Напечатаем на экране. "
   ]
  },
  {
   "cell_type": "code",
   "execution_count": 21,
   "metadata": {},
   "outputs": [
    {
     "name": "stdout",
     "output_type": "stream",
     "text": [
      "0    0.796062\n",
      "1    0.203938\n",
      "Name: exited, dtype: float64\n"
     ]
    },
    {
     "data": {
      "text/plain": [
       "<AxesSubplot:>"
      ]
     },
     "execution_count": 21,
     "metadata": {},
     "output_type": "execute_result"
    },
    {
     "data": {
      "image/png": "[encoded data removed]",
      "text/plain": [
       "<Figure size 432x288 with 1 Axes>"
      ]
     },
     "metadata": {
      "needs_background": "light"
     },
     "output_type": "display_data"
    }
   ],
   "source": [
    "class_frequency = df_ohe['exited'].value_counts(normalize=True)\n",
    "print(class_frequency)\n",
    "class_frequency.plot(kind='bar')"
   ]
  },
  {
   "cell_type": "markdown",
   "metadata": {},
   "source": [
    "Имеет место дисбаланс классов. Приблизительное отношение 1/4."
   ]
  },
  {
   "cell_type": "markdown",
   "metadata": {},
   "source": [
    "### Изучение модели без учёта дисбаланса"
   ]
  },
  {
   "cell_type": "markdown",
   "metadata": {},
   "source": [
    "Для несбалансированных классов (когда их соотношение далеко от 1:1, а в нашем случае это 1:4), Accuracy не подходит.\n",
    "Для этого мы будем использовать метрику F1, которая учитывает метрики полнота и точность одновременно."
   ]
  },
  {
   "cell_type": "markdown",
   "metadata": {},
   "source": [
    "По отдельности полнота и точность не слишком информативны. Нужно одновременно повышать показатели обеих. Или обратиться к новой метрике, которая их объединит. Полнота и точность оценивают качество прогноза положительного класса с разных позиций. Recall описывает, как хорошо модель разобралась в особенностях этого класса и распознала его. Precision выявляет, не переусердствует ли модель, присваивая положительные метки.\n",
    "\n",
    "Важны обе метрики. Контролировать их параллельно помогают агрегирующие метрики, одна из которых — F1-мера (англ. F1-score). Это среднее гармоническое полноты и точности. Единица в F1 означает, что соотношение полноты и точности равно 1:1."
   ]
  },
  {
   "attachments": {
    "%D0%B8%D0%B7%D0%BE%D0%B1%D1%80%D0%B0%D0%B6%D0%B5%D0%BD%D0%B8%D0%B5.png": {
     "image/png": "[encoded data removed]"
    }
   },
   "cell_type": "markdown",
   "metadata": {},
   "source": [
    "**auc-roc метрика**\n",
    "\n",
    "Чтобы выявить, как сильно модель отличается от случайной, считают площадь под ROC-кривой — AUC-ROC (от англ. Area Under Curve ROC, «площадь под ROC-кривой»). Это метрика качества, которая изменяется от 0 до 1. AUC-ROC случайной модели равна 0.5.\n",
    "\n",
    "По горизонтали наносят долю ложноположительных ответов (FPR), а по вертикали — долю истинно положительных ответов (TPR). Перебирают значения порога модели и проводят кривую. \n",
    "Она называется ROC-кривая, или кривая ошибок (от англ. receiver operating characteristic, «характеристика работы приёмника»; термин пришёл из теории обработки сигналов).\n",
    "Для модели, которая всегда отвечает случайно, ROC-кривая выглядит как прямая, идущая из левого нижнего угла в верхний правый. Чем график выше, тем больше значение TPR и лучше качество модели.\n",
    "![%D0%B8%D0%B7%D0%BE%D0%B1%D1%80%D0%B0%D0%B6%D0%B5%D0%BD%D0%B8%D0%B5.png](attachment:%D0%B8%D0%B7%D0%BE%D0%B1%D1%80%D0%B0%D0%B6%D0%B5%D0%BD%D0%B8%D0%B5.png)"
   ]
  },
  {
   "cell_type": "markdown",
   "metadata": {},
   "source": [
    "#### Исследуем модель \"Решающее дерево\""
   ]
  },
  {
   "cell_type": "code",
   "execution_count": 22,
   "metadata": {},
   "outputs": [
    {
     "name": "stdout",
     "output_type": "stream",
     "text": [
      "max_depth = 1 : 0.7926292629262927\n",
      "f1_score = 0.0\n",
      "max_depth = 2 : 0.8305830583058306\n",
      "f1_score = 0.5304878048780488\n",
      "max_depth = 3 : 0.8333333333333334\n",
      "f1_score = 0.3726708074534161\n",
      "max_depth = 4 : 0.8509350935093509\n",
      "f1_score = 0.5414551607445008\n",
      "max_depth = 5 : 0.8575357535753575\n",
      "f1_score = 0.5140712945590994\n",
      "max_depth = 6 : 0.8586358635863587\n",
      "f1_score = 0.5606837606837607\n",
      "max_depth = 7 : 0.8536853685368537\n",
      "f1_score = 0.5764331210191083\n",
      "max_depth = 8 : 0.8443344334433444\n",
      "f1_score = 0.5413290113452188\n",
      "max_depth = 9 : 0.8371837183718371\n",
      "f1_score = 0.5446153846153846\n",
      "F1-метрика наилучшей модели на валидационной выборке: 0.5764331210191083 \n",
      " Максимальная глубина: 7\n"
     ]
    }
   ],
   "source": [
    "# < сделаем цикл для max_depth от 1 до 5 >\n",
    "\n",
    "best_model_tree = None\n",
    "best_f1 = 0\n",
    "best_depth = 0\n",
    "\n",
    "\n",
    "for depth in range(1, 10):\n",
    "    # < создаем модель, указав max_depth=depth >\n",
    "    model = DecisionTreeClassifier(random_state=12345, max_depth=depth)\n",
    "    # < обучаем модель >\n",
    "    model.fit(features_train, target_train)\n",
    "    predicted_valid = model.predict(features_valid)# < найдем предсказания на валидационной выборке >\n",
    "    print(\"max_depth =\", depth, \": \", end='')\n",
    "    print(accuracy_score(target_valid, predicted_valid))\n",
    "    \n",
    "    # precision = precision_score(target_valid, predicted_valid) # расчет точности (англ. precision).\n",
    "    # точность - как много отрицательных ответов нашла модель, пока искала положительные\n",
    "    # recall = recall_score(target_valid, predicted_valid) # расчет полноты (англ. recall) - \n",
    "    # полнота - доля положительных среди всех ответов\n",
    "    \n",
    "    f1 = f1_score(target_valid, predicted_valid) #f 1 = 2 * precision * recall / (precision + recall)\n",
    "    print(\"f1_score =\", f1)\n",
    "    # F1-мера (англ. F1-score). Это среднее гармоническое полноты и точности. \n",
    "    # Единица в F1 означает, что соотношение полноты и точности равно 1:1.\n",
    "    \n",
    "    if best_f1 < f1:\n",
    "        best_f1 = f1\n",
    "        best_model_tree = model\n",
    "        best_depth = depth\n",
    "        \n",
    "\n",
    "print(\"F1-метрика наилучшей модели на валидационной выборке:\", best_f1, \"\\n\",\\\n",
    "      \"Максимальная глубина:\", best_depth)"
   ]
  },
  {
   "cell_type": "code",
   "execution_count": 23,
   "metadata": {},
   "outputs": [
    {
     "name": "stdout",
     "output_type": "stream",
     "text": [
      "0.8346049843812412\n"
     ]
    }
   ],
   "source": [
    "# AUC-ROC\n",
    "probabilities_valid = best_model_tree.predict_proba(features_valid)\n",
    "probabilities_one_valid = probabilities_valid[:, 1]\n",
    "\n",
    "auc_roc = roc_auc_score(target_valid, probabilities_one_valid)\n",
    "print(auc_roc)"
   ]
  },
  {
   "cell_type": "markdown",
   "metadata": {},
   "source": [
    "#### Исследуем модель \"Случайный лес\""
   ]
  },
  {
   "cell_type": "markdown",
   "metadata": {},
   "source": [
    "##### Отдельный подбор гиперпараметров"
   ]
  },
  {
   "cell_type": "markdown",
   "metadata": {},
   "source": [
    "Подберем глубину леса при небольшом числе деревьев:"
   ]
  },
  {
   "cell_type": "code",
   "execution_count": 24,
   "metadata": {},
   "outputs": [
    {
     "name": "stdout",
     "output_type": "stream",
     "text": [
      "F1-метрика наилучшей модели на валидационной выборке: 0.5849673202614379 \n",
      " Максимальная глубина: 19\n",
      "CPU times: user 2.12 s, sys: 692 µs, total: 2.12 s\n",
      "Wall time: 2.14 s\n"
     ]
    }
   ],
   "source": [
    "%%time\n",
    "best_f1 = 0\n",
    "best_depth = 0\n",
    "est = 20\n",
    "for depth in range (1, 21):\n",
    "    # инициализируем модель с заданным количеством и глубиной деревьев\n",
    "    model = RandomForestClassifier(random_state=12345, n_estimators=est, max_depth=depth)\n",
    "    model.fit(features_train, target_train) # обучим модель на тренировочной выборке\n",
    "    predicted_valid = model.predict(features_valid)\n",
    "    f1 = f1_score(target_valid, predicted_valid)\n",
    "    if best_f1 < f1:\n",
    "        best_f1 = f1 # сохраним наилучшее значение метрики F1 на валидационных данных\n",
    "        best_depth = depth # сохраним наилучшее значение метрики depth на валидационных данных\n",
    "\n",
    "\n",
    "print(\"F1-метрика наилучшей модели на валидационной выборке:\", best_f1, \"\\n\", \"Максимальная глубина:\", best_depth)"
   ]
  },
  {
   "cell_type": "markdown",
   "metadata": {},
   "source": [
    "Подберем число деревьев:"
   ]
  },
  {
   "cell_type": "code",
   "execution_count": 25,
   "metadata": {},
   "outputs": [
    {
     "name": "stdout",
     "output_type": "stream",
     "text": [
      "F1-метрика на валидационной выборке: 0.5949367088607594 \n",
      " Количество деревьев: 13\n",
      "CPU times: user 31 s, sys: 140 ms, total: 31.2 s\n",
      "Wall time: 31.2 s\n"
     ]
    }
   ],
   "source": [
    "%%time\n",
    "best_f1 = 0\n",
    "depth = best_depth #19\n",
    "best_est = 0\n",
    "\n",
    "for est in range (1, 100):\n",
    "    model = RandomForestClassifier(random_state=12345, n_estimators=est, max_depth=depth)\n",
    "    model.fit(features_train, target_train)\n",
    "    predicted_valid = model.predict(features_valid)\n",
    "    f1 = f1_score(target_valid, predicted_valid)\n",
    "    if best_f1 < f1:\n",
    "        best_f1 = f1 # сохраним наилучшее значение метрики F1 на валидационных данных\n",
    "        best_est = est # сохраним наилучшее значение метрики depth на валидационных данных        \n",
    "\n",
    "\n",
    "print(\"F1-метрика на валидационной выборке:\", best_f1, \"\\n\", \"Количество деревьев:\", best_est)"
   ]
  },
  {
   "cell_type": "markdown",
   "metadata": {},
   "source": [
    "##### Совместный подбор гиперпараметров"
   ]
  },
  {
   "cell_type": "code",
   "execution_count": 26,
   "metadata": {},
   "outputs": [
    {
     "name": "stdout",
     "output_type": "stream",
     "text": [
      "F1-метрика на валидационной выборке: 0.6041335453100158 \n",
      " Количество деревьев: 27 \n",
      " Максимальная глубина:  20\n",
      "CPU times: user 8min 17s, sys: 2.39 s, total: 8min 19s\n",
      "Wall time: 8min 20s\n"
     ]
    }
   ],
   "source": [
    "%%time\n",
    "\n",
    "best_f1 = 0\n",
    "best_depth = 0\n",
    "best_est = 0\n",
    "best_model_forest = None\n",
    "\n",
    "for est in range (1, 101):\n",
    "    for depth in range(1, 21):\n",
    "        model = RandomForestClassifier(random_state=12345, n_estimators=est, max_depth=depth)\n",
    "        model.fit(features_train, target_train)\n",
    "        predicted_valid = model.predict(features_valid)\n",
    "        f1 = f1_score(target_valid, predicted_valid)\n",
    "        if best_f1 < f1:\n",
    "            best_f1 = f1\n",
    "            best_est = est\n",
    "            best_depth = depth\n",
    "            best_model_forest = model\n",
    "\n",
    "\n",
    "print(\"F1-метрика на валидационной выборке:\", best_f1, \"\\n\", \"Количество деревьев:\", best_est, '\\n',\\\n",
    "     \"Максимальная глубина: \", best_depth)"
   ]
  },
  {
   "cell_type": "markdown",
   "metadata": {},
   "source": [
    "Наилучшая модель Случайного леса имеет F1 метрику 0.6041335453100158 с характеристиками:\n",
    "\n",
    "Количество деревьев: 27  \n",
    "Глубина: 20"
   ]
  },
  {
   "cell_type": "code",
   "execution_count": 27,
   "metadata": {},
   "outputs": [
    {
     "name": "stdout",
     "output_type": "stream",
     "text": [
      "27\n",
      "20\n"
     ]
    }
   ],
   "source": [
    "print(best_est)\n",
    "print(best_depth)"
   ]
  },
  {
   "cell_type": "markdown",
   "metadata": {},
   "source": [
    "Посчитаем метрику auc-roc"
   ]
  },
  {
   "cell_type": "code",
   "execution_count": 28,
   "metadata": {},
   "outputs": [
    {
     "name": "stdout",
     "output_type": "stream",
     "text": [
      "0.8530649397982907\n"
     ]
    }
   ],
   "source": [
    "# подсчет метрики AUC-ROC\n",
    "model = RandomForestClassifier(random_state=12345, n_estimators=27, max_depth=20)\n",
    "model.fit(features_train, target_train)\n",
    "\n",
    "probabilities_valid = model.predict_proba(features_valid)\n",
    "probabilities_one_valid = probabilities_valid[:, 1]\n",
    "\n",
    "auc_roc = roc_auc_score(target_valid, probabilities_one_valid)\n",
    "print(auc_roc)"
   ]
  },
  {
   "cell_type": "markdown",
   "metadata": {},
   "source": [
    "#### Исследуем модель \"Логистическая регрессия\""
   ]
  },
  {
   "cell_type": "code",
   "execution_count": 29,
   "metadata": {},
   "outputs": [],
   "source": [
    "import warnings\n",
    "warnings.filterwarnings(\"ignore\", category=DeprecationWarning)"
   ]
  },
  {
   "cell_type": "code",
   "execution_count": 30,
   "metadata": {},
   "outputs": [
    {
     "name": "stdout",
     "output_type": "stream",
     "text": [
      "F1 наилучшей модели на валидационной выборке: 0.30400000000000005 \n",
      " Значение solver: lbfgs \n",
      " Значение С: 1\n",
      "CPU times: user 1.96 s, sys: 2.59 s, total: 4.55 s\n",
      "Wall time: 4.58 s\n"
     ]
    }
   ],
   "source": [
    "%%time\n",
    "\n",
    "best_model_regr = None\n",
    "best_f1 = 0\n",
    "best_C = 0\n",
    "best_solver = None\n",
    "\n",
    "for hyperparam1  in [0.001, 0.01, 0.1, 1, 10]:\n",
    "    for hyperparam2 in ['lbfgs', 'sag', 'saga', 'newton-cg']:\n",
    "        # инициализируем модель с заданными гиперпараметрами\n",
    "        model = LogisticRegression(random_state=12345, solver=hyperparam2, max_iter=1000, C=hyperparam1)\n",
    "        model.fit(features_train, target_train) # обучим модель на тренировочной выборке\n",
    "        predicted_valid = model.predict(features_valid)\n",
    "        f1 = f1_score(target_valid, predicted_valid)\n",
    "        if best_f1 < f1:\n",
    "            best_model_regr = model\n",
    "            best_f1 = f1\n",
    "            best_C = hyperparam1\n",
    "            best_solver = hyperparam2\n",
    "print(\"F1 наилучшей модели на валидационной выборке:\", best_f1, \"\\n\", \\\n",
    "      \"Значение solver:\", best_solver, \"\\n\", \"Значение С:\", best_C)"
   ]
  },
  {
   "cell_type": "code",
   "execution_count": 31,
   "metadata": {},
   "outputs": [
    {
     "name": "stdout",
     "output_type": "stream",
     "text": [
      "0.773663293800172\n"
     ]
    }
   ],
   "source": [
    "# подсчет метрики AUC-ROC\n",
    "model = best_model_regr\n",
    "\n",
    "probabilities_valid = model.predict_proba(features_valid)\n",
    "probabilities_one_valid = probabilities_valid[:, 1]\n",
    "\n",
    "auc_roc = roc_auc_score(target_valid, probabilities_one_valid)\n",
    "print(auc_roc)"
   ]
  },
  {
   "cell_type": "markdown",
   "metadata": {},
   "source": [
    "**Вывод:** Как видим из рассмотренных моделей, наилучшие результаты получились на Случайном лесе с характеристиками  \n",
    "Количество деревьев 27  \n",
    "Глубина:20  \n",
    "F1 - метрика для этой модели: 0.6041335453100158\n",
    "\n",
    "\n",
    "При совместом подборе гиперпараметров случайного леса было портачено гораздо больше времени, чем при отдельном подборе гиперпараметорв. В случае, если время на поиски модели ограничены, а качество полученной модели при отдельном подборе гиперпараметров удовлетворительное, то можно пойти по пути отдельного подбора гиперпараметров.\n"
   ]
  },
  {
   "cell_type": "markdown",
   "metadata": {},
   "source": [
    "## Борьба с дисбалансом"
   ]
  },
  {
   "cell_type": "markdown",
   "metadata": {},
   "source": [
    "Из предыдущего пункта мы нашли наилучшую модель: Случайный лес с характеристиками глубины 13 и количеством деревьев 19. При этом F1 метрика равна 0,5949367088607594. Попробуем увеличить качество модели."
   ]
  },
  {
   "cell_type": "markdown",
   "metadata": {},
   "source": [
    "Чтобы увеличить качество модели при дисбалансе классов имеются следующие техники: взвешивание классов, upsampling и downsampling. Применим их"
   ]
  },
  {
   "cell_type": "markdown",
   "metadata": {},
   "source": [
    "### Взвешивание классов"
   ]
  },
  {
   "cell_type": "markdown",
   "metadata": {},
   "source": [
    "Алгоритмы машинного обучения считают все объекты обучающей выборки равнозначными по умолчанию. Если важно указать, что какие-то объекты важнее, их классу присваивается вес (англ. class_weight, «вес класса»).  \n",
    "Если указать class_weight='balanced' (англ. «сбалансированный»), алгоритм посчитает, во сколько раз класс «0» встречается чаще класса «1»."
   ]
  },
  {
   "cell_type": "markdown",
   "metadata": {},
   "source": [
    "#### На модели Решающего дерева"
   ]
  },
  {
   "cell_type": "code",
   "execution_count": 32,
   "metadata": {},
   "outputs": [
    {
     "name": "stdout",
     "output_type": "stream",
     "text": [
      "F1-метрика наилучшей модели на валидационной выборке: 0.5735449735449736 \n",
      " Максимальная глубина: 5\n"
     ]
    }
   ],
   "source": [
    "# подберем подходящие параметры решающего дерева с балансом веса классов\n",
    "best_model_tree = None\n",
    "best_f1 = 0\n",
    "best_depth = 0\n",
    "\n",
    "for depth in range(1, 10):\n",
    "    model = DecisionTreeClassifier(random_state=12345, max_depth=depth, class_weight='balanced')\n",
    "    model.fit(features_train, target_train)\n",
    "    predicted_valid = model.predict(features_valid)\n",
    "    f1 = f1_score(target_valid, predicted_valid)\n",
    "    if best_f1 < f1:\n",
    "        best_f1 = f1\n",
    "        best_model_tree = model\n",
    "        best_depth = depth\n",
    "        \n",
    "print(\"F1-метрика наилучшей модели на валидационной выборке:\", best_f1, \"\\n\",\\\n",
    "      \"Максимальная глубина:\", best_depth)"
   ]
  },
  {
   "cell_type": "code",
   "execution_count": 33,
   "metadata": {},
   "outputs": [
    {
     "name": "stdout",
     "output_type": "stream",
     "text": [
      "0.8396523192522141\n"
     ]
    }
   ],
   "source": [
    "# подсчет метрики AUC-ROC\n",
    "probabilities_valid = best_model_tree.predict_proba(features_valid)\n",
    "probabilities_one_valid = probabilities_valid[:, 1]\n",
    "\n",
    "auc_roc = roc_auc_score(target_valid, probabilities_one_valid)\n",
    "print(auc_roc)"
   ]
  },
  {
   "cell_type": "markdown",
   "metadata": {},
   "source": [
    "#### На модели Случайного леса"
   ]
  },
  {
   "cell_type": "code",
   "execution_count": 34,
   "metadata": {},
   "outputs": [
    {
     "name": "stdout",
     "output_type": "stream",
     "text": [
      "F1-метрика на валидационной выборке: 0.6497584541062802 \n",
      " Количество деревьев: 10 \n",
      " Максимальная глубина:  9\n",
      "CPU times: user 8min 18s, sys: 2.32 s, total: 8min 20s\n",
      "Wall time: 8min 20s\n"
     ]
    }
   ],
   "source": [
    "%%time\n",
    "\n",
    "best_f1 = 0\n",
    "best_depth = 0\n",
    "best_est = 0\n",
    "best_model_forest = None\n",
    "\n",
    "for est in range (1, 101):\n",
    "    for depth in range(1, 21):\n",
    "        model = RandomForestClassifier(\n",
    "            random_state=12345, n_estimators=est, max_depth=depth, class_weight='balanced'\n",
    "        )\n",
    "        model.fit(features_train, target_train)\n",
    "        predicted_valid = model.predict(features_valid)\n",
    "        f1 = f1_score(target_valid, predicted_valid)\n",
    "        if best_f1 < f1:\n",
    "            best_model_forest = model\n",
    "            best_f1 = f1\n",
    "            best_est = est\n",
    "            best_depth = depth\n",
    "\n",
    "print(\"F1-метрика на валидационной выборке:\", best_f1, \"\\n\", \"Количество деревьев:\", best_est, '\\n',\\\n",
    "     \"Максимальная глубина: \", best_depth)"
   ]
  },
  {
   "cell_type": "code",
   "execution_count": 35,
   "metadata": {},
   "outputs": [
    {
     "name": "stdout",
     "output_type": "stream",
     "text": [
      "0.8690573706367336\n"
     ]
    }
   ],
   "source": [
    "# AUC-ROC\n",
    "probabilities_valid = best_model_forest.predict_proba(features_valid)\n",
    "probabilities_one_valid = probabilities_valid[:, 1]\n",
    "\n",
    "auc_roc = roc_auc_score(target_valid, probabilities_one_valid)\n",
    "print(auc_roc)"
   ]
  },
  {
   "cell_type": "markdown",
   "metadata": {},
   "source": [
    "### upsampling (Увеличение выборки)"
   ]
  },
  {
   "cell_type": "markdown",
   "metadata": {},
   "source": [
    "Идея состоит, чтобы сделать объекты редкого класса не такими редкими в данных."
   ]
  },
  {
   "cell_type": "markdown",
   "metadata": {},
   "source": [
    "Преобразование проходит в несколько этапов:\n",
    "\n",
    "- Разделить обучающую выборку на отрицательные и положительные объекты;\n",
    "- Скопировать несколько раз положительные объекты;\n",
    "- С учётом полученных данных создать новую обучающую выборку;\n",
    "- Перемешать данные: идущие друг за другом одинаковые вопросы не помогут обучению."
   ]
  },
  {
   "cell_type": "code",
   "execution_count": 36,
   "metadata": {},
   "outputs": [],
   "source": [
    "def upsample(features, target, repeat):\n",
    "    features_zeros = features[target == 0]\n",
    "    features_ones = features[target == 1]\n",
    "    target_zeros = target[target == 0]\n",
    "    target_ones = target[target == 1]\n",
    "\n",
    "    features_upsampled = pd.concat([features_zeros] + [features_ones] * repeat)\n",
    "    target_upsampled = pd.concat([target_zeros] + [target_ones] * repeat)\n",
    "    \n",
    "    features_upsampled, target_upsampled = shuffle(\n",
    "        features_upsampled, target_upsampled, random_state=12345)\n",
    "    \n",
    "    return features_upsampled, target_upsampled"
   ]
  },
  {
   "cell_type": "code",
   "execution_count": 37,
   "metadata": {},
   "outputs": [
    {
     "name": "stdout",
     "output_type": "stream",
     "text": [
      "1    0.509964\n",
      "0    0.490036\n",
      "Name: exited, dtype: float64\n"
     ]
    },
    {
     "data": {
      "text/plain": [
       "<AxesSubplot:>"
      ]
     },
     "execution_count": 37,
     "metadata": {},
     "output_type": "execute_result"
    },
    {
     "data": {
      "image/png": "[encoded data removed]",
      "text/plain": [
       "<Figure size 432x288 with 1 Axes>"
      ]
     },
     "metadata": {
      "needs_background": "light"
     },
     "output_type": "display_data"
    }
   ],
   "source": [
    "# проверим баланс классов\n",
    "features_upsampled, target_upsampled = upsample(features_train, target_train, 4)\n",
    "\n",
    "class_frequency = target_upsampled.value_counts(normalize=True)\n",
    "print(class_frequency)\n",
    "class_frequency.plot(kind='bar')"
   ]
  },
  {
   "cell_type": "markdown",
   "metadata": {},
   "source": [
    "Доводим баланс классов до соотношения близкого к 1:1"
   ]
  },
  {
   "cell_type": "markdown",
   "metadata": {},
   "source": [
    "#### На модели Решающего дерева"
   ]
  },
  {
   "cell_type": "code",
   "execution_count": 38,
   "metadata": {},
   "outputs": [
    {
     "name": "stdout",
     "output_type": "stream",
     "text": [
      "F1-метрика наилучшей модели на валидационной выборке: 0.5735449735449736 \n",
      " Максимальная глубина: 5\n"
     ]
    }
   ],
   "source": [
    "best_model_tree = None\n",
    "best_f1 = 0\n",
    "best_depth = 0\n",
    "\n",
    "for depth in range(1, 10):\n",
    "    model = DecisionTreeClassifier(random_state=12345, max_depth=depth)\n",
    "    model.fit(features_upsampled, target_upsampled)\n",
    "    predicted_valid = model.predict(features_valid)\n",
    "    f1 = f1_score(target_valid, predicted_valid) #f 1 = 2 * precision * recall / (precision + recall)\n",
    "    if best_f1 < f1:\n",
    "        best_f1 = f1\n",
    "        best_model_tree = model\n",
    "        best_depth = depth\n",
    "        \n",
    "print(\"F1-метрика наилучшей модели на валидационной выборке:\", best_f1, \"\\n\",\\\n",
    "      \"Максимальная глубина:\", best_depth)"
   ]
  },
  {
   "cell_type": "code",
   "execution_count": 39,
   "metadata": {},
   "outputs": [
    {
     "name": "stdout",
     "output_type": "stream",
     "text": [
      "0.8396523192522141\n"
     ]
    }
   ],
   "source": [
    "# AUC-ROC\n",
    "probabilities_valid = best_model_tree.predict_proba(features_valid)\n",
    "probabilities_one_valid = probabilities_valid[:, 1]\n",
    "\n",
    "auc_roc = roc_auc_score(target_valid, probabilities_one_valid)\n",
    "print(auc_roc)"
   ]
  },
  {
   "cell_type": "markdown",
   "metadata": {},
   "source": [
    "#### На модели Случайного леса"
   ]
  },
  {
   "cell_type": "code",
   "execution_count": 40,
   "metadata": {},
   "outputs": [
    {
     "name": "stdout",
     "output_type": "stream",
     "text": [
      "F1-метрика на валидационной выборке: 0.6397919375812745 \n",
      " Количество деревьев: 67 \n",
      " Максимальная глубина:  12\n",
      "CPU times: user 11min 18s, sys: 2.73 s, total: 11min 20s\n",
      "Wall time: 11min 23s\n"
     ]
    }
   ],
   "source": [
    "%%time\n",
    "\n",
    "best_f1 = 0\n",
    "best_depth = 0\n",
    "best_est = 0\n",
    "best_model_forest = None\n",
    "\n",
    "for est in range (1, 101):\n",
    "    for depth in range(1, 21):\n",
    "        model = RandomForestClassifier(random_state=12345, n_estimators=est, max_depth=depth)\n",
    "        model.fit(features_upsampled, target_upsampled)\n",
    "        predicted_valid = model.predict(features_valid)\n",
    "        f1 = f1_score(target_valid, predicted_valid)\n",
    "        if best_f1 < f1:\n",
    "            best_model_forest = model\n",
    "            best_f1 = f1\n",
    "            best_est = est\n",
    "            best_depth = depth\n",
    "\n",
    "print(\"F1-метрика на валидационной выборке:\", best_f1, \"\\n\", \"Количество деревьев:\", best_est, '\\n',\\\n",
    "     \"Максимальная глубина: \", best_depth)"
   ]
  },
  {
   "cell_type": "code",
   "execution_count": 41,
   "metadata": {},
   "outputs": [
    {
     "name": "stdout",
     "output_type": "stream",
     "text": [
      "0.8649736680797485\n"
     ]
    }
   ],
   "source": [
    "# AUC-ROC\n",
    "probabilities_valid = best_model_forest.predict_proba(features_valid)\n",
    "probabilities_one_valid = probabilities_valid[:, 1]\n",
    "\n",
    "auc_roc = roc_auc_score(target_valid, probabilities_one_valid)\n",
    "print(auc_roc)"
   ]
  },
  {
   "cell_type": "markdown",
   "metadata": {},
   "source": [
    "### downsampling (Уменьшение выборки)"
   ]
  },
  {
   "cell_type": "markdown",
   "metadata": {},
   "source": [
    "Принцип метода в том, чтобы сделать объекты частого класса не такими частыми  \n",
    "Вместо повторения важных вопросов надо убрать часть неважных. Это можно сделать техникой downsampling (от англ. down — «вниз»; sampling — «выборка»).\n",
    "Преобразование проходит в несколько этапов:\n",
    "\n",
    "- Разделить обучающую выборку на отрицательные и положительные объекты;\n",
    "- Случайным образом отбросить часть из отрицательных объектов;\n",
    "- С учётом полученных данных создать новую обучающую выборку;\n",
    "- Перемешать данные. Положительные не должны идти следом за отрицательными: алгоритмам будет сложнее обучаться."
   ]
  },
  {
   "cell_type": "code",
   "execution_count": 42,
   "metadata": {},
   "outputs": [],
   "source": [
    "def downsample(features, target, fraction):\n",
    "    features_zeros = features[target == 0]\n",
    "    features_ones = features[target == 1]\n",
    "    target_zeros = target[target == 0]\n",
    "    target_ones = target[target == 1]\n",
    "\n",
    "    features_downsampled = pd.concat(\n",
    "        [features_zeros.sample(frac=fraction, random_state=12345)] + [features_ones])\n",
    "    target_downsampled = pd.concat(\n",
    "        [target_zeros.sample(frac=fraction, random_state=12345)] + [target_ones])\n",
    "    \n",
    "    features_downsampled, target_downsampled = shuffle(\n",
    "        features_downsampled, target_downsampled, random_state=12345)\n",
    "    \n",
    "    return features_downsampled, target_downsampled"
   ]
  },
  {
   "cell_type": "code",
   "execution_count": 43,
   "metadata": {},
   "outputs": [
    {
     "name": "stdout",
     "output_type": "stream",
     "text": [
      "1    0.509964\n",
      "0    0.490036\n",
      "Name: exited, dtype: float64\n"
     ]
    },
    {
     "data": {
      "text/plain": [
       "<AxesSubplot:>"
      ]
     },
     "execution_count": 43,
     "metadata": {},
     "output_type": "execute_result"
    },
    {
     "data": {
      "image/png": "[encoded data removed]",
      "text/plain": [
       "<Figure size 432x288 with 1 Axes>"
      ]
     },
     "metadata": {
      "needs_background": "light"
     },
     "output_type": "display_data"
    }
   ],
   "source": [
    "features_downsampled, target_downsampled = downsample(features_train, target_train, 0.25)\n",
    "\n",
    "class_frequency = target_downsampled.value_counts(normalize=True)\n",
    "print(class_frequency)\n",
    "class_frequency.plot(kind='bar')"
   ]
  },
  {
   "cell_type": "markdown",
   "metadata": {},
   "source": [
    "#### На модели Решающего дерева"
   ]
  },
  {
   "cell_type": "code",
   "execution_count": 44,
   "metadata": {},
   "outputs": [
    {
     "name": "stdout",
     "output_type": "stream",
     "text": [
      "F1-метрика наилучшей модели на валидационной выборке: 0.5636704119850188 \n",
      " Максимальная глубина: 6\n"
     ]
    }
   ],
   "source": [
    "best_model_tree = None\n",
    "best_f1 = 0\n",
    "best_depth = 0\n",
    "\n",
    "for depth in range(1, 10):\n",
    "    model = DecisionTreeClassifier(random_state=12345, max_depth=depth)\n",
    "    model.fit(features_downsampled, target_downsampled)\n",
    "    predicted_valid = model.predict(features_valid)\n",
    "    f1 = f1_score(target_valid, predicted_valid)\n",
    "    if best_f1 < f1:\n",
    "        best_f1 = f1\n",
    "        best_model_tree = model\n",
    "        best_depth = depth\n",
    "        \n",
    "print(\"F1-метрика наилучшей модели на валидационной выборке:\", best_f1, \"\\n\",\\\n",
    "      \"Максимальная глубина:\", best_depth)"
   ]
  },
  {
   "cell_type": "code",
   "execution_count": 45,
   "metadata": {},
   "outputs": [
    {
     "name": "stdout",
     "output_type": "stream",
     "text": [
      "0.8343500405885245\n"
     ]
    }
   ],
   "source": [
    "# AUC-ROC\n",
    "probabilities_valid = best_model_tree.predict_proba(features_valid)\n",
    "probabilities_one_valid = probabilities_valid[:, 1]\n",
    "\n",
    "auc_roc = roc_auc_score(target_valid, probabilities_one_valid)\n",
    "print(auc_roc)"
   ]
  },
  {
   "cell_type": "markdown",
   "metadata": {},
   "source": [
    "#### На модели Случайного леса"
   ]
  },
  {
   "cell_type": "code",
   "execution_count": 46,
   "metadata": {},
   "outputs": [
    {
     "name": "stdout",
     "output_type": "stream",
     "text": [
      "F1-метрика на валидационной выборке: 0.6094853683148336 \n",
      " Количество деревьев: 41 \n",
      " Максимальная глубина:  8\n",
      "CPU times: user 4min 50s, sys: 2.18 s, total: 4min 52s\n",
      "Wall time: 4min 55s\n"
     ]
    }
   ],
   "source": [
    "%%time\n",
    "\n",
    "best_f1 = 0\n",
    "best_depth = 0\n",
    "best_est = 0\n",
    "best_model_forest = None\n",
    "\n",
    "for est in range (1, 101):\n",
    "    for depth in range(1, 21):\n",
    "        model = RandomForestClassifier(random_state=12345, n_estimators=est, max_depth=depth)\n",
    "        model.fit(features_downsampled, target_downsampled)\n",
    "        predicted_valid = model.predict(features_valid)\n",
    "        f1 = f1_score(target_valid, predicted_valid)\n",
    "        if best_f1 < f1:\n",
    "            best_model_forest = model\n",
    "            best_f1 = f1\n",
    "            best_est = est\n",
    "            best_depth = depth\n",
    "\n",
    "print(\"F1-метрика на валидационной выборке:\", best_f1, \"\\n\", \"Количество деревьев:\", best_est, '\\n',\\\n",
    "     \"Максимальная глубина: \", best_depth)"
   ]
  },
  {
   "cell_type": "code",
   "execution_count": 47,
   "metadata": {},
   "outputs": [
    {
     "name": "stdout",
     "output_type": "stream",
     "text": [
      "0.8658259350546794\n"
     ]
    }
   ],
   "source": [
    "# AUC-ROC\n",
    "probabilities_valid = best_model_forest.predict_proba(features_valid)\n",
    "probabilities_one_valid = probabilities_valid[:, 1]\n",
    "\n",
    "auc_roc = roc_auc_score(target_valid, probabilities_one_valid)\n",
    "print(auc_roc)"
   ]
  },
  {
   "cell_type": "markdown",
   "metadata": {},
   "source": [
    "### Изменение порога"
   ]
  },
  {
   "cell_type": "markdown",
   "metadata": {},
   "source": [
    "Изменим значение порога и посмотрим, какими станут метрики.  \n",
    "В библиотеке sklearn вероятность классов вычисляет функция predict_proba() (от англ. predict probabilities, «предсказать вероятности»). На вход она получает признаки объектов, а возвращает вероятности."
   ]
  },
  {
   "cell_type": "code",
   "execution_count": 48,
   "metadata": {},
   "outputs": [
    {
     "name": "stdout",
     "output_type": "stream",
     "text": [
      "Порог = 0.00 | Точность = 0.207, Полнота = 1.000, F1-метрика = 0.344\n",
      "Порог = 0.02 | Точность = 0.209, Полнота = 1.000, F1-метрика = 0.346\n",
      "Порог = 0.04 | Точность = 0.213, Полнота = 0.997, F1-метрика = 0.351\n",
      "Порог = 0.06 | Точность = 0.222, Полнота = 0.995, F1-метрика = 0.363\n",
      "Порог = 0.08 | Точность = 0.232, Полнота = 0.984, F1-метрика = 0.376\n",
      "Порог = 0.10 | Точность = 0.244, Полнота = 0.984, F1-метрика = 0.391\n",
      "Порог = 0.12 | Точность = 0.255, Полнота = 0.981, F1-метрика = 0.405\n",
      "Порог = 0.14 | Точность = 0.263, Полнота = 0.968, F1-метрика = 0.414\n",
      "Порог = 0.16 | Точность = 0.278, Полнота = 0.960, F1-метрика = 0.431\n",
      "Порог = 0.18 | Точность = 0.293, Полнота = 0.955, F1-метрика = 0.449\n",
      "Порог = 0.20 | Точность = 0.313, Полнота = 0.947, F1-метрика = 0.470\n",
      "Порог = 0.22 | Точность = 0.329, Полнота = 0.931, F1-метрика = 0.486\n",
      "Порог = 0.24 | Точность = 0.344, Полнота = 0.920, F1-метрика = 0.501\n",
      "Порог = 0.26 | Точность = 0.361, Полнота = 0.905, F1-метрика = 0.516\n",
      "Порог = 0.28 | Точность = 0.373, Полнота = 0.883, F1-метрика = 0.525\n",
      "Порог = 0.30 | Точность = 0.388, Полнота = 0.870, F1-метрика = 0.536\n",
      "Порог = 0.32 | Точность = 0.415, Полнота = 0.862, F1-метрика = 0.560\n",
      "Порог = 0.34 | Точность = 0.437, Полнота = 0.851, F1-метрика = 0.578\n",
      "Порог = 0.36 | Точность = 0.459, Полнота = 0.836, F1-метрика = 0.592\n",
      "Порог = 0.38 | Точность = 0.477, Полнота = 0.817, F1-метрика = 0.602\n",
      "Порог = 0.40 | Точность = 0.487, Полнота = 0.793, F1-метрика = 0.603\n",
      "Порог = 0.42 | Точность = 0.509, Полнота = 0.772, F1-метрика = 0.613\n",
      "Порог = 0.44 | Точность = 0.528, Полнота = 0.756, F1-метрика = 0.622\n",
      "Порог = 0.46 | Точность = 0.554, Полнота = 0.745, F1-метрика = 0.636\n",
      "Порог = 0.48 | Точность = 0.581, Полнота = 0.735, F1-метрика = 0.649\n",
      "Порог = 0.50 | Точность = 0.596, Полнота = 0.714, F1-метрика = 0.650\n",
      "Порог = 0.52 | Точность = 0.609, Полнота = 0.682, F1-метрика = 0.643\n",
      "Порог = 0.54 | Точность = 0.631, Полнота = 0.650, F1-метрика = 0.641\n",
      "Порог = 0.56 | Точность = 0.658, Полнота = 0.623, F1-метрика = 0.640\n",
      "Порог = 0.58 | Точность = 0.681, Полнота = 0.605, F1-метрика = 0.640\n",
      "Порог = 0.60 | Точность = 0.693, Полнота = 0.586, F1-метрика = 0.635\n",
      "Порог = 0.62 | Точность = 0.705, Полнота = 0.546, F1-метрика = 0.616\n",
      "Порог = 0.64 | Точность = 0.719, Полнота = 0.531, F1-метрика = 0.611\n",
      "Порог = 0.66 | Точность = 0.744, Полнота = 0.509, F1-метрика = 0.605\n",
      "Порог = 0.68 | Точность = 0.759, Полнота = 0.485, F1-метрика = 0.592\n",
      "Порог = 0.70 | Точность = 0.776, Полнота = 0.459, F1-метрика = 0.577\n",
      "Порог = 0.72 | Точность = 0.797, Полнота = 0.438, F1-метрика = 0.565\n",
      "Порог = 0.74 | Точность = 0.799, Полнота = 0.411, F1-метрика = 0.543\n",
      "Порог = 0.76 | Точность = 0.829, Полнота = 0.385, F1-метрика = 0.525\n",
      "Порог = 0.78 | Точность = 0.843, Полнота = 0.355, F1-метрика = 0.500\n"
     ]
    },
    {
     "data": {
      "image/png": "[encoded data removed]",
      "text/plain": [
       "<Figure size 432x432 with 1 Axes>"
      ]
     },
     "metadata": {
      "needs_background": "light"
     },
     "output_type": "display_data"
    }
   ],
   "source": [
    "model = RandomForestClassifier(\n",
    "            random_state=12345, n_estimators=10, max_depth=9, class_weight='balanced'\n",
    "        )\n",
    "model.fit(features_train, target_train)\n",
    "probabilities_valid = model.predict_proba(features_valid)\n",
    "probabilities_one_valid = probabilities_valid[:, 1]\n",
    "\n",
    "for threshold in np.arange(0, 0.8, 0.02):\n",
    "    predicted_valid = probabilities_one_valid > threshold \n",
    "    precision = precision_score(target_valid, predicted_valid)\n",
    "    recall = recall_score(target_valid, predicted_valid)\n",
    "    f1 = f1_score(target_valid, predicted_valid)\n",
    "\n",
    "    print(\"Порог = {:.2f} | Точность = {:.3f}, Полнота = {:.3f}, F1-метрика = {:.3f}\".format(\n",
    "        threshold, precision, recall, f1))\n",
    "\n",
    "    \n",
    "precision, recall, thresholds = precision_recall_curve(target_valid, probabilities_valid[:, 1])\n",
    "\n",
    "plt.figure(figsize=(6, 6))\n",
    "plt.step(recall, precision, where='post')\n",
    "plt.xlabel('Recall')\n",
    "plt.ylabel('Precision')\n",
    "plt.ylim([0.0, 1.05])\n",
    "plt.xlim([0.0, 1.0])\n",
    "plt.title('Кривая Precision-Recall')\n",
    "plt.show() "
   ]
  },
  {
   "cell_type": "markdown",
   "metadata": {},
   "source": [
    "Построим рок кривую"
   ]
  },
  {
   "cell_type": "code",
   "execution_count": 49,
   "metadata": {},
   "outputs": [
    {
     "data": {
      "image/png": "[encoded data removed]",
      "text/plain": [
       "<Figure size 432x288 with 1 Axes>"
      ]
     },
     "metadata": {
      "needs_background": "light"
     },
     "output_type": "display_data"
    }
   ],
   "source": [
    "probabilities_valid = model.predict_proba(features_valid)\n",
    "probabilities_one_valid = probabilities_valid[:, 1]\n",
    "\n",
    "fpr, tpr, thresholds = roc_curve(target_valid, probabilities_one_valid)\n",
    "\n",
    "plt.figure()\n",
    "# < построим график >\n",
    "# ROC-кривая случайной модели (выглядит как прямая)\n",
    "plt.plot([0, 1], [0, 1], linestyle='--')\n",
    "plt.plot(fpr, tpr)\n",
    "# < примените функции plt.xlim() и plt.ylim(), чтобы\n",
    "#   установить границы осей от 0 до 1 >\n",
    "\n",
    "# < применим функции plt.xlabel() и plt.ylabel(), чтобы\n",
    "#   подписать оси \"False Positive Rate\" и \"True Positive Rate\" >\n",
    "\n",
    "# < добавим к графику заголовок \"ROC-кривая\" функцией plt.title() >\n",
    "\n",
    "plt.xlabel('False Positive Rate')\n",
    "plt.ylabel('True Positive Rate')\n",
    "plt.ylim([0.0, 1.0])\n",
    "plt.xlim([0.0, 1.0])\n",
    "plt.title('ROC-кривая')\n",
    "\n",
    "\n",
    "plt.show()"
   ]
  },
  {
   "cell_type": "code",
   "execution_count": 50,
   "metadata": {},
   "outputs": [
    {
     "name": "stdout",
     "output_type": "stream",
     "text": [
      "0.8690573706367336\n"
     ]
    }
   ],
   "source": [
    "auc_roc = roc_auc_score(target_valid, probabilities_one_valid)\n",
    "print(auc_roc)"
   ]
  },
  {
   "cell_type": "markdown",
   "metadata": {},
   "source": [
    "**Промежуточный вывод:**  \n",
    "В ходе работы мы рассмотрели несколько способов борьбы с дисбалансов классов для различных моделей и подобрали подходящий, чтобы увеличить метрику F1 до значений, больших предъявленных 0,59:  \n",
    "- для Случайного леса с количеством деревьев = 10 и глубиной = 9 максимальная метрика F1, равную 0.6497584541062802, получили в случае балансировании классов.  \n",
    "\n",
    "При этом можно заметить, что при балансировании классов получилась наилучшая модель на валидационной выборке. При увеличении выборки - скорость подбора модели уменьшилось (увеличилось время обучения из-за увеличения выборки), а при уменьшении выборки - время перебора уменьшилось, но при этом и результат оказался хуже."
   ]
  },
  {
   "cell_type": "markdown",
   "metadata": {},
   "source": [
    "## Тестирование модели"
   ]
  },
  {
   "cell_type": "markdown",
   "metadata": {},
   "source": [
    "Проведем финальное тестирование на тестовой выборке моделей, подобранных из предыдущего пункта."
   ]
  },
  {
   "cell_type": "markdown",
   "metadata": {},
   "source": [
    "**Случайный лес**"
   ]
  },
  {
   "cell_type": "code",
   "execution_count": 51,
   "metadata": {},
   "outputs": [
    {
     "name": "stdout",
     "output_type": "stream",
     "text": [
      "F1: 0.5936675461741425\n"
     ]
    }
   ],
   "source": [
    "model = RandomForestClassifier(random_state=12345, n_estimators=10, max_depth=9,  class_weight='balanced')\n",
    "model.fit(features_train, target_train)\n",
    "predicted_test = model.predict(features_test) \n",
    "\n",
    "print(\"F1:\", f1_score(target_test, predicted_test))"
   ]
  },
  {
   "cell_type": "code",
   "execution_count": 52,
   "metadata": {},
   "outputs": [
    {
     "name": "stdout",
     "output_type": "stream",
     "text": [
      "F1: 0.6048387096774193\n"
     ]
    }
   ],
   "source": [
    "model = RandomForestClassifier(random_state=12345, n_estimators=67, max_depth=12)\n",
    "model.fit(features_upsampled, target_upsampled)\n",
    "predicted_test = model.predict(features_test) \n",
    "\n",
    "print(\"F1:\", f1_score(target_test, predicted_test))"
   ]
  },
  {
   "cell_type": "code",
   "execution_count": 53,
   "metadata": {},
   "outputs": [
    {
     "name": "stdout",
     "output_type": "stream",
     "text": [
      "0.8649736680797485\n"
     ]
    }
   ],
   "source": [
    "# AUC-ROC\n",
    "probabilities_valid = model.predict_proba(features_valid)\n",
    "probabilities_one_valid = probabilities_valid[:, 1]\n",
    "\n",
    "auc_roc = roc_auc_score(target_valid, probabilities_one_valid)\n",
    "print(auc_roc)"
   ]
  },
  {
   "cell_type": "markdown",
   "metadata": {},
   "source": [
    "**Вывод:** подобранная модель обеспечивают хороший результат метрики F1 на тестовой выборке - не ниже 0,59."
   ]
  },
  {
   "cell_type": "markdown",
   "metadata": {},
   "source": [
    "## Вывод"
   ]
  },
  {
   "cell_type": "markdown",
   "metadata": {},
   "source": [
    "В ходе выполнения проекта по теме Обучение с учителем \"Отток клиентов из \"Бета-Банка\" была проведена работа по изучению моделей с несбалансированными классами, в ходе которой были выполнены следующие этапы:\n",
    "1. Загружены данные по клиентам банка, проведена подготовка данных:\n",
    "- обработаны пропуски\n",
    "- исправлены типы данных с столбцах\n",
    "- подготовлены данные к исследованию \n",
    "\n",
    "2. Проведено исследование моделей без учета дисбаланся, в ходе которого были выбраны 2 модели случайного леса с наибольшими значениями метрики F1. Одна модель была получена отдельным подбором глубины леса и отдельным подбором количества деревьев, другая, более затратная по времени - подбором обеих параметров во вложенных циклах.\n",
    "\n",
    "3. Проведено исследование методов борьбы с дисбалансом классов. Наилучшие результаты оказались на модели случайного леса со взвешиванием классов и методом увеличения выборки.\n",
    "\n",
    "4. На тестовой выборке удалось получить метрику F1 не менее 0,59.\n"
   ]
  }
 ],
 "metadata": {
  "ExecuteTimeLog": [
   {
    "duration": 2048,
    "start_time": "2023-03-04T12:01:57.943Z"
   },
   {
    "duration": 2079,
    "start_time": "2023-03-04T12:02:04.967Z"
   },
   {
    "duration": 2043,
    "start_time": "2023-03-04T12:02:07.980Z"
   },
   {
    "duration": 1380,
    "start_time": "2023-03-04T12:02:10.075Z"
   },
   {
    "duration": 151,
    "start_time": "2023-03-04T12:03:30.841Z"
   },
   {
    "duration": 20,
    "start_time": "2023-03-04T12:04:00.236Z"
   },
   {
    "duration": 13,
    "start_time": "2023-03-04T12:04:22.643Z"
   },
   {
    "duration": 13,
    "start_time": "2023-03-04T12:04:34.126Z"
   },
   {
    "duration": 16,
    "start_time": "2023-03-04T12:04:36.426Z"
   },
   {
    "duration": 15,
    "start_time": "2023-03-04T12:05:03.390Z"
   },
   {
    "duration": 782,
    "start_time": "2023-03-04T12:05:24.137Z"
   },
   {
    "duration": 1942,
    "start_time": "2023-03-04T12:22:30.428Z"
   },
   {
    "duration": 5,
    "start_time": "2023-03-04T12:22:44.538Z"
   },
   {
    "duration": 81,
    "start_time": "2023-03-04T12:24:53.336Z"
   },
   {
    "duration": 6,
    "start_time": "2023-03-04T12:27:24.319Z"
   },
   {
    "duration": 15,
    "start_time": "2023-03-04T12:29:48.078Z"
   },
   {
    "duration": 18,
    "start_time": "2023-03-04T12:30:01.028Z"
   },
   {
    "duration": 17,
    "start_time": "2023-03-04T12:30:04.481Z"
   },
   {
    "duration": 17,
    "start_time": "2023-03-04T12:30:29.746Z"
   },
   {
    "duration": 124,
    "start_time": "2023-03-04T12:34:19.145Z"
   },
   {
    "duration": 12,
    "start_time": "2023-03-04T12:34:45.460Z"
   },
   {
    "duration": 91,
    "start_time": "2023-03-04T12:35:00.177Z"
   },
   {
    "duration": 7,
    "start_time": "2023-03-04T12:35:03.834Z"
   },
   {
    "duration": 6,
    "start_time": "2023-03-04T12:35:35.215Z"
   },
   {
    "duration": 4,
    "start_time": "2023-03-04T12:35:38.098Z"
   },
   {
    "duration": 13,
    "start_time": "2023-03-04T12:37:38.909Z"
   },
   {
    "duration": 10,
    "start_time": "2023-03-04T12:37:50.218Z"
   },
   {
    "duration": 6,
    "start_time": "2023-03-04T12:37:55.839Z"
   },
   {
    "duration": 3168,
    "start_time": "2023-03-05T07:46:59.928Z"
   },
   {
    "duration": 1620,
    "start_time": "2023-03-05T07:47:03.099Z"
   },
   {
    "duration": 210,
    "start_time": "2023-03-05T07:47:04.721Z"
   },
   {
    "duration": 20,
    "start_time": "2023-03-05T07:47:04.934Z"
   },
   {
    "duration": 50,
    "start_time": "2023-03-05T07:47:04.956Z"
   },
   {
    "duration": 14,
    "start_time": "2023-03-05T07:47:05.008Z"
   },
   {
    "duration": 756,
    "start_time": "2023-03-05T07:47:05.023Z"
   },
   {
    "duration": 6,
    "start_time": "2023-03-05T07:47:05.782Z"
   },
   {
    "duration": 28,
    "start_time": "2023-03-05T07:47:05.790Z"
   },
   {
    "duration": 7,
    "start_time": "2023-03-05T07:47:05.821Z"
   },
   {
    "duration": 7,
    "start_time": "2023-03-05T07:47:05.840Z"
   },
   {
    "duration": 53,
    "start_time": "2023-03-05T07:47:05.848Z"
   },
   {
    "duration": 10,
    "start_time": "2023-03-05T07:47:05.903Z"
   },
   {
    "duration": 10,
    "start_time": "2023-03-05T07:47:05.914Z"
   },
   {
    "duration": 643,
    "start_time": "2023-03-05T07:47:12.578Z"
   },
   {
    "duration": 2041,
    "start_time": "2023-03-05T08:06:25.168Z"
   },
   {
    "duration": 4,
    "start_time": "2023-03-05T08:06:27.212Z"
   },
   {
    "duration": 47,
    "start_time": "2023-03-05T08:06:27.218Z"
   },
   {
    "duration": 16,
    "start_time": "2023-03-05T08:06:27.266Z"
   },
   {
    "duration": 28,
    "start_time": "2023-03-05T08:06:27.284Z"
   },
   {
    "duration": 10,
    "start_time": "2023-03-05T08:06:27.314Z"
   },
   {
    "duration": 734,
    "start_time": "2023-03-05T08:06:27.326Z"
   },
   {
    "duration": 6,
    "start_time": "2023-03-05T08:06:28.062Z"
   },
   {
    "duration": 26,
    "start_time": "2023-03-05T08:06:28.072Z"
   },
   {
    "duration": 7,
    "start_time": "2023-03-05T08:06:28.099Z"
   },
   {
    "duration": 6,
    "start_time": "2023-03-05T08:06:28.107Z"
   },
   {
    "duration": 26,
    "start_time": "2023-03-05T08:06:28.115Z"
   },
   {
    "duration": 54,
    "start_time": "2023-03-05T08:06:28.143Z"
   },
   {
    "duration": 7,
    "start_time": "2023-03-05T08:06:28.199Z"
   },
   {
    "duration": 6,
    "start_time": "2023-03-05T08:06:46.921Z"
   },
   {
    "duration": 12,
    "start_time": "2023-03-05T08:07:04.084Z"
   },
   {
    "duration": 2120,
    "start_time": "2023-03-05T08:07:11.788Z"
   },
   {
    "duration": 5,
    "start_time": "2023-03-05T08:07:13.912Z"
   },
   {
    "duration": 64,
    "start_time": "2023-03-05T08:07:13.919Z"
   },
   {
    "duration": 12,
    "start_time": "2023-03-05T08:07:13.985Z"
   },
   {
    "duration": 14,
    "start_time": "2023-03-05T08:07:13.999Z"
   },
   {
    "duration": 10,
    "start_time": "2023-03-05T08:07:14.014Z"
   },
   {
    "duration": 843,
    "start_time": "2023-03-05T08:07:14.025Z"
   },
   {
    "duration": 4,
    "start_time": "2023-03-05T08:07:14.871Z"
   },
   {
    "duration": 18,
    "start_time": "2023-03-05T08:07:14.876Z"
   },
   {
    "duration": 4,
    "start_time": "2023-03-05T08:07:14.897Z"
   },
   {
    "duration": 5,
    "start_time": "2023-03-05T08:07:14.903Z"
   },
   {
    "duration": 14,
    "start_time": "2023-03-05T08:07:14.909Z"
   },
   {
    "duration": 37,
    "start_time": "2023-03-05T08:07:14.924Z"
   },
   {
    "duration": 19,
    "start_time": "2023-03-05T08:07:14.964Z"
   },
   {
    "duration": 112,
    "start_time": "2023-03-05T08:07:28.091Z"
   },
   {
    "duration": 97,
    "start_time": "2023-03-05T08:07:32.759Z"
   },
   {
    "duration": 2144,
    "start_time": "2023-03-05T08:07:45.165Z"
   },
   {
    "duration": 1272,
    "start_time": "2023-03-05T08:07:47.312Z"
   },
   {
    "duration": 39,
    "start_time": "2023-03-05T08:07:48.586Z"
   },
   {
    "duration": 28,
    "start_time": "2023-03-05T08:07:48.627Z"
   },
   {
    "duration": 14,
    "start_time": "2023-03-05T08:07:48.657Z"
   },
   {
    "duration": 10,
    "start_time": "2023-03-05T08:07:48.673Z"
   },
   {
    "duration": 712,
    "start_time": "2023-03-05T08:07:48.685Z"
   },
   {
    "duration": 6,
    "start_time": "2023-03-05T08:07:49.399Z"
   },
   {
    "duration": 19,
    "start_time": "2023-03-05T08:07:49.406Z"
   },
   {
    "duration": 27,
    "start_time": "2023-03-05T08:07:49.427Z"
   },
   {
    "duration": 4,
    "start_time": "2023-03-05T08:07:49.456Z"
   },
   {
    "duration": 15,
    "start_time": "2023-03-05T08:07:49.462Z"
   },
   {
    "duration": 15,
    "start_time": "2023-03-05T08:07:49.478Z"
   },
   {
    "duration": 8,
    "start_time": "2023-03-05T08:07:49.494Z"
   },
   {
    "duration": 75,
    "start_time": "2023-03-05T08:07:49.503Z"
   },
   {
    "duration": 0,
    "start_time": "2023-03-05T08:07:49.579Z"
   },
   {
    "duration": 1,
    "start_time": "2023-03-05T08:07:49.580Z"
   },
   {
    "duration": 0,
    "start_time": "2023-03-05T08:07:49.582Z"
   },
   {
    "duration": 0,
    "start_time": "2023-03-05T08:07:49.583Z"
   },
   {
    "duration": 0,
    "start_time": "2023-03-05T08:07:49.584Z"
   },
   {
    "duration": 0,
    "start_time": "2023-03-05T08:07:49.585Z"
   },
   {
    "duration": 93,
    "start_time": "2023-03-05T08:08:04.563Z"
   },
   {
    "duration": 10,
    "start_time": "2023-03-05T08:08:22.603Z"
   },
   {
    "duration": 7,
    "start_time": "2023-03-05T08:08:39.447Z"
   },
   {
    "duration": 19,
    "start_time": "2023-03-05T08:08:41.856Z"
   },
   {
    "duration": 13,
    "start_time": "2023-03-05T08:09:01.058Z"
   },
   {
    "duration": 13,
    "start_time": "2023-03-05T08:12:33.632Z"
   },
   {
    "duration": 10,
    "start_time": "2023-03-05T08:19:11.957Z"
   },
   {
    "duration": 116,
    "start_time": "2023-03-05T08:26:38.440Z"
   },
   {
    "duration": 5,
    "start_time": "2023-03-05T08:27:15.839Z"
   },
   {
    "duration": 27,
    "start_time": "2023-03-05T08:27:25.164Z"
   },
   {
    "duration": 4,
    "start_time": "2023-03-05T08:28:04.620Z"
   },
   {
    "duration": 19,
    "start_time": "2023-03-05T08:28:11.902Z"
   },
   {
    "duration": 3,
    "start_time": "2023-03-05T08:29:13.896Z"
   },
   {
    "duration": 1847,
    "start_time": "2023-03-05T08:30:25.552Z"
   },
   {
    "duration": 1310,
    "start_time": "2023-03-05T08:30:27.401Z"
   },
   {
    "duration": 44,
    "start_time": "2023-03-05T08:30:28.713Z"
   },
   {
    "duration": 15,
    "start_time": "2023-03-05T08:30:28.759Z"
   },
   {
    "duration": 10,
    "start_time": "2023-03-05T08:30:28.776Z"
   },
   {
    "duration": 9,
    "start_time": "2023-03-05T08:30:28.788Z"
   },
   {
    "duration": 792,
    "start_time": "2023-03-05T08:30:28.798Z"
   },
   {
    "duration": 4,
    "start_time": "2023-03-05T08:30:29.592Z"
   },
   {
    "duration": 19,
    "start_time": "2023-03-05T08:30:29.598Z"
   },
   {
    "duration": 25,
    "start_time": "2023-03-05T08:30:29.619Z"
   },
   {
    "duration": 5,
    "start_time": "2023-03-05T08:30:29.646Z"
   },
   {
    "duration": 20,
    "start_time": "2023-03-05T08:30:29.652Z"
   },
   {
    "duration": 10,
    "start_time": "2023-03-05T08:30:29.674Z"
   },
   {
    "duration": 6,
    "start_time": "2023-03-05T08:30:29.686Z"
   },
   {
    "duration": 103,
    "start_time": "2023-03-05T08:30:53.088Z"
   },
   {
    "duration": 3,
    "start_time": "2023-03-05T08:30:55.269Z"
   },
   {
    "duration": 4,
    "start_time": "2023-03-05T08:31:13.408Z"
   },
   {
    "duration": 5,
    "start_time": "2023-03-05T08:31:17.367Z"
   },
   {
    "duration": 3,
    "start_time": "2023-03-05T08:31:19.586Z"
   },
   {
    "duration": 9,
    "start_time": "2023-03-05T08:31:26.123Z"
   },
   {
    "duration": 4,
    "start_time": "2023-03-05T08:31:38.907Z"
   },
   {
    "duration": 3015,
    "start_time": "2023-03-05T11:55:57.702Z"
   },
   {
    "duration": 1682,
    "start_time": "2023-03-05T11:56:00.720Z"
   },
   {
    "duration": 180,
    "start_time": "2023-03-05T11:56:02.405Z"
   },
   {
    "duration": 20,
    "start_time": "2023-03-05T11:56:02.587Z"
   },
   {
    "duration": 15,
    "start_time": "2023-03-05T11:56:02.609Z"
   },
   {
    "duration": 18,
    "start_time": "2023-03-05T11:56:02.625Z"
   },
   {
    "duration": 852,
    "start_time": "2023-03-05T11:56:02.644Z"
   },
   {
    "duration": 5,
    "start_time": "2023-03-05T11:56:03.497Z"
   },
   {
    "duration": 29,
    "start_time": "2023-03-05T11:56:03.503Z"
   },
   {
    "duration": 18,
    "start_time": "2023-03-05T11:56:03.535Z"
   },
   {
    "duration": 5,
    "start_time": "2023-03-05T11:56:03.555Z"
   },
   {
    "duration": 18,
    "start_time": "2023-03-05T11:56:03.561Z"
   },
   {
    "duration": 13,
    "start_time": "2023-03-05T11:56:03.583Z"
   },
   {
    "duration": 17,
    "start_time": "2023-03-05T11:56:03.598Z"
   },
   {
    "duration": 9,
    "start_time": "2023-03-05T11:56:03.617Z"
   },
   {
    "duration": 31,
    "start_time": "2023-03-05T11:56:03.628Z"
   },
   {
    "duration": 9,
    "start_time": "2023-03-05T11:56:03.661Z"
   },
   {
    "duration": 24,
    "start_time": "2023-03-05T11:56:03.672Z"
   },
   {
    "duration": 4,
    "start_time": "2023-03-05T11:56:03.698Z"
   },
   {
    "duration": 170,
    "start_time": "2023-03-05T11:57:44.063Z"
   },
   {
    "duration": 129,
    "start_time": "2023-03-05T12:01:31.931Z"
   },
   {
    "duration": 4,
    "start_time": "2023-03-05T12:06:27.177Z"
   },
   {
    "duration": 3010,
    "start_time": "2023-03-06T16:48:24.565Z"
   },
   {
    "duration": 1454,
    "start_time": "2023-03-06T16:48:27.578Z"
   },
   {
    "duration": 81,
    "start_time": "2023-03-06T16:48:29.035Z"
   },
   {
    "duration": 18,
    "start_time": "2023-03-06T16:48:29.118Z"
   },
   {
    "duration": 12,
    "start_time": "2023-03-06T16:48:29.138Z"
   },
   {
    "duration": 11,
    "start_time": "2023-03-06T16:48:29.152Z"
   },
   {
    "duration": 817,
    "start_time": "2023-03-06T16:48:29.164Z"
   },
   {
    "duration": 6,
    "start_time": "2023-03-06T16:48:29.983Z"
   },
   {
    "duration": 26,
    "start_time": "2023-03-06T16:48:29.991Z"
   },
   {
    "duration": 15,
    "start_time": "2023-03-06T16:48:30.033Z"
   },
   {
    "duration": 22,
    "start_time": "2023-03-06T16:48:30.050Z"
   },
   {
    "duration": 25,
    "start_time": "2023-03-06T16:48:30.074Z"
   },
   {
    "duration": 23,
    "start_time": "2023-03-06T16:48:30.101Z"
   },
   {
    "duration": 14,
    "start_time": "2023-03-06T16:48:30.127Z"
   },
   {
    "duration": 20,
    "start_time": "2023-03-06T16:48:30.143Z"
   },
   {
    "duration": 28,
    "start_time": "2023-03-06T16:48:30.164Z"
   },
   {
    "duration": 34,
    "start_time": "2023-03-06T16:48:30.194Z"
   },
   {
    "duration": 39,
    "start_time": "2023-03-06T16:48:30.229Z"
   },
   {
    "duration": 11,
    "start_time": "2023-03-06T16:48:30.269Z"
   },
   {
    "duration": 157,
    "start_time": "2023-03-06T16:48:30.282Z"
   },
   {
    "duration": 49,
    "start_time": "2023-03-06T16:48:30.441Z"
   },
   {
    "duration": 2915,
    "start_time": "2023-03-06T16:48:30.491Z"
   },
   {
    "duration": 4,
    "start_time": "2023-03-06T17:07:51.603Z"
   },
   {
    "duration": 54,
    "start_time": "2023-03-06T17:33:13.615Z"
   },
   {
    "duration": 125,
    "start_time": "2023-03-06T17:33:19.261Z"
   },
   {
    "duration": 4,
    "start_time": "2023-03-06T17:34:01.121Z"
   },
   {
    "duration": 22,
    "start_time": "2023-03-06T17:34:16.556Z"
   },
   {
    "duration": 179,
    "start_time": "2023-03-06T17:35:05.090Z"
   },
   {
    "duration": 196,
    "start_time": "2023-03-06T17:35:52.805Z"
   },
   {
    "duration": 3204,
    "start_time": "2023-03-06T17:47:39.996Z"
   },
   {
    "duration": 6,
    "start_time": "2023-03-06T17:48:05.179Z"
   },
   {
    "duration": 29,
    "start_time": "2023-03-06T17:48:17.735Z"
   },
   {
    "duration": 3059,
    "start_time": "2023-03-06T17:48:21.791Z"
   },
   {
    "duration": 3,
    "start_time": "2023-03-06T17:50:04.710Z"
   },
   {
    "duration": 60222,
    "start_time": "2023-03-06T17:52:02.993Z"
   },
   {
    "duration": 223613,
    "start_time": "2023-03-06T17:53:27.007Z"
   },
   {
    "duration": 2451,
    "start_time": "2023-03-06T18:06:40.434Z"
   },
   {
    "duration": 2481,
    "start_time": "2023-03-06T18:07:52.205Z"
   },
   {
    "duration": 46,
    "start_time": "2023-03-06T18:09:52.991Z"
   },
   {
    "duration": 2660,
    "start_time": "2023-03-06T18:11:33.887Z"
   },
   {
    "duration": 182,
    "start_time": "2023-03-06T18:14:10.614Z"
   },
   {
    "duration": 819,
    "start_time": "2023-03-06T18:14:18.670Z"
   },
   {
    "duration": 4099,
    "start_time": "2023-03-06T18:14:29.216Z"
   },
   {
    "duration": 7980,
    "start_time": "2023-03-06T18:16:31.321Z"
   },
   {
    "duration": 25,
    "start_time": "2023-03-06T18:16:48.197Z"
   },
   {
    "duration": 809,
    "start_time": "2023-03-06T18:17:02.071Z"
   },
   {
    "duration": 369,
    "start_time": "2023-03-06T18:17:10.375Z"
   },
   {
    "duration": 305,
    "start_time": "2023-03-06T18:17:14.510Z"
   },
   {
    "duration": 3203,
    "start_time": "2023-03-06T18:18:28.596Z"
   },
   {
    "duration": 613168,
    "start_time": "2023-03-06T18:18:51.997Z"
   },
   {
    "duration": 2588,
    "start_time": "2023-03-06T18:29:10.271Z"
   },
   {
    "duration": 2611,
    "start_time": "2023-03-06T18:31:22.141Z"
   },
   {
    "duration": 2695,
    "start_time": "2023-03-06T18:31:35.982Z"
   },
   {
    "duration": 7894,
    "start_time": "2023-03-06T18:32:37.211Z"
   },
   {
    "duration": 5,
    "start_time": "2023-03-06T18:34:51.105Z"
   },
   {
    "duration": 7925,
    "start_time": "2023-03-06T18:35:12.313Z"
   },
   {
    "duration": 7838,
    "start_time": "2023-03-06T18:36:37.418Z"
   },
   {
    "duration": 7779,
    "start_time": "2023-03-06T18:36:57.942Z"
   },
   {
    "duration": 9521,
    "start_time": "2023-03-06T18:37:27.713Z"
   },
   {
    "duration": 110,
    "start_time": "2023-03-06T18:37:52.890Z"
   },
   {
    "duration": 9826,
    "start_time": "2023-03-06T18:37:59.749Z"
   },
   {
    "duration": 2532,
    "start_time": "2023-03-06T18:38:42.147Z"
   },
   {
    "duration": 846,
    "start_time": "2023-03-06T18:38:46.642Z"
   },
   {
    "duration": 10019,
    "start_time": "2023-03-06T18:38:57.312Z"
   },
   {
    "duration": 38138,
    "start_time": "2023-03-06T18:39:46.054Z"
   },
   {
    "duration": 62246,
    "start_time": "2023-03-06T18:46:13.311Z"
   },
   {
    "duration": 671157,
    "start_time": "2023-03-06T18:47:59.913Z"
   },
   {
    "duration": 34333,
    "start_time": "2023-03-06T19:08:05.604Z"
   },
   {
    "duration": 3,
    "start_time": "2023-03-06T19:10:10.667Z"
   },
   {
    "duration": 96,
    "start_time": "2023-03-06T19:11:08.833Z"
   },
   {
    "duration": 2668,
    "start_time": "2023-03-06T19:11:15.252Z"
   },
   {
    "duration": 1440,
    "start_time": "2023-03-06T19:11:17.923Z"
   },
   {
    "duration": 82,
    "start_time": "2023-03-06T19:11:19.365Z"
   },
   {
    "duration": 22,
    "start_time": "2023-03-06T19:11:19.448Z"
   },
   {
    "duration": 28,
    "start_time": "2023-03-06T19:11:19.472Z"
   },
   {
    "duration": 16,
    "start_time": "2023-03-06T19:11:19.502Z"
   },
   {
    "duration": 792,
    "start_time": "2023-03-06T19:11:19.520Z"
   },
   {
    "duration": 5,
    "start_time": "2023-03-06T19:11:20.314Z"
   },
   {
    "duration": 57,
    "start_time": "2023-03-06T19:11:20.330Z"
   },
   {
    "duration": 31,
    "start_time": "2023-03-06T19:11:20.389Z"
   },
   {
    "duration": 33,
    "start_time": "2023-03-06T19:11:20.422Z"
   },
   {
    "duration": 36,
    "start_time": "2023-03-06T19:11:20.456Z"
   },
   {
    "duration": 26,
    "start_time": "2023-03-06T19:11:20.493Z"
   },
   {
    "duration": 31,
    "start_time": "2023-03-06T19:11:20.522Z"
   },
   {
    "duration": 40,
    "start_time": "2023-03-06T19:11:20.555Z"
   },
   {
    "duration": 25,
    "start_time": "2023-03-06T19:11:20.596Z"
   },
   {
    "duration": 39,
    "start_time": "2023-03-06T19:11:20.623Z"
   },
   {
    "duration": 37,
    "start_time": "2023-03-06T19:11:20.664Z"
   },
   {
    "duration": 18,
    "start_time": "2023-03-06T19:11:20.703Z"
   },
   {
    "duration": 191,
    "start_time": "2023-03-06T19:11:20.722Z"
   },
   {
    "duration": 189,
    "start_time": "2023-03-06T19:11:20.914Z"
   },
   {
    "duration": 2674,
    "start_time": "2023-03-06T19:11:33.694Z"
   },
   {
    "duration": 2583,
    "start_time": "2023-03-06T19:11:48.528Z"
   },
   {
    "duration": 39242,
    "start_time": "2023-03-06T19:12:16.008Z"
   },
   {
    "duration": 10,
    "start_time": "2023-03-06T19:15:03.295Z"
   },
   {
    "duration": 3,
    "start_time": "2023-03-06T19:15:27.035Z"
   },
   {
    "duration": 8718,
    "start_time": "2023-03-06T19:15:30.823Z"
   },
   {
    "duration": 16095,
    "start_time": "2023-03-06T19:17:41.866Z"
   },
   {
    "duration": 9731,
    "start_time": "2023-03-06T19:18:13.015Z"
   },
   {
    "duration": 40128,
    "start_time": "2023-03-06T19:27:31.436Z"
   },
   {
    "duration": 43442,
    "start_time": "2023-03-06T19:30:08.521Z"
   },
   {
    "duration": 3,
    "start_time": "2023-03-06T20:55:30.674Z"
   },
   {
    "duration": 184,
    "start_time": "2023-03-06T21:18:02.558Z"
   },
   {
    "duration": 170,
    "start_time": "2023-03-06T21:18:22.228Z"
   },
   {
    "duration": 159,
    "start_time": "2023-03-06T21:18:39.130Z"
   },
   {
    "duration": 20,
    "start_time": "2023-03-06T21:25:45.251Z"
   },
   {
    "duration": 6,
    "start_time": "2023-03-06T21:26:16.698Z"
   },
   {
    "duration": 328,
    "start_time": "2023-03-06T21:26:25.054Z"
   },
   {
    "duration": 309,
    "start_time": "2023-03-06T21:37:12.694Z"
   },
   {
    "duration": 305,
    "start_time": "2023-03-06T21:44:03.791Z"
   },
   {
    "duration": 4,
    "start_time": "2023-03-06T21:45:36.901Z"
   },
   {
    "duration": 451,
    "start_time": "2023-03-06T21:45:55.643Z"
   },
   {
    "duration": 171,
    "start_time": "2023-03-06T21:46:08.067Z"
   },
   {
    "duration": 163,
    "start_time": "2023-03-06T21:46:19.822Z"
   },
   {
    "duration": 61,
    "start_time": "2023-03-06T21:46:23.419Z"
   },
   {
    "duration": 41,
    "start_time": "2023-03-06T21:46:47.326Z"
   },
   {
    "duration": 2220,
    "start_time": "2023-03-06T21:47:02.834Z"
   },
   {
    "duration": 1370,
    "start_time": "2023-03-06T21:47:05.057Z"
   },
   {
    "duration": 45,
    "start_time": "2023-03-06T21:47:06.429Z"
   },
   {
    "duration": 16,
    "start_time": "2023-03-06T21:47:06.477Z"
   },
   {
    "duration": 16,
    "start_time": "2023-03-06T21:47:06.495Z"
   },
   {
    "duration": 18,
    "start_time": "2023-03-06T21:47:06.512Z"
   },
   {
    "duration": 846,
    "start_time": "2023-03-06T21:47:06.533Z"
   },
   {
    "duration": 4,
    "start_time": "2023-03-06T21:47:07.381Z"
   },
   {
    "duration": 27,
    "start_time": "2023-03-06T21:47:07.387Z"
   },
   {
    "duration": 18,
    "start_time": "2023-03-06T21:47:07.417Z"
   },
   {
    "duration": 10,
    "start_time": "2023-03-06T21:47:07.437Z"
   },
   {
    "duration": 22,
    "start_time": "2023-03-06T21:47:07.449Z"
   },
   {
    "duration": 15,
    "start_time": "2023-03-06T21:47:07.473Z"
   },
   {
    "duration": 7,
    "start_time": "2023-03-06T21:47:07.490Z"
   },
   {
    "duration": 6,
    "start_time": "2023-03-06T21:47:07.499Z"
   },
   {
    "duration": 10,
    "start_time": "2023-03-06T21:47:07.530Z"
   },
   {
    "duration": 7,
    "start_time": "2023-03-06T21:47:07.542Z"
   },
   {
    "duration": 29,
    "start_time": "2023-03-06T21:47:07.550Z"
   },
   {
    "duration": 4,
    "start_time": "2023-03-06T21:47:07.580Z"
   },
   {
    "duration": 148,
    "start_time": "2023-03-06T21:47:07.585Z"
   },
   {
    "duration": 197,
    "start_time": "2023-03-06T21:47:07.734Z"
   },
   {
    "duration": 2456,
    "start_time": "2023-03-06T21:47:07.933Z"
   },
   {
    "duration": 37906,
    "start_time": "2023-03-06T21:47:10.391Z"
   },
   {
    "duration": 3,
    "start_time": "2023-03-06T21:47:48.298Z"
   },
   {
    "duration": 7,
    "start_time": "2023-03-06T21:47:48.303Z"
   },
   {
    "duration": 7125,
    "start_time": "2023-03-06T21:47:48.311Z"
   },
   {
    "duration": 257,
    "start_time": "2023-03-06T21:47:55.438Z"
   },
   {
    "duration": 796,
    "start_time": "2023-03-06T21:48:34.585Z"
   },
   {
    "duration": 178,
    "start_time": "2023-03-06T21:48:41.102Z"
   },
   {
    "duration": 300,
    "start_time": "2023-03-06T21:49:02.624Z"
   },
   {
    "duration": 163,
    "start_time": "2023-03-06T21:49:14.408Z"
   },
   {
    "duration": 297,
    "start_time": "2023-03-06T21:49:46.246Z"
   },
   {
    "duration": 51,
    "start_time": "2023-03-06T21:52:07.980Z"
   },
   {
    "duration": 42,
    "start_time": "2023-03-06T21:52:13.878Z"
   },
   {
    "duration": 287,
    "start_time": "2023-03-06T21:52:21.563Z"
   },
   {
    "duration": 42,
    "start_time": "2023-03-06T21:52:55.008Z"
   },
   {
    "duration": 48,
    "start_time": "2023-03-06T21:53:27.907Z"
   },
   {
    "duration": 309,
    "start_time": "2023-03-06T21:53:50.994Z"
   },
   {
    "duration": 159,
    "start_time": "2023-03-06T21:54:18.875Z"
   },
   {
    "duration": 276,
    "start_time": "2023-03-06T21:54:25.327Z"
   },
   {
    "duration": 290,
    "start_time": "2023-03-06T21:55:02.400Z"
   },
   {
    "duration": 437,
    "start_time": "2023-03-06T21:55:09.515Z"
   },
   {
    "duration": 826,
    "start_time": "2023-03-06T21:55:52.444Z"
   },
   {
    "duration": 899,
    "start_time": "2023-03-06T21:56:01.749Z"
   },
   {
    "duration": 75,
    "start_time": "2023-03-06T22:01:22.747Z"
   },
   {
    "duration": 132,
    "start_time": "2023-03-06T22:02:44.666Z"
   },
   {
    "duration": 151,
    "start_time": "2023-03-06T22:04:31.130Z"
   },
   {
    "duration": 111,
    "start_time": "2023-03-06T22:04:37.319Z"
   },
   {
    "duration": 127,
    "start_time": "2023-03-06T22:04:41.770Z"
   },
   {
    "duration": 122,
    "start_time": "2023-03-06T22:04:47.224Z"
   },
   {
    "duration": 121,
    "start_time": "2023-03-06T22:04:56.143Z"
   },
   {
    "duration": 230,
    "start_time": "2023-03-06T22:06:19.257Z"
   },
   {
    "duration": 423,
    "start_time": "2023-03-06T22:06:25.087Z"
   },
   {
    "duration": 662,
    "start_time": "2023-03-06T22:06:30.981Z"
   },
   {
    "duration": 335,
    "start_time": "2023-03-06T22:06:35.212Z"
   },
   {
    "duration": 297,
    "start_time": "2023-03-06T22:06:39.750Z"
   },
   {
    "duration": 399,
    "start_time": "2023-03-06T22:06:46.295Z"
   },
   {
    "duration": 396,
    "start_time": "2023-03-06T22:06:51.352Z"
   },
   {
    "duration": 330,
    "start_time": "2023-03-06T22:07:14.318Z"
   },
   {
    "duration": 140,
    "start_time": "2023-03-06T22:07:35.050Z"
   },
   {
    "duration": 125,
    "start_time": "2023-03-06T22:07:38.576Z"
   },
   {
    "duration": 118,
    "start_time": "2023-03-06T22:07:42.543Z"
   },
   {
    "duration": 207,
    "start_time": "2023-03-06T22:07:57.438Z"
   },
   {
    "duration": 207,
    "start_time": "2023-03-06T22:08:01.102Z"
   },
   {
    "duration": 238,
    "start_time": "2023-03-06T22:08:04.186Z"
   },
   {
    "duration": 250,
    "start_time": "2023-03-06T22:14:14.065Z"
   },
   {
    "duration": 5,
    "start_time": "2023-03-06T22:14:45.881Z"
   },
   {
    "duration": 160,
    "start_time": "2023-03-06T22:14:53.350Z"
   },
   {
    "duration": 6,
    "start_time": "2023-03-06T22:15:42.496Z"
   },
   {
    "duration": 193,
    "start_time": "2023-03-06T22:15:50.599Z"
   },
   {
    "duration": 333,
    "start_time": "2023-03-06T22:16:05.039Z"
   },
   {
    "duration": 336,
    "start_time": "2023-03-06T22:17:26.647Z"
   },
   {
    "duration": 430,
    "start_time": "2023-03-06T22:18:15.119Z"
   },
   {
    "duration": 213,
    "start_time": "2023-03-06T22:19:07.133Z"
   },
   {
    "duration": 4,
    "start_time": "2023-03-06T22:20:49.712Z"
   },
   {
    "duration": 315,
    "start_time": "2023-03-06T22:20:57.017Z"
   },
   {
    "duration": 426,
    "start_time": "2023-03-06T22:21:24.219Z"
   },
   {
    "duration": 457,
    "start_time": "2023-03-06T22:21:43.634Z"
   },
   {
    "duration": 48,
    "start_time": "2023-03-07T15:31:06.274Z"
   },
   {
    "duration": 2813,
    "start_time": "2023-03-07T15:31:11.861Z"
   },
   {
    "duration": 1618,
    "start_time": "2023-03-07T15:31:14.677Z"
   },
   {
    "duration": 157,
    "start_time": "2023-03-07T15:31:16.297Z"
   },
   {
    "duration": 18,
    "start_time": "2023-03-07T15:31:16.457Z"
   },
   {
    "duration": 18,
    "start_time": "2023-03-07T15:31:16.476Z"
   },
   {
    "duration": 10,
    "start_time": "2023-03-07T15:31:16.496Z"
   },
   {
    "duration": 848,
    "start_time": "2023-03-07T15:31:16.508Z"
   },
   {
    "duration": 4,
    "start_time": "2023-03-07T15:31:17.358Z"
   },
   {
    "duration": 27,
    "start_time": "2023-03-07T15:31:17.363Z"
   },
   {
    "duration": 17,
    "start_time": "2023-03-07T15:31:17.395Z"
   },
   {
    "duration": 4,
    "start_time": "2023-03-07T15:31:17.414Z"
   },
   {
    "duration": 19,
    "start_time": "2023-03-07T15:31:17.419Z"
   },
   {
    "duration": 32,
    "start_time": "2023-03-07T15:31:17.440Z"
   },
   {
    "duration": 7,
    "start_time": "2023-03-07T15:31:17.474Z"
   },
   {
    "duration": 18,
    "start_time": "2023-03-07T15:31:17.482Z"
   },
   {
    "duration": 19,
    "start_time": "2023-03-07T15:31:17.501Z"
   },
   {
    "duration": 12,
    "start_time": "2023-03-07T15:31:17.521Z"
   },
   {
    "duration": 28,
    "start_time": "2023-03-07T15:31:17.535Z"
   },
   {
    "duration": 3,
    "start_time": "2023-03-07T15:31:17.565Z"
   },
   {
    "duration": 142,
    "start_time": "2023-03-07T15:31:17.570Z"
   },
   {
    "duration": 198,
    "start_time": "2023-03-07T15:31:17.714Z"
   },
   {
    "duration": 2503,
    "start_time": "2023-03-07T15:31:17.913Z"
   },
   {
    "duration": 39438,
    "start_time": "2023-03-07T15:31:20.417Z"
   },
   {
    "duration": 4,
    "start_time": "2023-03-07T15:31:59.856Z"
   },
   {
    "duration": 7,
    "start_time": "2023-03-07T15:31:59.862Z"
   },
   {
    "duration": 4953,
    "start_time": "2023-03-07T15:31:59.870Z"
   },
   {
    "duration": 204,
    "start_time": "2023-03-07T15:32:04.913Z"
   },
   {
    "duration": 325,
    "start_time": "2023-03-07T15:32:05.120Z"
   },
   {
    "duration": 271,
    "start_time": "2023-03-07T15:32:05.447Z"
   },
   {
    "duration": 381,
    "start_time": "2023-03-07T15:32:05.720Z"
   },
   {
    "duration": 143,
    "start_time": "2023-03-07T15:32:06.103Z"
   },
   {
    "duration": 259,
    "start_time": "2023-03-07T15:32:06.248Z"
   },
   {
    "duration": 364,
    "start_time": "2023-03-07T15:32:06.512Z"
   },
   {
    "duration": 515,
    "start_time": "2023-03-07T15:32:06.878Z"
   },
   {
    "duration": 234,
    "start_time": "2023-03-07T15:32:07.395Z"
   },
   {
    "duration": 36,
    "start_time": "2023-03-07T15:33:16.789Z"
   },
   {
    "duration": 9,
    "start_time": "2023-03-07T15:33:34.216Z"
   },
   {
    "duration": 156,
    "start_time": "2023-03-07T15:33:41.419Z"
   },
   {
    "duration": 257,
    "start_time": "2023-03-07T15:35:16.447Z"
   },
   {
    "duration": 147,
    "start_time": "2023-03-07T15:35:54.782Z"
   },
   {
    "duration": 6,
    "start_time": "2023-03-07T15:36:55.767Z"
   },
   {
    "duration": 5,
    "start_time": "2023-03-07T15:37:12.682Z"
   },
   {
    "duration": 389,
    "start_time": "2023-03-07T15:46:21.326Z"
   },
   {
    "duration": 414,
    "start_time": "2023-03-07T15:46:37.509Z"
   },
   {
    "duration": 478,
    "start_time": "2023-03-07T15:51:33.479Z"
   },
   {
    "duration": 559,
    "start_time": "2023-03-07T15:52:36.825Z"
   },
   {
    "duration": 600,
    "start_time": "2023-03-07T15:52:47.997Z"
   },
   {
    "duration": 28,
    "start_time": "2023-03-07T16:21:44.543Z"
   },
   {
    "duration": 177,
    "start_time": "2023-03-07T16:23:59.957Z"
   },
   {
    "duration": 342,
    "start_time": "2023-03-07T16:24:33.631Z"
   },
   {
    "duration": 32,
    "start_time": "2023-03-07T16:26:26.719Z"
   },
   {
    "duration": 190,
    "start_time": "2023-03-07T16:26:30.650Z"
   },
   {
    "duration": 18,
    "start_time": "2023-03-07T16:26:32.867Z"
   },
   {
    "duration": 323,
    "start_time": "2023-03-07T16:26:42.809Z"
   },
   {
    "duration": 30,
    "start_time": "2023-03-07T16:26:45.541Z"
   },
   {
    "duration": 251,
    "start_time": "2023-03-07T16:32:48.352Z"
   },
   {
    "duration": 423,
    "start_time": "2023-03-07T16:33:19.254Z"
   },
   {
    "duration": 386,
    "start_time": "2023-03-07T16:33:27.976Z"
   },
   {
    "duration": 262,
    "start_time": "2023-03-07T16:33:42.124Z"
   },
   {
    "duration": 288,
    "start_time": "2023-03-07T16:33:46.971Z"
   },
   {
    "duration": 331,
    "start_time": "2023-03-07T16:33:51.979Z"
   },
   {
    "duration": 302,
    "start_time": "2023-03-07T16:34:02.939Z"
   },
   {
    "duration": 2412,
    "start_time": "2023-03-07T16:41:22.485Z"
   },
   {
    "duration": 1476,
    "start_time": "2023-03-07T16:41:24.899Z"
   },
   {
    "duration": 43,
    "start_time": "2023-03-07T16:41:26.377Z"
   },
   {
    "duration": 22,
    "start_time": "2023-03-07T16:41:26.422Z"
   },
   {
    "duration": 15,
    "start_time": "2023-03-07T16:41:26.447Z"
   },
   {
    "duration": 13,
    "start_time": "2023-03-07T16:41:26.464Z"
   },
   {
    "duration": 809,
    "start_time": "2023-03-07T16:41:26.479Z"
   },
   {
    "duration": 5,
    "start_time": "2023-03-07T16:41:27.290Z"
   },
   {
    "duration": 58,
    "start_time": "2023-03-07T16:41:27.297Z"
   },
   {
    "duration": 12,
    "start_time": "2023-03-07T16:41:27.356Z"
   },
   {
    "duration": 4,
    "start_time": "2023-03-07T16:41:27.371Z"
   },
   {
    "duration": 19,
    "start_time": "2023-03-07T16:41:27.377Z"
   },
   {
    "duration": 22,
    "start_time": "2023-03-07T16:41:27.398Z"
   },
   {
    "duration": 8,
    "start_time": "2023-03-07T16:41:27.423Z"
   },
   {
    "duration": 11,
    "start_time": "2023-03-07T16:41:27.433Z"
   },
   {
    "duration": 19,
    "start_time": "2023-03-07T16:41:27.446Z"
   },
   {
    "duration": 7,
    "start_time": "2023-03-07T16:41:27.467Z"
   },
   {
    "duration": 51,
    "start_time": "2023-03-07T16:41:27.476Z"
   },
   {
    "duration": 4,
    "start_time": "2023-03-07T16:41:27.530Z"
   },
   {
    "duration": 165,
    "start_time": "2023-03-07T16:41:27.536Z"
   },
   {
    "duration": 203,
    "start_time": "2023-03-07T16:41:27.711Z"
   },
   {
    "duration": 2629,
    "start_time": "2023-03-07T16:41:27.917Z"
   },
   {
    "duration": 38654,
    "start_time": "2023-03-07T16:41:30.548Z"
   },
   {
    "duration": 3,
    "start_time": "2023-03-07T16:42:09.204Z"
   },
   {
    "duration": 170,
    "start_time": "2023-03-07T16:42:09.212Z"
   },
   {
    "duration": 2,
    "start_time": "2023-03-07T16:42:09.384Z"
   },
   {
    "duration": 5036,
    "start_time": "2023-03-07T16:42:09.388Z"
   },
   {
    "duration": 417,
    "start_time": "2023-03-07T16:42:14.511Z"
   },
   {
    "duration": 186,
    "start_time": "2023-03-07T16:42:14.930Z"
   },
   {
    "duration": 24,
    "start_time": "2023-03-07T16:42:15.119Z"
   },
   {
    "duration": 345,
    "start_time": "2023-03-07T16:42:15.145Z"
   },
   {
    "duration": 38,
    "start_time": "2023-03-07T16:42:15.492Z"
   },
   {
    "duration": 264,
    "start_time": "2023-03-07T16:42:15.531Z"
   },
   {
    "duration": 27,
    "start_time": "2023-03-07T16:42:15.797Z"
   },
   {
    "duration": 381,
    "start_time": "2023-03-07T16:42:15.826Z"
   },
   {
    "duration": 28,
    "start_time": "2023-03-07T16:42:16.212Z"
   },
   {
    "duration": 150,
    "start_time": "2023-03-07T16:42:16.242Z"
   },
   {
    "duration": 31,
    "start_time": "2023-03-07T16:42:16.394Z"
   },
   {
    "duration": 258,
    "start_time": "2023-03-07T16:42:16.427Z"
   },
   {
    "duration": 41,
    "start_time": "2023-03-07T16:42:16.688Z"
   },
   {
    "duration": 486,
    "start_time": "2023-03-07T16:42:16.734Z"
   },
   {
    "duration": 676,
    "start_time": "2023-03-07T16:42:17.222Z"
   },
   {
    "duration": 157,
    "start_time": "2023-03-07T16:42:17.900Z"
   },
   {
    "duration": 8,
    "start_time": "2023-03-07T16:42:18.059Z"
   },
   {
    "duration": 261,
    "start_time": "2023-03-07T16:53:24.177Z"
   },
   {
    "duration": 363,
    "start_time": "2023-03-07T16:53:27.196Z"
   },
   {
    "duration": 337,
    "start_time": "2023-03-07T16:53:47.778Z"
   },
   {
    "duration": 2025,
    "start_time": "2023-03-07T16:58:39.596Z"
   },
   {
    "duration": 1406,
    "start_time": "2023-03-07T16:58:41.623Z"
   },
   {
    "duration": 41,
    "start_time": "2023-03-07T16:58:43.031Z"
   },
   {
    "duration": 17,
    "start_time": "2023-03-07T16:58:43.074Z"
   },
   {
    "duration": 13,
    "start_time": "2023-03-07T16:58:43.093Z"
   },
   {
    "duration": 17,
    "start_time": "2023-03-07T16:58:43.107Z"
   },
   {
    "duration": 753,
    "start_time": "2023-03-07T16:58:43.125Z"
   },
   {
    "duration": 5,
    "start_time": "2023-03-07T16:58:43.879Z"
   },
   {
    "duration": 33,
    "start_time": "2023-03-07T16:58:43.886Z"
   },
   {
    "duration": 7,
    "start_time": "2023-03-07T16:58:43.920Z"
   },
   {
    "duration": 8,
    "start_time": "2023-03-07T16:58:43.928Z"
   },
   {
    "duration": 32,
    "start_time": "2023-03-07T16:58:43.937Z"
   },
   {
    "duration": 19,
    "start_time": "2023-03-07T16:58:43.971Z"
   },
   {
    "duration": 7,
    "start_time": "2023-03-07T16:58:43.993Z"
   },
   {
    "duration": 11,
    "start_time": "2023-03-07T16:58:44.001Z"
   },
   {
    "duration": 19,
    "start_time": "2023-03-07T16:58:44.014Z"
   },
   {
    "duration": 28,
    "start_time": "2023-03-07T16:58:44.036Z"
   },
   {
    "duration": 195,
    "start_time": "2023-03-07T16:58:44.067Z"
   },
   {
    "duration": 0,
    "start_time": "2023-03-07T16:58:44.265Z"
   },
   {
    "duration": 0,
    "start_time": "2023-03-07T16:58:44.266Z"
   },
   {
    "duration": 0,
    "start_time": "2023-03-07T16:58:44.268Z"
   },
   {
    "duration": 0,
    "start_time": "2023-03-07T16:58:44.268Z"
   },
   {
    "duration": 0,
    "start_time": "2023-03-07T16:58:44.269Z"
   },
   {
    "duration": 0,
    "start_time": "2023-03-07T16:58:44.270Z"
   },
   {
    "duration": 1,
    "start_time": "2023-03-07T16:58:44.271Z"
   },
   {
    "duration": 0,
    "start_time": "2023-03-07T16:58:44.273Z"
   },
   {
    "duration": 0,
    "start_time": "2023-03-07T16:58:44.274Z"
   },
   {
    "duration": 0,
    "start_time": "2023-03-07T16:58:44.275Z"
   },
   {
    "duration": 0,
    "start_time": "2023-03-07T16:58:44.276Z"
   },
   {
    "duration": 0,
    "start_time": "2023-03-07T16:58:44.277Z"
   },
   {
    "duration": 0,
    "start_time": "2023-03-07T16:58:44.278Z"
   },
   {
    "duration": 0,
    "start_time": "2023-03-07T16:58:44.280Z"
   },
   {
    "duration": 0,
    "start_time": "2023-03-07T16:58:44.281Z"
   },
   {
    "duration": 0,
    "start_time": "2023-03-07T16:58:44.312Z"
   },
   {
    "duration": 0,
    "start_time": "2023-03-07T16:58:44.314Z"
   },
   {
    "duration": 0,
    "start_time": "2023-03-07T16:58:44.315Z"
   },
   {
    "duration": 0,
    "start_time": "2023-03-07T16:58:44.316Z"
   },
   {
    "duration": 0,
    "start_time": "2023-03-07T16:58:44.317Z"
   },
   {
    "duration": 0,
    "start_time": "2023-03-07T16:58:44.318Z"
   },
   {
    "duration": 0,
    "start_time": "2023-03-07T16:58:44.319Z"
   },
   {
    "duration": 0,
    "start_time": "2023-03-07T16:58:44.321Z"
   },
   {
    "duration": 0,
    "start_time": "2023-03-07T16:58:44.321Z"
   },
   {
    "duration": 0,
    "start_time": "2023-03-07T16:58:44.322Z"
   },
   {
    "duration": 0,
    "start_time": "2023-03-07T16:58:44.323Z"
   },
   {
    "duration": 0,
    "start_time": "2023-03-07T16:58:44.325Z"
   },
   {
    "duration": 1,
    "start_time": "2023-03-07T16:58:44.325Z"
   },
   {
    "duration": 19,
    "start_time": "2023-03-07T16:59:56.842Z"
   },
   {
    "duration": 23,
    "start_time": "2023-03-07T17:00:16.525Z"
   },
   {
    "duration": 2051,
    "start_time": "2023-03-07T17:00:26.401Z"
   },
   {
    "duration": 1416,
    "start_time": "2023-03-07T17:00:28.454Z"
   },
   {
    "duration": 41,
    "start_time": "2023-03-07T17:00:29.871Z"
   },
   {
    "duration": 18,
    "start_time": "2023-03-07T17:00:29.914Z"
   },
   {
    "duration": 13,
    "start_time": "2023-03-07T17:00:29.934Z"
   },
   {
    "duration": 12,
    "start_time": "2023-03-07T17:00:29.948Z"
   },
   {
    "duration": 800,
    "start_time": "2023-03-07T17:00:29.961Z"
   },
   {
    "duration": 4,
    "start_time": "2023-03-07T17:00:30.763Z"
   },
   {
    "duration": 51,
    "start_time": "2023-03-07T17:00:30.769Z"
   },
   {
    "duration": 28,
    "start_time": "2023-03-07T17:00:30.822Z"
   },
   {
    "duration": 96,
    "start_time": "2023-03-07T17:00:30.851Z"
   },
   {
    "duration": 34,
    "start_time": "2023-03-07T17:00:30.949Z"
   },
   {
    "duration": 59,
    "start_time": "2023-03-07T17:00:30.985Z"
   },
   {
    "duration": 26,
    "start_time": "2023-03-07T17:00:31.045Z"
   },
   {
    "duration": 65,
    "start_time": "2023-03-07T17:00:31.072Z"
   },
   {
    "duration": 40,
    "start_time": "2023-03-07T17:00:31.139Z"
   },
   {
    "duration": 31,
    "start_time": "2023-03-07T17:00:31.181Z"
   },
   {
    "duration": 58,
    "start_time": "2023-03-07T17:00:31.214Z"
   },
   {
    "duration": 27,
    "start_time": "2023-03-07T17:00:31.274Z"
   },
   {
    "duration": 153,
    "start_time": "2023-03-07T17:00:31.303Z"
   },
   {
    "duration": 169,
    "start_time": "2023-03-07T17:00:31.458Z"
   },
   {
    "duration": 2116,
    "start_time": "2023-03-07T17:00:31.629Z"
   },
   {
    "duration": 32035,
    "start_time": "2023-03-07T17:00:33.747Z"
   },
   {
    "duration": 3,
    "start_time": "2023-03-07T17:01:05.784Z"
   },
   {
    "duration": 145,
    "start_time": "2023-03-07T17:01:05.788Z"
   },
   {
    "duration": 2,
    "start_time": "2023-03-07T17:01:05.935Z"
   },
   {
    "duration": 4673,
    "start_time": "2023-03-07T17:01:05.939Z"
   },
   {
    "duration": 347,
    "start_time": "2023-03-07T17:01:10.620Z"
   },
   {
    "duration": 148,
    "start_time": "2023-03-07T17:01:10.969Z"
   },
   {
    "duration": 17,
    "start_time": "2023-03-07T17:01:11.118Z"
   },
   {
    "duration": 253,
    "start_time": "2023-03-07T17:01:11.137Z"
   },
   {
    "duration": 33,
    "start_time": "2023-03-07T17:01:11.392Z"
   },
   {
    "duration": 214,
    "start_time": "2023-03-07T17:01:11.427Z"
   },
   {
    "duration": 17,
    "start_time": "2023-03-07T17:01:11.642Z"
   },
   {
    "duration": 292,
    "start_time": "2023-03-07T17:01:11.661Z"
   },
   {
    "duration": 25,
    "start_time": "2023-03-07T17:01:11.954Z"
   },
   {
    "duration": 123,
    "start_time": "2023-03-07T17:01:11.981Z"
   },
   {
    "duration": 17,
    "start_time": "2023-03-07T17:01:12.112Z"
   },
   {
    "duration": 208,
    "start_time": "2023-03-07T17:01:12.131Z"
   },
   {
    "duration": 26,
    "start_time": "2023-03-07T17:01:12.341Z"
   },
   {
    "duration": 430,
    "start_time": "2023-03-07T17:01:12.369Z"
   },
   {
    "duration": 573,
    "start_time": "2023-03-07T17:01:12.801Z"
   },
   {
    "duration": 143,
    "start_time": "2023-03-07T17:01:13.376Z"
   },
   {
    "duration": 5,
    "start_time": "2023-03-07T17:01:13.521Z"
   },
   {
    "duration": 309,
    "start_time": "2023-03-07T17:01:13.529Z"
   },
   {
    "duration": 0,
    "start_time": "2023-03-07T17:01:13.839Z"
   },
   {
    "duration": 507585,
    "start_time": "2023-03-07T17:05:27.921Z"
   },
   {
    "duration": 513686,
    "start_time": "2023-03-07T17:51:11.071Z"
   },
   {
    "duration": 5,
    "start_time": "2023-03-07T18:05:50.672Z"
   },
   {
    "duration": 3,
    "start_time": "2023-03-07T18:05:59.424Z"
   },
   {
    "duration": 3081,
    "start_time": "2023-03-07T18:06:38.494Z"
   },
   {
    "duration": 1574,
    "start_time": "2023-03-07T18:06:41.577Z"
   },
   {
    "duration": 42,
    "start_time": "2023-03-07T18:06:43.153Z"
   },
   {
    "duration": 22,
    "start_time": "2023-03-07T18:06:43.198Z"
   },
   {
    "duration": 20,
    "start_time": "2023-03-07T18:06:43.224Z"
   },
   {
    "duration": 12,
    "start_time": "2023-03-07T18:06:43.246Z"
   },
   {
    "duration": 791,
    "start_time": "2023-03-07T18:06:43.260Z"
   },
   {
    "duration": 7,
    "start_time": "2023-03-07T18:06:44.054Z"
   },
   {
    "duration": 23,
    "start_time": "2023-03-07T18:06:44.064Z"
   },
   {
    "duration": 36,
    "start_time": "2023-03-07T18:06:44.091Z"
   },
   {
    "duration": 12,
    "start_time": "2023-03-07T18:06:44.131Z"
   },
   {
    "duration": 18,
    "start_time": "2023-03-07T18:06:44.147Z"
   },
   {
    "duration": 17,
    "start_time": "2023-03-07T18:06:44.166Z"
   },
   {
    "duration": 11,
    "start_time": "2023-03-07T18:06:44.185Z"
   },
   {
    "duration": 24,
    "start_time": "2023-03-07T18:06:44.198Z"
   },
   {
    "duration": 13,
    "start_time": "2023-03-07T18:06:44.226Z"
   },
   {
    "duration": 14,
    "start_time": "2023-03-07T18:06:44.241Z"
   },
   {
    "duration": 36,
    "start_time": "2023-03-07T18:06:44.257Z"
   },
   {
    "duration": 5,
    "start_time": "2023-03-07T18:06:44.295Z"
   },
   {
    "duration": 156,
    "start_time": "2023-03-07T18:06:44.312Z"
   },
   {
    "duration": 179,
    "start_time": "2023-03-07T18:06:44.471Z"
   },
   {
    "duration": 2274,
    "start_time": "2023-03-07T18:06:44.652Z"
   },
   {
    "duration": 34419,
    "start_time": "2023-03-07T18:06:46.929Z"
   },
   {
    "duration": 4,
    "start_time": "2023-03-07T18:07:21.350Z"
   },
   {
    "duration": 154,
    "start_time": "2023-03-07T18:07:21.356Z"
   },
   {
    "duration": 17,
    "start_time": "2023-03-07T18:07:21.511Z"
   },
   {
    "duration": 14488,
    "start_time": "2023-03-07T18:07:21.532Z"
   },
   {
    "duration": 4,
    "start_time": "2023-03-07T18:07:36.026Z"
   },
   {
    "duration": 368,
    "start_time": "2023-03-07T18:07:36.033Z"
   },
   {
    "duration": 113,
    "start_time": "2023-03-07T18:09:25.932Z"
   },
   {
    "duration": 14,
    "start_time": "2023-03-07T18:09:29.753Z"
   },
   {
    "duration": 195,
    "start_time": "2023-03-07T18:09:32.637Z"
   },
   {
    "duration": 20,
    "start_time": "2023-03-07T18:09:35.041Z"
   },
   {
    "duration": 151,
    "start_time": "2023-03-07T18:09:44.845Z"
   },
   {
    "duration": 143,
    "start_time": "2023-03-07T18:10:12.639Z"
   },
   {
    "duration": 130,
    "start_time": "2023-03-07T18:10:17.434Z"
   },
   {
    "duration": 115,
    "start_time": "2023-03-07T18:10:23.787Z"
   },
   {
    "duration": 153,
    "start_time": "2023-03-07T18:10:30.983Z"
   },
   {
    "duration": 140,
    "start_time": "2023-03-07T18:10:34.053Z"
   },
   {
    "duration": 16,
    "start_time": "2023-03-07T18:10:42.437Z"
   },
   {
    "duration": 265,
    "start_time": "2023-03-07T18:11:13.473Z"
   },
   {
    "duration": 252,
    "start_time": "2023-03-07T18:11:17.446Z"
   },
   {
    "duration": 284,
    "start_time": "2023-03-07T18:11:21.163Z"
   },
   {
    "duration": 324,
    "start_time": "2023-03-07T18:11:25.184Z"
   },
   {
    "duration": 250,
    "start_time": "2023-03-07T18:11:31.692Z"
   },
   {
    "duration": 291,
    "start_time": "2023-03-07T18:11:39.945Z"
   },
   {
    "duration": 292,
    "start_time": "2023-03-07T18:11:42.667Z"
   },
   {
    "duration": 300,
    "start_time": "2023-03-07T18:11:46.435Z"
   },
   {
    "duration": 318,
    "start_time": "2023-03-07T18:11:51.237Z"
   },
   {
    "duration": 318,
    "start_time": "2023-03-07T18:11:54.849Z"
   },
   {
    "duration": 306,
    "start_time": "2023-03-07T18:12:04.365Z"
   },
   {
    "duration": 283,
    "start_time": "2023-03-07T18:12:14.640Z"
   },
   {
    "duration": 229,
    "start_time": "2023-03-07T18:12:18.934Z"
   },
   {
    "duration": 305,
    "start_time": "2023-03-07T18:12:22.087Z"
   },
   {
    "duration": 19,
    "start_time": "2023-03-07T18:12:26.257Z"
   },
   {
    "duration": 299,
    "start_time": "2023-03-07T18:12:28.939Z"
   },
   {
    "duration": 26,
    "start_time": "2023-03-07T18:12:34.366Z"
   },
   {
    "duration": 80,
    "start_time": "2023-03-07T18:12:45.876Z"
   },
   {
    "duration": 62,
    "start_time": "2023-03-07T18:12:50.437Z"
   },
   {
    "duration": 54,
    "start_time": "2023-03-07T18:12:55.037Z"
   },
   {
    "duration": 69,
    "start_time": "2023-03-07T18:12:58.466Z"
   },
   {
    "duration": 61,
    "start_time": "2023-03-07T18:13:02.338Z"
   },
   {
    "duration": 77,
    "start_time": "2023-03-07T18:13:05.793Z"
   },
   {
    "duration": 94,
    "start_time": "2023-03-07T18:13:11.439Z"
   },
   {
    "duration": 88,
    "start_time": "2023-03-07T18:13:15.637Z"
   },
   {
    "duration": 99,
    "start_time": "2023-03-07T18:13:18.766Z"
   },
   {
    "duration": 29,
    "start_time": "2023-03-07T18:13:21.309Z"
   },
   {
    "duration": 151,
    "start_time": "2023-03-07T18:13:31.126Z"
   },
   {
    "duration": 167,
    "start_time": "2023-03-07T18:14:16.029Z"
   },
   {
    "duration": 143,
    "start_time": "2023-03-07T18:14:19.641Z"
   },
   {
    "duration": 141,
    "start_time": "2023-03-07T18:14:22.837Z"
   },
   {
    "duration": 161,
    "start_time": "2023-03-07T18:14:25.779Z"
   },
   {
    "duration": 23,
    "start_time": "2023-03-07T18:14:28.512Z"
   },
   {
    "duration": 482,
    "start_time": "2023-03-07T18:14:36.386Z"
   },
   {
    "duration": 462,
    "start_time": "2023-03-07T18:14:47.133Z"
   },
   {
    "duration": 397,
    "start_time": "2023-03-07T18:15:20.098Z"
   },
   {
    "duration": 139,
    "start_time": "2023-03-07T18:15:24.758Z"
   },
   {
    "duration": 5,
    "start_time": "2023-03-07T18:15:52.347Z"
   },
   {
    "duration": 459,
    "start_time": "2023-03-07T18:15:58.087Z"
   },
   {
    "duration": 146,
    "start_time": "2023-03-07T18:16:00.941Z"
   },
   {
    "duration": 7,
    "start_time": "2023-03-07T18:16:03.776Z"
   },
   {
    "duration": 156,
    "start_time": "2023-03-07T18:20:32.997Z"
   },
   {
    "duration": 15,
    "start_time": "2023-03-07T18:20:37.970Z"
   },
   {
    "duration": 299,
    "start_time": "2023-03-07T18:20:41.892Z"
   },
   {
    "duration": 26,
    "start_time": "2023-03-07T18:20:44.637Z"
   },
   {
    "duration": 123,
    "start_time": "2023-03-07T18:22:29.955Z"
   },
   {
    "duration": 14,
    "start_time": "2023-03-07T18:22:35.841Z"
   },
   {
    "duration": 14,
    "start_time": "2023-03-07T18:23:41.640Z"
   },
   {
    "duration": 253,
    "start_time": "2023-03-07T18:24:54.283Z"
   },
   {
    "duration": 315,
    "start_time": "2023-03-07T18:25:13.741Z"
   },
   {
    "duration": 30,
    "start_time": "2023-03-07T18:26:17.136Z"
   },
   {
    "duration": 2249,
    "start_time": "2023-03-07T18:36:26.603Z"
   },
   {
    "duration": 2098,
    "start_time": "2023-03-07T18:36:28.855Z"
   },
   {
    "duration": 41,
    "start_time": "2023-03-07T18:36:30.955Z"
   },
   {
    "duration": 27,
    "start_time": "2023-03-07T18:36:30.998Z"
   },
   {
    "duration": 26,
    "start_time": "2023-03-07T18:36:31.041Z"
   },
   {
    "duration": 25,
    "start_time": "2023-03-07T18:36:31.069Z"
   },
   {
    "duration": 782,
    "start_time": "2023-03-07T18:36:31.096Z"
   },
   {
    "duration": 5,
    "start_time": "2023-03-07T18:36:31.879Z"
   },
   {
    "duration": 53,
    "start_time": "2023-03-07T18:36:31.885Z"
   },
   {
    "duration": 9,
    "start_time": "2023-03-07T18:36:31.942Z"
   },
   {
    "duration": 4,
    "start_time": "2023-03-07T18:36:31.954Z"
   },
   {
    "duration": 26,
    "start_time": "2023-03-07T18:36:31.960Z"
   },
   {
    "duration": 30,
    "start_time": "2023-03-07T18:36:31.988Z"
   },
   {
    "duration": 12,
    "start_time": "2023-03-07T18:36:32.019Z"
   },
   {
    "duration": 10,
    "start_time": "2023-03-07T18:36:32.036Z"
   },
   {
    "duration": 10,
    "start_time": "2023-03-07T18:36:32.048Z"
   },
   {
    "duration": 8,
    "start_time": "2023-03-07T18:36:32.060Z"
   },
   {
    "duration": 61,
    "start_time": "2023-03-07T18:36:32.069Z"
   },
   {
    "duration": 4,
    "start_time": "2023-03-07T18:36:32.139Z"
   },
   {
    "duration": 127,
    "start_time": "2023-03-07T18:36:32.145Z"
   },
   {
    "duration": 183,
    "start_time": "2023-03-07T18:36:32.273Z"
   },
   {
    "duration": 2378,
    "start_time": "2023-03-07T18:36:32.458Z"
   },
   {
    "duration": 35639,
    "start_time": "2023-03-07T18:36:34.842Z"
   },
   {
    "duration": 4,
    "start_time": "2023-03-07T18:37:10.483Z"
   },
   {
    "duration": 225,
    "start_time": "2023-03-07T18:37:10.489Z"
   },
   {
    "duration": 6,
    "start_time": "2023-03-07T18:37:10.719Z"
   },
   {
    "duration": 12295,
    "start_time": "2023-03-07T18:37:10.727Z"
   },
   {
    "duration": 8,
    "start_time": "2023-03-07T18:37:23.041Z"
   },
   {
    "duration": 309,
    "start_time": "2023-03-07T18:37:23.112Z"
   },
   {
    "duration": 111,
    "start_time": "2023-03-07T18:37:23.423Z"
   },
   {
    "duration": 18,
    "start_time": "2023-03-07T18:37:23.536Z"
   },
   {
    "duration": 220,
    "start_time": "2023-03-07T18:37:23.556Z"
   },
   {
    "duration": 21,
    "start_time": "2023-03-07T18:37:23.778Z"
   },
   {
    "duration": 168,
    "start_time": "2023-03-07T18:37:23.800Z"
   },
   {
    "duration": 16,
    "start_time": "2023-03-07T18:37:23.969Z"
   },
   {
    "duration": 389,
    "start_time": "2023-03-07T18:37:23.987Z"
   },
   {
    "duration": 39,
    "start_time": "2023-03-07T18:37:24.378Z"
   },
   {
    "duration": 146,
    "start_time": "2023-03-07T18:37:24.420Z"
   },
   {
    "duration": 16,
    "start_time": "2023-03-07T18:37:24.568Z"
   },
   {
    "duration": 202,
    "start_time": "2023-03-07T18:37:24.586Z"
   },
   {
    "duration": 31,
    "start_time": "2023-03-07T18:37:24.790Z"
   },
   {
    "duration": 489,
    "start_time": "2023-03-07T18:37:24.829Z"
   },
   {
    "duration": 653,
    "start_time": "2023-03-07T18:37:25.327Z"
   },
   {
    "duration": 2341,
    "start_time": "2023-03-07T18:37:25.982Z"
   },
   {
    "duration": 19,
    "start_time": "2023-03-07T18:37:28.324Z"
   },
   {
    "duration": 162,
    "start_time": "2023-03-07T18:37:28.350Z"
   },
   {
    "duration": 22,
    "start_time": "2023-03-07T18:37:28.522Z"
   },
   {
    "duration": 302,
    "start_time": "2023-03-07T18:37:28.548Z"
   },
   {
    "duration": 26,
    "start_time": "2023-03-07T18:37:28.853Z"
   },
   {
    "duration": 3303,
    "start_time": "2023-03-14T16:59:14.076Z"
   },
   {
    "duration": 1817,
    "start_time": "2023-03-14T16:59:17.384Z"
   },
   {
    "duration": 104,
    "start_time": "2023-03-14T16:59:19.204Z"
   },
   {
    "duration": 31,
    "start_time": "2023-03-14T16:59:19.312Z"
   },
   {
    "duration": 23,
    "start_time": "2023-03-14T16:59:19.345Z"
   },
   {
    "duration": 20,
    "start_time": "2023-03-14T16:59:19.371Z"
   },
   {
    "duration": 879,
    "start_time": "2023-03-14T16:59:19.395Z"
   },
   {
    "duration": 22,
    "start_time": "2023-03-14T16:59:20.276Z"
   },
   {
    "duration": 40,
    "start_time": "2023-03-14T16:59:20.300Z"
   },
   {
    "duration": 24,
    "start_time": "2023-03-14T16:59:20.343Z"
   },
   {
    "duration": 36,
    "start_time": "2023-03-14T16:59:20.369Z"
   },
   {
    "duration": 47,
    "start_time": "2023-03-14T16:59:20.407Z"
   },
   {
    "duration": 34,
    "start_time": "2023-03-14T16:59:20.457Z"
   },
   {
    "duration": 22,
    "start_time": "2023-03-14T16:59:20.494Z"
   },
   {
    "duration": 14,
    "start_time": "2023-03-14T16:59:20.518Z"
   },
   {
    "duration": 42,
    "start_time": "2023-03-14T16:59:20.534Z"
   },
   {
    "duration": 18,
    "start_time": "2023-03-14T16:59:20.578Z"
   },
   {
    "duration": 9,
    "start_time": "2023-03-14T17:01:07.525Z"
   },
   {
    "duration": 11,
    "start_time": "2023-03-14T17:02:08.388Z"
   },
   {
    "duration": 5,
    "start_time": "2023-03-14T17:02:26.422Z"
   },
   {
    "duration": 198,
    "start_time": "2023-03-14T17:15:56.494Z"
   },
   {
    "duration": 12,
    "start_time": "2023-03-14T17:15:59.834Z"
   },
   {
    "duration": 2409,
    "start_time": "2023-03-14T17:30:40.694Z"
   },
   {
    "duration": 35990,
    "start_time": "2023-03-14T17:30:45.523Z"
   },
   {
    "duration": 588979,
    "start_time": "2023-03-14T17:34:52.436Z"
   },
   {
    "duration": 4,
    "start_time": "2023-03-14T17:47:58.558Z"
   },
   {
    "duration": 146,
    "start_time": "2023-03-14T17:48:02.548Z"
   },
   {
    "duration": 230,
    "start_time": "2023-03-14T17:48:12.110Z"
   },
   {
    "duration": 252,
    "start_time": "2023-03-14T17:48:18.452Z"
   },
   {
    "duration": 216,
    "start_time": "2023-03-14T17:48:19.403Z"
   },
   {
    "duration": 214,
    "start_time": "2023-03-14T17:48:20.227Z"
   },
   {
    "duration": 235,
    "start_time": "2023-03-14T17:49:52.334Z"
   },
   {
    "duration": 3,
    "start_time": "2023-03-14T17:49:57.662Z"
   },
   {
    "duration": 271890,
    "start_time": "2023-03-14T17:50:02.619Z"
   },
   {
    "duration": 302,
    "start_time": "2023-03-14T17:54:34.591Z"
   },
   {
    "duration": 4,
    "start_time": "2023-03-14T17:54:34.898Z"
   },
   {
    "duration": 165,
    "start_time": "2023-03-14T17:57:05.842Z"
   },
   {
    "duration": 3,
    "start_time": "2023-03-14T17:57:27.298Z"
   },
   {
    "duration": 236968,
    "start_time": "2023-03-14T17:57:57.150Z"
   },
   {
    "duration": 12,
    "start_time": "2023-03-14T18:06:13.234Z"
   },
   {
    "duration": 43,
    "start_time": "2023-03-14T18:09:01.115Z"
   },
   {
    "duration": 21,
    "start_time": "2023-03-14T18:09:26.556Z"
   },
   {
    "duration": 318,
    "start_time": "2023-03-14T18:10:02.127Z"
   },
   {
    "duration": 38,
    "start_time": "2023-03-14T18:10:17.270Z"
   },
   {
    "duration": 5,
    "start_time": "2023-03-14T18:13:24.992Z"
   },
   {
    "duration": 13,
    "start_time": "2023-03-14T18:15:10.211Z"
   },
   {
    "duration": 7,
    "start_time": "2023-03-14T18:15:12.668Z"
   },
   {
    "duration": 14,
    "start_time": "2023-03-14T18:15:17.954Z"
   },
   {
    "duration": 7,
    "start_time": "2023-03-14T18:15:20.313Z"
   },
   {
    "duration": 34,
    "start_time": "2023-03-14T18:15:31.668Z"
   },
   {
    "duration": 13,
    "start_time": "2023-03-14T18:15:35.507Z"
   },
   {
    "duration": 7,
    "start_time": "2023-03-14T18:15:41.002Z"
   },
   {
    "duration": 121,
    "start_time": "2023-03-14T18:16:40.614Z"
   },
   {
    "duration": 11,
    "start_time": "2023-03-14T18:17:55.936Z"
   },
   {
    "duration": 32,
    "start_time": "2023-03-14T18:19:33.797Z"
   },
   {
    "duration": 9,
    "start_time": "2023-03-14T18:19:37.497Z"
   },
   {
    "duration": 15,
    "start_time": "2023-03-14T18:20:28.719Z"
   },
   {
    "duration": 112,
    "start_time": "2023-03-14T18:20:31.001Z"
   },
   {
    "duration": 36,
    "start_time": "2023-03-14T18:20:38.042Z"
   },
   {
    "duration": 9,
    "start_time": "2023-03-14T18:20:40.744Z"
   },
   {
    "duration": 305,
    "start_time": "2023-03-14T18:21:38.924Z"
   },
   {
    "duration": 26,
    "start_time": "2023-03-14T18:22:58.034Z"
   },
   {
    "duration": 16,
    "start_time": "2023-03-14T18:23:30.230Z"
   },
   {
    "duration": 263,
    "start_time": "2023-03-14T18:23:40.860Z"
   },
   {
    "duration": 13,
    "start_time": "2023-03-14T18:32:50.931Z"
   },
   {
    "duration": 123,
    "start_time": "2023-03-14T18:32:53.874Z"
   },
   {
    "duration": 18,
    "start_time": "2023-03-14T18:32:58.874Z"
   },
   {
    "duration": 128,
    "start_time": "2023-03-14T18:33:00.871Z"
   },
   {
    "duration": 5,
    "start_time": "2023-03-14T18:33:26.644Z"
   },
   {
    "duration": 138,
    "start_time": "2023-03-14T18:33:36.851Z"
   },
   {
    "duration": 126,
    "start_time": "2023-03-14T18:33:44.246Z"
   },
   {
    "duration": 119,
    "start_time": "2023-03-14T18:34:01.619Z"
   },
   {
    "duration": 111,
    "start_time": "2023-03-14T18:34:37.760Z"
   },
   {
    "duration": 116,
    "start_time": "2023-03-14T18:34:43.748Z"
   },
   {
    "duration": 124,
    "start_time": "2023-03-14T18:39:31.744Z"
   },
   {
    "duration": 26,
    "start_time": "2023-03-14T18:39:36.911Z"
   },
   {
    "duration": 20,
    "start_time": "2023-03-14T18:40:32.452Z"
   },
   {
    "duration": 11,
    "start_time": "2023-03-14T18:40:52.101Z"
   },
   {
    "duration": 120,
    "start_time": "2023-03-14T18:41:00.099Z"
   },
   {
    "duration": 22,
    "start_time": "2023-03-14T18:41:06.718Z"
   },
   {
    "duration": 29,
    "start_time": "2023-03-14T18:41:10.061Z"
   },
   {
    "duration": 118,
    "start_time": "2023-03-14T18:41:25.620Z"
   },
   {
    "duration": 127,
    "start_time": "2023-03-14T18:41:34.766Z"
   },
   {
    "duration": 17,
    "start_time": "2023-03-14T18:41:38.819Z"
   },
   {
    "duration": 8,
    "start_time": "2023-03-14T18:41:40.979Z"
   },
   {
    "duration": 133,
    "start_time": "2023-03-14T18:41:44.066Z"
   },
   {
    "duration": 23,
    "start_time": "2023-03-14T18:41:48.022Z"
   },
   {
    "duration": 139,
    "start_time": "2023-03-14T18:42:13.677Z"
   },
   {
    "duration": 27,
    "start_time": "2023-03-14T18:42:15.990Z"
   },
   {
    "duration": 28,
    "start_time": "2023-03-14T18:42:24.112Z"
   },
   {
    "duration": 652,
    "start_time": "2023-03-14T18:45:03.132Z"
   },
   {
    "duration": 146,
    "start_time": "2023-03-14T18:45:45.820Z"
   },
   {
    "duration": 6,
    "start_time": "2023-03-14T18:45:52.955Z"
   },
   {
    "duration": 313,
    "start_time": "2023-03-14T18:49:39.012Z"
   },
   {
    "duration": 25,
    "start_time": "2023-03-14T18:49:42.896Z"
   },
   {
    "duration": 313,
    "start_time": "2023-03-14T18:50:48.796Z"
   },
   {
    "duration": 23,
    "start_time": "2023-03-14T18:50:52.355Z"
   },
   {
    "duration": 35,
    "start_time": "2023-03-14T18:51:21.662Z"
   },
   {
    "duration": 281,
    "start_time": "2023-03-14T18:51:23.529Z"
   },
   {
    "duration": 26,
    "start_time": "2023-03-14T18:51:25.460Z"
   },
   {
    "duration": 2348,
    "start_time": "2023-03-14T19:01:12.427Z"
   },
   {
    "duration": 1619,
    "start_time": "2023-03-14T19:01:14.778Z"
   },
   {
    "duration": 41,
    "start_time": "2023-03-14T19:01:16.399Z"
   },
   {
    "duration": 20,
    "start_time": "2023-03-14T19:01:16.442Z"
   },
   {
    "duration": 13,
    "start_time": "2023-03-14T19:01:16.463Z"
   },
   {
    "duration": 13,
    "start_time": "2023-03-14T19:01:16.489Z"
   },
   {
    "duration": 859,
    "start_time": "2023-03-14T19:01:16.504Z"
   },
   {
    "duration": 5,
    "start_time": "2023-03-14T19:01:17.365Z"
   },
   {
    "duration": 24,
    "start_time": "2023-03-14T19:01:17.380Z"
   },
   {
    "duration": 9,
    "start_time": "2023-03-14T19:01:17.407Z"
   },
   {
    "duration": 4,
    "start_time": "2023-03-14T19:01:17.418Z"
   },
   {
    "duration": 20,
    "start_time": "2023-03-14T19:01:17.424Z"
   },
   {
    "duration": 48,
    "start_time": "2023-03-14T19:01:17.446Z"
   },
   {
    "duration": 9,
    "start_time": "2023-03-14T19:01:17.496Z"
   },
   {
    "duration": 14,
    "start_time": "2023-03-14T19:01:17.507Z"
   },
   {
    "duration": 12,
    "start_time": "2023-03-14T19:01:17.525Z"
   },
   {
    "duration": 13,
    "start_time": "2023-03-14T19:01:17.539Z"
   },
   {
    "duration": 10,
    "start_time": "2023-03-14T19:01:17.554Z"
   },
   {
    "duration": 41,
    "start_time": "2023-03-14T19:01:17.566Z"
   },
   {
    "duration": 5,
    "start_time": "2023-03-14T19:01:17.608Z"
   },
   {
    "duration": 142,
    "start_time": "2023-03-14T19:01:17.615Z"
   },
   {
    "duration": 167,
    "start_time": "2023-03-14T19:01:17.759Z"
   },
   {
    "duration": 8,
    "start_time": "2023-03-14T19:01:17.928Z"
   },
   {
    "duration": 2276,
    "start_time": "2023-03-14T19:01:17.938Z"
   },
   {
    "duration": 35309,
    "start_time": "2023-03-14T19:01:20.216Z"
   },
   {
    "duration": 564233,
    "start_time": "2023-03-14T19:01:55.528Z"
   },
   {
    "duration": 3,
    "start_time": "2023-03-14T19:11:19.763Z"
   },
   {
    "duration": 240,
    "start_time": "2023-03-14T19:11:19.770Z"
   },
   {
    "duration": 3,
    "start_time": "2023-03-14T19:11:20.012Z"
   },
   {
    "duration": 7882,
    "start_time": "2023-03-14T19:11:20.018Z"
   },
   {
    "duration": 95,
    "start_time": "2023-03-14T19:11:27.908Z"
   },
   {
    "duration": 214,
    "start_time": "2023-03-14T19:11:28.009Z"
   },
   {
    "duration": 8,
    "start_time": "2023-03-14T19:11:28.225Z"
   },
   {
    "duration": 203,
    "start_time": "2023-03-14T19:11:28.235Z"
   },
   {
    "duration": 29,
    "start_time": "2023-03-14T19:11:28.441Z"
   },
   {
    "duration": 9,
    "start_time": "2023-03-14T19:11:28.486Z"
   },
   {
    "duration": 135,
    "start_time": "2023-03-14T19:11:28.498Z"
   },
   {
    "duration": 32,
    "start_time": "2023-03-14T19:11:28.635Z"
   },
   {
    "duration": 12,
    "start_time": "2023-03-14T19:11:28.681Z"
   },
   {
    "duration": 312,
    "start_time": "2023-03-14T19:11:28.695Z"
   },
   {
    "duration": 24,
    "start_time": "2023-03-14T19:11:29.009Z"
   },
   {
    "duration": 5,
    "start_time": "2023-03-14T19:11:29.035Z"
   },
   {
    "duration": 193,
    "start_time": "2023-03-14T19:11:29.043Z"
   },
   {
    "duration": 19,
    "start_time": "2023-03-14T19:11:29.239Z"
   },
   {
    "duration": 36,
    "start_time": "2023-03-14T19:11:29.260Z"
   },
   {
    "duration": 110,
    "start_time": "2023-03-14T19:11:29.298Z"
   },
   {
    "duration": 21,
    "start_time": "2023-03-14T19:11:29.410Z"
   },
   {
    "duration": 530,
    "start_time": "2023-03-14T19:11:29.433Z"
   },
   {
    "duration": 160,
    "start_time": "2023-03-14T19:11:29.965Z"
   },
   {
    "duration": 8,
    "start_time": "2023-03-14T19:11:30.127Z"
   },
   {
    "duration": 317,
    "start_time": "2023-03-14T19:11:30.136Z"
   },
   {
    "duration": 40,
    "start_time": "2023-03-14T19:11:30.455Z"
   },
   {
    "duration": 4,
    "start_time": "2023-03-14T19:12:05.631Z"
   },
   {
    "duration": 198,
    "start_time": "2023-03-14T19:12:14.474Z"
   },
   {
    "duration": 214,
    "start_time": "2023-03-14T19:12:52.275Z"
   },
   {
    "duration": 27,
    "start_time": "2023-03-14T19:12:56.366Z"
   },
   {
    "duration": 261,
    "start_time": "2023-03-14T19:13:08.096Z"
   },
   {
    "duration": 29,
    "start_time": "2023-03-14T19:13:15.563Z"
   },
   {
    "duration": 111,
    "start_time": "2023-03-14T19:13:25.510Z"
   },
   {
    "duration": 19,
    "start_time": "2023-03-14T19:13:27.615Z"
   },
   {
    "duration": 529,
    "start_time": "2023-03-14T19:13:38.342Z"
   },
   {
    "duration": 142,
    "start_time": "2023-03-14T19:13:44.859Z"
   },
   {
    "duration": 7,
    "start_time": "2023-03-14T19:13:48.897Z"
   },
   {
    "duration": 252,
    "start_time": "2023-03-14T19:14:50.706Z"
   },
   {
    "duration": 29,
    "start_time": "2023-03-14T19:14:55.765Z"
   },
   {
    "duration": 275,
    "start_time": "2023-03-14T19:17:37.020Z"
   },
   {
    "duration": 22,
    "start_time": "2023-03-14T19:17:38.999Z"
   },
   {
    "duration": 2229,
    "start_time": "2023-03-14T19:18:40.097Z"
   },
   {
    "duration": 1428,
    "start_time": "2023-03-14T19:18:42.328Z"
   },
   {
    "duration": 54,
    "start_time": "2023-03-14T19:18:43.757Z"
   },
   {
    "duration": 20,
    "start_time": "2023-03-14T19:18:43.813Z"
   },
   {
    "duration": 21,
    "start_time": "2023-03-14T19:18:43.836Z"
   },
   {
    "duration": 12,
    "start_time": "2023-03-14T19:18:43.859Z"
   },
   {
    "duration": 803,
    "start_time": "2023-03-14T19:18:43.872Z"
   },
   {
    "duration": 14,
    "start_time": "2023-03-14T19:18:44.677Z"
   },
   {
    "duration": 26,
    "start_time": "2023-03-14T19:18:44.695Z"
   },
   {
    "duration": 7,
    "start_time": "2023-03-14T19:18:44.724Z"
   },
   {
    "duration": 6,
    "start_time": "2023-03-14T19:18:44.733Z"
   },
   {
    "duration": 18,
    "start_time": "2023-03-14T19:18:44.741Z"
   },
   {
    "duration": 50,
    "start_time": "2023-03-14T19:18:44.761Z"
   },
   {
    "duration": 14,
    "start_time": "2023-03-14T19:18:44.814Z"
   },
   {
    "duration": 6,
    "start_time": "2023-03-14T19:18:44.830Z"
   },
   {
    "duration": 19,
    "start_time": "2023-03-14T19:18:44.838Z"
   },
   {
    "duration": 32,
    "start_time": "2023-03-14T19:18:44.859Z"
   },
   {
    "duration": 7,
    "start_time": "2023-03-14T19:18:44.895Z"
   },
   {
    "duration": 40,
    "start_time": "2023-03-14T19:18:44.903Z"
   },
   {
    "duration": 3,
    "start_time": "2023-03-14T19:18:44.945Z"
   },
   {
    "duration": 165,
    "start_time": "2023-03-14T19:18:44.950Z"
   },
   {
    "duration": 188,
    "start_time": "2023-03-14T19:18:45.117Z"
   },
   {
    "duration": 9,
    "start_time": "2023-03-14T19:18:45.307Z"
   },
   {
    "duration": 2460,
    "start_time": "2023-03-14T19:18:45.318Z"
   },
   {
    "duration": 37808,
    "start_time": "2023-03-14T19:18:47.783Z"
   },
   {
    "duration": 587595,
    "start_time": "2023-03-14T19:19:25.593Z"
   },
   {
    "duration": 7,
    "start_time": "2023-03-14T19:29:13.192Z"
   },
   {
    "duration": 245,
    "start_time": "2023-03-14T19:29:13.208Z"
   },
   {
    "duration": 4,
    "start_time": "2023-03-14T19:29:13.455Z"
   },
   {
    "duration": 12730,
    "start_time": "2023-03-14T19:29:13.461Z"
   },
   {
    "duration": 98,
    "start_time": "2023-03-14T19:29:26.196Z"
   },
   {
    "duration": 131,
    "start_time": "2023-03-14T19:29:26.300Z"
   },
   {
    "duration": 9,
    "start_time": "2023-03-14T19:29:26.433Z"
   },
   {
    "duration": 206,
    "start_time": "2023-03-14T19:29:26.443Z"
   },
   {
    "duration": 39,
    "start_time": "2023-03-14T19:29:26.651Z"
   },
   {
    "duration": 7,
    "start_time": "2023-03-14T19:29:26.692Z"
   },
   {
    "duration": 134,
    "start_time": "2023-03-14T19:29:26.709Z"
   },
   {
    "duration": 39,
    "start_time": "2023-03-14T19:29:26.845Z"
   },
   {
    "duration": 14,
    "start_time": "2023-03-14T19:29:26.890Z"
   },
   {
    "duration": 284,
    "start_time": "2023-03-14T19:29:26.910Z"
   },
   {
    "duration": 25,
    "start_time": "2023-03-14T19:29:27.196Z"
   },
   {
    "duration": 7,
    "start_time": "2023-03-14T19:29:27.222Z"
   },
   {
    "duration": 132,
    "start_time": "2023-03-14T19:29:27.231Z"
   },
   {
    "duration": 25,
    "start_time": "2023-03-14T19:29:27.365Z"
   },
   {
    "duration": 29,
    "start_time": "2023-03-14T19:29:27.392Z"
   },
   {
    "duration": 130,
    "start_time": "2023-03-14T19:29:27.423Z"
   },
   {
    "duration": 29,
    "start_time": "2023-03-14T19:29:27.555Z"
   },
   {
    "duration": 511,
    "start_time": "2023-03-14T19:29:27.594Z"
   },
   {
    "duration": 157,
    "start_time": "2023-03-14T19:29:28.108Z"
   },
   {
    "duration": 17,
    "start_time": "2023-03-14T19:29:28.267Z"
   },
   {
    "duration": 290,
    "start_time": "2023-03-14T19:29:28.286Z"
   },
   {
    "duration": 34,
    "start_time": "2023-03-14T19:29:28.577Z"
   },
   {
    "duration": 2813,
    "start_time": "2023-03-16T17:51:25.720Z"
   },
   {
    "duration": 1639,
    "start_time": "2023-03-16T17:51:28.535Z"
   },
   {
    "duration": 163,
    "start_time": "2023-03-16T17:51:30.176Z"
   },
   {
    "duration": 20,
    "start_time": "2023-03-16T17:51:30.341Z"
   },
   {
    "duration": 35,
    "start_time": "2023-03-16T17:51:30.363Z"
   },
   {
    "duration": 37,
    "start_time": "2023-03-16T17:51:30.400Z"
   },
   {
    "duration": 919,
    "start_time": "2023-03-16T17:51:30.439Z"
   },
   {
    "duration": 4,
    "start_time": "2023-03-16T17:51:31.360Z"
   },
   {
    "duration": 46,
    "start_time": "2023-03-16T17:51:31.366Z"
   },
   {
    "duration": 12,
    "start_time": "2023-03-16T17:51:31.415Z"
   },
   {
    "duration": 4,
    "start_time": "2023-03-16T17:51:31.429Z"
   },
   {
    "duration": 36,
    "start_time": "2023-03-16T17:51:31.435Z"
   },
   {
    "duration": 11,
    "start_time": "2023-03-16T17:51:31.473Z"
   },
   {
    "duration": 7,
    "start_time": "2023-03-16T17:51:31.485Z"
   },
   {
    "duration": 4,
    "start_time": "2023-03-16T17:51:31.494Z"
   },
   {
    "duration": 11,
    "start_time": "2023-03-16T17:51:31.499Z"
   },
   {
    "duration": 18,
    "start_time": "2023-03-16T17:51:31.512Z"
   },
   {
    "duration": 4,
    "start_time": "2023-03-16T17:51:31.531Z"
   },
   {
    "duration": 30,
    "start_time": "2023-03-16T17:51:31.536Z"
   },
   {
    "duration": 3,
    "start_time": "2023-03-16T17:51:31.567Z"
   },
   {
    "duration": 137,
    "start_time": "2023-03-16T17:51:31.572Z"
   },
   {
    "duration": 166,
    "start_time": "2023-03-16T17:51:31.711Z"
   },
   {
    "duration": 7,
    "start_time": "2023-03-16T17:51:31.879Z"
   },
   {
    "duration": 2042,
    "start_time": "2023-03-16T17:51:31.888Z"
   },
   {
    "duration": 31348,
    "start_time": "2023-03-16T17:51:33.932Z"
   },
   {
    "duration": 495302,
    "start_time": "2023-03-16T17:52:05.281Z"
   },
   {
    "duration": 3,
    "start_time": "2023-03-16T18:00:20.584Z"
   },
   {
    "duration": 193,
    "start_time": "2023-03-16T18:00:20.590Z"
   },
   {
    "duration": 3,
    "start_time": "2023-03-16T18:00:20.785Z"
   },
   {
    "duration": 4443,
    "start_time": "2023-03-16T18:00:20.789Z"
   },
   {
    "duration": 102,
    "start_time": "2023-03-16T18:00:25.324Z"
   },
   {
    "duration": 231,
    "start_time": "2023-03-16T18:00:25.432Z"
   },
   {
    "duration": 8,
    "start_time": "2023-03-16T18:00:25.664Z"
   },
   {
    "duration": 500491,
    "start_time": "2023-03-16T18:00:25.674Z"
   },
   {
    "duration": 11,
    "start_time": "2023-03-16T18:08:46.167Z"
   },
   {
    "duration": 4,
    "start_time": "2023-03-16T18:08:46.179Z"
   },
   {
    "duration": 141,
    "start_time": "2023-03-16T18:08:46.184Z"
   },
   {
    "duration": 167,
    "start_time": "2023-03-16T18:08:46.326Z"
   },
   {
    "duration": 7,
    "start_time": "2023-03-16T18:08:46.494Z"
   },
   {
    "duration": 681589,
    "start_time": "2023-03-16T18:08:46.503Z"
   },
   {
    "duration": 36,
    "start_time": "2023-03-16T18:20:08.094Z"
   },
   {
    "duration": 4,
    "start_time": "2023-03-16T18:20:08.132Z"
   },
   {
    "duration": 115,
    "start_time": "2023-03-16T18:20:08.138Z"
   },
   {
    "duration": 88,
    "start_time": "2023-03-16T18:20:08.255Z"
   },
   {
    "duration": 7,
    "start_time": "2023-03-16T18:20:08.345Z"
   },
   {
    "duration": 300122,
    "start_time": "2023-03-16T18:20:08.354Z"
   },
   {
    "duration": 20,
    "start_time": "2023-03-16T18:25:08.477Z"
   },
   {
    "duration": 671536,
    "start_time": "2023-03-16T18:29:59.784Z"
   },
   {
    "duration": 291710,
    "start_time": "2023-03-16T18:41:41.687Z"
   },
   {
    "duration": 22,
    "start_time": "2023-03-16T18:51:27.469Z"
   },
   {
    "duration": 332,
    "start_time": "2023-03-16T18:54:16.398Z"
   },
   {
    "duration": 123,
    "start_time": "2023-03-16T18:54:26.314Z"
   },
   {
    "duration": 342,
    "start_time": "2023-03-16T18:55:04.238Z"
   },
   {
    "duration": 119,
    "start_time": "2023-03-16T18:55:11.381Z"
   },
   {
    "duration": 5,
    "start_time": "2023-03-16T18:55:16.440Z"
   },
   {
    "duration": 78,
    "start_time": "2023-03-16T19:02:36.447Z"
   },
   {
    "duration": 63,
    "start_time": "2023-03-16T19:05:49.209Z"
   },
   {
    "duration": 519,
    "start_time": "2023-03-16T19:06:57.998Z"
   },
   {
    "duration": 147,
    "start_time": "2023-03-16T19:08:02.083Z"
   },
   {
    "duration": 195,
    "start_time": "2023-03-16T19:08:10.292Z"
   },
   {
    "duration": 400,
    "start_time": "2023-03-16T19:10:07.630Z"
   },
   {
    "duration": 536,
    "start_time": "2023-03-16T19:10:28.451Z"
   },
   {
    "duration": 2115,
    "start_time": "2023-03-16T19:20:18.755Z"
   },
   {
    "duration": 1398,
    "start_time": "2023-03-16T19:20:20.872Z"
   },
   {
    "duration": 41,
    "start_time": "2023-03-16T19:20:22.271Z"
   },
   {
    "duration": 18,
    "start_time": "2023-03-16T19:20:22.314Z"
   },
   {
    "duration": 14,
    "start_time": "2023-03-16T19:20:22.333Z"
   },
   {
    "duration": 12,
    "start_time": "2023-03-16T19:20:22.348Z"
   },
   {
    "duration": 798,
    "start_time": "2023-03-16T19:20:22.362Z"
   },
   {
    "duration": 5,
    "start_time": "2023-03-16T19:20:23.162Z"
   },
   {
    "duration": 22,
    "start_time": "2023-03-16T19:20:23.169Z"
   },
   {
    "duration": 7,
    "start_time": "2023-03-16T19:20:23.193Z"
   },
   {
    "duration": 5,
    "start_time": "2023-03-16T19:20:23.222Z"
   },
   {
    "duration": 16,
    "start_time": "2023-03-16T19:20:23.228Z"
   },
   {
    "duration": 12,
    "start_time": "2023-03-16T19:20:23.245Z"
   },
   {
    "duration": 7,
    "start_time": "2023-03-16T19:20:23.259Z"
   },
   {
    "duration": 5,
    "start_time": "2023-03-16T19:20:23.268Z"
   },
   {
    "duration": 49,
    "start_time": "2023-03-16T19:20:23.275Z"
   },
   {
    "duration": 11,
    "start_time": "2023-03-16T19:20:23.326Z"
   },
   {
    "duration": 5,
    "start_time": "2023-03-16T19:20:23.338Z"
   },
   {
    "duration": 25,
    "start_time": "2023-03-16T19:20:23.345Z"
   },
   {
    "duration": 3,
    "start_time": "2023-03-16T19:20:23.372Z"
   },
   {
    "duration": 149,
    "start_time": "2023-03-16T19:20:23.377Z"
   },
   {
    "duration": 167,
    "start_time": "2023-03-16T19:20:23.527Z"
   },
   {
    "duration": 7,
    "start_time": "2023-03-16T19:20:23.696Z"
   },
   {
    "duration": 2141,
    "start_time": "2023-03-16T19:20:23.704Z"
   },
   {
    "duration": 31214,
    "start_time": "2023-03-16T19:20:25.847Z"
   },
   {
    "duration": 500266,
    "start_time": "2023-03-16T19:20:57.062Z"
   },
   {
    "duration": 3,
    "start_time": "2023-03-16T19:29:17.330Z"
   },
   {
    "duration": 193,
    "start_time": "2023-03-16T19:29:17.337Z"
   },
   {
    "duration": 3,
    "start_time": "2023-03-16T19:29:17.532Z"
   },
   {
    "duration": 4588,
    "start_time": "2023-03-16T19:29:17.537Z"
   },
   {
    "duration": 99,
    "start_time": "2023-03-16T19:29:22.127Z"
   },
   {
    "duration": 234,
    "start_time": "2023-03-16T19:29:22.232Z"
   },
   {
    "duration": 8,
    "start_time": "2023-03-16T19:29:22.468Z"
   },
   {
    "duration": 500820,
    "start_time": "2023-03-16T19:29:22.478Z"
   },
   {
    "duration": 12,
    "start_time": "2023-03-16T19:37:43.300Z"
   },
   {
    "duration": 5,
    "start_time": "2023-03-16T19:37:43.322Z"
   },
   {
    "duration": 113,
    "start_time": "2023-03-16T19:37:43.328Z"
   },
   {
    "duration": 176,
    "start_time": "2023-03-16T19:37:43.442Z"
   },
   {
    "duration": 7,
    "start_time": "2023-03-16T19:37:43.620Z"
   },
   {
    "duration": 683277,
    "start_time": "2023-03-16T19:37:43.629Z"
   },
   {
    "duration": 48,
    "start_time": "2023-03-16T19:49:06.908Z"
   },
   {
    "duration": 5,
    "start_time": "2023-03-16T19:49:06.958Z"
   },
   {
    "duration": 125,
    "start_time": "2023-03-16T19:49:06.965Z"
   },
   {
    "duration": 93,
    "start_time": "2023-03-16T19:49:07.091Z"
   },
   {
    "duration": 8,
    "start_time": "2023-03-16T19:49:07.185Z"
   },
   {
    "duration": 295605,
    "start_time": "2023-03-16T19:49:07.194Z"
   },
   {
    "duration": 31,
    "start_time": "2023-03-16T19:54:02.800Z"
   },
   {
    "duration": 357,
    "start_time": "2023-03-16T19:54:02.833Z"
   },
   {
    "duration": 133,
    "start_time": "2023-03-16T19:54:03.192Z"
   },
   {
    "duration": 6,
    "start_time": "2023-03-16T19:54:03.327Z"
   },
   {
    "duration": 62,
    "start_time": "2023-03-16T19:54:03.335Z"
   },
   {
    "duration": 559,
    "start_time": "2023-03-16T19:54:03.399Z"
   },
   {
    "duration": 34,
    "start_time": "2023-03-16T19:54:03.959Z"
   }
  ],
  "kernelspec": {
   "display_name": "Python 3 (ipykernel)",
   "language": "python",
   "name": "python3"
  },
  "language_info": {
   "codemirror_mode": {
    "name": "ipython",
    "version": 3
   },
   "file_extension": ".py",
   "mimetype": "text/x-python",
   "name": "python",
   "nbconvert_exporter": "python",
   "pygments_lexer": "ipython3",
   "version": "3.10.12"
  },
  "toc": {
   "base_numbering": 1,
   "nav_menu": {},
   "number_sections": true,
   "sideBar": true,
   "skip_h1_title": true,
   "title_cell": "Содержание",
   "title_sidebar": "Contents",
   "toc_cell": true,
   "toc_position": {
    "height": "calc(100% - 180px)",
    "left": "10px",
    "top": "150px",
    "width": "276px"
   },
   "toc_section_display": true,
   "toc_window_display": true
  },
  "varInspector": {
   "cols": {
    "lenName": 16,
    "lenType": 16,
    "lenVar": 40
   },
   "kernels_config": {
    "python": {
     "delete_cmd_postfix": "",
     "delete_cmd_prefix": "del ",
     "library": "var_list.py",
     "varRefreshCmd": "print(var_dic_list())"
    },
    "r": {
     "delete_cmd_postfix": ") ",
     "delete_cmd_prefix": "rm(",
     "library": "var_list.r",
     "varRefreshCmd": "cat(var_dic_list()) "
    }
   },
   "types_to_exclude": [
    "module",
    "function",
    "builtin_function_or_method",
    "instance",
    "_Feature"
   ],
   "window_display": false
  }
 },
 "nbformat": 4,
 "nbformat_minor": 2
}
